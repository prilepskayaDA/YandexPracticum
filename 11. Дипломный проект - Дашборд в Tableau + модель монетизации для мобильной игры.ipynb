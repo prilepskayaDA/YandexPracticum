{
 "cells": [
  {
   "cell_type": "markdown",
   "id": "ee6fcb1c",
   "metadata": {
    "toc": true
   },
   "source": [
    "<h1>Table of Contents<span class=\"tocSkip\"></span></h1>\n",
    "<div class=\"toc\"><ul class=\"toc-item\"><li><span><a href=\"#Материалы:\" data-toc-modified-id=\"Материалы:-1\"><span class=\"toc-item-num\">1&nbsp;&nbsp;</span>Материалы:</a></span></li><li><span><a href=\"#Вводные-данные\" data-toc-modified-id=\"Вводные-данные-2\"><span class=\"toc-item-num\">2&nbsp;&nbsp;</span>Вводные данные</a></span></li><li><span><a href=\"#Ознакомление-с-данными\" data-toc-modified-id=\"Ознакомление-с-данными-3\"><span class=\"toc-item-num\">3&nbsp;&nbsp;</span>Ознакомление с данными</a></span><ul class=\"toc-item\"><li><span><a href=\"#Посмотрим-датасет-с-данные-по-игре-пользователей-на-первом-уровне\" data-toc-modified-id=\"Посмотрим-датасет-с-данные-по-игре-пользователей-на-первом-уровне-3.1\"><span class=\"toc-item-num\">3.1&nbsp;&nbsp;</span>Посмотрим датасет с данные по игре пользователей на первом уровне</a></span></li><li><span><a href=\"#Посмотрим-датасет-со-стоимостью-рекламы\" data-toc-modified-id=\"Посмотрим-датасет-со-стоимостью-рекламы-3.2\"><span class=\"toc-item-num\">3.2&nbsp;&nbsp;</span>Посмотрим датасет со стоимостью рекламы</a></span></li><li><span><a href=\"#Посмотрим-датасет-с-источниками-привлечения-пользователей\" data-toc-modified-id=\"Посмотрим-датасет-с-источниками-привлечения-пользователей-3.3\"><span class=\"toc-item-num\">3.3&nbsp;&nbsp;</span>Посмотрим датасет с источниками привлечения пользователей</a></span></li></ul></li><li><span><a href=\"#Предобработка-данных\" data-toc-modified-id=\"Предобработка-данных-4\"><span class=\"toc-item-num\">4&nbsp;&nbsp;</span>Предобработка данных</a></span></li><li><span><a href=\"#Исследовательский-анализ-данных\" data-toc-modified-id=\"Исследовательский-анализ-данных-5\"><span class=\"toc-item-num\">5&nbsp;&nbsp;</span>Исследовательский анализ данных</a></span><ul class=\"toc-item\"><li><span><a href=\"#Cколько-времени-занимает-у-игроков-переход-на-первый-уровень?\" data-toc-modified-id=\"Cколько-времени-занимает-у-игроков-переход-на-первый-уровень?-5.1\"><span class=\"toc-item-num\">5.1&nbsp;&nbsp;</span>Cколько времени занимает у игроков переход на первый уровень?</a></span></li><li><span><a href=\"#Какие-типы-построек-строят-чаще?\" data-toc-modified-id=\"Какие-типы-построек-строят-чаще?-5.2\"><span class=\"toc-item-num\">5.2&nbsp;&nbsp;</span>Какие типы построек строят чаще?</a></span></li><li><span><a href=\"#Сколько-составляют-расходы-на-привлечение-пользователей?\" data-toc-modified-id=\"Сколько-составляют-расходы-на-привлечение-пользователей?-5.3\"><span class=\"toc-item-num\">5.3&nbsp;&nbsp;</span>Сколько составляют расходы на привлечение пользователей?</a></span></li><li><span><a href=\"#Как-распределяются-пользователи-по-источнику-привлечения\" data-toc-modified-id=\"Как-распределяются-пользователи-по-источнику-привлечения-5.4\"><span class=\"toc-item-num\">5.4&nbsp;&nbsp;</span>Как распределяются пользователи по источнику привлечения</a></span></li><li><span><a href=\"#Стоимость-привлечения-пользователя-по-источникам\" data-toc-modified-id=\"Стоимость-привлечения-пользователя-по-источникам-5.5\"><span class=\"toc-item-num\">5.5&nbsp;&nbsp;</span>Стоимость привлечения пользователя по источникам</a></span></li><li><span><a href=\"#Изменяется-ли-активность(количество-построек)-игрока-со-временем?\" data-toc-modified-id=\"Изменяется-ли-активность(количество-построек)-игрока-со-временем?-5.6\"><span class=\"toc-item-num\">5.6&nbsp;&nbsp;</span>Изменяется ли активность(количество построек) игрока со временем?</a></span></li><li><span><a href=\"#Изменяется-ли-активность(количество-событий)-игрока-со-временем?\" data-toc-modified-id=\"Изменяется-ли-активность(количество-событий)-игрока-со-временем?-5.7\"><span class=\"toc-item-num\">5.7&nbsp;&nbsp;</span>Изменяется ли активность(количество событий) игрока со временем?</a></span></li></ul></li><li><span><a href=\"#Анализ-влияния-событий-на-совершение-целевого-события\" data-toc-modified-id=\"Анализ-влияния-событий-на-совершение-целевого-события-6\"><span class=\"toc-item-num\">6&nbsp;&nbsp;</span>Анализ влияния событий на совершение целевого события</a></span><ul class=\"toc-item\"><li><span><a href=\"#Как-часто-игроки-переходят-на-второй-уровень-через-победу-над-врагом-и-как-часто-через-завершение-проекта?\" data-toc-modified-id=\"Как-часто-игроки-переходят-на-второй-уровень-через-победу-над-врагом-и-как-часто-через-завершение-проекта?-6.1\"><span class=\"toc-item-num\">6.1&nbsp;&nbsp;</span>Как часто игроки переходят на второй уровень через победу над врагом и как часто через завершение проекта?</a></span></li><li><span><a href=\"#Какой-из-этих-двух-сценариев-оказывается-быстрее?\" data-toc-modified-id=\"Какой-из-этих-двух-сценариев-оказывается-быстрее?-6.2\"><span class=\"toc-item-num\">6.2&nbsp;&nbsp;</span>Какой из этих двух сценариев оказывается быстрее?</a></span></li><li><span><a href=\"#Сколько-обьектов-и-какого-типа-строят-при-каждом-типе-стретегии?\" data-toc-modified-id=\"Сколько-обьектов-и-какого-типа-строят-при-каждом-типе-стретегии?-6.3\"><span class=\"toc-item-num\">6.3&nbsp;&nbsp;</span>Сколько обьектов и какого типа строят при каждом типе стретегии?</a></span></li><li><span><a href=\"#Сколько-пользователи-в-среднем-строят-построек?\" data-toc-modified-id=\"Сколько-пользователи-в-среднем-строят-построек?-6.4\"><span class=\"toc-item-num\">6.4&nbsp;&nbsp;</span>Сколько пользователи в среднем строят построек?</a></span></li></ul></li><li><span><a href=\"#Проверка-статистической-гипотезы-различия-времени-прохождения-уровня-между-пользователями,-которые-заканчивают-уровень-через-реализацию-проекта,-и-пользователями,-которые-заканчивают-уровень-победой-над-другим-игроком.\" data-toc-modified-id=\"Проверка-статистической-гипотезы-различия-времени-прохождения-уровня-между-пользователями,-которые-заканчивают-уровень-через-реализацию-проекта,-и-пользователями,-которые-заканчивают-уровень-победой-над-другим-игроком.-7\"><span class=\"toc-item-num\">7&nbsp;&nbsp;</span>Проверка статистической гипотезы различия времени прохождения уровня между пользователями, которые заканчивают уровень через реализацию проекта, и пользователями, которые заканчивают уровень победой над другим игроком.</a></span></li><li><span><a href=\"#Проверка-статистической-гипотезы-различия-количества-построенных-объектов-пользователями--между-пользователями,-которые-заканчивают-уровень-через-реализацию-проекта,-и-пользователями,-которые-заканчивают-уровень-победой-над-другим-игроком.\" data-toc-modified-id=\"Проверка-статистической-гипотезы-различия-количества-построенных-объектов-пользователями--между-пользователями,-которые-заканчивают-уровень-через-реализацию-проекта,-и-пользователями,-которые-заканчивают-уровень-победой-над-другим-игроком.-8\"><span class=\"toc-item-num\">8&nbsp;&nbsp;</span>Проверка статистической гипотезы различия количества построенных объектов пользователями  между пользователями, которые заканчивают уровень через реализацию проекта, и пользователями, которые заканчивают уровень победой над другим игроком.</a></span></li><li><span><a href=\"#Описание-и-оценка-эффективности-новой-модели-монетизации,-ее-соответствие-требованиям-заказчика\" data-toc-modified-id=\"Описание-и-оценка-эффективности-новой-модели-монетизации,-ее-соответствие-требованиям-заказчика-9\"><span class=\"toc-item-num\">9&nbsp;&nbsp;</span>Описание и оценка эффективности новой модели монетизации, ее соответствие требованиям заказчика</a></span></li><li><span><a href=\"#Общий-вывод\" data-toc-modified-id=\"Общий-вывод-10\"><span class=\"toc-item-num\">10&nbsp;&nbsp;</span>Общий вывод</a></span></li></ul></div>"
   ]
  },
  {
   "cell_type": "markdown",
   "id": "54bea560",
   "metadata": {},
   "source": [
    "## Материалы:\n",
    " - Презентация: https://drive.google.com/file/d/1hajQoZFRscNg7J6IV3ixcb6XpH49gyV5/view?usp=sharing\n",
    " - Дашборд: https://public.tableau.com/views/fin_project_game_cosmic/Dashboard1?:language=en-US&publish=yes&:display_count=n&:origin=viz_share_link"
   ]
  },
  {
   "cell_type": "markdown",
   "id": "405aa6c0",
   "metadata": {},
   "source": [
    "## Вводные данные"
   ]
  },
  {
   "cell_type": "markdown",
   "id": "2a1d05aa",
   "metadata": {},
   "source": [
    "**Задача: сформировать модель монетизации для мобильной игры «Космические братья»**"
   ]
  },
  {
   "cell_type": "markdown",
   "id": "b1ab7caf",
   "metadata": {},
   "source": [
    "**Механика игры** - стратегия в реальном времени, пользователи строят свою космическую программу и пытаются преуспеть в нелёгком деле колонизации галактики. Для перехода на следующий уровень необходимо победить другого пользователя или завершить проект(исследование технологии). В процессе игры для создания армии и исследования технологий необходимо строить объекты(постройки)."
   ]
  },
  {
   "cell_type": "markdown",
   "id": "4b186ad1",
   "metadata": {},
   "source": [
    "\n",
    "Базовая модель монетизации предполагает показ рекламы пользователю каждый раз на экране выбора постройки. Стоимость показа рекламы - 0.07 у.е.\n",
    "\n",
    "**Цель исследования:** определить оптимальное время показа рекламы пользователям и необходимое количество показов рекламы для покрытия затрат на привлечения пользователей. Оптимальным считается время, когда пользователь уже увлекся игрой и его не отпугнет реклама и достаточное для того чтобы получить необходимый доход и окупить расходы на привлечение пользователей."
   ]
  },
  {
   "cell_type": "markdown",
   "id": "2354d1a6",
   "metadata": {},
   "source": [
    "**План исследования:**\n",
    "- Ознакомление с данными\n",
    "- Предобработка\n",
    "- Исследовательский анализ данных \n",
    "- Анализ влияния событий на совершение целевого события\n",
    "- Проверка статистической гипотезы различия времени прохождения уровня между пользователями, которые заканчивают уровень через реализацию проекта, и пользователями, которые заканчивают уровень победой над другим игроком.\n",
    "- Проверка статистической гипотезы различия количества построенных объектов пользователями между пользователями, которые заканчивают уровень через реализацию проекта, и пользователями, которые заканчивают уровень победой над другим игроком.\n",
    "- Описание и оценка эффективности новой модели монетизации, ее соответствие требованиям заказчика\n",
    "- Общий вывод"
   ]
  },
  {
   "cell_type": "markdown",
   "id": "fd8a9e87",
   "metadata": {},
   "source": [
    "## Ознакомление с данными"
   ]
  },
  {
   "cell_type": "code",
   "execution_count": 1,
   "id": "e852259a",
   "metadata": {},
   "outputs": [
    {
     "name": "stdout",
     "output_type": "stream",
     "text": [
      "Requirement already satisfied: pandas in /Users/dariaprilepskaya/opt/anaconda3/lib/python3.9/site-packages (2.0.0)\n",
      "Requirement already satisfied: numpy>=1.20.3 in /Users/dariaprilepskaya/opt/anaconda3/lib/python3.9/site-packages (from pandas) (1.21.5)\n",
      "Requirement already satisfied: tzdata>=2022.1 in /Users/dariaprilepskaya/opt/anaconda3/lib/python3.9/site-packages (from pandas) (2023.3)\n",
      "Requirement already satisfied: pytz>=2020.1 in /Users/dariaprilepskaya/opt/anaconda3/lib/python3.9/site-packages (from pandas) (2021.3)\n",
      "Requirement already satisfied: python-dateutil>=2.8.2 in /Users/dariaprilepskaya/opt/anaconda3/lib/python3.9/site-packages (from pandas) (2.8.2)\n",
      "Requirement already satisfied: six>=1.5 in /Users/dariaprilepskaya/opt/anaconda3/lib/python3.9/site-packages (from python-dateutil>=2.8.2->pandas) (1.16.0)\n"
     ]
    }
   ],
   "source": [
    " !pip install -U pandas"
   ]
  },
  {
   "cell_type": "code",
   "execution_count": 2,
   "id": "68c33e68",
   "metadata": {},
   "outputs": [],
   "source": [
    "#импортируем библиотеки\n",
    "import pandas as pd\n",
    "import seaborn as sns\n",
    "import matplotlib.pyplot as plt\n",
    "import numpy as np\n",
    "from scipy import stats as st"
   ]
  },
  {
   "cell_type": "code",
   "execution_count": 3,
   "id": "5035a444",
   "metadata": {},
   "outputs": [],
   "source": [
    "#загрузим датасеты\n",
    "game_actions=pd.read_csv('https://code.s3.yandex.net/datasets/game_actions.csv')\n",
    "ad_costs=pd.read_csv('https://code.s3.yandex.net/datasets/ad_costs.csv')\n",
    "user_source=pd.read_csv('https://code.s3.yandex.net/datasets/user_source.csv')"
   ]
  },
  {
   "cell_type": "markdown",
   "id": "ad1080b0",
   "metadata": {},
   "source": [
    "### Посмотрим датасет с данные по игре пользователей на первом уровне"
   ]
  },
  {
   "cell_type": "code",
   "execution_count": 4,
   "id": "598247d6",
   "metadata": {
    "scrolled": true
   },
   "outputs": [
    {
     "data": {
      "text/html": [
       "<div>\n",
       "<style scoped>\n",
       "    .dataframe tbody tr th:only-of-type {\n",
       "        vertical-align: middle;\n",
       "    }\n",
       "\n",
       "    .dataframe tbody tr th {\n",
       "        vertical-align: top;\n",
       "    }\n",
       "\n",
       "    .dataframe thead th {\n",
       "        text-align: right;\n",
       "    }\n",
       "</style>\n",
       "<table border=\"1\" class=\"dataframe\">\n",
       "  <thead>\n",
       "    <tr style=\"text-align: right;\">\n",
       "      <th></th>\n",
       "      <th>event_datetime</th>\n",
       "      <th>event</th>\n",
       "      <th>building_type</th>\n",
       "      <th>user_id</th>\n",
       "      <th>project_type</th>\n",
       "    </tr>\n",
       "  </thead>\n",
       "  <tbody>\n",
       "    <tr>\n",
       "      <th>0</th>\n",
       "      <td>2020-05-04 00:00:01</td>\n",
       "      <td>building</td>\n",
       "      <td>assembly_shop</td>\n",
       "      <td>55e92310-cb8e-4754-b622-597e124b03de</td>\n",
       "      <td>NaN</td>\n",
       "    </tr>\n",
       "    <tr>\n",
       "      <th>1</th>\n",
       "      <td>2020-05-04 00:00:03</td>\n",
       "      <td>building</td>\n",
       "      <td>assembly_shop</td>\n",
       "      <td>c07b1c10-f477-44dc-81dc-ec82254b1347</td>\n",
       "      <td>NaN</td>\n",
       "    </tr>\n",
       "    <tr>\n",
       "      <th>2</th>\n",
       "      <td>2020-05-04 00:00:16</td>\n",
       "      <td>building</td>\n",
       "      <td>assembly_shop</td>\n",
       "      <td>6edd42cc-e753-4ff6-a947-2107cd560710</td>\n",
       "      <td>NaN</td>\n",
       "    </tr>\n",
       "    <tr>\n",
       "      <th>3</th>\n",
       "      <td>2020-05-04 00:00:16</td>\n",
       "      <td>building</td>\n",
       "      <td>assembly_shop</td>\n",
       "      <td>92c69003-d60a-444a-827f-8cc51bf6bf4c</td>\n",
       "      <td>NaN</td>\n",
       "    </tr>\n",
       "    <tr>\n",
       "      <th>4</th>\n",
       "      <td>2020-05-04 00:00:35</td>\n",
       "      <td>building</td>\n",
       "      <td>assembly_shop</td>\n",
       "      <td>cdc6bb92-0ccb-4490-9866-ef142f09139d</td>\n",
       "      <td>NaN</td>\n",
       "    </tr>\n",
       "    <tr>\n",
       "      <th>...</th>\n",
       "      <td>...</td>\n",
       "      <td>...</td>\n",
       "      <td>...</td>\n",
       "      <td>...</td>\n",
       "      <td>...</td>\n",
       "    </tr>\n",
       "    <tr>\n",
       "      <th>135635</th>\n",
       "      <td>2020-06-05 00:08:06</td>\n",
       "      <td>building</td>\n",
       "      <td>research_center</td>\n",
       "      <td>f21d179f-1c4b-437e-b9c6-ab1976907195</td>\n",
       "      <td>NaN</td>\n",
       "    </tr>\n",
       "    <tr>\n",
       "      <th>135636</th>\n",
       "      <td>2020-06-05 02:25:12</td>\n",
       "      <td>finished_stage_1</td>\n",
       "      <td>NaN</td>\n",
       "      <td>515c1952-99aa-4bca-a7ea-d0449eb5385a</td>\n",
       "      <td>NaN</td>\n",
       "    </tr>\n",
       "    <tr>\n",
       "      <th>135637</th>\n",
       "      <td>2020-06-05 08:57:52</td>\n",
       "      <td>building</td>\n",
       "      <td>research_center</td>\n",
       "      <td>ed3e7d02-8a96-4be7-9998-e9813ff9c316</td>\n",
       "      <td>NaN</td>\n",
       "    </tr>\n",
       "    <tr>\n",
       "      <th>135638</th>\n",
       "      <td>2020-06-05 12:12:27</td>\n",
       "      <td>finished_stage_1</td>\n",
       "      <td>NaN</td>\n",
       "      <td>32572adb-900f-4b5d-a453-1eb1e6d88d8b</td>\n",
       "      <td>NaN</td>\n",
       "    </tr>\n",
       "    <tr>\n",
       "      <th>135639</th>\n",
       "      <td>2020-06-05 12:32:49</td>\n",
       "      <td>finished_stage_1</td>\n",
       "      <td>NaN</td>\n",
       "      <td>f21d179f-1c4b-437e-b9c6-ab1976907195</td>\n",
       "      <td>NaN</td>\n",
       "    </tr>\n",
       "  </tbody>\n",
       "</table>\n",
       "<p>135640 rows × 5 columns</p>\n",
       "</div>"
      ],
      "text/plain": [
       "             event_datetime             event    building_type   \n",
       "0       2020-05-04 00:00:01          building    assembly_shop  \\\n",
       "1       2020-05-04 00:00:03          building    assembly_shop   \n",
       "2       2020-05-04 00:00:16          building    assembly_shop   \n",
       "3       2020-05-04 00:00:16          building    assembly_shop   \n",
       "4       2020-05-04 00:00:35          building    assembly_shop   \n",
       "...                     ...               ...              ...   \n",
       "135635  2020-06-05 00:08:06          building  research_center   \n",
       "135636  2020-06-05 02:25:12  finished_stage_1              NaN   \n",
       "135637  2020-06-05 08:57:52          building  research_center   \n",
       "135638  2020-06-05 12:12:27  finished_stage_1              NaN   \n",
       "135639  2020-06-05 12:32:49  finished_stage_1              NaN   \n",
       "\n",
       "                                     user_id project_type  \n",
       "0       55e92310-cb8e-4754-b622-597e124b03de          NaN  \n",
       "1       c07b1c10-f477-44dc-81dc-ec82254b1347          NaN  \n",
       "2       6edd42cc-e753-4ff6-a947-2107cd560710          NaN  \n",
       "3       92c69003-d60a-444a-827f-8cc51bf6bf4c          NaN  \n",
       "4       cdc6bb92-0ccb-4490-9866-ef142f09139d          NaN  \n",
       "...                                      ...          ...  \n",
       "135635  f21d179f-1c4b-437e-b9c6-ab1976907195          NaN  \n",
       "135636  515c1952-99aa-4bca-a7ea-d0449eb5385a          NaN  \n",
       "135637  ed3e7d02-8a96-4be7-9998-e9813ff9c316          NaN  \n",
       "135638  32572adb-900f-4b5d-a453-1eb1e6d88d8b          NaN  \n",
       "135639  f21d179f-1c4b-437e-b9c6-ab1976907195          NaN  \n",
       "\n",
       "[135640 rows x 5 columns]"
      ]
     },
     "execution_count": 4,
     "metadata": {},
     "output_type": "execute_result"
    }
   ],
   "source": [
    "game_actions"
   ]
  },
  {
   "cell_type": "code",
   "execution_count": 5,
   "id": "c64277dc",
   "metadata": {},
   "outputs": [
    {
     "name": "stdout",
     "output_type": "stream",
     "text": [
      "<class 'pandas.core.frame.DataFrame'>\n",
      "RangeIndex: 135640 entries, 0 to 135639\n",
      "Data columns (total 5 columns):\n",
      " #   Column          Non-Null Count   Dtype \n",
      "---  ------          --------------   ----- \n",
      " 0   event_datetime  135640 non-null  object\n",
      " 1   event           135640 non-null  object\n",
      " 2   building_type   127957 non-null  object\n",
      " 3   user_id         135640 non-null  object\n",
      " 4   project_type    1866 non-null    object\n",
      "dtypes: object(5)\n",
      "memory usage: 5.2+ MB\n"
     ]
    }
   ],
   "source": [
    "game_actions.info()"
   ]
  },
  {
   "cell_type": "markdown",
   "id": "e1ac1b01",
   "metadata": {},
   "source": [
    "5 колонок,135640 строк"
   ]
  },
  {
   "cell_type": "markdown",
   "id": "ed48496c",
   "metadata": {},
   "source": [
    "Каждая запись в логе — это действие пользователя(событие).\n",
    "- `event_datetime` — время события;\n",
    "- `event` — одно из трёх событий:\n",
    "    1. `building` — объект построен,\n",
    "    2. `finished_stage_1` — первый уровень завершён,\n",
    "    3. `project` — проект завершён;\n",
    "- `building_type` — один из трёх типов здания:\n",
    "    1. `assembly_shop` — сборочный цех,\n",
    "    2. `spaceport` — космопорт,\n",
    "    3. `research_center` — исследовательский центр;\n",
    "- `user_id` — идентификатор пользователя;\n",
    "- `project_type` — тип реализованного проекта;"
   ]
  },
  {
   "cell_type": "code",
   "execution_count": 6,
   "id": "b7bc7648",
   "metadata": {},
   "outputs": [
    {
     "data": {
      "text/plain": [
       "'2020-05-04 00:00:01'"
      ]
     },
     "metadata": {},
     "output_type": "display_data"
    },
    {
     "data": {
      "text/plain": [
       "'2020-06-05 12:32:49'"
      ]
     },
     "metadata": {},
     "output_type": "display_data"
    }
   ],
   "source": [
    "display(game_actions['event_datetime'].min(),game_actions['event_datetime'].max())"
   ]
  },
  {
   "cell_type": "markdown",
   "id": "42a41865",
   "metadata": {},
   "source": [
    " Данные по действиям игроков представлены с 4 мая 2020 по 5 июня 2020."
   ]
  },
  {
   "cell_type": "code",
   "execution_count": 7,
   "id": "a06ba795",
   "metadata": {},
   "outputs": [
    {
     "data": {
      "text/plain": [
       "array(['building', 'finished_stage_1', 'project'], dtype=object)"
      ]
     },
     "execution_count": 7,
     "metadata": {},
     "output_type": "execute_result"
    }
   ],
   "source": [
    "game_actions['event'].unique()"
   ]
  },
  {
   "cell_type": "code",
   "execution_count": 8,
   "id": "68f90293",
   "metadata": {},
   "outputs": [
    {
     "data": {
      "text/plain": [
       "array([nan, 'satellite_orbital_assembly'], dtype=object)"
      ]
     },
     "execution_count": 8,
     "metadata": {},
     "output_type": "execute_result"
    }
   ],
   "source": [
    "game_actions['project_type'].unique()"
   ]
  },
  {
   "cell_type": "markdown",
   "id": "a75dd89d",
   "metadata": {},
   "source": [
    "### Посмотрим датасет со стоимостью рекламы"
   ]
  },
  {
   "cell_type": "code",
   "execution_count": 9,
   "id": "1633bc3b",
   "metadata": {
    "scrolled": true
   },
   "outputs": [
    {
     "data": {
      "text/html": [
       "<div>\n",
       "<style scoped>\n",
       "    .dataframe tbody tr th:only-of-type {\n",
       "        vertical-align: middle;\n",
       "    }\n",
       "\n",
       "    .dataframe tbody tr th {\n",
       "        vertical-align: top;\n",
       "    }\n",
       "\n",
       "    .dataframe thead th {\n",
       "        text-align: right;\n",
       "    }\n",
       "</style>\n",
       "<table border=\"1\" class=\"dataframe\">\n",
       "  <thead>\n",
       "    <tr style=\"text-align: right;\">\n",
       "      <th></th>\n",
       "      <th>source</th>\n",
       "      <th>day</th>\n",
       "      <th>cost</th>\n",
       "    </tr>\n",
       "  </thead>\n",
       "  <tbody>\n",
       "    <tr>\n",
       "      <th>0</th>\n",
       "      <td>facebook_ads</td>\n",
       "      <td>2020-05-03</td>\n",
       "      <td>935.882786</td>\n",
       "    </tr>\n",
       "    <tr>\n",
       "      <th>1</th>\n",
       "      <td>facebook_ads</td>\n",
       "      <td>2020-05-04</td>\n",
       "      <td>548.354480</td>\n",
       "    </tr>\n",
       "    <tr>\n",
       "      <th>2</th>\n",
       "      <td>facebook_ads</td>\n",
       "      <td>2020-05-05</td>\n",
       "      <td>260.185754</td>\n",
       "    </tr>\n",
       "    <tr>\n",
       "      <th>3</th>\n",
       "      <td>facebook_ads</td>\n",
       "      <td>2020-05-06</td>\n",
       "      <td>177.982200</td>\n",
       "    </tr>\n",
       "    <tr>\n",
       "      <th>4</th>\n",
       "      <td>facebook_ads</td>\n",
       "      <td>2020-05-07</td>\n",
       "      <td>111.766796</td>\n",
       "    </tr>\n",
       "    <tr>\n",
       "      <th>5</th>\n",
       "      <td>facebook_ads</td>\n",
       "      <td>2020-05-08</td>\n",
       "      <td>68.009276</td>\n",
       "    </tr>\n",
       "    <tr>\n",
       "      <th>6</th>\n",
       "      <td>facebook_ads</td>\n",
       "      <td>2020-05-09</td>\n",
       "      <td>38.723350</td>\n",
       "    </tr>\n",
       "    <tr>\n",
       "      <th>7</th>\n",
       "      <td>instagram_new_adverts</td>\n",
       "      <td>2020-05-03</td>\n",
       "      <td>943.204717</td>\n",
       "    </tr>\n",
       "    <tr>\n",
       "      <th>8</th>\n",
       "      <td>instagram_new_adverts</td>\n",
       "      <td>2020-05-04</td>\n",
       "      <td>502.925451</td>\n",
       "    </tr>\n",
       "    <tr>\n",
       "      <th>9</th>\n",
       "      <td>instagram_new_adverts</td>\n",
       "      <td>2020-05-05</td>\n",
       "      <td>313.970984</td>\n",
       "    </tr>\n",
       "    <tr>\n",
       "      <th>10</th>\n",
       "      <td>instagram_new_adverts</td>\n",
       "      <td>2020-05-06</td>\n",
       "      <td>173.071145</td>\n",
       "    </tr>\n",
       "    <tr>\n",
       "      <th>11</th>\n",
       "      <td>instagram_new_adverts</td>\n",
       "      <td>2020-05-07</td>\n",
       "      <td>109.915254</td>\n",
       "    </tr>\n",
       "    <tr>\n",
       "      <th>12</th>\n",
       "      <td>instagram_new_adverts</td>\n",
       "      <td>2020-05-08</td>\n",
       "      <td>71.578739</td>\n",
       "    </tr>\n",
       "    <tr>\n",
       "      <th>13</th>\n",
       "      <td>instagram_new_adverts</td>\n",
       "      <td>2020-05-09</td>\n",
       "      <td>46.775400</td>\n",
       "    </tr>\n",
       "    <tr>\n",
       "      <th>14</th>\n",
       "      <td>yandex_direct</td>\n",
       "      <td>2020-05-03</td>\n",
       "      <td>969.139394</td>\n",
       "    </tr>\n",
       "    <tr>\n",
       "      <th>15</th>\n",
       "      <td>yandex_direct</td>\n",
       "      <td>2020-05-04</td>\n",
       "      <td>554.651494</td>\n",
       "    </tr>\n",
       "    <tr>\n",
       "      <th>16</th>\n",
       "      <td>yandex_direct</td>\n",
       "      <td>2020-05-05</td>\n",
       "      <td>308.232990</td>\n",
       "    </tr>\n",
       "    <tr>\n",
       "      <th>17</th>\n",
       "      <td>yandex_direct</td>\n",
       "      <td>2020-05-06</td>\n",
       "      <td>180.917099</td>\n",
       "    </tr>\n",
       "    <tr>\n",
       "      <th>18</th>\n",
       "      <td>yandex_direct</td>\n",
       "      <td>2020-05-07</td>\n",
       "      <td>114.429338</td>\n",
       "    </tr>\n",
       "    <tr>\n",
       "      <th>19</th>\n",
       "      <td>yandex_direct</td>\n",
       "      <td>2020-05-08</td>\n",
       "      <td>62.961630</td>\n",
       "    </tr>\n",
       "    <tr>\n",
       "      <th>20</th>\n",
       "      <td>yandex_direct</td>\n",
       "      <td>2020-05-09</td>\n",
       "      <td>42.779505</td>\n",
       "    </tr>\n",
       "    <tr>\n",
       "      <th>21</th>\n",
       "      <td>youtube_channel_reklama</td>\n",
       "      <td>2020-05-03</td>\n",
       "      <td>454.224943</td>\n",
       "    </tr>\n",
       "    <tr>\n",
       "      <th>22</th>\n",
       "      <td>youtube_channel_reklama</td>\n",
       "      <td>2020-05-04</td>\n",
       "      <td>259.073224</td>\n",
       "    </tr>\n",
       "    <tr>\n",
       "      <th>23</th>\n",
       "      <td>youtube_channel_reklama</td>\n",
       "      <td>2020-05-05</td>\n",
       "      <td>147.041741</td>\n",
       "    </tr>\n",
       "    <tr>\n",
       "      <th>24</th>\n",
       "      <td>youtube_channel_reklama</td>\n",
       "      <td>2020-05-06</td>\n",
       "      <td>88.506074</td>\n",
       "    </tr>\n",
       "    <tr>\n",
       "      <th>25</th>\n",
       "      <td>youtube_channel_reklama</td>\n",
       "      <td>2020-05-07</td>\n",
       "      <td>55.740645</td>\n",
       "    </tr>\n",
       "    <tr>\n",
       "      <th>26</th>\n",
       "      <td>youtube_channel_reklama</td>\n",
       "      <td>2020-05-08</td>\n",
       "      <td>40.217907</td>\n",
       "    </tr>\n",
       "    <tr>\n",
       "      <th>27</th>\n",
       "      <td>youtube_channel_reklama</td>\n",
       "      <td>2020-05-09</td>\n",
       "      <td>23.314669</td>\n",
       "    </tr>\n",
       "  </tbody>\n",
       "</table>\n",
       "</div>"
      ],
      "text/plain": [
       "                     source         day        cost\n",
       "0              facebook_ads  2020-05-03  935.882786\n",
       "1              facebook_ads  2020-05-04  548.354480\n",
       "2              facebook_ads  2020-05-05  260.185754\n",
       "3              facebook_ads  2020-05-06  177.982200\n",
       "4              facebook_ads  2020-05-07  111.766796\n",
       "5              facebook_ads  2020-05-08   68.009276\n",
       "6              facebook_ads  2020-05-09   38.723350\n",
       "7     instagram_new_adverts  2020-05-03  943.204717\n",
       "8     instagram_new_adverts  2020-05-04  502.925451\n",
       "9     instagram_new_adverts  2020-05-05  313.970984\n",
       "10    instagram_new_adverts  2020-05-06  173.071145\n",
       "11    instagram_new_adverts  2020-05-07  109.915254\n",
       "12    instagram_new_adverts  2020-05-08   71.578739\n",
       "13    instagram_new_adverts  2020-05-09   46.775400\n",
       "14            yandex_direct  2020-05-03  969.139394\n",
       "15            yandex_direct  2020-05-04  554.651494\n",
       "16            yandex_direct  2020-05-05  308.232990\n",
       "17            yandex_direct  2020-05-06  180.917099\n",
       "18            yandex_direct  2020-05-07  114.429338\n",
       "19            yandex_direct  2020-05-08   62.961630\n",
       "20            yandex_direct  2020-05-09   42.779505\n",
       "21  youtube_channel_reklama  2020-05-03  454.224943\n",
       "22  youtube_channel_reklama  2020-05-04  259.073224\n",
       "23  youtube_channel_reklama  2020-05-05  147.041741\n",
       "24  youtube_channel_reklama  2020-05-06   88.506074\n",
       "25  youtube_channel_reklama  2020-05-07   55.740645\n",
       "26  youtube_channel_reklama  2020-05-08   40.217907\n",
       "27  youtube_channel_reklama  2020-05-09   23.314669"
      ]
     },
     "execution_count": 9,
     "metadata": {},
     "output_type": "execute_result"
    }
   ],
   "source": [
    "ad_costs"
   ]
  },
  {
   "cell_type": "markdown",
   "id": "d79b8024",
   "metadata": {},
   "source": [
    "Датасет *ad_costs.csv* содержит колонки:\n",
    "\n",
    "- `day` - день, в который был совершен клик по объявлению\n",
    "- `source` - источник трафика\n",
    "- `cost` - стоимость кликов"
   ]
  },
  {
   "cell_type": "code",
   "execution_count": 10,
   "id": "be15b78a",
   "metadata": {},
   "outputs": [
    {
     "name": "stdout",
     "output_type": "stream",
     "text": [
      "<class 'pandas.core.frame.DataFrame'>\n",
      "RangeIndex: 28 entries, 0 to 27\n",
      "Data columns (total 3 columns):\n",
      " #   Column  Non-Null Count  Dtype  \n",
      "---  ------  --------------  -----  \n",
      " 0   source  28 non-null     object \n",
      " 1   day     28 non-null     object \n",
      " 2   cost    28 non-null     float64\n",
      "dtypes: float64(1), object(2)\n",
      "memory usage: 800.0+ bytes\n"
     ]
    }
   ],
   "source": [
    "ad_costs.info()"
   ]
  },
  {
   "cell_type": "markdown",
   "id": "e9dbf623",
   "metadata": {},
   "source": [
    "Датасет user_source.csv содержит колонки:\n",
    "\n",
    "- `user_id` - идентификатор пользователя\n",
    "- `source` - источников, с которого пришёл пользователь, установивший приложение"
   ]
  },
  {
   "cell_type": "code",
   "execution_count": 11,
   "id": "878442ca",
   "metadata": {},
   "outputs": [
    {
     "data": {
      "text/plain": [
       "'2020-05-03'"
      ]
     },
     "execution_count": 11,
     "metadata": {},
     "output_type": "execute_result"
    }
   ],
   "source": [
    "ad_costs['day'].min()"
   ]
  },
  {
   "cell_type": "code",
   "execution_count": 12,
   "id": "be51c6be",
   "metadata": {
    "scrolled": true
   },
   "outputs": [
    {
     "data": {
      "text/plain": [
       "'2020-05-09'"
      ]
     },
     "execution_count": 12,
     "metadata": {},
     "output_type": "execute_result"
    }
   ],
   "source": [
    "ad_costs['day'].max()"
   ]
  },
  {
   "cell_type": "markdown",
   "id": "251daa86",
   "metadata": {},
   "source": [
    "### Посмотрим датасет с источниками привлечения пользователей"
   ]
  },
  {
   "cell_type": "code",
   "execution_count": 13,
   "id": "786b9df6",
   "metadata": {},
   "outputs": [
    {
     "data": {
      "text/html": [
       "<div>\n",
       "<style scoped>\n",
       "    .dataframe tbody tr th:only-of-type {\n",
       "        vertical-align: middle;\n",
       "    }\n",
       "\n",
       "    .dataframe tbody tr th {\n",
       "        vertical-align: top;\n",
       "    }\n",
       "\n",
       "    .dataframe thead th {\n",
       "        text-align: right;\n",
       "    }\n",
       "</style>\n",
       "<table border=\"1\" class=\"dataframe\">\n",
       "  <thead>\n",
       "    <tr style=\"text-align: right;\">\n",
       "      <th></th>\n",
       "      <th>user_id</th>\n",
       "      <th>source</th>\n",
       "    </tr>\n",
       "  </thead>\n",
       "  <tbody>\n",
       "    <tr>\n",
       "      <th>0</th>\n",
       "      <td>0001f83c-c6ac-4621-b7f0-8a28b283ac30</td>\n",
       "      <td>facebook_ads</td>\n",
       "    </tr>\n",
       "    <tr>\n",
       "      <th>1</th>\n",
       "      <td>00151b4f-ba38-44a8-a650-d7cf130a0105</td>\n",
       "      <td>yandex_direct</td>\n",
       "    </tr>\n",
       "    <tr>\n",
       "      <th>2</th>\n",
       "      <td>001aaea6-3d14-43f1-8ca8-7f48820f17aa</td>\n",
       "      <td>youtube_channel_reklama</td>\n",
       "    </tr>\n",
       "    <tr>\n",
       "      <th>3</th>\n",
       "      <td>001d39dc-366c-4021-9604-6a3b9ff01e25</td>\n",
       "      <td>instagram_new_adverts</td>\n",
       "    </tr>\n",
       "    <tr>\n",
       "      <th>4</th>\n",
       "      <td>002f508f-67b6-479f-814b-b05f00d4e995</td>\n",
       "      <td>facebook_ads</td>\n",
       "    </tr>\n",
       "    <tr>\n",
       "      <th>...</th>\n",
       "      <td>...</td>\n",
       "      <td>...</td>\n",
       "    </tr>\n",
       "    <tr>\n",
       "      <th>13571</th>\n",
       "      <td>ffef4fed-164c-40e1-bde1-3980f76d0fb5</td>\n",
       "      <td>instagram_new_adverts</td>\n",
       "    </tr>\n",
       "    <tr>\n",
       "      <th>13572</th>\n",
       "      <td>fffab3da-da0e-4e30-ae62-10d0a2e24a4e</td>\n",
       "      <td>facebook_ads</td>\n",
       "    </tr>\n",
       "    <tr>\n",
       "      <th>13573</th>\n",
       "      <td>fffb626c-5ab6-47c9-8113-2062a2f18494</td>\n",
       "      <td>yandex_direct</td>\n",
       "    </tr>\n",
       "    <tr>\n",
       "      <th>13574</th>\n",
       "      <td>ffff194a-56b7-4c12-860d-3485242ae7f5</td>\n",
       "      <td>instagram_new_adverts</td>\n",
       "    </tr>\n",
       "    <tr>\n",
       "      <th>13575</th>\n",
       "      <td>ffff69cc-fec1-4fd3-9f98-93be1112a6b8</td>\n",
       "      <td>facebook_ads</td>\n",
       "    </tr>\n",
       "  </tbody>\n",
       "</table>\n",
       "<p>13576 rows × 2 columns</p>\n",
       "</div>"
      ],
      "text/plain": [
       "                                    user_id                   source\n",
       "0      0001f83c-c6ac-4621-b7f0-8a28b283ac30             facebook_ads\n",
       "1      00151b4f-ba38-44a8-a650-d7cf130a0105            yandex_direct\n",
       "2      001aaea6-3d14-43f1-8ca8-7f48820f17aa  youtube_channel_reklama\n",
       "3      001d39dc-366c-4021-9604-6a3b9ff01e25    instagram_new_adverts\n",
       "4      002f508f-67b6-479f-814b-b05f00d4e995             facebook_ads\n",
       "...                                     ...                      ...\n",
       "13571  ffef4fed-164c-40e1-bde1-3980f76d0fb5    instagram_new_adverts\n",
       "13572  fffab3da-da0e-4e30-ae62-10d0a2e24a4e             facebook_ads\n",
       "13573  fffb626c-5ab6-47c9-8113-2062a2f18494            yandex_direct\n",
       "13574  ffff194a-56b7-4c12-860d-3485242ae7f5    instagram_new_adverts\n",
       "13575  ffff69cc-fec1-4fd3-9f98-93be1112a6b8             facebook_ads\n",
       "\n",
       "[13576 rows x 2 columns]"
      ]
     },
     "execution_count": 13,
     "metadata": {},
     "output_type": "execute_result"
    }
   ],
   "source": [
    "user_source"
   ]
  },
  {
   "cell_type": "code",
   "execution_count": 14,
   "id": "aa0289d2",
   "metadata": {},
   "outputs": [
    {
     "name": "stdout",
     "output_type": "stream",
     "text": [
      "<class 'pandas.core.frame.DataFrame'>\n",
      "RangeIndex: 13576 entries, 0 to 13575\n",
      "Data columns (total 2 columns):\n",
      " #   Column   Non-Null Count  Dtype \n",
      "---  ------   --------------  ----- \n",
      " 0   user_id  13576 non-null  object\n",
      " 1   source   13576 non-null  object\n",
      "dtypes: object(2)\n",
      "memory usage: 212.2+ KB\n"
     ]
    }
   ],
   "source": [
    "user_source.info()"
   ]
  },
  {
   "cell_type": "code",
   "execution_count": 15,
   "id": "7c022a34",
   "metadata": {},
   "outputs": [
    {
     "data": {
      "text/plain": [
       "array(['facebook_ads', 'yandex_direct', 'youtube_channel_reklama',\n",
       "       'instagram_new_adverts'], dtype=object)"
      ]
     },
     "execution_count": 15,
     "metadata": {},
     "output_type": "execute_result"
    }
   ],
   "source": [
    "user_source['source'].unique()"
   ]
  },
  {
   "cell_type": "markdown",
   "id": "407e9868",
   "metadata": {},
   "source": [
    "## Предобработка данных"
   ]
  },
  {
   "cell_type": "code",
   "execution_count": 16,
   "id": "15cec4e2",
   "metadata": {},
   "outputs": [],
   "source": [
    "#поменяем формат даты проведения эксперимента \n",
    "game_actions['event_datetime'] = game_actions['event_datetime'].astype('datetime64[s]')"
   ]
  },
  {
   "cell_type": "code",
   "execution_count": 17,
   "id": "dc8ad4cd",
   "metadata": {},
   "outputs": [
    {
     "data": {
      "text/plain": [
       "1"
      ]
     },
     "execution_count": 17,
     "metadata": {},
     "output_type": "execute_result"
    }
   ],
   "source": [
    "#посмотрим количество явных дубликатов в датасете\n",
    "(game_actions.duplicated().sum())"
   ]
  },
  {
   "cell_type": "markdown",
   "id": "f9d8efe6",
   "metadata": {},
   "source": [
    "Явный дубликат всего один, неявных дубликатов быть не должно, тк это записи логов пользователей, собраныые автоматически(?)"
   ]
  },
  {
   "cell_type": "code",
   "execution_count": 18,
   "id": "34a52ae1",
   "metadata": {},
   "outputs": [],
   "source": [
    "#удалим явные дубликаты\n",
    "game_actions=game_actions.drop_duplicates()"
   ]
  },
  {
   "cell_type": "code",
   "execution_count": 19,
   "id": "8f839cf2",
   "metadata": {},
   "outputs": [
    {
     "data": {
      "text/plain": [
       "event_datetime         0\n",
       "event                  0\n",
       "building_type       7683\n",
       "user_id                0\n",
       "project_type      133773\n",
       "dtype: int64"
      ]
     },
     "execution_count": 19,
     "metadata": {},
     "output_type": "execute_result"
    }
   ],
   "source": [
    "#посмотрим на пропуски\n",
    "game_actions.isna().sum()"
   ]
  },
  {
   "cell_type": "markdown",
   "id": "1146e149",
   "metadata": {},
   "source": [
    "7683 пропуск в столбце с типом постройи и 133773 пропуска в столбце с типом проекта. Изучим пропуски подробнее."
   ]
  },
  {
   "cell_type": "markdown",
   "id": "22957aeb",
   "metadata": {},
   "source": [
    "Механика сбора данных и игры предполагает, что часть пропусков будет естественной. \n",
    "Например если строка с действием по проекту, то в колонке с типом постройки будет пропуск. Или если строка с постройкой - то в проекте будет пропуск.  Рассмотрим это подробнее."
   ]
  },
  {
   "cell_type": "code",
   "execution_count": 20,
   "id": "bb8fc8ac",
   "metadata": {},
   "outputs": [
    {
     "data": {
      "text/html": [
       "<div>\n",
       "<style scoped>\n",
       "    .dataframe tbody tr th:only-of-type {\n",
       "        vertical-align: middle;\n",
       "    }\n",
       "\n",
       "    .dataframe tbody tr th {\n",
       "        vertical-align: top;\n",
       "    }\n",
       "\n",
       "    .dataframe thead th {\n",
       "        text-align: right;\n",
       "    }\n",
       "</style>\n",
       "<table border=\"1\" class=\"dataframe\">\n",
       "  <thead>\n",
       "    <tr style=\"text-align: right;\">\n",
       "      <th></th>\n",
       "      <th>event_datetime</th>\n",
       "      <th>event</th>\n",
       "      <th>building_type</th>\n",
       "      <th>user_id</th>\n",
       "      <th>project_type</th>\n",
       "    </tr>\n",
       "  </thead>\n",
       "  <tbody>\n",
       "  </tbody>\n",
       "</table>\n",
       "</div>"
      ],
      "text/plain": [
       "Empty DataFrame\n",
       "Columns: [event_datetime, event, building_type, user_id, project_type]\n",
       "Index: []"
      ]
     },
     "execution_count": 20,
     "metadata": {},
     "output_type": "execute_result"
    }
   ],
   "source": [
    "#посмотрим какие есть пропуски если тип событие 'building'\n",
    "game_actions.query('event == \"building\" and building_type.isnull()')"
   ]
  },
  {
   "cell_type": "markdown",
   "id": "8abb0cf2",
   "metadata": {},
   "source": [
    "Таких пропусков нет."
   ]
  },
  {
   "cell_type": "code",
   "execution_count": 21,
   "id": "9798b257",
   "metadata": {},
   "outputs": [
    {
     "data": {
      "text/html": [
       "<div>\n",
       "<style scoped>\n",
       "    .dataframe tbody tr th:only-of-type {\n",
       "        vertical-align: middle;\n",
       "    }\n",
       "\n",
       "    .dataframe tbody tr th {\n",
       "        vertical-align: top;\n",
       "    }\n",
       "\n",
       "    .dataframe thead th {\n",
       "        text-align: right;\n",
       "    }\n",
       "</style>\n",
       "<table border=\"1\" class=\"dataframe\">\n",
       "  <thead>\n",
       "    <tr style=\"text-align: right;\">\n",
       "      <th></th>\n",
       "      <th>event_datetime</th>\n",
       "      <th>event</th>\n",
       "      <th>building_type</th>\n",
       "      <th>user_id</th>\n",
       "      <th>project_type</th>\n",
       "    </tr>\n",
       "  </thead>\n",
       "  <tbody>\n",
       "    <tr>\n",
       "      <th>0</th>\n",
       "      <td>2020-05-04 00:00:01</td>\n",
       "      <td>building</td>\n",
       "      <td>assembly_shop</td>\n",
       "      <td>55e92310-cb8e-4754-b622-597e124b03de</td>\n",
       "      <td>NaN</td>\n",
       "    </tr>\n",
       "    <tr>\n",
       "      <th>1</th>\n",
       "      <td>2020-05-04 00:00:03</td>\n",
       "      <td>building</td>\n",
       "      <td>assembly_shop</td>\n",
       "      <td>c07b1c10-f477-44dc-81dc-ec82254b1347</td>\n",
       "      <td>NaN</td>\n",
       "    </tr>\n",
       "    <tr>\n",
       "      <th>2</th>\n",
       "      <td>2020-05-04 00:00:16</td>\n",
       "      <td>building</td>\n",
       "      <td>assembly_shop</td>\n",
       "      <td>6edd42cc-e753-4ff6-a947-2107cd560710</td>\n",
       "      <td>NaN</td>\n",
       "    </tr>\n",
       "    <tr>\n",
       "      <th>3</th>\n",
       "      <td>2020-05-04 00:00:16</td>\n",
       "      <td>building</td>\n",
       "      <td>assembly_shop</td>\n",
       "      <td>92c69003-d60a-444a-827f-8cc51bf6bf4c</td>\n",
       "      <td>NaN</td>\n",
       "    </tr>\n",
       "    <tr>\n",
       "      <th>4</th>\n",
       "      <td>2020-05-04 00:00:35</td>\n",
       "      <td>building</td>\n",
       "      <td>assembly_shop</td>\n",
       "      <td>cdc6bb92-0ccb-4490-9866-ef142f09139d</td>\n",
       "      <td>NaN</td>\n",
       "    </tr>\n",
       "    <tr>\n",
       "      <th>...</th>\n",
       "      <td>...</td>\n",
       "      <td>...</td>\n",
       "      <td>...</td>\n",
       "      <td>...</td>\n",
       "      <td>...</td>\n",
       "    </tr>\n",
       "    <tr>\n",
       "      <th>135627</th>\n",
       "      <td>2020-06-04 05:18:54</td>\n",
       "      <td>building</td>\n",
       "      <td>research_center</td>\n",
       "      <td>d477dde8-7c22-4f23-9c4f-4ec31a1aa4c8</td>\n",
       "      <td>NaN</td>\n",
       "    </tr>\n",
       "    <tr>\n",
       "      <th>135631</th>\n",
       "      <td>2020-06-04 13:26:25</td>\n",
       "      <td>building</td>\n",
       "      <td>research_center</td>\n",
       "      <td>32572adb-900f-4b5d-a453-1eb1e6d88d8b</td>\n",
       "      <td>NaN</td>\n",
       "    </tr>\n",
       "    <tr>\n",
       "      <th>135634</th>\n",
       "      <td>2020-06-04 18:14:33</td>\n",
       "      <td>building</td>\n",
       "      <td>research_center</td>\n",
       "      <td>515c1952-99aa-4bca-a7ea-d0449eb5385a</td>\n",
       "      <td>NaN</td>\n",
       "    </tr>\n",
       "    <tr>\n",
       "      <th>135635</th>\n",
       "      <td>2020-06-05 00:08:06</td>\n",
       "      <td>building</td>\n",
       "      <td>research_center</td>\n",
       "      <td>f21d179f-1c4b-437e-b9c6-ab1976907195</td>\n",
       "      <td>NaN</td>\n",
       "    </tr>\n",
       "    <tr>\n",
       "      <th>135637</th>\n",
       "      <td>2020-06-05 08:57:52</td>\n",
       "      <td>building</td>\n",
       "      <td>research_center</td>\n",
       "      <td>ed3e7d02-8a96-4be7-9998-e9813ff9c316</td>\n",
       "      <td>NaN</td>\n",
       "    </tr>\n",
       "  </tbody>\n",
       "</table>\n",
       "<p>127956 rows × 5 columns</p>\n",
       "</div>"
      ],
      "text/plain": [
       "            event_datetime     event    building_type   \n",
       "0      2020-05-04 00:00:01  building    assembly_shop  \\\n",
       "1      2020-05-04 00:00:03  building    assembly_shop   \n",
       "2      2020-05-04 00:00:16  building    assembly_shop   \n",
       "3      2020-05-04 00:00:16  building    assembly_shop   \n",
       "4      2020-05-04 00:00:35  building    assembly_shop   \n",
       "...                    ...       ...              ...   \n",
       "135627 2020-06-04 05:18:54  building  research_center   \n",
       "135631 2020-06-04 13:26:25  building  research_center   \n",
       "135634 2020-06-04 18:14:33  building  research_center   \n",
       "135635 2020-06-05 00:08:06  building  research_center   \n",
       "135637 2020-06-05 08:57:52  building  research_center   \n",
       "\n",
       "                                     user_id project_type  \n",
       "0       55e92310-cb8e-4754-b622-597e124b03de          NaN  \n",
       "1       c07b1c10-f477-44dc-81dc-ec82254b1347          NaN  \n",
       "2       6edd42cc-e753-4ff6-a947-2107cd560710          NaN  \n",
       "3       92c69003-d60a-444a-827f-8cc51bf6bf4c          NaN  \n",
       "4       cdc6bb92-0ccb-4490-9866-ef142f09139d          NaN  \n",
       "...                                      ...          ...  \n",
       "135627  d477dde8-7c22-4f23-9c4f-4ec31a1aa4c8          NaN  \n",
       "135631  32572adb-900f-4b5d-a453-1eb1e6d88d8b          NaN  \n",
       "135634  515c1952-99aa-4bca-a7ea-d0449eb5385a          NaN  \n",
       "135635  f21d179f-1c4b-437e-b9c6-ab1976907195          NaN  \n",
       "135637  ed3e7d02-8a96-4be7-9998-e9813ff9c316          NaN  \n",
       "\n",
       "[127956 rows x 5 columns]"
      ]
     },
     "execution_count": 21,
     "metadata": {},
     "output_type": "execute_result"
    }
   ],
   "source": [
    "#посмотрим какие есть пропуски если тип событие 'building'\n",
    "game_actions.query('event == \"building\" and project_type.isnull()')"
   ]
  },
  {
   "cell_type": "markdown",
   "id": "54d902c1",
   "metadata": {},
   "source": [
    "Это естественные пропуски, их не трогаем"
   ]
  },
  {
   "cell_type": "code",
   "execution_count": 22,
   "id": "77752eaa",
   "metadata": {},
   "outputs": [
    {
     "data": {
      "text/html": [
       "<div>\n",
       "<style scoped>\n",
       "    .dataframe tbody tr th:only-of-type {\n",
       "        vertical-align: middle;\n",
       "    }\n",
       "\n",
       "    .dataframe tbody tr th {\n",
       "        vertical-align: top;\n",
       "    }\n",
       "\n",
       "    .dataframe thead th {\n",
       "        text-align: right;\n",
       "    }\n",
       "</style>\n",
       "<table border=\"1\" class=\"dataframe\">\n",
       "  <thead>\n",
       "    <tr style=\"text-align: right;\">\n",
       "      <th></th>\n",
       "      <th>event_datetime</th>\n",
       "      <th>event</th>\n",
       "      <th>building_type</th>\n",
       "      <th>user_id</th>\n",
       "      <th>project_type</th>\n",
       "    </tr>\n",
       "  </thead>\n",
       "  <tbody>\n",
       "    <tr>\n",
       "      <th>47121</th>\n",
       "      <td>2020-05-08 18:10:25</td>\n",
       "      <td>project</td>\n",
       "      <td>NaN</td>\n",
       "      <td>e3c66498-9d45-4000-9392-f81e6796e7da</td>\n",
       "      <td>satellite_orbital_assembly</td>\n",
       "    </tr>\n",
       "    <tr>\n",
       "      <th>57398</th>\n",
       "      <td>2020-05-09 13:49:11</td>\n",
       "      <td>project</td>\n",
       "      <td>NaN</td>\n",
       "      <td>936e7af6-8338-4703-a1df-fc6c3f5b8e34</td>\n",
       "      <td>satellite_orbital_assembly</td>\n",
       "    </tr>\n",
       "    <tr>\n",
       "      <th>58797</th>\n",
       "      <td>2020-05-09 16:19:33</td>\n",
       "      <td>project</td>\n",
       "      <td>NaN</td>\n",
       "      <td>a4491c86-c498-4f74-a56e-65c136d0e9a1</td>\n",
       "      <td>satellite_orbital_assembly</td>\n",
       "    </tr>\n",
       "    <tr>\n",
       "      <th>61174</th>\n",
       "      <td>2020-05-09 20:29:01</td>\n",
       "      <td>project</td>\n",
       "      <td>NaN</td>\n",
       "      <td>85d9e675-562b-4329-8bbd-14d3b39096be</td>\n",
       "      <td>satellite_orbital_assembly</td>\n",
       "    </tr>\n",
       "    <tr>\n",
       "      <th>63770</th>\n",
       "      <td>2020-05-10 00:57:47</td>\n",
       "      <td>project</td>\n",
       "      <td>NaN</td>\n",
       "      <td>1889ca71-3c57-4e61-9ea6-a711971bbf0a</td>\n",
       "      <td>satellite_orbital_assembly</td>\n",
       "    </tr>\n",
       "    <tr>\n",
       "      <th>...</th>\n",
       "      <td>...</td>\n",
       "      <td>...</td>\n",
       "      <td>...</td>\n",
       "      <td>...</td>\n",
       "      <td>...</td>\n",
       "    </tr>\n",
       "    <tr>\n",
       "      <th>135602</th>\n",
       "      <td>2020-06-02 03:04:42</td>\n",
       "      <td>project</td>\n",
       "      <td>NaN</td>\n",
       "      <td>9d98001c-7e14-40d7-896e-46b3047365fd</td>\n",
       "      <td>satellite_orbital_assembly</td>\n",
       "    </tr>\n",
       "    <tr>\n",
       "      <th>135603</th>\n",
       "      <td>2020-06-02 06:21:03</td>\n",
       "      <td>project</td>\n",
       "      <td>NaN</td>\n",
       "      <td>df4a1e13-eba9-4928-a7cf-ee303d6f80f9</td>\n",
       "      <td>satellite_orbital_assembly</td>\n",
       "    </tr>\n",
       "    <tr>\n",
       "      <th>135609</th>\n",
       "      <td>2020-06-02 17:17:28</td>\n",
       "      <td>project</td>\n",
       "      <td>NaN</td>\n",
       "      <td>82e46f34-e243-4728-8e20-2e171fc33ea4</td>\n",
       "      <td>satellite_orbital_assembly</td>\n",
       "    </tr>\n",
       "    <tr>\n",
       "      <th>135617</th>\n",
       "      <td>2020-06-03 09:46:04</td>\n",
       "      <td>project</td>\n",
       "      <td>NaN</td>\n",
       "      <td>fe032991-71e0-48c5-889f-4c3805ba4c9b</td>\n",
       "      <td>satellite_orbital_assembly</td>\n",
       "    </tr>\n",
       "    <tr>\n",
       "      <th>135630</th>\n",
       "      <td>2020-06-04 08:29:42</td>\n",
       "      <td>project</td>\n",
       "      <td>NaN</td>\n",
       "      <td>d477dde8-7c22-4f23-9c4f-4ec31a1aa4c8</td>\n",
       "      <td>satellite_orbital_assembly</td>\n",
       "    </tr>\n",
       "  </tbody>\n",
       "</table>\n",
       "<p>1866 rows × 5 columns</p>\n",
       "</div>"
      ],
      "text/plain": [
       "            event_datetime    event building_type   \n",
       "47121  2020-05-08 18:10:25  project           NaN  \\\n",
       "57398  2020-05-09 13:49:11  project           NaN   \n",
       "58797  2020-05-09 16:19:33  project           NaN   \n",
       "61174  2020-05-09 20:29:01  project           NaN   \n",
       "63770  2020-05-10 00:57:47  project           NaN   \n",
       "...                    ...      ...           ...   \n",
       "135602 2020-06-02 03:04:42  project           NaN   \n",
       "135603 2020-06-02 06:21:03  project           NaN   \n",
       "135609 2020-06-02 17:17:28  project           NaN   \n",
       "135617 2020-06-03 09:46:04  project           NaN   \n",
       "135630 2020-06-04 08:29:42  project           NaN   \n",
       "\n",
       "                                     user_id                project_type  \n",
       "47121   e3c66498-9d45-4000-9392-f81e6796e7da  satellite_orbital_assembly  \n",
       "57398   936e7af6-8338-4703-a1df-fc6c3f5b8e34  satellite_orbital_assembly  \n",
       "58797   a4491c86-c498-4f74-a56e-65c136d0e9a1  satellite_orbital_assembly  \n",
       "61174   85d9e675-562b-4329-8bbd-14d3b39096be  satellite_orbital_assembly  \n",
       "63770   1889ca71-3c57-4e61-9ea6-a711971bbf0a  satellite_orbital_assembly  \n",
       "...                                      ...                         ...  \n",
       "135602  9d98001c-7e14-40d7-896e-46b3047365fd  satellite_orbital_assembly  \n",
       "135603  df4a1e13-eba9-4928-a7cf-ee303d6f80f9  satellite_orbital_assembly  \n",
       "135609  82e46f34-e243-4728-8e20-2e171fc33ea4  satellite_orbital_assembly  \n",
       "135617  fe032991-71e0-48c5-889f-4c3805ba4c9b  satellite_orbital_assembly  \n",
       "135630  d477dde8-7c22-4f23-9c4f-4ec31a1aa4c8  satellite_orbital_assembly  \n",
       "\n",
       "[1866 rows x 5 columns]"
      ]
     },
     "execution_count": 22,
     "metadata": {},
     "output_type": "execute_result"
    }
   ],
   "source": [
    "#посмотрим какие есть пропуски если тип событие 'project'\n",
    "game_actions.query('event == \"project\" and building_type.isnull()')"
   ]
  },
  {
   "cell_type": "markdown",
   "id": "841543a8",
   "metadata": {},
   "source": [
    "Это естественные пропуски, их не трогаем"
   ]
  },
  {
   "cell_type": "code",
   "execution_count": 23,
   "id": "e96cb85b",
   "metadata": {
    "scrolled": true
   },
   "outputs": [
    {
     "data": {
      "text/html": [
       "<div>\n",
       "<style scoped>\n",
       "    .dataframe tbody tr th:only-of-type {\n",
       "        vertical-align: middle;\n",
       "    }\n",
       "\n",
       "    .dataframe tbody tr th {\n",
       "        vertical-align: top;\n",
       "    }\n",
       "\n",
       "    .dataframe thead th {\n",
       "        text-align: right;\n",
       "    }\n",
       "</style>\n",
       "<table border=\"1\" class=\"dataframe\">\n",
       "  <thead>\n",
       "    <tr style=\"text-align: right;\">\n",
       "      <th></th>\n",
       "      <th>event_datetime</th>\n",
       "      <th>event</th>\n",
       "      <th>building_type</th>\n",
       "      <th>user_id</th>\n",
       "      <th>project_type</th>\n",
       "    </tr>\n",
       "  </thead>\n",
       "  <tbody>\n",
       "  </tbody>\n",
       "</table>\n",
       "</div>"
      ],
      "text/plain": [
       "Empty DataFrame\n",
       "Columns: [event_datetime, event, building_type, user_id, project_type]\n",
       "Index: []"
      ]
     },
     "execution_count": 23,
     "metadata": {},
     "output_type": "execute_result"
    }
   ],
   "source": [
    "#посмотрим какие есть пропуски если тип событие 'project'\n",
    "game_actions.query('event == \"project\" and project_type.isnull()')"
   ]
  },
  {
   "cell_type": "markdown",
   "id": "2131db74",
   "metadata": {},
   "source": [
    "Таких пропусков нет."
   ]
  },
  {
   "cell_type": "code",
   "execution_count": 24,
   "id": "4de4223a",
   "metadata": {
    "scrolled": true
   },
   "outputs": [
    {
     "data": {
      "text/html": [
       "<div>\n",
       "<style scoped>\n",
       "    .dataframe tbody tr th:only-of-type {\n",
       "        vertical-align: middle;\n",
       "    }\n",
       "\n",
       "    .dataframe tbody tr th {\n",
       "        vertical-align: top;\n",
       "    }\n",
       "\n",
       "    .dataframe thead th {\n",
       "        text-align: right;\n",
       "    }\n",
       "</style>\n",
       "<table border=\"1\" class=\"dataframe\">\n",
       "  <thead>\n",
       "    <tr style=\"text-align: right;\">\n",
       "      <th></th>\n",
       "      <th>event_datetime</th>\n",
       "      <th>event</th>\n",
       "      <th>building_type</th>\n",
       "      <th>user_id</th>\n",
       "      <th>project_type</th>\n",
       "    </tr>\n",
       "  </thead>\n",
       "  <tbody>\n",
       "    <tr>\n",
       "      <th>6659</th>\n",
       "      <td>2020-05-04 19:47:29</td>\n",
       "      <td>finished_stage_1</td>\n",
       "      <td>NaN</td>\n",
       "      <td>ced7b368-818f-48f6-9461-2346de0892c5</td>\n",
       "      <td>NaN</td>\n",
       "    </tr>\n",
       "    <tr>\n",
       "      <th>13134</th>\n",
       "      <td>2020-05-05 13:22:09</td>\n",
       "      <td>finished_stage_1</td>\n",
       "      <td>NaN</td>\n",
       "      <td>7ef7fc89-2779-46ea-b328-9e5035b83af5</td>\n",
       "      <td>NaN</td>\n",
       "    </tr>\n",
       "    <tr>\n",
       "      <th>15274</th>\n",
       "      <td>2020-05-05 18:54:37</td>\n",
       "      <td>finished_stage_1</td>\n",
       "      <td>NaN</td>\n",
       "      <td>70db22b3-c2f4-43bc-94ea-51c8d2904a29</td>\n",
       "      <td>NaN</td>\n",
       "    </tr>\n",
       "    <tr>\n",
       "      <th>16284</th>\n",
       "      <td>2020-05-05 21:27:29</td>\n",
       "      <td>finished_stage_1</td>\n",
       "      <td>NaN</td>\n",
       "      <td>903fc9ef-ba97-4b12-9d5c-ac8d602fbd8b</td>\n",
       "      <td>NaN</td>\n",
       "    </tr>\n",
       "    <tr>\n",
       "      <th>19650</th>\n",
       "      <td>2020-05-06 06:02:22</td>\n",
       "      <td>finished_stage_1</td>\n",
       "      <td>NaN</td>\n",
       "      <td>58e077ba-feb1-4556-a5a0-d96bd04efa39</td>\n",
       "      <td>NaN</td>\n",
       "    </tr>\n",
       "    <tr>\n",
       "      <th>...</th>\n",
       "      <td>...</td>\n",
       "      <td>...</td>\n",
       "      <td>...</td>\n",
       "      <td>...</td>\n",
       "      <td>...</td>\n",
       "    </tr>\n",
       "    <tr>\n",
       "      <th>135632</th>\n",
       "      <td>2020-06-04 15:50:38</td>\n",
       "      <td>finished_stage_1</td>\n",
       "      <td>NaN</td>\n",
       "      <td>22cce310-fe10-41a2-941b-9c3d63327fea</td>\n",
       "      <td>NaN</td>\n",
       "    </tr>\n",
       "    <tr>\n",
       "      <th>135633</th>\n",
       "      <td>2020-06-04 17:56:14</td>\n",
       "      <td>finished_stage_1</td>\n",
       "      <td>NaN</td>\n",
       "      <td>d477dde8-7c22-4f23-9c4f-4ec31a1aa4c8</td>\n",
       "      <td>NaN</td>\n",
       "    </tr>\n",
       "    <tr>\n",
       "      <th>135636</th>\n",
       "      <td>2020-06-05 02:25:12</td>\n",
       "      <td>finished_stage_1</td>\n",
       "      <td>NaN</td>\n",
       "      <td>515c1952-99aa-4bca-a7ea-d0449eb5385a</td>\n",
       "      <td>NaN</td>\n",
       "    </tr>\n",
       "    <tr>\n",
       "      <th>135638</th>\n",
       "      <td>2020-06-05 12:12:27</td>\n",
       "      <td>finished_stage_1</td>\n",
       "      <td>NaN</td>\n",
       "      <td>32572adb-900f-4b5d-a453-1eb1e6d88d8b</td>\n",
       "      <td>NaN</td>\n",
       "    </tr>\n",
       "    <tr>\n",
       "      <th>135639</th>\n",
       "      <td>2020-06-05 12:32:49</td>\n",
       "      <td>finished_stage_1</td>\n",
       "      <td>NaN</td>\n",
       "      <td>f21d179f-1c4b-437e-b9c6-ab1976907195</td>\n",
       "      <td>NaN</td>\n",
       "    </tr>\n",
       "  </tbody>\n",
       "</table>\n",
       "<p>5817 rows × 5 columns</p>\n",
       "</div>"
      ],
      "text/plain": [
       "            event_datetime             event building_type   \n",
       "6659   2020-05-04 19:47:29  finished_stage_1           NaN  \\\n",
       "13134  2020-05-05 13:22:09  finished_stage_1           NaN   \n",
       "15274  2020-05-05 18:54:37  finished_stage_1           NaN   \n",
       "16284  2020-05-05 21:27:29  finished_stage_1           NaN   \n",
       "19650  2020-05-06 06:02:22  finished_stage_1           NaN   \n",
       "...                    ...               ...           ...   \n",
       "135632 2020-06-04 15:50:38  finished_stage_1           NaN   \n",
       "135633 2020-06-04 17:56:14  finished_stage_1           NaN   \n",
       "135636 2020-06-05 02:25:12  finished_stage_1           NaN   \n",
       "135638 2020-06-05 12:12:27  finished_stage_1           NaN   \n",
       "135639 2020-06-05 12:32:49  finished_stage_1           NaN   \n",
       "\n",
       "                                     user_id project_type  \n",
       "6659    ced7b368-818f-48f6-9461-2346de0892c5          NaN  \n",
       "13134   7ef7fc89-2779-46ea-b328-9e5035b83af5          NaN  \n",
       "15274   70db22b3-c2f4-43bc-94ea-51c8d2904a29          NaN  \n",
       "16284   903fc9ef-ba97-4b12-9d5c-ac8d602fbd8b          NaN  \n",
       "19650   58e077ba-feb1-4556-a5a0-d96bd04efa39          NaN  \n",
       "...                                      ...          ...  \n",
       "135632  22cce310-fe10-41a2-941b-9c3d63327fea          NaN  \n",
       "135633  d477dde8-7c22-4f23-9c4f-4ec31a1aa4c8          NaN  \n",
       "135636  515c1952-99aa-4bca-a7ea-d0449eb5385a          NaN  \n",
       "135638  32572adb-900f-4b5d-a453-1eb1e6d88d8b          NaN  \n",
       "135639  f21d179f-1c4b-437e-b9c6-ab1976907195          NaN  \n",
       "\n",
       "[5817 rows x 5 columns]"
      ]
     },
     "execution_count": 24,
     "metadata": {},
     "output_type": "execute_result"
    }
   ],
   "source": [
    "#посмотрим строки, когда пропуски сразу в двух столбцах\n",
    "game_actions.query('building_type.isnull() and project_type.isnull()')"
   ]
  },
  {
   "cell_type": "markdown",
   "id": "75aefc96",
   "metadata": {},
   "source": [
    "Это тоже естественные пропуски, тк это завершение первого уровня путем победы над другим игроком."
   ]
  },
  {
   "cell_type": "code",
   "execution_count": 25,
   "id": "a17d5552",
   "metadata": {},
   "outputs": [
    {
     "data": {
      "text/html": [
       "<div>\n",
       "<style scoped>\n",
       "    .dataframe tbody tr th:only-of-type {\n",
       "        vertical-align: middle;\n",
       "    }\n",
       "\n",
       "    .dataframe tbody tr th {\n",
       "        vertical-align: top;\n",
       "    }\n",
       "\n",
       "    .dataframe thead th {\n",
       "        text-align: right;\n",
       "    }\n",
       "</style>\n",
       "<table border=\"1\" class=\"dataframe\">\n",
       "  <thead>\n",
       "    <tr style=\"text-align: right;\">\n",
       "      <th></th>\n",
       "      <th>event_datetime</th>\n",
       "      <th>event</th>\n",
       "      <th>building_type</th>\n",
       "      <th>user_id</th>\n",
       "      <th>project_type</th>\n",
       "    </tr>\n",
       "  </thead>\n",
       "  <tbody>\n",
       "  </tbody>\n",
       "</table>\n",
       "</div>"
      ],
      "text/plain": [
       "Empty DataFrame\n",
       "Columns: [event_datetime, event, building_type, user_id, project_type]\n",
       "Index: []"
      ]
     },
     "execution_count": 25,
     "metadata": {},
     "output_type": "execute_result"
    }
   ],
   "source": [
    "game_actions.query( 'building_type.isnull() and project_type.isnull() and (event == \"building\" or event == \"project\")' )"
   ]
  },
  {
   "cell_type": "markdown",
   "id": "ad5c402f",
   "metadata": {},
   "source": [
    "Таких пропусков нет."
   ]
  },
  {
   "cell_type": "markdown",
   "id": "376ded28",
   "metadata": {},
   "source": [
    "Вывод: проведена предобработка данных,типы данных - , названия колонок не менялись, выполнена проверка на дубликаты. \n",
    "\n",
    "Обнаружены пропуски:\n",
    "- 7683 пропуск в столбце с типом постройки(из них 1866 пропуск, когда завершается проект и 5817, когда завершается первый уровень победой над другим игроком\n",
    "- 133773 пропуска в столбце с типом проекта. Изучим пропуски подробнее (127956 пропусков, когда совершается постройка и 5817, когда завершается первый уровень победой над другим игроком)\n",
    "\n",
    "Так как это естественные пропуски, мы их не трогаем."
   ]
  },
  {
   "cell_type": "markdown",
   "id": "8b736335",
   "metadata": {},
   "source": [
    "## Исследовательский анализ данных "
   ]
  },
  {
   "cell_type": "markdown",
   "id": "8be4c6a8",
   "metadata": {},
   "source": [
    "### Cколько времени занимает у игроков переход на первый уровень?"
   ]
  },
  {
   "cell_type": "code",
   "execution_count": 26,
   "id": "0fea69c2",
   "metadata": {},
   "outputs": [],
   "source": [
    "#список пользователей, прошедших уровень 1\n",
    "users_finished_stage=game_actions.query('event==\"finished_stage_1\"')['user_id'].to_list()"
   ]
  },
  {
   "cell_type": "markdown",
   "id": "6e2703cc",
   "metadata": {},
   "source": [
    "Посмотрим за сколько пользователи проходят первый уровень"
   ]
  },
  {
   "cell_type": "code",
   "execution_count": 27,
   "id": "5a4a5a8d",
   "metadata": {},
   "outputs": [
    {
     "data": {
      "text/html": [
       "<div>\n",
       "<style scoped>\n",
       "    .dataframe tbody tr th:only-of-type {\n",
       "        vertical-align: middle;\n",
       "    }\n",
       "\n",
       "    .dataframe tbody tr th {\n",
       "        vertical-align: top;\n",
       "    }\n",
       "\n",
       "    .dataframe thead th {\n",
       "        text-align: right;\n",
       "    }\n",
       "</style>\n",
       "<table border=\"1\" class=\"dataframe\">\n",
       "  <thead>\n",
       "    <tr style=\"text-align: right;\">\n",
       "      <th></th>\n",
       "      <th>user_id</th>\n",
       "      <th>game_finished</th>\n",
       "      <th>game_started</th>\n",
       "      <th>game_duration</th>\n",
       "    </tr>\n",
       "  </thead>\n",
       "  <tbody>\n",
       "    <tr>\n",
       "      <th>0</th>\n",
       "      <td>001d39dc-366c-4021-9604-6a3b9ff01e25</td>\n",
       "      <td>2020-05-12 07:40:47</td>\n",
       "      <td>2020-05-05 21:02:05</td>\n",
       "      <td>6 days 10:38:42</td>\n",
       "    </tr>\n",
       "    <tr>\n",
       "      <th>1</th>\n",
       "      <td>003ee7e8-6356-4286-a715-62f22a18d2a1</td>\n",
       "      <td>2020-05-17 21:47:49</td>\n",
       "      <td>2020-05-05 08:31:04</td>\n",
       "      <td>12 days 13:16:45</td>\n",
       "    </tr>\n",
       "    <tr>\n",
       "      <th>2</th>\n",
       "      <td>004074f8-251a-4776-922c-8348dca1a2f6</td>\n",
       "      <td>2020-05-16 19:57:40</td>\n",
       "      <td>2020-05-04 01:07:35</td>\n",
       "      <td>12 days 18:50:05</td>\n",
       "    </tr>\n",
       "    <tr>\n",
       "      <th>3</th>\n",
       "      <td>00464e5e-28ed-4be6-bf44-517ef7b3937b</td>\n",
       "      <td>2020-05-15 16:02:01</td>\n",
       "      <td>2020-05-04 08:35:29</td>\n",
       "      <td>11 days 07:26:32</td>\n",
       "    </tr>\n",
       "    <tr>\n",
       "      <th>4</th>\n",
       "      <td>0056c007-c082-43cc-bdef-afc49bca4cb9</td>\n",
       "      <td>2020-05-16 13:48:39</td>\n",
       "      <td>2020-05-10 11:49:47</td>\n",
       "      <td>6 days 01:58:52</td>\n",
       "    </tr>\n",
       "    <tr>\n",
       "      <th>...</th>\n",
       "      <td>...</td>\n",
       "      <td>...</td>\n",
       "      <td>...</td>\n",
       "      <td>...</td>\n",
       "    </tr>\n",
       "    <tr>\n",
       "      <th>5812</th>\n",
       "      <td>ffd002f3-3545-423e-8dba-0c6a2d48a3aa</td>\n",
       "      <td>2020-05-19 04:03:24</td>\n",
       "      <td>2020-05-06 06:34:18</td>\n",
       "      <td>12 days 21:29:06</td>\n",
       "    </tr>\n",
       "    <tr>\n",
       "      <th>5813</th>\n",
       "      <td>ffe810f4-1a1f-464b-924d-6f120b0cb8df</td>\n",
       "      <td>2020-05-18 02:03:36</td>\n",
       "      <td>2020-05-04 17:46:05</td>\n",
       "      <td>13 days 08:17:31</td>\n",
       "    </tr>\n",
       "    <tr>\n",
       "      <th>5814</th>\n",
       "      <td>ffef4fed-164c-40e1-bde1-3980f76d0fb5</td>\n",
       "      <td>2020-05-11 22:15:54</td>\n",
       "      <td>2020-05-04 01:58:59</td>\n",
       "      <td>7 days 20:16:55</td>\n",
       "    </tr>\n",
       "    <tr>\n",
       "      <th>5815</th>\n",
       "      <td>fffb626c-5ab6-47c9-8113-2062a2f18494</td>\n",
       "      <td>2020-05-12 13:01:52</td>\n",
       "      <td>2020-05-04 02:05:09</td>\n",
       "      <td>8 days 10:56:43</td>\n",
       "    </tr>\n",
       "    <tr>\n",
       "      <th>5816</th>\n",
       "      <td>ffff69cc-fec1-4fd3-9f98-93be1112a6b8</td>\n",
       "      <td>2020-05-25 14:05:51</td>\n",
       "      <td>2020-05-08 06:57:30</td>\n",
       "      <td>17 days 07:08:21</td>\n",
       "    </tr>\n",
       "  </tbody>\n",
       "</table>\n",
       "<p>5817 rows × 4 columns</p>\n",
       "</div>"
      ],
      "text/plain": [
       "                                   user_id       game_finished   \n",
       "0     001d39dc-366c-4021-9604-6a3b9ff01e25 2020-05-12 07:40:47  \\\n",
       "1     003ee7e8-6356-4286-a715-62f22a18d2a1 2020-05-17 21:47:49   \n",
       "2     004074f8-251a-4776-922c-8348dca1a2f6 2020-05-16 19:57:40   \n",
       "3     00464e5e-28ed-4be6-bf44-517ef7b3937b 2020-05-15 16:02:01   \n",
       "4     0056c007-c082-43cc-bdef-afc49bca4cb9 2020-05-16 13:48:39   \n",
       "...                                    ...                 ...   \n",
       "5812  ffd002f3-3545-423e-8dba-0c6a2d48a3aa 2020-05-19 04:03:24   \n",
       "5813  ffe810f4-1a1f-464b-924d-6f120b0cb8df 2020-05-18 02:03:36   \n",
       "5814  ffef4fed-164c-40e1-bde1-3980f76d0fb5 2020-05-11 22:15:54   \n",
       "5815  fffb626c-5ab6-47c9-8113-2062a2f18494 2020-05-12 13:01:52   \n",
       "5816  ffff69cc-fec1-4fd3-9f98-93be1112a6b8 2020-05-25 14:05:51   \n",
       "\n",
       "            game_started    game_duration  \n",
       "0    2020-05-05 21:02:05  6 days 10:38:42  \n",
       "1    2020-05-05 08:31:04 12 days 13:16:45  \n",
       "2    2020-05-04 01:07:35 12 days 18:50:05  \n",
       "3    2020-05-04 08:35:29 11 days 07:26:32  \n",
       "4    2020-05-10 11:49:47  6 days 01:58:52  \n",
       "...                  ...              ...  \n",
       "5812 2020-05-06 06:34:18 12 days 21:29:06  \n",
       "5813 2020-05-04 17:46:05 13 days 08:17:31  \n",
       "5814 2020-05-04 01:58:59  7 days 20:16:55  \n",
       "5815 2020-05-04 02:05:09  8 days 10:56:43  \n",
       "5816 2020-05-08 06:57:30 17 days 07:08:21  \n",
       "\n",
       "[5817 rows x 4 columns]"
      ]
     },
     "execution_count": 27,
     "metadata": {},
     "output_type": "execute_result"
    }
   ],
   "source": [
    "#cгруппируем по пользователю, высчитаем время начала и время окончания игры\n",
    "first_stage_users=game_actions.query('user_id in @users_finished_stage').groupby(by='user_id').agg({'event_datetime':['max','min']})\n",
    "#уберем мультииндекс\n",
    "first_stage_users.columns=first_stage_users.columns.droplevel(level=0)\n",
    "first_stage_users.reset_index(inplace=True)\n",
    "#переименнуем колонки\n",
    "first_stage_users.columns = ['user_id','game_finished','game_started']\n",
    "#добавим колонку с продолжительностью игры\n",
    "first_stage_users['game_duration']=first_stage_users['game_finished']-first_stage_users['game_started']\n",
    "first_stage_users"
   ]
  },
  {
   "cell_type": "code",
   "execution_count": 28,
   "id": "f6c549e6",
   "metadata": {},
   "outputs": [
    {
     "data": {
      "text/plain": [
       "count                5817\n",
       "mean     11 days 20:37:59\n",
       "std       4 days 01:37:33\n",
       "min       0 days 09:39:01\n",
       "25%       9 days 05:13:21\n",
       "50%      11 days 13:28:44\n",
       "75%      14 days 05:15:16\n",
       "max      30 days 21:58:53\n",
       "Name: game_duration, dtype: object"
      ]
     },
     "execution_count": 28,
     "metadata": {},
     "output_type": "execute_result"
    }
   ],
   "source": [
    "#посмотрим как быстро игроки проходили первый уровень\n",
    "first_stage_users['game_duration'].describe()"
   ]
  },
  {
   "cell_type": "code",
   "execution_count": 29,
   "id": "af021190",
   "metadata": {},
   "outputs": [
    {
     "data": {
      "image/png": "[encoded data removed]",
      "text/plain": [
       "<Figure size 1080x504 with 1 Axes>"
      ]
     },
     "metadata": {
      "needs_background": "light"
     },
     "output_type": "display_data"
    }
   ],
   "source": [
    "#построим гистограмму\n",
    "plt.figure(figsize=(15,7))\n",
    "plt.title('Гистограмма скорости прохождения первого уровня', fontdict={'size':15})\n",
    "plt.xlabel('Время прохождения')\n",
    "plt.ylabel('Количество пользователей')\n",
    "first_stage_users['game_duration'].dt.days.hist(bins=30,color='olivedrab');"
   ]
  },
  {
   "cell_type": "markdown",
   "id": "ae1f4fc1",
   "metadata": {},
   "source": [
    "Минимальное время прохождения - 0 дней, это выглядит аномально. Посмотрим внимательнее на логи этого пользователя."
   ]
  },
  {
   "cell_type": "code",
   "execution_count": 30,
   "id": "9030ebc7",
   "metadata": {},
   "outputs": [
    {
     "data": {
      "text/html": [
       "<div>\n",
       "<style scoped>\n",
       "    .dataframe tbody tr th:only-of-type {\n",
       "        vertical-align: middle;\n",
       "    }\n",
       "\n",
       "    .dataframe tbody tr th {\n",
       "        vertical-align: top;\n",
       "    }\n",
       "\n",
       "    .dataframe thead th {\n",
       "        text-align: right;\n",
       "    }\n",
       "</style>\n",
       "<table border=\"1\" class=\"dataframe\">\n",
       "  <thead>\n",
       "    <tr style=\"text-align: right;\">\n",
       "      <th></th>\n",
       "      <th>user_id</th>\n",
       "      <th>game_finished</th>\n",
       "      <th>game_started</th>\n",
       "      <th>game_duration</th>\n",
       "    </tr>\n",
       "  </thead>\n",
       "  <tbody>\n",
       "    <tr>\n",
       "      <th>91</th>\n",
       "      <td>03990bc0-47b6-44ce-9f8b-3afb1a97d0e7</td>\n",
       "      <td>2020-05-08 02:19:33</td>\n",
       "      <td>2020-05-07 16:40:32</td>\n",
       "      <td>0 days 09:39:01</td>\n",
       "    </tr>\n",
       "  </tbody>\n",
       "</table>\n",
       "</div>"
      ],
      "text/plain": [
       "                                 user_id       game_finished   \n",
       "91  03990bc0-47b6-44ce-9f8b-3afb1a97d0e7 2020-05-08 02:19:33  \\\n",
       "\n",
       "          game_started   game_duration  \n",
       "91 2020-05-07 16:40:32 0 days 09:39:01  "
      ]
     },
     "execution_count": 30,
     "metadata": {},
     "output_type": "execute_result"
    }
   ],
   "source": [
    "first_stage_users.query('game_duration == \"0 days 09:39:01\"')"
   ]
  },
  {
   "cell_type": "code",
   "execution_count": 31,
   "id": "4dac21ae",
   "metadata": {},
   "outputs": [
    {
     "data": {
      "text/html": [
       "<div>\n",
       "<style scoped>\n",
       "    .dataframe tbody tr th:only-of-type {\n",
       "        vertical-align: middle;\n",
       "    }\n",
       "\n",
       "    .dataframe tbody tr th {\n",
       "        vertical-align: top;\n",
       "    }\n",
       "\n",
       "    .dataframe thead th {\n",
       "        text-align: right;\n",
       "    }\n",
       "</style>\n",
       "<table border=\"1\" class=\"dataframe\">\n",
       "  <thead>\n",
       "    <tr style=\"text-align: right;\">\n",
       "      <th></th>\n",
       "      <th>event_datetime</th>\n",
       "      <th>event</th>\n",
       "      <th>building_type</th>\n",
       "      <th>user_id</th>\n",
       "      <th>project_type</th>\n",
       "    </tr>\n",
       "  </thead>\n",
       "  <tbody>\n",
       "    <tr>\n",
       "      <th>34652</th>\n",
       "      <td>2020-05-07 16:40:32</td>\n",
       "      <td>building</td>\n",
       "      <td>assembly_shop</td>\n",
       "      <td>03990bc0-47b6-44ce-9f8b-3afb1a97d0e7</td>\n",
       "      <td>NaN</td>\n",
       "    </tr>\n",
       "    <tr>\n",
       "      <th>34732</th>\n",
       "      <td>2020-05-07 16:53:35</td>\n",
       "      <td>building</td>\n",
       "      <td>assembly_shop</td>\n",
       "      <td>03990bc0-47b6-44ce-9f8b-3afb1a97d0e7</td>\n",
       "      <td>NaN</td>\n",
       "    </tr>\n",
       "    <tr>\n",
       "      <th>35889</th>\n",
       "      <td>2020-05-07 19:28:57</td>\n",
       "      <td>building</td>\n",
       "      <td>spaceport</td>\n",
       "      <td>03990bc0-47b6-44ce-9f8b-3afb1a97d0e7</td>\n",
       "      <td>NaN</td>\n",
       "    </tr>\n",
       "    <tr>\n",
       "      <th>39142</th>\n",
       "      <td>2020-05-08 02:19:33</td>\n",
       "      <td>finished_stage_1</td>\n",
       "      <td>NaN</td>\n",
       "      <td>03990bc0-47b6-44ce-9f8b-3afb1a97d0e7</td>\n",
       "      <td>NaN</td>\n",
       "    </tr>\n",
       "  </tbody>\n",
       "</table>\n",
       "</div>"
      ],
      "text/plain": [
       "           event_datetime             event  building_type   \n",
       "34652 2020-05-07 16:40:32          building  assembly_shop  \\\n",
       "34732 2020-05-07 16:53:35          building  assembly_shop   \n",
       "35889 2020-05-07 19:28:57          building      spaceport   \n",
       "39142 2020-05-08 02:19:33  finished_stage_1            NaN   \n",
       "\n",
       "                                    user_id project_type  \n",
       "34652  03990bc0-47b6-44ce-9f8b-3afb1a97d0e7          NaN  \n",
       "34732  03990bc0-47b6-44ce-9f8b-3afb1a97d0e7          NaN  \n",
       "35889  03990bc0-47b6-44ce-9f8b-3afb1a97d0e7          NaN  \n",
       "39142  03990bc0-47b6-44ce-9f8b-3afb1a97d0e7          NaN  "
      ]
     },
     "execution_count": 31,
     "metadata": {},
     "output_type": "execute_result"
    }
   ],
   "source": [
    "game_actions.query('user_id == \"03990bc0-47b6-44ce-9f8b-3afb1a97d0e7\"')"
   ]
  },
  {
   "cell_type": "markdown",
   "id": "686bf387",
   "metadata": {},
   "source": [
    "Судя по всему пользователь смог очень быстро одержать победу играя несколько часов не отрываясь."
   ]
  },
  {
   "cell_type": "markdown",
   "id": "7c227333",
   "metadata": {},
   "source": [
    "Минимальное время прохождения 1 уровня - 9 часов 40 минут, максимальное - 30 дней. В среднем - 11 дней."
   ]
  },
  {
   "cell_type": "markdown",
   "id": "450eb67b",
   "metadata": {},
   "source": [
    "### Какие типы построек строят чаще? "
   ]
  },
  {
   "cell_type": "code",
   "execution_count": 32,
   "id": "f7a7deec",
   "metadata": {
    "scrolled": true
   },
   "outputs": [
    {
     "data": {
      "text/html": [
       "<div>\n",
       "<style scoped>\n",
       "    .dataframe tbody tr th:only-of-type {\n",
       "        vertical-align: middle;\n",
       "    }\n",
       "\n",
       "    .dataframe tbody tr th {\n",
       "        vertical-align: top;\n",
       "    }\n",
       "\n",
       "    .dataframe thead th {\n",
       "        text-align: right;\n",
       "    }\n",
       "</style>\n",
       "<table border=\"1\" class=\"dataframe\">\n",
       "  <thead>\n",
       "    <tr style=\"text-align: right;\">\n",
       "      <th></th>\n",
       "      <th>building_type</th>\n",
       "      <th>count</th>\n",
       "    </tr>\n",
       "  </thead>\n",
       "  <tbody>\n",
       "    <tr>\n",
       "      <th>2</th>\n",
       "      <td>spaceport</td>\n",
       "      <td>59325</td>\n",
       "    </tr>\n",
       "    <tr>\n",
       "      <th>0</th>\n",
       "      <td>assembly_shop</td>\n",
       "      <td>54494</td>\n",
       "    </tr>\n",
       "    <tr>\n",
       "      <th>1</th>\n",
       "      <td>research_center</td>\n",
       "      <td>14137</td>\n",
       "    </tr>\n",
       "  </tbody>\n",
       "</table>\n",
       "</div>"
      ],
      "text/plain": [
       "     building_type  count\n",
       "2        spaceport  59325\n",
       "0    assembly_shop  54494\n",
       "1  research_center  14137"
      ]
     },
     "execution_count": 32,
     "metadata": {},
     "output_type": "execute_result"
    }
   ],
   "source": [
    "#сгруппируем данные по типу постройки и подсчетем количество построек\n",
    "building_type_count = game_actions.groupby(by='building_type').agg({'building_type':'count'})\n",
    "building_type_count.columns=['count']\n",
    "building_type_count.reset_index().sort_values(by='count',ascending=False)"
   ]
  },
  {
   "cell_type": "code",
   "execution_count": 33,
   "id": "5ce6f9fd",
   "metadata": {},
   "outputs": [
    {
     "data": {
      "text/plain": [
       "127956"
      ]
     },
     "execution_count": 33,
     "metadata": {},
     "output_type": "execute_result"
    }
   ],
   "source": [
    "#cколько всего построено зданий за весь период датасета\n",
    "total_buildings=building_type_count['count'].sum()\n",
    "total_buildings"
   ]
  },
  {
   "cell_type": "markdown",
   "id": "b1c20858",
   "metadata": {},
   "source": [
    "Чаще всего пользователи строят космопорт - 59325 раз, а исследовательский центр строят в 4 раза реже - 14137 раз. Всего построк - 127956."
   ]
  },
  {
   "cell_type": "markdown",
   "id": "235b1e77",
   "metadata": {},
   "source": [
    "### Сколько составляют расходы на привлечение пользователей?"
   ]
  },
  {
   "cell_type": "markdown",
   "id": "e3d4212c",
   "metadata": {},
   "source": [
    "Посмотрим траты на рекламу в разбивке по  источникам привлечения пользователей"
   ]
  },
  {
   "cell_type": "code",
   "execution_count": 34,
   "id": "f76cdf07",
   "metadata": {},
   "outputs": [
    {
     "data": {
      "text/html": [
       "<div>\n",
       "<style scoped>\n",
       "    .dataframe tbody tr th:only-of-type {\n",
       "        vertical-align: middle;\n",
       "    }\n",
       "\n",
       "    .dataframe tbody tr th {\n",
       "        vertical-align: top;\n",
       "    }\n",
       "\n",
       "    .dataframe thead th {\n",
       "        text-align: right;\n",
       "    }\n",
       "</style>\n",
       "<table border=\"1\" class=\"dataframe\">\n",
       "  <thead>\n",
       "    <tr style=\"text-align: right;\">\n",
       "      <th></th>\n",
       "      <th>source</th>\n",
       "      <th>cost</th>\n",
       "    </tr>\n",
       "  </thead>\n",
       "  <tbody>\n",
       "    <tr>\n",
       "      <th>2</th>\n",
       "      <td>yandex_direct</td>\n",
       "      <td>2233.111449</td>\n",
       "    </tr>\n",
       "    <tr>\n",
       "      <th>1</th>\n",
       "      <td>instagram_new_adverts</td>\n",
       "      <td>2161.441691</td>\n",
       "    </tr>\n",
       "    <tr>\n",
       "      <th>0</th>\n",
       "      <td>facebook_ads</td>\n",
       "      <td>2140.904643</td>\n",
       "    </tr>\n",
       "    <tr>\n",
       "      <th>3</th>\n",
       "      <td>youtube_channel_reklama</td>\n",
       "      <td>1068.119204</td>\n",
       "    </tr>\n",
       "  </tbody>\n",
       "</table>\n",
       "</div>"
      ],
      "text/plain": [
       "                    source         cost\n",
       "2            yandex_direct  2233.111449\n",
       "1    instagram_new_adverts  2161.441691\n",
       "0             facebook_ads  2140.904643\n",
       "3  youtube_channel_reklama  1068.119204"
      ]
     },
     "execution_count": 34,
     "metadata": {},
     "output_type": "execute_result"
    }
   ],
   "source": [
    "#сгруппируем по источнику рекламы\n",
    "ad_costs_sum=(ad_costs.groupby('source')\n",
    "                      .agg({'cost':'sum'})\n",
    "                      .reset_index()\n",
    "                      .sort_values(by='cost',ascending=False))\n",
    "ad_costs_sum"
   ]
  },
  {
   "cell_type": "code",
   "execution_count": 35,
   "id": "5debd8ec",
   "metadata": {},
   "outputs": [
    {
     "data": {
      "image/png": "[encoded data removed]",
      "text/plain": [
       "<Figure size 720x360 with 1 Axes>"
      ]
     },
     "metadata": {
      "needs_background": "light"
     },
     "output_type": "display_data"
    }
   ],
   "source": [
    "#построим график распределения расходов на рекламу по источникам\n",
    "plt.figure(figsize=(10,5))\n",
    "plt.title('Расходы на рекламу ', fontdict={'size':15})\n",
    "ax = sns.barplot(data=ad_costs_sum, x='source', y= 'cost',palette='coolwarm')\n",
    "ax.set(xlabel='Источник', ylabel='Расходы');"
   ]
  },
  {
   "cell_type": "code",
   "execution_count": 36,
   "id": "68bfea02",
   "metadata": {},
   "outputs": [
    {
     "data": {
      "text/plain": [
       "7603.58"
      ]
     },
     "execution_count": 36,
     "metadata": {},
     "output_type": "execute_result"
    }
   ],
   "source": [
    "#сколько всего расходы на рекламу\n",
    "total_ad_costs=ad_costs_sum['cost'].sum()\n",
    "round(total_ad_costs,2)"
   ]
  },
  {
   "cell_type": "code",
   "execution_count": 37,
   "id": "fad2a5c9",
   "metadata": {},
   "outputs": [
    {
     "data": {
      "text/plain": [
       "108623"
      ]
     },
     "execution_count": 37,
     "metadata": {},
     "output_type": "execute_result"
    }
   ],
   "source": [
    "#сколько раз нужно показать рекламу,что бы она окупилась\n",
    "round(total_ad_costs/0.07)"
   ]
  },
  {
   "cell_type": "markdown",
   "id": "145af678",
   "metadata": {},
   "source": [
    "Всего на рекламу потрачено 7603.58 у.е. \n",
    "Из них больше всего на facebook_ads (2140.9 у.е.), меньше всего на youtube_channel_reklama(1068.12 у.е.).\n",
    "Для окупаемости сердств для привлечения пользователей при стоимости показа рекламы  0.07 у.е. необходимо показать ее 108623 раз."
   ]
  },
  {
   "cell_type": "markdown",
   "id": "5a260aa1",
   "metadata": {},
   "source": [
    "### Как распределяются пользователи по источнику привлечения"
   ]
  },
  {
   "cell_type": "markdown",
   "id": "9c9d5c54",
   "metadata": {},
   "source": [
    "Посмотрим из каких источников приходит больше пользователей"
   ]
  },
  {
   "cell_type": "code",
   "execution_count": 38,
   "id": "da5592c9",
   "metadata": {},
   "outputs": [
    {
     "data": {
      "text/html": [
       "<div>\n",
       "<style scoped>\n",
       "    .dataframe tbody tr th:only-of-type {\n",
       "        vertical-align: middle;\n",
       "    }\n",
       "\n",
       "    .dataframe tbody tr th {\n",
       "        vertical-align: top;\n",
       "    }\n",
       "\n",
       "    .dataframe thead th {\n",
       "        text-align: right;\n",
       "    }\n",
       "</style>\n",
       "<table border=\"1\" class=\"dataframe\">\n",
       "  <thead>\n",
       "    <tr style=\"text-align: right;\">\n",
       "      <th></th>\n",
       "      <th>source</th>\n",
       "      <th>users_count</th>\n",
       "    </tr>\n",
       "  </thead>\n",
       "  <tbody>\n",
       "    <tr>\n",
       "      <th>2</th>\n",
       "      <td>yandex_direct</td>\n",
       "      <td>4817</td>\n",
       "    </tr>\n",
       "    <tr>\n",
       "      <th>1</th>\n",
       "      <td>instagram_new_adverts</td>\n",
       "      <td>3347</td>\n",
       "    </tr>\n",
       "    <tr>\n",
       "      <th>0</th>\n",
       "      <td>facebook_ads</td>\n",
       "      <td>2726</td>\n",
       "    </tr>\n",
       "    <tr>\n",
       "      <th>3</th>\n",
       "      <td>youtube_channel_reklama</td>\n",
       "      <td>2686</td>\n",
       "    </tr>\n",
       "  </tbody>\n",
       "</table>\n",
       "</div>"
      ],
      "text/plain": [
       "                    source  users_count\n",
       "2            yandex_direct         4817\n",
       "1    instagram_new_adverts         3347\n",
       "0             facebook_ads         2726\n",
       "3  youtube_channel_reklama         2686"
      ]
     },
     "execution_count": 38,
     "metadata": {},
     "output_type": "execute_result"
    }
   ],
   "source": [
    "#cгруппируем по источнику и посчитаем пользователей\n",
    "user_by_sources= (user_source.groupby(by='source')\n",
    "                             .agg({'user_id':'count'})\n",
    "                             .reset_index()\n",
    "                             .sort_values(by='user_id',ascending=False))\n",
    "user_by_sources.columns=['source','users_count'] \n",
    "user_by_sources"
   ]
  },
  {
   "cell_type": "code",
   "execution_count": 39,
   "id": "66d0f482",
   "metadata": {
    "scrolled": true
   },
   "outputs": [
    {
     "data": {
      "image/png": "[encoded data removed]",
      "text/plain": [
       "<Figure size 720x360 with 1 Axes>"
      ]
     },
     "metadata": {
      "needs_background": "light"
     },
     "output_type": "display_data"
    }
   ],
   "source": [
    "#построим график распределения пользователей по источникам привлечения\n",
    "plt.figure(figsize=(10,5))\n",
    "plt.title('Количество пользователей, пришедших из разных источников', fontdict={'size':15})\n",
    "ax = sns.barplot(data=user_by_sources, x='source', y= 'users_count',palette='coolwarm')\n",
    "ax.set(xlabel='Источник', ylabel='Количество пользователей');"
   ]
  },
  {
   "cell_type": "markdown",
   "id": "0acd381f",
   "metadata": {},
   "source": [
    "Больше всего пользователей приходит из источника yandex_direct - 4817 пользователей. Меньше всего из youtube_channel_reklama - 2688."
   ]
  },
  {
   "cell_type": "markdown",
   "id": "09afd9f0",
   "metadata": {},
   "source": [
    "### Стоимость привлечения пользователя по источникам"
   ]
  },
  {
   "cell_type": "code",
   "execution_count": 40,
   "id": "5808b187",
   "metadata": {},
   "outputs": [
    {
     "data": {
      "text/html": [
       "<div>\n",
       "<style scoped>\n",
       "    .dataframe tbody tr th:only-of-type {\n",
       "        vertical-align: middle;\n",
       "    }\n",
       "\n",
       "    .dataframe tbody tr th {\n",
       "        vertical-align: top;\n",
       "    }\n",
       "\n",
       "    .dataframe thead th {\n",
       "        text-align: right;\n",
       "    }\n",
       "</style>\n",
       "<table border=\"1\" class=\"dataframe\">\n",
       "  <thead>\n",
       "    <tr style=\"text-align: right;\">\n",
       "      <th></th>\n",
       "      <th>source</th>\n",
       "      <th>users_count</th>\n",
       "      <th>cost</th>\n",
       "      <th>user_cost</th>\n",
       "    </tr>\n",
       "  </thead>\n",
       "  <tbody>\n",
       "    <tr>\n",
       "      <th>2</th>\n",
       "      <td>facebook_ads</td>\n",
       "      <td>2726</td>\n",
       "      <td>2140.904643</td>\n",
       "      <td>0.785365</td>\n",
       "    </tr>\n",
       "    <tr>\n",
       "      <th>1</th>\n",
       "      <td>instagram_new_adverts</td>\n",
       "      <td>3347</td>\n",
       "      <td>2161.441691</td>\n",
       "      <td>0.645785</td>\n",
       "    </tr>\n",
       "    <tr>\n",
       "      <th>0</th>\n",
       "      <td>yandex_direct</td>\n",
       "      <td>4817</td>\n",
       "      <td>2233.111449</td>\n",
       "      <td>0.463590</td>\n",
       "    </tr>\n",
       "    <tr>\n",
       "      <th>3</th>\n",
       "      <td>youtube_channel_reklama</td>\n",
       "      <td>2686</td>\n",
       "      <td>1068.119204</td>\n",
       "      <td>0.397662</td>\n",
       "    </tr>\n",
       "  </tbody>\n",
       "</table>\n",
       "</div>"
      ],
      "text/plain": [
       "                    source  users_count         cost  user_cost\n",
       "2             facebook_ads         2726  2140.904643   0.785365\n",
       "1    instagram_new_adverts         3347  2161.441691   0.645785\n",
       "0            yandex_direct         4817  2233.111449   0.463590\n",
       "3  youtube_channel_reklama         2686  1068.119204   0.397662"
      ]
     },
     "execution_count": 40,
     "metadata": {},
     "output_type": "execute_result"
    }
   ],
   "source": [
    "user_merged=user_by_sources.merge(ad_costs_sum)\n",
    "user_merged['user_cost']=user_merged['cost']/user_merged['users_count']\n",
    "user_merged.sort_values(by='user_cost', ascending=False)"
   ]
  },
  {
   "cell_type": "markdown",
   "id": "9c0b2d2d",
   "metadata": {},
   "source": [
    "Самая высокая стоимость привлечения пользователя в facebook_ads. Самая низкая - youtube_channel_reklama."
   ]
  },
  {
   "cell_type": "markdown",
   "id": "e8490282",
   "metadata": {},
   "source": [
    "### Изменяется ли активность(количество построек) игрока со временем?"
   ]
  },
  {
   "cell_type": "markdown",
   "id": "aef275bd",
   "metadata": {},
   "source": [
    "Посмотрим меняется ли количество построек, которое делают пользователи с течением игры. Тк мы показываем рекламу на экране выбора постройки и хотим найти баланс между негативным влиянием рекламы и окупаемостью, необходимо понимать с какого дня игры начинать показывать рекламу,что бы гарантированно не уйти в минус."
   ]
  },
  {
   "cell_type": "code",
   "execution_count": 41,
   "id": "e7ba1544",
   "metadata": {
    "scrolled": false
   },
   "outputs": [
    {
     "data": {
      "text/html": [
       "<div>\n",
       "<style scoped>\n",
       "    .dataframe tbody tr th:only-of-type {\n",
       "        vertical-align: middle;\n",
       "    }\n",
       "\n",
       "    .dataframe tbody tr th {\n",
       "        vertical-align: top;\n",
       "    }\n",
       "\n",
       "    .dataframe thead th {\n",
       "        text-align: right;\n",
       "    }\n",
       "</style>\n",
       "<table border=\"1\" class=\"dataframe\">\n",
       "  <thead>\n",
       "    <tr style=\"text-align: right;\">\n",
       "      <th></th>\n",
       "      <th>event_datetime</th>\n",
       "      <th>event</th>\n",
       "      <th>building_type</th>\n",
       "      <th>user_id</th>\n",
       "      <th>project_type</th>\n",
       "      <th>day</th>\n",
       "    </tr>\n",
       "  </thead>\n",
       "  <tbody>\n",
       "    <tr>\n",
       "      <th>0</th>\n",
       "      <td>2020-05-04 00:00:01</td>\n",
       "      <td>building</td>\n",
       "      <td>assembly_shop</td>\n",
       "      <td>55e92310-cb8e-4754-b622-597e124b03de</td>\n",
       "      <td>NaN</td>\n",
       "      <td>2020-05-04</td>\n",
       "    </tr>\n",
       "    <tr>\n",
       "      <th>1</th>\n",
       "      <td>2020-05-04 00:00:03</td>\n",
       "      <td>building</td>\n",
       "      <td>assembly_shop</td>\n",
       "      <td>c07b1c10-f477-44dc-81dc-ec82254b1347</td>\n",
       "      <td>NaN</td>\n",
       "      <td>2020-05-04</td>\n",
       "    </tr>\n",
       "    <tr>\n",
       "      <th>2</th>\n",
       "      <td>2020-05-04 00:00:16</td>\n",
       "      <td>building</td>\n",
       "      <td>assembly_shop</td>\n",
       "      <td>6edd42cc-e753-4ff6-a947-2107cd560710</td>\n",
       "      <td>NaN</td>\n",
       "      <td>2020-05-04</td>\n",
       "    </tr>\n",
       "    <tr>\n",
       "      <th>3</th>\n",
       "      <td>2020-05-04 00:00:16</td>\n",
       "      <td>building</td>\n",
       "      <td>assembly_shop</td>\n",
       "      <td>92c69003-d60a-444a-827f-8cc51bf6bf4c</td>\n",
       "      <td>NaN</td>\n",
       "      <td>2020-05-04</td>\n",
       "    </tr>\n",
       "    <tr>\n",
       "      <th>4</th>\n",
       "      <td>2020-05-04 00:00:35</td>\n",
       "      <td>building</td>\n",
       "      <td>assembly_shop</td>\n",
       "      <td>cdc6bb92-0ccb-4490-9866-ef142f09139d</td>\n",
       "      <td>NaN</td>\n",
       "      <td>2020-05-04</td>\n",
       "    </tr>\n",
       "    <tr>\n",
       "      <th>...</th>\n",
       "      <td>...</td>\n",
       "      <td>...</td>\n",
       "      <td>...</td>\n",
       "      <td>...</td>\n",
       "      <td>...</td>\n",
       "      <td>...</td>\n",
       "    </tr>\n",
       "    <tr>\n",
       "      <th>135635</th>\n",
       "      <td>2020-06-05 00:08:06</td>\n",
       "      <td>building</td>\n",
       "      <td>research_center</td>\n",
       "      <td>f21d179f-1c4b-437e-b9c6-ab1976907195</td>\n",
       "      <td>NaN</td>\n",
       "      <td>2020-06-05</td>\n",
       "    </tr>\n",
       "    <tr>\n",
       "      <th>135636</th>\n",
       "      <td>2020-06-05 02:25:12</td>\n",
       "      <td>finished_stage_1</td>\n",
       "      <td>NaN</td>\n",
       "      <td>515c1952-99aa-4bca-a7ea-d0449eb5385a</td>\n",
       "      <td>NaN</td>\n",
       "      <td>2020-06-05</td>\n",
       "    </tr>\n",
       "    <tr>\n",
       "      <th>135637</th>\n",
       "      <td>2020-06-05 08:57:52</td>\n",
       "      <td>building</td>\n",
       "      <td>research_center</td>\n",
       "      <td>ed3e7d02-8a96-4be7-9998-e9813ff9c316</td>\n",
       "      <td>NaN</td>\n",
       "      <td>2020-06-05</td>\n",
       "    </tr>\n",
       "    <tr>\n",
       "      <th>135638</th>\n",
       "      <td>2020-06-05 12:12:27</td>\n",
       "      <td>finished_stage_1</td>\n",
       "      <td>NaN</td>\n",
       "      <td>32572adb-900f-4b5d-a453-1eb1e6d88d8b</td>\n",
       "      <td>NaN</td>\n",
       "      <td>2020-06-05</td>\n",
       "    </tr>\n",
       "    <tr>\n",
       "      <th>135639</th>\n",
       "      <td>2020-06-05 12:32:49</td>\n",
       "      <td>finished_stage_1</td>\n",
       "      <td>NaN</td>\n",
       "      <td>f21d179f-1c4b-437e-b9c6-ab1976907195</td>\n",
       "      <td>NaN</td>\n",
       "      <td>2020-06-05</td>\n",
       "    </tr>\n",
       "  </tbody>\n",
       "</table>\n",
       "<p>135639 rows × 6 columns</p>\n",
       "</div>"
      ],
      "text/plain": [
       "            event_datetime             event    building_type   \n",
       "0      2020-05-04 00:00:01          building    assembly_shop  \\\n",
       "1      2020-05-04 00:00:03          building    assembly_shop   \n",
       "2      2020-05-04 00:00:16          building    assembly_shop   \n",
       "3      2020-05-04 00:00:16          building    assembly_shop   \n",
       "4      2020-05-04 00:00:35          building    assembly_shop   \n",
       "...                    ...               ...              ...   \n",
       "135635 2020-06-05 00:08:06          building  research_center   \n",
       "135636 2020-06-05 02:25:12  finished_stage_1              NaN   \n",
       "135637 2020-06-05 08:57:52          building  research_center   \n",
       "135638 2020-06-05 12:12:27  finished_stage_1              NaN   \n",
       "135639 2020-06-05 12:32:49  finished_stage_1              NaN   \n",
       "\n",
       "                                     user_id project_type         day  \n",
       "0       55e92310-cb8e-4754-b622-597e124b03de          NaN  2020-05-04  \n",
       "1       c07b1c10-f477-44dc-81dc-ec82254b1347          NaN  2020-05-04  \n",
       "2       6edd42cc-e753-4ff6-a947-2107cd560710          NaN  2020-05-04  \n",
       "3       92c69003-d60a-444a-827f-8cc51bf6bf4c          NaN  2020-05-04  \n",
       "4       cdc6bb92-0ccb-4490-9866-ef142f09139d          NaN  2020-05-04  \n",
       "...                                      ...          ...         ...  \n",
       "135635  f21d179f-1c4b-437e-b9c6-ab1976907195          NaN  2020-06-05  \n",
       "135636  515c1952-99aa-4bca-a7ea-d0449eb5385a          NaN  2020-06-05  \n",
       "135637  ed3e7d02-8a96-4be7-9998-e9813ff9c316          NaN  2020-06-05  \n",
       "135638  32572adb-900f-4b5d-a453-1eb1e6d88d8b          NaN  2020-06-05  \n",
       "135639  f21d179f-1c4b-437e-b9c6-ab1976907195          NaN  2020-06-05  \n",
       "\n",
       "[135639 rows x 6 columns]"
      ]
     },
     "execution_count": 41,
     "metadata": {},
     "output_type": "execute_result"
    }
   ],
   "source": [
    "#cоздадим копию датафрейма с логами\n",
    "buildings_by_days=game_actions.copy(deep=True)\n",
    "#добавим столбец с днем, когда было событие, тк пользователь может заходить в игру не каждый день\n",
    "buildings_by_days['day']=buildings_by_days['event_datetime'].dt.strftime('%Y-%m-%d')\n",
    "buildings_by_days\n"
   ]
  },
  {
   "cell_type": "code",
   "execution_count": 42,
   "id": "2a90e034",
   "metadata": {},
   "outputs": [
    {
     "data": {
      "text/html": [
       "<div>\n",
       "<style scoped>\n",
       "    .dataframe tbody tr th:only-of-type {\n",
       "        vertical-align: middle;\n",
       "    }\n",
       "\n",
       "    .dataframe tbody tr th {\n",
       "        vertical-align: top;\n",
       "    }\n",
       "\n",
       "    .dataframe thead th {\n",
       "        text-align: right;\n",
       "    }\n",
       "</style>\n",
       "<table border=\"1\" class=\"dataframe\">\n",
       "  <thead>\n",
       "    <tr style=\"text-align: right;\">\n",
       "      <th></th>\n",
       "      <th>user_id</th>\n",
       "      <th>level_1</th>\n",
       "      <th>day</th>\n",
       "      <th>building_type</th>\n",
       "    </tr>\n",
       "  </thead>\n",
       "  <tbody>\n",
       "    <tr>\n",
       "      <th>0</th>\n",
       "      <td>0001f83c-c6ac-4621-b7f0-8a28b283ac30</td>\n",
       "      <td>1</td>\n",
       "      <td>2020-05-06</td>\n",
       "      <td>3</td>\n",
       "    </tr>\n",
       "    <tr>\n",
       "      <th>1</th>\n",
       "      <td>0001f83c-c6ac-4621-b7f0-8a28b283ac30</td>\n",
       "      <td>2</td>\n",
       "      <td>2020-05-09</td>\n",
       "      <td>3</td>\n",
       "    </tr>\n",
       "    <tr>\n",
       "      <th>2</th>\n",
       "      <td>0001f83c-c6ac-4621-b7f0-8a28b283ac30</td>\n",
       "      <td>3</td>\n",
       "      <td>2020-05-11</td>\n",
       "      <td>1</td>\n",
       "    </tr>\n",
       "    <tr>\n",
       "      <th>3</th>\n",
       "      <td>0001f83c-c6ac-4621-b7f0-8a28b283ac30</td>\n",
       "      <td>4</td>\n",
       "      <td>2020-05-12</td>\n",
       "      <td>2</td>\n",
       "    </tr>\n",
       "    <tr>\n",
       "      <th>4</th>\n",
       "      <td>0001f83c-c6ac-4621-b7f0-8a28b283ac30</td>\n",
       "      <td>5</td>\n",
       "      <td>2020-05-14</td>\n",
       "      <td>1</td>\n",
       "    </tr>\n",
       "    <tr>\n",
       "      <th>...</th>\n",
       "      <td>...</td>\n",
       "      <td>...</td>\n",
       "      <td>...</td>\n",
       "      <td>...</td>\n",
       "    </tr>\n",
       "    <tr>\n",
       "      <th>95196</th>\n",
       "      <td>ffff69cc-fec1-4fd3-9f98-93be1112a6b8</td>\n",
       "      <td>6</td>\n",
       "      <td>2020-05-16</td>\n",
       "      <td>2</td>\n",
       "    </tr>\n",
       "    <tr>\n",
       "      <th>95197</th>\n",
       "      <td>ffff69cc-fec1-4fd3-9f98-93be1112a6b8</td>\n",
       "      <td>7</td>\n",
       "      <td>2020-05-17</td>\n",
       "      <td>1</td>\n",
       "    </tr>\n",
       "    <tr>\n",
       "      <th>95198</th>\n",
       "      <td>ffff69cc-fec1-4fd3-9f98-93be1112a6b8</td>\n",
       "      <td>8</td>\n",
       "      <td>2020-05-23</td>\n",
       "      <td>1</td>\n",
       "    </tr>\n",
       "    <tr>\n",
       "      <th>95199</th>\n",
       "      <td>ffff69cc-fec1-4fd3-9f98-93be1112a6b8</td>\n",
       "      <td>9</td>\n",
       "      <td>2020-05-24</td>\n",
       "      <td>1</td>\n",
       "    </tr>\n",
       "    <tr>\n",
       "      <th>95200</th>\n",
       "      <td>ffff69cc-fec1-4fd3-9f98-93be1112a6b8</td>\n",
       "      <td>10</td>\n",
       "      <td>2020-05-25</td>\n",
       "      <td>1</td>\n",
       "    </tr>\n",
       "  </tbody>\n",
       "</table>\n",
       "<p>95201 rows × 4 columns</p>\n",
       "</div>"
      ],
      "text/plain": [
       "                                    user_id  level_1         day   \n",
       "0      0001f83c-c6ac-4621-b7f0-8a28b283ac30        1  2020-05-06  \\\n",
       "1      0001f83c-c6ac-4621-b7f0-8a28b283ac30        2  2020-05-09   \n",
       "2      0001f83c-c6ac-4621-b7f0-8a28b283ac30        3  2020-05-11   \n",
       "3      0001f83c-c6ac-4621-b7f0-8a28b283ac30        4  2020-05-12   \n",
       "4      0001f83c-c6ac-4621-b7f0-8a28b283ac30        5  2020-05-14   \n",
       "...                                     ...      ...         ...   \n",
       "95196  ffff69cc-fec1-4fd3-9f98-93be1112a6b8        6  2020-05-16   \n",
       "95197  ffff69cc-fec1-4fd3-9f98-93be1112a6b8        7  2020-05-17   \n",
       "95198  ffff69cc-fec1-4fd3-9f98-93be1112a6b8        8  2020-05-23   \n",
       "95199  ffff69cc-fec1-4fd3-9f98-93be1112a6b8        9  2020-05-24   \n",
       "95200  ffff69cc-fec1-4fd3-9f98-93be1112a6b8       10  2020-05-25   \n",
       "\n",
       "       building_type  \n",
       "0                  3  \n",
       "1                  3  \n",
       "2                  1  \n",
       "3                  2  \n",
       "4                  1  \n",
       "...              ...  \n",
       "95196              2  \n",
       "95197              1  \n",
       "95198              1  \n",
       "95199              1  \n",
       "95200              1  \n",
       "\n",
       "[95201 rows x 4 columns]"
      ]
     },
     "execution_count": 42,
     "metadata": {},
     "output_type": "execute_result"
    }
   ],
   "source": [
    "#cгруппируем по  пользователям, дням и посчитаем сколько было построек в каждый день\n",
    "temp=buildings_by_days.groupby(by=['user_id','day']).agg({'building_type':'count'})\n",
    "\n",
    "buildings_by_users_days=(temp.reset_index()\n",
    "                        .groupby('user_id')\n",
    "                        .apply(lambda x: x.reset_index(drop=True)[['day', 'building_type']])\n",
    "                        .reset_index())\n",
    "#добавим колонку с порядковым номером дня активности пользователя в игре\n",
    "buildings_by_users_days['level_1'] += 1\n",
    "buildings_by_users_days"
   ]
  },
  {
   "cell_type": "code",
   "execution_count": 43,
   "id": "191cb41a",
   "metadata": {},
   "outputs": [
    {
     "data": {
      "text/html": [
       "<div>\n",
       "<style scoped>\n",
       "    .dataframe tbody tr th:only-of-type {\n",
       "        vertical-align: middle;\n",
       "    }\n",
       "\n",
       "    .dataframe tbody tr th {\n",
       "        vertical-align: top;\n",
       "    }\n",
       "\n",
       "    .dataframe thead th {\n",
       "        text-align: right;\n",
       "    }\n",
       "</style>\n",
       "<table border=\"1\" class=\"dataframe\">\n",
       "  <thead>\n",
       "    <tr style=\"text-align: right;\">\n",
       "      <th></th>\n",
       "      <th></th>\n",
       "      <th>building_type</th>\n",
       "    </tr>\n",
       "    <tr>\n",
       "      <th>user_id</th>\n",
       "      <th>day</th>\n",
       "      <th></th>\n",
       "    </tr>\n",
       "  </thead>\n",
       "  <tbody>\n",
       "    <tr>\n",
       "      <th rowspan=\"5\" valign=\"top\">0001f83c-c6ac-4621-b7f0-8a28b283ac30</th>\n",
       "      <th>2020-05-06</th>\n",
       "      <td>3</td>\n",
       "    </tr>\n",
       "    <tr>\n",
       "      <th>2020-05-09</th>\n",
       "      <td>3</td>\n",
       "    </tr>\n",
       "    <tr>\n",
       "      <th>2020-05-11</th>\n",
       "      <td>1</td>\n",
       "    </tr>\n",
       "    <tr>\n",
       "      <th>2020-05-12</th>\n",
       "      <td>2</td>\n",
       "    </tr>\n",
       "    <tr>\n",
       "      <th>2020-05-14</th>\n",
       "      <td>1</td>\n",
       "    </tr>\n",
       "    <tr>\n",
       "      <th>...</th>\n",
       "      <th>...</th>\n",
       "      <td>...</td>\n",
       "    </tr>\n",
       "    <tr>\n",
       "      <th rowspan=\"5\" valign=\"top\">ffff69cc-fec1-4fd3-9f98-93be1112a6b8</th>\n",
       "      <th>2020-05-16</th>\n",
       "      <td>2</td>\n",
       "    </tr>\n",
       "    <tr>\n",
       "      <th>2020-05-17</th>\n",
       "      <td>1</td>\n",
       "    </tr>\n",
       "    <tr>\n",
       "      <th>2020-05-23</th>\n",
       "      <td>1</td>\n",
       "    </tr>\n",
       "    <tr>\n",
       "      <th>2020-05-24</th>\n",
       "      <td>1</td>\n",
       "    </tr>\n",
       "    <tr>\n",
       "      <th>2020-05-25</th>\n",
       "      <td>1</td>\n",
       "    </tr>\n",
       "  </tbody>\n",
       "</table>\n",
       "<p>95201 rows × 1 columns</p>\n",
       "</div>"
      ],
      "text/plain": [
       "                                                 building_type\n",
       "user_id                              day                      \n",
       "0001f83c-c6ac-4621-b7f0-8a28b283ac30 2020-05-06              3\n",
       "                                     2020-05-09              3\n",
       "                                     2020-05-11              1\n",
       "                                     2020-05-12              2\n",
       "                                     2020-05-14              1\n",
       "...                                                        ...\n",
       "ffff69cc-fec1-4fd3-9f98-93be1112a6b8 2020-05-16              2\n",
       "                                     2020-05-17              1\n",
       "                                     2020-05-23              1\n",
       "                                     2020-05-24              1\n",
       "                                     2020-05-25              1\n",
       "\n",
       "[95201 rows x 1 columns]"
      ]
     },
     "execution_count": 43,
     "metadata": {},
     "output_type": "execute_result"
    }
   ],
   "source": [
    "temp"
   ]
  },
  {
   "cell_type": "code",
   "execution_count": 44,
   "id": "0659531f",
   "metadata": {},
   "outputs": [
    {
     "name": "stdout",
     "output_type": "stream",
     "text": [
      "17\n",
      "30 days 21:58:53\n"
     ]
    }
   ],
   "source": [
    "# Код ревьюера\n",
    "print(buildings_by_users_days['level_1'].max())\n",
    "print(first_stage_users['game_duration'].max())"
   ]
  },
  {
   "cell_type": "code",
   "execution_count": 45,
   "id": "dd378d80",
   "metadata": {},
   "outputs": [
    {
     "data": {
      "text/html": [
       "<div>\n",
       "<style scoped>\n",
       "    .dataframe tbody tr th:only-of-type {\n",
       "        vertical-align: middle;\n",
       "    }\n",
       "\n",
       "    .dataframe tbody tr th {\n",
       "        vertical-align: top;\n",
       "    }\n",
       "\n",
       "    .dataframe thead th {\n",
       "        text-align: right;\n",
       "    }\n",
       "</style>\n",
       "<table border=\"1\" class=\"dataframe\">\n",
       "  <thead>\n",
       "    <tr style=\"text-align: right;\">\n",
       "      <th></th>\n",
       "      <th>user_id</th>\n",
       "      <th>game_finished</th>\n",
       "      <th>game_started</th>\n",
       "      <th>game_duration</th>\n",
       "    </tr>\n",
       "  </thead>\n",
       "  <tbody>\n",
       "    <tr>\n",
       "      <th>603</th>\n",
       "      <td>18fc6a86-00e7-4f3e-96da-bdb6d550415c</td>\n",
       "      <td>2020-06-04 06:44:02</td>\n",
       "      <td>2020-05-04 08:45:09</td>\n",
       "      <td>30 days 21:58:53</td>\n",
       "    </tr>\n",
       "  </tbody>\n",
       "</table>\n",
       "</div>"
      ],
      "text/plain": [
       "                                  user_id       game_finished   \n",
       "603  18fc6a86-00e7-4f3e-96da-bdb6d550415c 2020-06-04 06:44:02  \\\n",
       "\n",
       "           game_started    game_duration  \n",
       "603 2020-05-04 08:45:09 30 days 21:58:53  "
      ]
     },
     "execution_count": 45,
     "metadata": {},
     "output_type": "execute_result"
    }
   ],
   "source": [
    "#Вот пользователь, которые завершил игру через 30 календарных дней\n",
    "first_stage_users.query('game_duration == \"30 days 21:58:53\"')"
   ]
  },
  {
   "cell_type": "code",
   "execution_count": 46,
   "id": "5444536e",
   "metadata": {},
   "outputs": [
    {
     "data": {
      "text/html": [
       "<div>\n",
       "<style scoped>\n",
       "    .dataframe tbody tr th:only-of-type {\n",
       "        vertical-align: middle;\n",
       "    }\n",
       "\n",
       "    .dataframe tbody tr th {\n",
       "        vertical-align: top;\n",
       "    }\n",
       "\n",
       "    .dataframe thead th {\n",
       "        text-align: right;\n",
       "    }\n",
       "</style>\n",
       "<table border=\"1\" class=\"dataframe\">\n",
       "  <thead>\n",
       "    <tr style=\"text-align: right;\">\n",
       "      <th></th>\n",
       "      <th>event_datetime</th>\n",
       "      <th>event</th>\n",
       "      <th>building_type</th>\n",
       "      <th>user_id</th>\n",
       "      <th>project_type</th>\n",
       "    </tr>\n",
       "  </thead>\n",
       "  <tbody>\n",
       "    <tr>\n",
       "      <th>2868</th>\n",
       "      <td>2020-05-04 08:45:09</td>\n",
       "      <td>building</td>\n",
       "      <td>assembly_shop</td>\n",
       "      <td>18fc6a86-00e7-4f3e-96da-bdb6d550415c</td>\n",
       "      <td>NaN</td>\n",
       "    </tr>\n",
       "    <tr>\n",
       "      <th>73092</th>\n",
       "      <td>2020-05-10 16:00:55</td>\n",
       "      <td>building</td>\n",
       "      <td>assembly_shop</td>\n",
       "      <td>18fc6a86-00e7-4f3e-96da-bdb6d550415c</td>\n",
       "      <td>NaN</td>\n",
       "    </tr>\n",
       "    <tr>\n",
       "      <th>87868</th>\n",
       "      <td>2020-05-12 03:50:02</td>\n",
       "      <td>building</td>\n",
       "      <td>spaceport</td>\n",
       "      <td>18fc6a86-00e7-4f3e-96da-bdb6d550415c</td>\n",
       "      <td>NaN</td>\n",
       "    </tr>\n",
       "    <tr>\n",
       "      <th>94441</th>\n",
       "      <td>2020-05-12 23:49:02</td>\n",
       "      <td>building</td>\n",
       "      <td>spaceport</td>\n",
       "      <td>18fc6a86-00e7-4f3e-96da-bdb6d550415c</td>\n",
       "      <td>NaN</td>\n",
       "    </tr>\n",
       "    <tr>\n",
       "      <th>115568</th>\n",
       "      <td>2020-05-16 02:50:02</td>\n",
       "      <td>building</td>\n",
       "      <td>spaceport</td>\n",
       "      <td>18fc6a86-00e7-4f3e-96da-bdb6d550415c</td>\n",
       "      <td>NaN</td>\n",
       "    </tr>\n",
       "    <tr>\n",
       "      <th>125171</th>\n",
       "      <td>2020-05-18 09:37:51</td>\n",
       "      <td>building</td>\n",
       "      <td>spaceport</td>\n",
       "      <td>18fc6a86-00e7-4f3e-96da-bdb6d550415c</td>\n",
       "      <td>NaN</td>\n",
       "    </tr>\n",
       "    <tr>\n",
       "      <th>132365</th>\n",
       "      <td>2020-05-22 00:28:58</td>\n",
       "      <td>building</td>\n",
       "      <td>spaceport</td>\n",
       "      <td>18fc6a86-00e7-4f3e-96da-bdb6d550415c</td>\n",
       "      <td>NaN</td>\n",
       "    </tr>\n",
       "    <tr>\n",
       "      <th>135241</th>\n",
       "      <td>2020-05-27 15:52:01</td>\n",
       "      <td>building</td>\n",
       "      <td>spaceport</td>\n",
       "      <td>18fc6a86-00e7-4f3e-96da-bdb6d550415c</td>\n",
       "      <td>NaN</td>\n",
       "    </tr>\n",
       "    <tr>\n",
       "      <th>135619</th>\n",
       "      <td>2020-06-03 13:49:36</td>\n",
       "      <td>building</td>\n",
       "      <td>spaceport</td>\n",
       "      <td>18fc6a86-00e7-4f3e-96da-bdb6d550415c</td>\n",
       "      <td>NaN</td>\n",
       "    </tr>\n",
       "    <tr>\n",
       "      <th>135628</th>\n",
       "      <td>2020-06-04 06:44:02</td>\n",
       "      <td>finished_stage_1</td>\n",
       "      <td>NaN</td>\n",
       "      <td>18fc6a86-00e7-4f3e-96da-bdb6d550415c</td>\n",
       "      <td>NaN</td>\n",
       "    </tr>\n",
       "  </tbody>\n",
       "</table>\n",
       "</div>"
      ],
      "text/plain": [
       "            event_datetime             event  building_type   \n",
       "2868   2020-05-04 08:45:09          building  assembly_shop  \\\n",
       "73092  2020-05-10 16:00:55          building  assembly_shop   \n",
       "87868  2020-05-12 03:50:02          building      spaceport   \n",
       "94441  2020-05-12 23:49:02          building      spaceport   \n",
       "115568 2020-05-16 02:50:02          building      spaceport   \n",
       "125171 2020-05-18 09:37:51          building      spaceport   \n",
       "132365 2020-05-22 00:28:58          building      spaceport   \n",
       "135241 2020-05-27 15:52:01          building      spaceport   \n",
       "135619 2020-06-03 13:49:36          building      spaceport   \n",
       "135628 2020-06-04 06:44:02  finished_stage_1            NaN   \n",
       "\n",
       "                                     user_id project_type  \n",
       "2868    18fc6a86-00e7-4f3e-96da-bdb6d550415c          NaN  \n",
       "73092   18fc6a86-00e7-4f3e-96da-bdb6d550415c          NaN  \n",
       "87868   18fc6a86-00e7-4f3e-96da-bdb6d550415c          NaN  \n",
       "94441   18fc6a86-00e7-4f3e-96da-bdb6d550415c          NaN  \n",
       "115568  18fc6a86-00e7-4f3e-96da-bdb6d550415c          NaN  \n",
       "125171  18fc6a86-00e7-4f3e-96da-bdb6d550415c          NaN  \n",
       "132365  18fc6a86-00e7-4f3e-96da-bdb6d550415c          NaN  \n",
       "135241  18fc6a86-00e7-4f3e-96da-bdb6d550415c          NaN  \n",
       "135619  18fc6a86-00e7-4f3e-96da-bdb6d550415c          NaN  \n",
       "135628  18fc6a86-00e7-4f3e-96da-bdb6d550415c          NaN  "
      ]
     },
     "execution_count": 46,
     "metadata": {},
     "output_type": "execute_result"
    }
   ],
   "source": [
    "#cобытия пользователя, завершившего игру через 30 календарных дней\n",
    "game_actions.query('user_id == \"18fc6a86-00e7-4f3e-96da-bdb6d550415c\"')"
   ]
  },
  {
   "cell_type": "code",
   "execution_count": 47,
   "id": "4efaa9bb",
   "metadata": {},
   "outputs": [
    {
     "data": {
      "text/html": [
       "<div>\n",
       "<style scoped>\n",
       "    .dataframe tbody tr th:only-of-type {\n",
       "        vertical-align: middle;\n",
       "    }\n",
       "\n",
       "    .dataframe tbody tr th {\n",
       "        vertical-align: top;\n",
       "    }\n",
       "\n",
       "    .dataframe thead tr th {\n",
       "        text-align: left;\n",
       "    }\n",
       "\n",
       "    .dataframe thead tr:last-of-type th {\n",
       "        text-align: right;\n",
       "    }\n",
       "</style>\n",
       "<table border=\"1\" class=\"dataframe\">\n",
       "  <thead>\n",
       "    <tr>\n",
       "      <th></th>\n",
       "      <th colspan=\"17\" halign=\"left\">building_type</th>\n",
       "    </tr>\n",
       "    <tr>\n",
       "      <th>level_1</th>\n",
       "      <th>1</th>\n",
       "      <th>2</th>\n",
       "      <th>3</th>\n",
       "      <th>4</th>\n",
       "      <th>5</th>\n",
       "      <th>6</th>\n",
       "      <th>7</th>\n",
       "      <th>8</th>\n",
       "      <th>9</th>\n",
       "      <th>10</th>\n",
       "      <th>11</th>\n",
       "      <th>12</th>\n",
       "      <th>13</th>\n",
       "      <th>14</th>\n",
       "      <th>15</th>\n",
       "      <th>16</th>\n",
       "      <th>17</th>\n",
       "    </tr>\n",
       "    <tr>\n",
       "      <th>user_id</th>\n",
       "      <th></th>\n",
       "      <th></th>\n",
       "      <th></th>\n",
       "      <th></th>\n",
       "      <th></th>\n",
       "      <th></th>\n",
       "      <th></th>\n",
       "      <th></th>\n",
       "      <th></th>\n",
       "      <th></th>\n",
       "      <th></th>\n",
       "      <th></th>\n",
       "      <th></th>\n",
       "      <th></th>\n",
       "      <th></th>\n",
       "      <th></th>\n",
       "      <th></th>\n",
       "    </tr>\n",
       "  </thead>\n",
       "  <tbody>\n",
       "    <tr>\n",
       "      <th>0001f83c-c6ac-4621-b7f0-8a28b283ac30</th>\n",
       "      <td>3.0</td>\n",
       "      <td>3.0</td>\n",
       "      <td>1.0</td>\n",
       "      <td>2.0</td>\n",
       "      <td>1.0</td>\n",
       "      <td>1.0</td>\n",
       "      <td>1.0</td>\n",
       "      <td>1.0</td>\n",
       "      <td>NaN</td>\n",
       "      <td>NaN</td>\n",
       "      <td>NaN</td>\n",
       "      <td>NaN</td>\n",
       "      <td>NaN</td>\n",
       "      <td>NaN</td>\n",
       "      <td>NaN</td>\n",
       "      <td>NaN</td>\n",
       "      <td>NaN</td>\n",
       "    </tr>\n",
       "    <tr>\n",
       "      <th>00151b4f-ba38-44a8-a650-d7cf130a0105</th>\n",
       "      <td>2.0</td>\n",
       "      <td>1.0</td>\n",
       "      <td>1.0</td>\n",
       "      <td>2.0</td>\n",
       "      <td>2.0</td>\n",
       "      <td>1.0</td>\n",
       "      <td>NaN</td>\n",
       "      <td>NaN</td>\n",
       "      <td>NaN</td>\n",
       "      <td>NaN</td>\n",
       "      <td>NaN</td>\n",
       "      <td>NaN</td>\n",
       "      <td>NaN</td>\n",
       "      <td>NaN</td>\n",
       "      <td>NaN</td>\n",
       "      <td>NaN</td>\n",
       "      <td>NaN</td>\n",
       "    </tr>\n",
       "    <tr>\n",
       "      <th>001aaea6-3d14-43f1-8ca8-7f48820f17aa</th>\n",
       "      <td>2.0</td>\n",
       "      <td>1.0</td>\n",
       "      <td>1.0</td>\n",
       "      <td>NaN</td>\n",
       "      <td>NaN</td>\n",
       "      <td>NaN</td>\n",
       "      <td>NaN</td>\n",
       "      <td>NaN</td>\n",
       "      <td>NaN</td>\n",
       "      <td>NaN</td>\n",
       "      <td>NaN</td>\n",
       "      <td>NaN</td>\n",
       "      <td>NaN</td>\n",
       "      <td>NaN</td>\n",
       "      <td>NaN</td>\n",
       "      <td>NaN</td>\n",
       "      <td>NaN</td>\n",
       "    </tr>\n",
       "    <tr>\n",
       "      <th>001d39dc-366c-4021-9604-6a3b9ff01e25</th>\n",
       "      <td>1.0</td>\n",
       "      <td>2.0</td>\n",
       "      <td>2.0</td>\n",
       "      <td>1.0</td>\n",
       "      <td>1.0</td>\n",
       "      <td>1.0</td>\n",
       "      <td>NaN</td>\n",
       "      <td>NaN</td>\n",
       "      <td>NaN</td>\n",
       "      <td>NaN</td>\n",
       "      <td>NaN</td>\n",
       "      <td>NaN</td>\n",
       "      <td>NaN</td>\n",
       "      <td>NaN</td>\n",
       "      <td>NaN</td>\n",
       "      <td>NaN</td>\n",
       "      <td>NaN</td>\n",
       "    </tr>\n",
       "    <tr>\n",
       "      <th>002f508f-67b6-479f-814b-b05f00d4e995</th>\n",
       "      <td>1.0</td>\n",
       "      <td>3.0</td>\n",
       "      <td>1.0</td>\n",
       "      <td>2.0</td>\n",
       "      <td>1.0</td>\n",
       "      <td>1.0</td>\n",
       "      <td>1.0</td>\n",
       "      <td>1.0</td>\n",
       "      <td>1.0</td>\n",
       "      <td>NaN</td>\n",
       "      <td>NaN</td>\n",
       "      <td>NaN</td>\n",
       "      <td>NaN</td>\n",
       "      <td>NaN</td>\n",
       "      <td>NaN</td>\n",
       "      <td>NaN</td>\n",
       "      <td>NaN</td>\n",
       "    </tr>\n",
       "    <tr>\n",
       "      <th>...</th>\n",
       "      <td>...</td>\n",
       "      <td>...</td>\n",
       "      <td>...</td>\n",
       "      <td>...</td>\n",
       "      <td>...</td>\n",
       "      <td>...</td>\n",
       "      <td>...</td>\n",
       "      <td>...</td>\n",
       "      <td>...</td>\n",
       "      <td>...</td>\n",
       "      <td>...</td>\n",
       "      <td>...</td>\n",
       "      <td>...</td>\n",
       "      <td>...</td>\n",
       "      <td>...</td>\n",
       "      <td>...</td>\n",
       "      <td>...</td>\n",
       "    </tr>\n",
       "    <tr>\n",
       "      <th>ffef4fed-164c-40e1-bde1-3980f76d0fb5</th>\n",
       "      <td>2.0</td>\n",
       "      <td>1.0</td>\n",
       "      <td>2.0</td>\n",
       "      <td>1.0</td>\n",
       "      <td>2.0</td>\n",
       "      <td>1.0</td>\n",
       "      <td>NaN</td>\n",
       "      <td>NaN</td>\n",
       "      <td>NaN</td>\n",
       "      <td>NaN</td>\n",
       "      <td>NaN</td>\n",
       "      <td>NaN</td>\n",
       "      <td>NaN</td>\n",
       "      <td>NaN</td>\n",
       "      <td>NaN</td>\n",
       "      <td>NaN</td>\n",
       "      <td>NaN</td>\n",
       "    </tr>\n",
       "    <tr>\n",
       "      <th>fffab3da-da0e-4e30-ae62-10d0a2e24a4e</th>\n",
       "      <td>3.0</td>\n",
       "      <td>2.0</td>\n",
       "      <td>2.0</td>\n",
       "      <td>1.0</td>\n",
       "      <td>1.0</td>\n",
       "      <td>3.0</td>\n",
       "      <td>1.0</td>\n",
       "      <td>2.0</td>\n",
       "      <td>1.0</td>\n",
       "      <td>NaN</td>\n",
       "      <td>NaN</td>\n",
       "      <td>NaN</td>\n",
       "      <td>NaN</td>\n",
       "      <td>NaN</td>\n",
       "      <td>NaN</td>\n",
       "      <td>NaN</td>\n",
       "      <td>NaN</td>\n",
       "    </tr>\n",
       "    <tr>\n",
       "      <th>fffb626c-5ab6-47c9-8113-2062a2f18494</th>\n",
       "      <td>2.0</td>\n",
       "      <td>1.0</td>\n",
       "      <td>1.0</td>\n",
       "      <td>2.0</td>\n",
       "      <td>3.0</td>\n",
       "      <td>0.0</td>\n",
       "      <td>NaN</td>\n",
       "      <td>NaN</td>\n",
       "      <td>NaN</td>\n",
       "      <td>NaN</td>\n",
       "      <td>NaN</td>\n",
       "      <td>NaN</td>\n",
       "      <td>NaN</td>\n",
       "      <td>NaN</td>\n",
       "      <td>NaN</td>\n",
       "      <td>NaN</td>\n",
       "      <td>NaN</td>\n",
       "    </tr>\n",
       "    <tr>\n",
       "      <th>ffff194a-56b7-4c12-860d-3485242ae7f5</th>\n",
       "      <td>2.0</td>\n",
       "      <td>1.0</td>\n",
       "      <td>1.0</td>\n",
       "      <td>2.0</td>\n",
       "      <td>1.0</td>\n",
       "      <td>NaN</td>\n",
       "      <td>NaN</td>\n",
       "      <td>NaN</td>\n",
       "      <td>NaN</td>\n",
       "      <td>NaN</td>\n",
       "      <td>NaN</td>\n",
       "      <td>NaN</td>\n",
       "      <td>NaN</td>\n",
       "      <td>NaN</td>\n",
       "      <td>NaN</td>\n",
       "      <td>NaN</td>\n",
       "      <td>NaN</td>\n",
       "    </tr>\n",
       "    <tr>\n",
       "      <th>ffff69cc-fec1-4fd3-9f98-93be1112a6b8</th>\n",
       "      <td>1.0</td>\n",
       "      <td>2.0</td>\n",
       "      <td>1.0</td>\n",
       "      <td>1.0</td>\n",
       "      <td>1.0</td>\n",
       "      <td>2.0</td>\n",
       "      <td>1.0</td>\n",
       "      <td>1.0</td>\n",
       "      <td>1.0</td>\n",
       "      <td>1.0</td>\n",
       "      <td>NaN</td>\n",
       "      <td>NaN</td>\n",
       "      <td>NaN</td>\n",
       "      <td>NaN</td>\n",
       "      <td>NaN</td>\n",
       "      <td>NaN</td>\n",
       "      <td>NaN</td>\n",
       "    </tr>\n",
       "  </tbody>\n",
       "</table>\n",
       "<p>13576 rows × 17 columns</p>\n",
       "</div>"
      ],
      "text/plain": [
       "                                     building_type                            \n",
       "level_1                                         1    2    3    4    5    6    \n",
       "user_id                                                                       \n",
       "0001f83c-c6ac-4621-b7f0-8a28b283ac30           3.0  3.0  1.0  2.0  1.0  1.0  \\\n",
       "00151b4f-ba38-44a8-a650-d7cf130a0105           2.0  1.0  1.0  2.0  2.0  1.0   \n",
       "001aaea6-3d14-43f1-8ca8-7f48820f17aa           2.0  1.0  1.0  NaN  NaN  NaN   \n",
       "001d39dc-366c-4021-9604-6a3b9ff01e25           1.0  2.0  2.0  1.0  1.0  1.0   \n",
       "002f508f-67b6-479f-814b-b05f00d4e995           1.0  3.0  1.0  2.0  1.0  1.0   \n",
       "...                                            ...  ...  ...  ...  ...  ...   \n",
       "ffef4fed-164c-40e1-bde1-3980f76d0fb5           2.0  1.0  2.0  1.0  2.0  1.0   \n",
       "fffab3da-da0e-4e30-ae62-10d0a2e24a4e           3.0  2.0  2.0  1.0  1.0  3.0   \n",
       "fffb626c-5ab6-47c9-8113-2062a2f18494           2.0  1.0  1.0  2.0  3.0  0.0   \n",
       "ffff194a-56b7-4c12-860d-3485242ae7f5           2.0  1.0  1.0  2.0  1.0  NaN   \n",
       "ffff69cc-fec1-4fd3-9f98-93be1112a6b8           1.0  2.0  1.0  1.0  1.0  2.0   \n",
       "\n",
       "                                                                               \n",
       "level_1                                7    8    9    10  11  12  13  14  15   \n",
       "user_id                                                                        \n",
       "0001f83c-c6ac-4621-b7f0-8a28b283ac30  1.0  1.0  NaN  NaN NaN NaN NaN NaN NaN  \\\n",
       "00151b4f-ba38-44a8-a650-d7cf130a0105  NaN  NaN  NaN  NaN NaN NaN NaN NaN NaN   \n",
       "001aaea6-3d14-43f1-8ca8-7f48820f17aa  NaN  NaN  NaN  NaN NaN NaN NaN NaN NaN   \n",
       "001d39dc-366c-4021-9604-6a3b9ff01e25  NaN  NaN  NaN  NaN NaN NaN NaN NaN NaN   \n",
       "002f508f-67b6-479f-814b-b05f00d4e995  1.0  1.0  1.0  NaN NaN NaN NaN NaN NaN   \n",
       "...                                   ...  ...  ...  ...  ..  ..  ..  ..  ..   \n",
       "ffef4fed-164c-40e1-bde1-3980f76d0fb5  NaN  NaN  NaN  NaN NaN NaN NaN NaN NaN   \n",
       "fffab3da-da0e-4e30-ae62-10d0a2e24a4e  1.0  2.0  1.0  NaN NaN NaN NaN NaN NaN   \n",
       "fffb626c-5ab6-47c9-8113-2062a2f18494  NaN  NaN  NaN  NaN NaN NaN NaN NaN NaN   \n",
       "ffff194a-56b7-4c12-860d-3485242ae7f5  NaN  NaN  NaN  NaN NaN NaN NaN NaN NaN   \n",
       "ffff69cc-fec1-4fd3-9f98-93be1112a6b8  1.0  1.0  1.0  1.0 NaN NaN NaN NaN NaN   \n",
       "\n",
       "                                              \n",
       "level_1                               16  17  \n",
       "user_id                                       \n",
       "0001f83c-c6ac-4621-b7f0-8a28b283ac30 NaN NaN  \n",
       "00151b4f-ba38-44a8-a650-d7cf130a0105 NaN NaN  \n",
       "001aaea6-3d14-43f1-8ca8-7f48820f17aa NaN NaN  \n",
       "001d39dc-366c-4021-9604-6a3b9ff01e25 NaN NaN  \n",
       "002f508f-67b6-479f-814b-b05f00d4e995 NaN NaN  \n",
       "...                                   ..  ..  \n",
       "ffef4fed-164c-40e1-bde1-3980f76d0fb5 NaN NaN  \n",
       "fffab3da-da0e-4e30-ae62-10d0a2e24a4e NaN NaN  \n",
       "fffb626c-5ab6-47c9-8113-2062a2f18494 NaN NaN  \n",
       "ffff194a-56b7-4c12-860d-3485242ae7f5 NaN NaN  \n",
       "ffff69cc-fec1-4fd3-9f98-93be1112a6b8 NaN NaN  \n",
       "\n",
       "[13576 rows x 17 columns]"
      ]
     },
     "execution_count": 47,
     "metadata": {},
     "output_type": "execute_result"
    }
   ],
   "source": [
    "#cделаем сводную таблицу,чтобы посмотреть активность пользователей по дням в игре\n",
    "pv = buildings_by_users_days.pivot_table(index=['user_id'], columns=['level_1'], values=['building_type'])\n",
    "pv.reset_index()\n",
    "pv"
   ]
  },
  {
   "cell_type": "code",
   "execution_count": 48,
   "id": "e4ad1c90",
   "metadata": {},
   "outputs": [
    {
     "data": {
      "text/plain": [
       "level_1\n",
       "1     18808.0\n",
       "2     19579.0\n",
       "3     19267.0\n",
       "4     18021.0\n",
       "5     15571.0\n",
       "6     12777.0\n",
       "7      9965.0\n",
       "8      6877.0\n",
       "9      3900.0\n",
       "10     1978.0\n",
       "11      839.0\n",
       "12      279.0\n",
       "13       76.0\n",
       "14       13.0\n",
       "15        5.0\n",
       "16        1.0\n",
       "17        0.0\n",
       "dtype: float64"
      ]
     },
     "execution_count": 48,
     "metadata": {},
     "output_type": "execute_result"
    }
   ],
   "source": [
    "#посчитаем суммарное количество построек всех пользователей по дням активности в игре\n",
    "pv2 = pv.sum().reset_index(level=0, drop=True)\n",
    "pv2"
   ]
  },
  {
   "cell_type": "code",
   "execution_count": 49,
   "id": "8845cedf",
   "metadata": {},
   "outputs": [
    {
     "data": {
      "image/png": "[encoded data removed]",
      "text/plain": [
       "<Figure size 1080x504 with 1 Axes>"
      ]
     },
     "metadata": {
      "needs_background": "light"
     },
     "output_type": "display_data"
    }
   ],
   "source": [
    "#построим график\n",
    "plt.figure(figsize=(15,7))\n",
    "plt.title('Количество построек,которые делают пользователи по дням игры', fontdict={'size':15})\n",
    "pv2.plot(kind='bar',color='darkseagreen')\n",
    "plt.xticks(rotation=0,ha='right')\n",
    "plt.xlabel('Дни игры')\n",
    "plt.ylabel('Количество построек');"
   ]
  },
  {
   "cell_type": "code",
   "execution_count": 50,
   "id": "95af810e",
   "metadata": {},
   "outputs": [
    {
     "data": {
      "text/html": [
       "<div>\n",
       "<style scoped>\n",
       "    .dataframe tbody tr th:only-of-type {\n",
       "        vertical-align: middle;\n",
       "    }\n",
       "\n",
       "    .dataframe tbody tr th {\n",
       "        vertical-align: top;\n",
       "    }\n",
       "\n",
       "    .dataframe thead th {\n",
       "        text-align: right;\n",
       "    }\n",
       "</style>\n",
       "<table border=\"1\" class=\"dataframe\">\n",
       "  <thead>\n",
       "    <tr style=\"text-align: right;\">\n",
       "      <th></th>\n",
       "      <th>Количество показов рекламы</th>\n",
       "      <th>Выручка</th>\n",
       "    </tr>\n",
       "  </thead>\n",
       "  <tbody>\n",
       "    <tr>\n",
       "      <th>Показ начиная с 1 дня игры</th>\n",
       "      <td>127956.0</td>\n",
       "      <td>8956.92</td>\n",
       "    </tr>\n",
       "    <tr>\n",
       "      <th>Показ начиная с 2 дня игры</th>\n",
       "      <td>109148.0</td>\n",
       "      <td>7640.36</td>\n",
       "    </tr>\n",
       "    <tr>\n",
       "      <th>Показ начиная с 3 дня игры</th>\n",
       "      <td>89569.0</td>\n",
       "      <td>6269.83</td>\n",
       "    </tr>\n",
       "    <tr>\n",
       "      <th>Показ начиная с 4 дня игры</th>\n",
       "      <td>70302.0</td>\n",
       "      <td>4921.14</td>\n",
       "    </tr>\n",
       "    <tr>\n",
       "      <th>Показ начиная с 5 дня игры</th>\n",
       "      <td>52281.0</td>\n",
       "      <td>3659.67</td>\n",
       "    </tr>\n",
       "    <tr>\n",
       "      <th>Показ начиная с 6 дня игры</th>\n",
       "      <td>36710.0</td>\n",
       "      <td>2569.70</td>\n",
       "    </tr>\n",
       "    <tr>\n",
       "      <th>Показ начиная с 7 дня игры</th>\n",
       "      <td>23933.0</td>\n",
       "      <td>1675.31</td>\n",
       "    </tr>\n",
       "    <tr>\n",
       "      <th>Показ начиная с 8 дня игры</th>\n",
       "      <td>13968.0</td>\n",
       "      <td>977.76</td>\n",
       "    </tr>\n",
       "    <tr>\n",
       "      <th>Показ начиная с 9 дня игры</th>\n",
       "      <td>7091.0</td>\n",
       "      <td>496.37</td>\n",
       "    </tr>\n",
       "    <tr>\n",
       "      <th>Показ начиная с 10 дня игры</th>\n",
       "      <td>3191.0</td>\n",
       "      <td>223.37</td>\n",
       "    </tr>\n",
       "    <tr>\n",
       "      <th>Показ начиная с 11 дня игры</th>\n",
       "      <td>1213.0</td>\n",
       "      <td>84.91</td>\n",
       "    </tr>\n",
       "    <tr>\n",
       "      <th>Показ начиная с 12 дня игры</th>\n",
       "      <td>374.0</td>\n",
       "      <td>26.18</td>\n",
       "    </tr>\n",
       "    <tr>\n",
       "      <th>Показ начиная с 13 дня игры</th>\n",
       "      <td>95.0</td>\n",
       "      <td>6.65</td>\n",
       "    </tr>\n",
       "    <tr>\n",
       "      <th>Показ начиная с 14 дня игры</th>\n",
       "      <td>19.0</td>\n",
       "      <td>1.33</td>\n",
       "    </tr>\n",
       "    <tr>\n",
       "      <th>Показ начиная с 15 дня игры</th>\n",
       "      <td>6.0</td>\n",
       "      <td>0.42</td>\n",
       "    </tr>\n",
       "    <tr>\n",
       "      <th>Показ начиная с 16 дня игры</th>\n",
       "      <td>1.0</td>\n",
       "      <td>0.07</td>\n",
       "    </tr>\n",
       "    <tr>\n",
       "      <th>Показ начиная с 17 дня игры</th>\n",
       "      <td>0.0</td>\n",
       "      <td>0.00</td>\n",
       "    </tr>\n",
       "  </tbody>\n",
       "</table>\n",
       "</div>"
      ],
      "text/plain": [
       "                             Количество показов рекламы  Выручка\n",
       "Показ начиная с 1 дня игры                     127956.0  8956.92\n",
       "Показ начиная с 2 дня игры                     109148.0  7640.36\n",
       "Показ начиная с 3 дня игры                      89569.0  6269.83\n",
       "Показ начиная с 4 дня игры                      70302.0  4921.14\n",
       "Показ начиная с 5 дня игры                      52281.0  3659.67\n",
       "Показ начиная с 6 дня игры                      36710.0  2569.70\n",
       "Показ начиная с 7 дня игры                      23933.0  1675.31\n",
       "Показ начиная с 8 дня игры                      13968.0   977.76\n",
       "Показ начиная с 9 дня игры                       7091.0   496.37\n",
       "Показ начиная с 10 дня игры                      3191.0   223.37\n",
       "Показ начиная с 11 дня игры                      1213.0    84.91\n",
       "Показ начиная с 12 дня игры                       374.0    26.18\n",
       "Показ начиная с 13 дня игры                        95.0     6.65\n",
       "Показ начиная с 14 дня игры                        19.0     1.33\n",
       "Показ начиная с 15 дня игры                         6.0     0.42\n",
       "Показ начиная с 16 дня игры                         1.0     0.07\n",
       "Показ начиная с 17 дня игры                         0.0     0.00"
      ]
     },
     "execution_count": 50,
     "metadata": {},
     "output_type": "execute_result"
    }
   ],
   "source": [
    "#cоздадим датафрейм с подсчетом количества показов рекламы начиная с разных дней игры\n",
    "marg2=pd.DataFrame(pv2.sort_index(ascending=False).cumsum().sort_index().to_list())\n",
    "marg2.columns=['Количество показов рекламы']\n",
    "marg2.index +=1\n",
    "marg2.index=pd.Series(marg2.index).apply(lambda x: f'Показ начиная с {x} дня игры').values\n",
    "marg2['Выручка']=marg2['Количество показов рекламы']*0.07\n",
    "marg2"
   ]
  },
  {
   "cell_type": "markdown",
   "id": "02d0bae3",
   "metadata": {},
   "source": [
    "Расходы на рекламу составляют: 7603.58 у.е.\n",
    "Для окупаемости сердств для привлечения пользователей при стоимости показа рекламы 0.07 у.е. необходимо показать ее 108623 раз. Всего за месяц пользователи построили 127956. \n",
    "На графике мы видим снижение суммарного количества построек с течением времени.\n",
    "В первый день игры пользователи построили - 18808 построек. Следовательно рекламу нужно начинать показывать пользователю не позже второго дня игры, иначе реклама не окупится."
   ]
  },
  {
   "cell_type": "markdown",
   "id": "d501a533",
   "metadata": {},
   "source": [
    "### Изменяется ли активность(количество событий) игрока со временем?"
   ]
  },
  {
   "cell_type": "code",
   "execution_count": 51,
   "id": "cbb1e2c7",
   "metadata": {},
   "outputs": [
    {
     "data": {
      "text/html": [
       "<div>\n",
       "<style scoped>\n",
       "    .dataframe tbody tr th:only-of-type {\n",
       "        vertical-align: middle;\n",
       "    }\n",
       "\n",
       "    .dataframe tbody tr th {\n",
       "        vertical-align: top;\n",
       "    }\n",
       "\n",
       "    .dataframe thead th {\n",
       "        text-align: right;\n",
       "    }\n",
       "</style>\n",
       "<table border=\"1\" class=\"dataframe\">\n",
       "  <thead>\n",
       "    <tr style=\"text-align: right;\">\n",
       "      <th></th>\n",
       "      <th>user_id</th>\n",
       "      <th>level_1</th>\n",
       "      <th>day</th>\n",
       "      <th>event</th>\n",
       "    </tr>\n",
       "  </thead>\n",
       "  <tbody>\n",
       "    <tr>\n",
       "      <th>0</th>\n",
       "      <td>0001f83c-c6ac-4621-b7f0-8a28b283ac30</td>\n",
       "      <td>1</td>\n",
       "      <td>2020-05-06</td>\n",
       "      <td>3</td>\n",
       "    </tr>\n",
       "    <tr>\n",
       "      <th>1</th>\n",
       "      <td>0001f83c-c6ac-4621-b7f0-8a28b283ac30</td>\n",
       "      <td>2</td>\n",
       "      <td>2020-05-09</td>\n",
       "      <td>3</td>\n",
       "    </tr>\n",
       "    <tr>\n",
       "      <th>2</th>\n",
       "      <td>0001f83c-c6ac-4621-b7f0-8a28b283ac30</td>\n",
       "      <td>3</td>\n",
       "      <td>2020-05-11</td>\n",
       "      <td>1</td>\n",
       "    </tr>\n",
       "    <tr>\n",
       "      <th>3</th>\n",
       "      <td>0001f83c-c6ac-4621-b7f0-8a28b283ac30</td>\n",
       "      <td>4</td>\n",
       "      <td>2020-05-12</td>\n",
       "      <td>2</td>\n",
       "    </tr>\n",
       "    <tr>\n",
       "      <th>4</th>\n",
       "      <td>0001f83c-c6ac-4621-b7f0-8a28b283ac30</td>\n",
       "      <td>5</td>\n",
       "      <td>2020-05-14</td>\n",
       "      <td>1</td>\n",
       "    </tr>\n",
       "    <tr>\n",
       "      <th>...</th>\n",
       "      <td>...</td>\n",
       "      <td>...</td>\n",
       "      <td>...</td>\n",
       "      <td>...</td>\n",
       "    </tr>\n",
       "    <tr>\n",
       "      <th>95196</th>\n",
       "      <td>ffff69cc-fec1-4fd3-9f98-93be1112a6b8</td>\n",
       "      <td>6</td>\n",
       "      <td>2020-05-16</td>\n",
       "      <td>2</td>\n",
       "    </tr>\n",
       "    <tr>\n",
       "      <th>95197</th>\n",
       "      <td>ffff69cc-fec1-4fd3-9f98-93be1112a6b8</td>\n",
       "      <td>7</td>\n",
       "      <td>2020-05-17</td>\n",
       "      <td>1</td>\n",
       "    </tr>\n",
       "    <tr>\n",
       "      <th>95198</th>\n",
       "      <td>ffff69cc-fec1-4fd3-9f98-93be1112a6b8</td>\n",
       "      <td>8</td>\n",
       "      <td>2020-05-23</td>\n",
       "      <td>1</td>\n",
       "    </tr>\n",
       "    <tr>\n",
       "      <th>95199</th>\n",
       "      <td>ffff69cc-fec1-4fd3-9f98-93be1112a6b8</td>\n",
       "      <td>9</td>\n",
       "      <td>2020-05-24</td>\n",
       "      <td>1</td>\n",
       "    </tr>\n",
       "    <tr>\n",
       "      <th>95200</th>\n",
       "      <td>ffff69cc-fec1-4fd3-9f98-93be1112a6b8</td>\n",
       "      <td>10</td>\n",
       "      <td>2020-05-25</td>\n",
       "      <td>3</td>\n",
       "    </tr>\n",
       "  </tbody>\n",
       "</table>\n",
       "<p>95201 rows × 4 columns</p>\n",
       "</div>"
      ],
      "text/plain": [
       "                                    user_id  level_1         day  event\n",
       "0      0001f83c-c6ac-4621-b7f0-8a28b283ac30        1  2020-05-06      3\n",
       "1      0001f83c-c6ac-4621-b7f0-8a28b283ac30        2  2020-05-09      3\n",
       "2      0001f83c-c6ac-4621-b7f0-8a28b283ac30        3  2020-05-11      1\n",
       "3      0001f83c-c6ac-4621-b7f0-8a28b283ac30        4  2020-05-12      2\n",
       "4      0001f83c-c6ac-4621-b7f0-8a28b283ac30        5  2020-05-14      1\n",
       "...                                     ...      ...         ...    ...\n",
       "95196  ffff69cc-fec1-4fd3-9f98-93be1112a6b8        6  2020-05-16      2\n",
       "95197  ffff69cc-fec1-4fd3-9f98-93be1112a6b8        7  2020-05-17      1\n",
       "95198  ffff69cc-fec1-4fd3-9f98-93be1112a6b8        8  2020-05-23      1\n",
       "95199  ffff69cc-fec1-4fd3-9f98-93be1112a6b8        9  2020-05-24      1\n",
       "95200  ffff69cc-fec1-4fd3-9f98-93be1112a6b8       10  2020-05-25      3\n",
       "\n",
       "[95201 rows x 4 columns]"
      ]
     },
     "execution_count": 51,
     "metadata": {},
     "output_type": "execute_result"
    }
   ],
   "source": [
    "#cгруппируем по  пользователям, дням и посчитаем сколько было построек в каждый день\n",
    "temp2=buildings_by_days.groupby(by=['user_id','day']).agg({'event':'count'})\n",
    "\n",
    "events_by_users_days=(temp2.reset_index()\n",
    "                        .groupby('user_id')\n",
    "                        .apply(lambda x: x.reset_index(drop=True)[['day', 'event']])\n",
    "                        .reset_index())\n",
    "#добавим колонку с порядковым номером дня активности пользователя в игре\n",
    "events_by_users_days['level_1'] += 1\n",
    "events_by_users_days"
   ]
  },
  {
   "cell_type": "code",
   "execution_count": 52,
   "id": "1323475f",
   "metadata": {},
   "outputs": [
    {
     "data": {
      "text/html": [
       "<div>\n",
       "<style scoped>\n",
       "    .dataframe tbody tr th:only-of-type {\n",
       "        vertical-align: middle;\n",
       "    }\n",
       "\n",
       "    .dataframe tbody tr th {\n",
       "        vertical-align: top;\n",
       "    }\n",
       "\n",
       "    .dataframe thead tr th {\n",
       "        text-align: left;\n",
       "    }\n",
       "\n",
       "    .dataframe thead tr:last-of-type th {\n",
       "        text-align: right;\n",
       "    }\n",
       "</style>\n",
       "<table border=\"1\" class=\"dataframe\">\n",
       "  <thead>\n",
       "    <tr>\n",
       "      <th></th>\n",
       "      <th colspan=\"17\" halign=\"left\">event</th>\n",
       "    </tr>\n",
       "    <tr>\n",
       "      <th>level_1</th>\n",
       "      <th>1</th>\n",
       "      <th>2</th>\n",
       "      <th>3</th>\n",
       "      <th>4</th>\n",
       "      <th>5</th>\n",
       "      <th>6</th>\n",
       "      <th>7</th>\n",
       "      <th>8</th>\n",
       "      <th>9</th>\n",
       "      <th>10</th>\n",
       "      <th>11</th>\n",
       "      <th>12</th>\n",
       "      <th>13</th>\n",
       "      <th>14</th>\n",
       "      <th>15</th>\n",
       "      <th>16</th>\n",
       "      <th>17</th>\n",
       "    </tr>\n",
       "    <tr>\n",
       "      <th>user_id</th>\n",
       "      <th></th>\n",
       "      <th></th>\n",
       "      <th></th>\n",
       "      <th></th>\n",
       "      <th></th>\n",
       "      <th></th>\n",
       "      <th></th>\n",
       "      <th></th>\n",
       "      <th></th>\n",
       "      <th></th>\n",
       "      <th></th>\n",
       "      <th></th>\n",
       "      <th></th>\n",
       "      <th></th>\n",
       "      <th></th>\n",
       "      <th></th>\n",
       "      <th></th>\n",
       "    </tr>\n",
       "  </thead>\n",
       "  <tbody>\n",
       "    <tr>\n",
       "      <th>0001f83c-c6ac-4621-b7f0-8a28b283ac30</th>\n",
       "      <td>3.0</td>\n",
       "      <td>3.0</td>\n",
       "      <td>1.0</td>\n",
       "      <td>2.0</td>\n",
       "      <td>1.0</td>\n",
       "      <td>1.0</td>\n",
       "      <td>1.0</td>\n",
       "      <td>1.0</td>\n",
       "      <td>NaN</td>\n",
       "      <td>NaN</td>\n",
       "      <td>NaN</td>\n",
       "      <td>NaN</td>\n",
       "      <td>NaN</td>\n",
       "      <td>NaN</td>\n",
       "      <td>NaN</td>\n",
       "      <td>NaN</td>\n",
       "      <td>NaN</td>\n",
       "    </tr>\n",
       "    <tr>\n",
       "      <th>00151b4f-ba38-44a8-a650-d7cf130a0105</th>\n",
       "      <td>2.0</td>\n",
       "      <td>1.0</td>\n",
       "      <td>1.0</td>\n",
       "      <td>2.0</td>\n",
       "      <td>2.0</td>\n",
       "      <td>1.0</td>\n",
       "      <td>NaN</td>\n",
       "      <td>NaN</td>\n",
       "      <td>NaN</td>\n",
       "      <td>NaN</td>\n",
       "      <td>NaN</td>\n",
       "      <td>NaN</td>\n",
       "      <td>NaN</td>\n",
       "      <td>NaN</td>\n",
       "      <td>NaN</td>\n",
       "      <td>NaN</td>\n",
       "      <td>NaN</td>\n",
       "    </tr>\n",
       "    <tr>\n",
       "      <th>001aaea6-3d14-43f1-8ca8-7f48820f17aa</th>\n",
       "      <td>2.0</td>\n",
       "      <td>1.0</td>\n",
       "      <td>1.0</td>\n",
       "      <td>NaN</td>\n",
       "      <td>NaN</td>\n",
       "      <td>NaN</td>\n",
       "      <td>NaN</td>\n",
       "      <td>NaN</td>\n",
       "      <td>NaN</td>\n",
       "      <td>NaN</td>\n",
       "      <td>NaN</td>\n",
       "      <td>NaN</td>\n",
       "      <td>NaN</td>\n",
       "      <td>NaN</td>\n",
       "      <td>NaN</td>\n",
       "      <td>NaN</td>\n",
       "      <td>NaN</td>\n",
       "    </tr>\n",
       "    <tr>\n",
       "      <th>001d39dc-366c-4021-9604-6a3b9ff01e25</th>\n",
       "      <td>1.0</td>\n",
       "      <td>2.0</td>\n",
       "      <td>2.0</td>\n",
       "      <td>1.0</td>\n",
       "      <td>1.0</td>\n",
       "      <td>2.0</td>\n",
       "      <td>NaN</td>\n",
       "      <td>NaN</td>\n",
       "      <td>NaN</td>\n",
       "      <td>NaN</td>\n",
       "      <td>NaN</td>\n",
       "      <td>NaN</td>\n",
       "      <td>NaN</td>\n",
       "      <td>NaN</td>\n",
       "      <td>NaN</td>\n",
       "      <td>NaN</td>\n",
       "      <td>NaN</td>\n",
       "    </tr>\n",
       "    <tr>\n",
       "      <th>002f508f-67b6-479f-814b-b05f00d4e995</th>\n",
       "      <td>1.0</td>\n",
       "      <td>3.0</td>\n",
       "      <td>1.0</td>\n",
       "      <td>2.0</td>\n",
       "      <td>1.0</td>\n",
       "      <td>1.0</td>\n",
       "      <td>1.0</td>\n",
       "      <td>1.0</td>\n",
       "      <td>1.0</td>\n",
       "      <td>NaN</td>\n",
       "      <td>NaN</td>\n",
       "      <td>NaN</td>\n",
       "      <td>NaN</td>\n",
       "      <td>NaN</td>\n",
       "      <td>NaN</td>\n",
       "      <td>NaN</td>\n",
       "      <td>NaN</td>\n",
       "    </tr>\n",
       "    <tr>\n",
       "      <th>...</th>\n",
       "      <td>...</td>\n",
       "      <td>...</td>\n",
       "      <td>...</td>\n",
       "      <td>...</td>\n",
       "      <td>...</td>\n",
       "      <td>...</td>\n",
       "      <td>...</td>\n",
       "      <td>...</td>\n",
       "      <td>...</td>\n",
       "      <td>...</td>\n",
       "      <td>...</td>\n",
       "      <td>...</td>\n",
       "      <td>...</td>\n",
       "      <td>...</td>\n",
       "      <td>...</td>\n",
       "      <td>...</td>\n",
       "      <td>...</td>\n",
       "    </tr>\n",
       "    <tr>\n",
       "      <th>ffef4fed-164c-40e1-bde1-3980f76d0fb5</th>\n",
       "      <td>2.0</td>\n",
       "      <td>1.0</td>\n",
       "      <td>2.0</td>\n",
       "      <td>1.0</td>\n",
       "      <td>2.0</td>\n",
       "      <td>2.0</td>\n",
       "      <td>NaN</td>\n",
       "      <td>NaN</td>\n",
       "      <td>NaN</td>\n",
       "      <td>NaN</td>\n",
       "      <td>NaN</td>\n",
       "      <td>NaN</td>\n",
       "      <td>NaN</td>\n",
       "      <td>NaN</td>\n",
       "      <td>NaN</td>\n",
       "      <td>NaN</td>\n",
       "      <td>NaN</td>\n",
       "    </tr>\n",
       "    <tr>\n",
       "      <th>fffab3da-da0e-4e30-ae62-10d0a2e24a4e</th>\n",
       "      <td>3.0</td>\n",
       "      <td>2.0</td>\n",
       "      <td>2.0</td>\n",
       "      <td>1.0</td>\n",
       "      <td>1.0</td>\n",
       "      <td>3.0</td>\n",
       "      <td>1.0</td>\n",
       "      <td>2.0</td>\n",
       "      <td>1.0</td>\n",
       "      <td>NaN</td>\n",
       "      <td>NaN</td>\n",
       "      <td>NaN</td>\n",
       "      <td>NaN</td>\n",
       "      <td>NaN</td>\n",
       "      <td>NaN</td>\n",
       "      <td>NaN</td>\n",
       "      <td>NaN</td>\n",
       "    </tr>\n",
       "    <tr>\n",
       "      <th>fffb626c-5ab6-47c9-8113-2062a2f18494</th>\n",
       "      <td>2.0</td>\n",
       "      <td>1.0</td>\n",
       "      <td>1.0</td>\n",
       "      <td>2.0</td>\n",
       "      <td>3.0</td>\n",
       "      <td>1.0</td>\n",
       "      <td>NaN</td>\n",
       "      <td>NaN</td>\n",
       "      <td>NaN</td>\n",
       "      <td>NaN</td>\n",
       "      <td>NaN</td>\n",
       "      <td>NaN</td>\n",
       "      <td>NaN</td>\n",
       "      <td>NaN</td>\n",
       "      <td>NaN</td>\n",
       "      <td>NaN</td>\n",
       "      <td>NaN</td>\n",
       "    </tr>\n",
       "    <tr>\n",
       "      <th>ffff194a-56b7-4c12-860d-3485242ae7f5</th>\n",
       "      <td>2.0</td>\n",
       "      <td>1.0</td>\n",
       "      <td>1.0</td>\n",
       "      <td>2.0</td>\n",
       "      <td>1.0</td>\n",
       "      <td>NaN</td>\n",
       "      <td>NaN</td>\n",
       "      <td>NaN</td>\n",
       "      <td>NaN</td>\n",
       "      <td>NaN</td>\n",
       "      <td>NaN</td>\n",
       "      <td>NaN</td>\n",
       "      <td>NaN</td>\n",
       "      <td>NaN</td>\n",
       "      <td>NaN</td>\n",
       "      <td>NaN</td>\n",
       "      <td>NaN</td>\n",
       "    </tr>\n",
       "    <tr>\n",
       "      <th>ffff69cc-fec1-4fd3-9f98-93be1112a6b8</th>\n",
       "      <td>1.0</td>\n",
       "      <td>2.0</td>\n",
       "      <td>1.0</td>\n",
       "      <td>1.0</td>\n",
       "      <td>1.0</td>\n",
       "      <td>2.0</td>\n",
       "      <td>1.0</td>\n",
       "      <td>1.0</td>\n",
       "      <td>1.0</td>\n",
       "      <td>3.0</td>\n",
       "      <td>NaN</td>\n",
       "      <td>NaN</td>\n",
       "      <td>NaN</td>\n",
       "      <td>NaN</td>\n",
       "      <td>NaN</td>\n",
       "      <td>NaN</td>\n",
       "      <td>NaN</td>\n",
       "    </tr>\n",
       "  </tbody>\n",
       "</table>\n",
       "<p>13576 rows × 17 columns</p>\n",
       "</div>"
      ],
      "text/plain": [
       "                                     event                                      \n",
       "level_1                                 1    2    3    4    5    6    7    8    \n",
       "user_id                                                                         \n",
       "0001f83c-c6ac-4621-b7f0-8a28b283ac30   3.0  3.0  1.0  2.0  1.0  1.0  1.0  1.0  \\\n",
       "00151b4f-ba38-44a8-a650-d7cf130a0105   2.0  1.0  1.0  2.0  2.0  1.0  NaN  NaN   \n",
       "001aaea6-3d14-43f1-8ca8-7f48820f17aa   2.0  1.0  1.0  NaN  NaN  NaN  NaN  NaN   \n",
       "001d39dc-366c-4021-9604-6a3b9ff01e25   1.0  2.0  2.0  1.0  1.0  2.0  NaN  NaN   \n",
       "002f508f-67b6-479f-814b-b05f00d4e995   1.0  3.0  1.0  2.0  1.0  1.0  1.0  1.0   \n",
       "...                                    ...  ...  ...  ...  ...  ...  ...  ...   \n",
       "ffef4fed-164c-40e1-bde1-3980f76d0fb5   2.0  1.0  2.0  1.0  2.0  2.0  NaN  NaN   \n",
       "fffab3da-da0e-4e30-ae62-10d0a2e24a4e   3.0  2.0  2.0  1.0  1.0  3.0  1.0  2.0   \n",
       "fffb626c-5ab6-47c9-8113-2062a2f18494   2.0  1.0  1.0  2.0  3.0  1.0  NaN  NaN   \n",
       "ffff194a-56b7-4c12-860d-3485242ae7f5   2.0  1.0  1.0  2.0  1.0  NaN  NaN  NaN   \n",
       "ffff69cc-fec1-4fd3-9f98-93be1112a6b8   1.0  2.0  1.0  1.0  1.0  2.0  1.0  1.0   \n",
       "\n",
       "                                                                            \n",
       "level_1                                9    10  11  12  13  14  15  16  17  \n",
       "user_id                                                                     \n",
       "0001f83c-c6ac-4621-b7f0-8a28b283ac30  NaN  NaN NaN NaN NaN NaN NaN NaN NaN  \n",
       "00151b4f-ba38-44a8-a650-d7cf130a0105  NaN  NaN NaN NaN NaN NaN NaN NaN NaN  \n",
       "001aaea6-3d14-43f1-8ca8-7f48820f17aa  NaN  NaN NaN NaN NaN NaN NaN NaN NaN  \n",
       "001d39dc-366c-4021-9604-6a3b9ff01e25  NaN  NaN NaN NaN NaN NaN NaN NaN NaN  \n",
       "002f508f-67b6-479f-814b-b05f00d4e995  1.0  NaN NaN NaN NaN NaN NaN NaN NaN  \n",
       "...                                   ...  ...  ..  ..  ..  ..  ..  ..  ..  \n",
       "ffef4fed-164c-40e1-bde1-3980f76d0fb5  NaN  NaN NaN NaN NaN NaN NaN NaN NaN  \n",
       "fffab3da-da0e-4e30-ae62-10d0a2e24a4e  1.0  NaN NaN NaN NaN NaN NaN NaN NaN  \n",
       "fffb626c-5ab6-47c9-8113-2062a2f18494  NaN  NaN NaN NaN NaN NaN NaN NaN NaN  \n",
       "ffff194a-56b7-4c12-860d-3485242ae7f5  NaN  NaN NaN NaN NaN NaN NaN NaN NaN  \n",
       "ffff69cc-fec1-4fd3-9f98-93be1112a6b8  1.0  3.0 NaN NaN NaN NaN NaN NaN NaN  \n",
       "\n",
       "[13576 rows x 17 columns]"
      ]
     },
     "execution_count": 52,
     "metadata": {},
     "output_type": "execute_result"
    }
   ],
   "source": [
    "pv3 = events_by_users_days.pivot_table(index=['user_id'], columns=['level_1'], values=['event'])\n",
    "pv3.reset_index()\n",
    "pv3"
   ]
  },
  {
   "cell_type": "code",
   "execution_count": 53,
   "id": "3bfb248c",
   "metadata": {},
   "outputs": [
    {
     "data": {
      "text/plain": [
       "level_1\n",
       "1     18809.0\n",
       "2     19613.0\n",
       "3     19396.0\n",
       "4     18275.0\n",
       "5     15993.0\n",
       "6     13430.0\n",
       "7     11123.0\n",
       "8      8427.0\n",
       "9      5374.0\n",
       "10     3059.0\n",
       "11     1415.0\n",
       "12      531.0\n",
       "13      144.0\n",
       "14       33.0\n",
       "15       12.0\n",
       "16        4.0\n",
       "17        1.0\n",
       "dtype: float64"
      ]
     },
     "execution_count": 53,
     "metadata": {},
     "output_type": "execute_result"
    }
   ],
   "source": [
    "#посчитаем суммарное количество построек всех пользователей по дням активности в игре\n",
    "pv4 = pv3.sum().reset_index(level=0, drop=True)\n",
    "pv4"
   ]
  },
  {
   "cell_type": "code",
   "execution_count": 54,
   "id": "f2a398b2",
   "metadata": {},
   "outputs": [
    {
     "data": {
      "image/png": "[encoded data removed]",
      "text/plain": [
       "<Figure size 1080x504 with 1 Axes>"
      ]
     },
     "metadata": {
      "needs_background": "light"
     },
     "output_type": "display_data"
    }
   ],
   "source": [
    "#построим график\n",
    "plt.figure(figsize=(15,7))\n",
    "plt.title('Количество событий по дням игры', fontdict={'size':15})\n",
    "pv4.plot(kind='bar',color='darkseagreen')\n",
    "plt.xticks(rotation=0,ha='right')\n",
    "plt.xlabel('Дни игры')\n",
    "plt.ylabel('Количество событий');"
   ]
  },
  {
   "cell_type": "markdown",
   "id": "1e491f62",
   "metadata": {},
   "source": [
    "Анализ распределения событий по дням показывает такую же картину, что и анализ по количествую построек. Со временем активность пользователей падает. "
   ]
  },
  {
   "cell_type": "markdown",
   "id": "2f724afd",
   "metadata": {},
   "source": [
    "Посмотрим среднее количество построек на игрока в день."
   ]
  },
  {
   "cell_type": "code",
   "execution_count": 55,
   "id": "c0c6da32",
   "metadata": {},
   "outputs": [
    {
     "data": {
      "text/html": [
       "<div>\n",
       "<style scoped>\n",
       "    .dataframe tbody tr th:only-of-type {\n",
       "        vertical-align: middle;\n",
       "    }\n",
       "\n",
       "    .dataframe tbody tr th {\n",
       "        vertical-align: top;\n",
       "    }\n",
       "\n",
       "    .dataframe thead th {\n",
       "        text-align: right;\n",
       "    }\n",
       "</style>\n",
       "<table border=\"1\" class=\"dataframe\">\n",
       "  <thead>\n",
       "    <tr style=\"text-align: right;\">\n",
       "      <th></th>\n",
       "      <th>building_type</th>\n",
       "    </tr>\n",
       "    <tr>\n",
       "      <th>user_id</th>\n",
       "      <th></th>\n",
       "    </tr>\n",
       "  </thead>\n",
       "  <tbody>\n",
       "    <tr>\n",
       "      <th>0001f83c-c6ac-4621-b7f0-8a28b283ac30</th>\n",
       "      <td>1.625000</td>\n",
       "    </tr>\n",
       "    <tr>\n",
       "      <th>00151b4f-ba38-44a8-a650-d7cf130a0105</th>\n",
       "      <td>1.500000</td>\n",
       "    </tr>\n",
       "    <tr>\n",
       "      <th>001aaea6-3d14-43f1-8ca8-7f48820f17aa</th>\n",
       "      <td>1.333333</td>\n",
       "    </tr>\n",
       "    <tr>\n",
       "      <th>001d39dc-366c-4021-9604-6a3b9ff01e25</th>\n",
       "      <td>1.333333</td>\n",
       "    </tr>\n",
       "    <tr>\n",
       "      <th>002f508f-67b6-479f-814b-b05f00d4e995</th>\n",
       "      <td>1.333333</td>\n",
       "    </tr>\n",
       "    <tr>\n",
       "      <th>...</th>\n",
       "      <td>...</td>\n",
       "    </tr>\n",
       "    <tr>\n",
       "      <th>ffef4fed-164c-40e1-bde1-3980f76d0fb5</th>\n",
       "      <td>1.500000</td>\n",
       "    </tr>\n",
       "    <tr>\n",
       "      <th>fffab3da-da0e-4e30-ae62-10d0a2e24a4e</th>\n",
       "      <td>1.777778</td>\n",
       "    </tr>\n",
       "    <tr>\n",
       "      <th>fffb626c-5ab6-47c9-8113-2062a2f18494</th>\n",
       "      <td>1.500000</td>\n",
       "    </tr>\n",
       "    <tr>\n",
       "      <th>ffff194a-56b7-4c12-860d-3485242ae7f5</th>\n",
       "      <td>1.400000</td>\n",
       "    </tr>\n",
       "    <tr>\n",
       "      <th>ffff69cc-fec1-4fd3-9f98-93be1112a6b8</th>\n",
       "      <td>1.200000</td>\n",
       "    </tr>\n",
       "  </tbody>\n",
       "</table>\n",
       "<p>13576 rows × 1 columns</p>\n",
       "</div>"
      ],
      "text/plain": [
       "                                      building_type\n",
       "user_id                                            \n",
       "0001f83c-c6ac-4621-b7f0-8a28b283ac30       1.625000\n",
       "00151b4f-ba38-44a8-a650-d7cf130a0105       1.500000\n",
       "001aaea6-3d14-43f1-8ca8-7f48820f17aa       1.333333\n",
       "001d39dc-366c-4021-9604-6a3b9ff01e25       1.333333\n",
       "002f508f-67b6-479f-814b-b05f00d4e995       1.333333\n",
       "...                                             ...\n",
       "ffef4fed-164c-40e1-bde1-3980f76d0fb5       1.500000\n",
       "fffab3da-da0e-4e30-ae62-10d0a2e24a4e       1.777778\n",
       "fffb626c-5ab6-47c9-8113-2062a2f18494       1.500000\n",
       "ffff194a-56b7-4c12-860d-3485242ae7f5       1.400000\n",
       "ffff69cc-fec1-4fd3-9f98-93be1112a6b8       1.200000\n",
       "\n",
       "[13576 rows x 1 columns]"
      ]
     },
     "execution_count": 55,
     "metadata": {},
     "output_type": "execute_result"
    }
   ],
   "source": [
    "#сгруппируем по пользователю и посчитаем сколько построек в день в среднем делает каждый пользователь\n",
    "avg_building_per_user_per_day=temp.reset_index().groupby(by='user_id').agg({'building_type':'mean'})\n",
    "avg_building_per_user_per_day"
   ]
  },
  {
   "cell_type": "code",
   "execution_count": 56,
   "id": "10a190d4",
   "metadata": {},
   "outputs": [
    {
     "data": {
      "text/html": [
       "<div>\n",
       "<style scoped>\n",
       "    .dataframe tbody tr th:only-of-type {\n",
       "        vertical-align: middle;\n",
       "    }\n",
       "\n",
       "    .dataframe tbody tr th {\n",
       "        vertical-align: top;\n",
       "    }\n",
       "\n",
       "    .dataframe thead th {\n",
       "        text-align: right;\n",
       "    }\n",
       "</style>\n",
       "<table border=\"1\" class=\"dataframe\">\n",
       "  <thead>\n",
       "    <tr style=\"text-align: right;\">\n",
       "      <th></th>\n",
       "      <th>building_type</th>\n",
       "    </tr>\n",
       "  </thead>\n",
       "  <tbody>\n",
       "    <tr>\n",
       "      <th>count</th>\n",
       "      <td>13576.000000</td>\n",
       "    </tr>\n",
       "    <tr>\n",
       "      <th>mean</th>\n",
       "      <td>1.342304</td>\n",
       "    </tr>\n",
       "    <tr>\n",
       "      <th>std</th>\n",
       "      <td>0.292036</td>\n",
       "    </tr>\n",
       "    <tr>\n",
       "      <th>min</th>\n",
       "      <td>0.666667</td>\n",
       "    </tr>\n",
       "    <tr>\n",
       "      <th>25%</th>\n",
       "      <td>1.125000</td>\n",
       "    </tr>\n",
       "    <tr>\n",
       "      <th>50%</th>\n",
       "      <td>1.300000</td>\n",
       "    </tr>\n",
       "    <tr>\n",
       "      <th>75%</th>\n",
       "      <td>1.500000</td>\n",
       "    </tr>\n",
       "    <tr>\n",
       "      <th>max</th>\n",
       "      <td>4.000000</td>\n",
       "    </tr>\n",
       "  </tbody>\n",
       "</table>\n",
       "</div>"
      ],
      "text/plain": [
       "       building_type\n",
       "count   13576.000000\n",
       "mean        1.342304\n",
       "std         0.292036\n",
       "min         0.666667\n",
       "25%         1.125000\n",
       "50%         1.300000\n",
       "75%         1.500000\n",
       "max         4.000000"
      ]
     },
     "execution_count": 56,
     "metadata": {},
     "output_type": "execute_result"
    }
   ],
   "source": [
    "avg_building_per_user_per_day.describe()"
   ]
  },
  {
   "cell_type": "markdown",
   "id": "31e9fff2",
   "metadata": {},
   "source": [
    "Максимальное количество построек - 4, в среднем пользователь строит 1,3 построки"
   ]
  },
  {
   "cell_type": "markdown",
   "id": "9e61a719",
   "metadata": {},
   "source": [
    "## Анализ влияния событий на совершение целевого события"
   ]
  },
  {
   "cell_type": "markdown",
   "id": "9c828979",
   "metadata": {},
   "source": [
    "### Как часто игроки переходят на второй уровень через победу над врагом и как часто через завершение проекта?"
   ]
  },
  {
   "cell_type": "code",
   "execution_count": 57,
   "id": "8058fcc0",
   "metadata": {
    "scrolled": true
   },
   "outputs": [
    {
     "data": {
      "text/html": [
       "<div>\n",
       "<style scoped>\n",
       "    .dataframe tbody tr th:only-of-type {\n",
       "        vertical-align: middle;\n",
       "    }\n",
       "\n",
       "    .dataframe tbody tr th {\n",
       "        vertical-align: top;\n",
       "    }\n",
       "\n",
       "    .dataframe thead th {\n",
       "        text-align: right;\n",
       "    }\n",
       "</style>\n",
       "<table border=\"1\" class=\"dataframe\">\n",
       "  <thead>\n",
       "    <tr style=\"text-align: right;\">\n",
       "      <th></th>\n",
       "      <th>event_datetime</th>\n",
       "      <th>event</th>\n",
       "      <th>building_type</th>\n",
       "      <th>user_id</th>\n",
       "      <th>project_type</th>\n",
       "    </tr>\n",
       "  </thead>\n",
       "  <tbody>\n",
       "    <tr>\n",
       "      <th>47121</th>\n",
       "      <td>2020-05-08 18:10:25</td>\n",
       "      <td>project</td>\n",
       "      <td>NaN</td>\n",
       "      <td>e3c66498-9d45-4000-9392-f81e6796e7da</td>\n",
       "      <td>satellite_orbital_assembly</td>\n",
       "    </tr>\n",
       "    <tr>\n",
       "      <th>57398</th>\n",
       "      <td>2020-05-09 13:49:11</td>\n",
       "      <td>project</td>\n",
       "      <td>NaN</td>\n",
       "      <td>936e7af6-8338-4703-a1df-fc6c3f5b8e34</td>\n",
       "      <td>satellite_orbital_assembly</td>\n",
       "    </tr>\n",
       "    <tr>\n",
       "      <th>58797</th>\n",
       "      <td>2020-05-09 16:19:33</td>\n",
       "      <td>project</td>\n",
       "      <td>NaN</td>\n",
       "      <td>a4491c86-c498-4f74-a56e-65c136d0e9a1</td>\n",
       "      <td>satellite_orbital_assembly</td>\n",
       "    </tr>\n",
       "    <tr>\n",
       "      <th>61174</th>\n",
       "      <td>2020-05-09 20:29:01</td>\n",
       "      <td>project</td>\n",
       "      <td>NaN</td>\n",
       "      <td>85d9e675-562b-4329-8bbd-14d3b39096be</td>\n",
       "      <td>satellite_orbital_assembly</td>\n",
       "    </tr>\n",
       "    <tr>\n",
       "      <th>63770</th>\n",
       "      <td>2020-05-10 00:57:47</td>\n",
       "      <td>project</td>\n",
       "      <td>NaN</td>\n",
       "      <td>1889ca71-3c57-4e61-9ea6-a711971bbf0a</td>\n",
       "      <td>satellite_orbital_assembly</td>\n",
       "    </tr>\n",
       "    <tr>\n",
       "      <th>...</th>\n",
       "      <td>...</td>\n",
       "      <td>...</td>\n",
       "      <td>...</td>\n",
       "      <td>...</td>\n",
       "      <td>...</td>\n",
       "    </tr>\n",
       "    <tr>\n",
       "      <th>135602</th>\n",
       "      <td>2020-06-02 03:04:42</td>\n",
       "      <td>project</td>\n",
       "      <td>NaN</td>\n",
       "      <td>9d98001c-7e14-40d7-896e-46b3047365fd</td>\n",
       "      <td>satellite_orbital_assembly</td>\n",
       "    </tr>\n",
       "    <tr>\n",
       "      <th>135603</th>\n",
       "      <td>2020-06-02 06:21:03</td>\n",
       "      <td>project</td>\n",
       "      <td>NaN</td>\n",
       "      <td>df4a1e13-eba9-4928-a7cf-ee303d6f80f9</td>\n",
       "      <td>satellite_orbital_assembly</td>\n",
       "    </tr>\n",
       "    <tr>\n",
       "      <th>135609</th>\n",
       "      <td>2020-06-02 17:17:28</td>\n",
       "      <td>project</td>\n",
       "      <td>NaN</td>\n",
       "      <td>82e46f34-e243-4728-8e20-2e171fc33ea4</td>\n",
       "      <td>satellite_orbital_assembly</td>\n",
       "    </tr>\n",
       "    <tr>\n",
       "      <th>135617</th>\n",
       "      <td>2020-06-03 09:46:04</td>\n",
       "      <td>project</td>\n",
       "      <td>NaN</td>\n",
       "      <td>fe032991-71e0-48c5-889f-4c3805ba4c9b</td>\n",
       "      <td>satellite_orbital_assembly</td>\n",
       "    </tr>\n",
       "    <tr>\n",
       "      <th>135630</th>\n",
       "      <td>2020-06-04 08:29:42</td>\n",
       "      <td>project</td>\n",
       "      <td>NaN</td>\n",
       "      <td>d477dde8-7c22-4f23-9c4f-4ec31a1aa4c8</td>\n",
       "      <td>satellite_orbital_assembly</td>\n",
       "    </tr>\n",
       "  </tbody>\n",
       "</table>\n",
       "<p>1866 rows × 5 columns</p>\n",
       "</div>"
      ],
      "text/plain": [
       "            event_datetime    event building_type   \n",
       "47121  2020-05-08 18:10:25  project           NaN  \\\n",
       "57398  2020-05-09 13:49:11  project           NaN   \n",
       "58797  2020-05-09 16:19:33  project           NaN   \n",
       "61174  2020-05-09 20:29:01  project           NaN   \n",
       "63770  2020-05-10 00:57:47  project           NaN   \n",
       "...                    ...      ...           ...   \n",
       "135602 2020-06-02 03:04:42  project           NaN   \n",
       "135603 2020-06-02 06:21:03  project           NaN   \n",
       "135609 2020-06-02 17:17:28  project           NaN   \n",
       "135617 2020-06-03 09:46:04  project           NaN   \n",
       "135630 2020-06-04 08:29:42  project           NaN   \n",
       "\n",
       "                                     user_id                project_type  \n",
       "47121   e3c66498-9d45-4000-9392-f81e6796e7da  satellite_orbital_assembly  \n",
       "57398   936e7af6-8338-4703-a1df-fc6c3f5b8e34  satellite_orbital_assembly  \n",
       "58797   a4491c86-c498-4f74-a56e-65c136d0e9a1  satellite_orbital_assembly  \n",
       "61174   85d9e675-562b-4329-8bbd-14d3b39096be  satellite_orbital_assembly  \n",
       "63770   1889ca71-3c57-4e61-9ea6-a711971bbf0a  satellite_orbital_assembly  \n",
       "...                                      ...                         ...  \n",
       "135602  9d98001c-7e14-40d7-896e-46b3047365fd  satellite_orbital_assembly  \n",
       "135603  df4a1e13-eba9-4928-a7cf-ee303d6f80f9  satellite_orbital_assembly  \n",
       "135609  82e46f34-e243-4728-8e20-2e171fc33ea4  satellite_orbital_assembly  \n",
       "135617  fe032991-71e0-48c5-889f-4c3805ba4c9b  satellite_orbital_assembly  \n",
       "135630  d477dde8-7c22-4f23-9c4f-4ec31a1aa4c8  satellite_orbital_assembly  \n",
       "\n",
       "[1866 rows x 5 columns]"
      ]
     },
     "execution_count": 57,
     "metadata": {},
     "output_type": "execute_result"
    }
   ],
   "source": [
    "#отфильтруем игроков, которые есть в списке игроков завершивих первый уровень и построившие проект,\n",
    "#т.е. те, кто завершил уровень завершив проект\n",
    "pve_users=game_actions.query('user_id in @users_finished_stage and event==\"project\"')\n",
    "pve_users"
   ]
  },
  {
   "cell_type": "code",
   "execution_count": 58,
   "id": "1837872a",
   "metadata": {},
   "outputs": [
    {
     "data": {
      "text/plain": [
       "1866"
      ]
     },
     "execution_count": 58,
     "metadata": {},
     "output_type": "execute_result"
    }
   ],
   "source": [
    "#посчитаем количество пользователей,прошедших уровень, победив другого игрока\n",
    "pve_users['user_id'].nunique()"
   ]
  },
  {
   "cell_type": "markdown",
   "id": "f62d5ae0",
   "metadata": {},
   "source": [
    "1866 игроков завершили уровень построив космическую орбитальную станцию"
   ]
  },
  {
   "cell_type": "code",
   "execution_count": 59,
   "id": "29f131cb",
   "metadata": {},
   "outputs": [],
   "source": [
    "#сохраним список пользователей, прошедших уровень через завершение проекта\n",
    "pve_users_list=pve_users['user_id'].tolist()"
   ]
  },
  {
   "cell_type": "code",
   "execution_count": 60,
   "id": "264f2dfd",
   "metadata": {},
   "outputs": [
    {
     "data": {
      "text/html": [
       "<div>\n",
       "<style scoped>\n",
       "    .dataframe tbody tr th:only-of-type {\n",
       "        vertical-align: middle;\n",
       "    }\n",
       "\n",
       "    .dataframe tbody tr th {\n",
       "        vertical-align: top;\n",
       "    }\n",
       "\n",
       "    .dataframe thead th {\n",
       "        text-align: right;\n",
       "    }\n",
       "</style>\n",
       "<table border=\"1\" class=\"dataframe\">\n",
       "  <thead>\n",
       "    <tr style=\"text-align: right;\">\n",
       "      <th></th>\n",
       "      <th>event_datetime</th>\n",
       "      <th>event</th>\n",
       "      <th>building_type</th>\n",
       "      <th>user_id</th>\n",
       "      <th>project_type</th>\n",
       "    </tr>\n",
       "  </thead>\n",
       "  <tbody>\n",
       "    <tr>\n",
       "      <th>2</th>\n",
       "      <td>2020-05-04 00:00:16</td>\n",
       "      <td>building</td>\n",
       "      <td>assembly_shop</td>\n",
       "      <td>6edd42cc-e753-4ff6-a947-2107cd560710</td>\n",
       "      <td>NaN</td>\n",
       "    </tr>\n",
       "    <tr>\n",
       "      <th>4</th>\n",
       "      <td>2020-05-04 00:00:35</td>\n",
       "      <td>building</td>\n",
       "      <td>assembly_shop</td>\n",
       "      <td>cdc6bb92-0ccb-4490-9866-ef142f09139d</td>\n",
       "      <td>NaN</td>\n",
       "    </tr>\n",
       "    <tr>\n",
       "      <th>6</th>\n",
       "      <td>2020-05-04 00:00:36</td>\n",
       "      <td>building</td>\n",
       "      <td>assembly_shop</td>\n",
       "      <td>4fe0f101-694b-4e31-9740-d1d87f7208ea</td>\n",
       "      <td>NaN</td>\n",
       "    </tr>\n",
       "    <tr>\n",
       "      <th>11</th>\n",
       "      <td>2020-05-04 00:02:24</td>\n",
       "      <td>building</td>\n",
       "      <td>assembly_shop</td>\n",
       "      <td>9c200ece-3b74-44c4-8a3f-260f2486c5d7</td>\n",
       "      <td>NaN</td>\n",
       "    </tr>\n",
       "    <tr>\n",
       "      <th>15</th>\n",
       "      <td>2020-05-04 00:03:10</td>\n",
       "      <td>building</td>\n",
       "      <td>assembly_shop</td>\n",
       "      <td>02bf92c2-17a0-4156-be88-2054fb6b7421</td>\n",
       "      <td>NaN</td>\n",
       "    </tr>\n",
       "    <tr>\n",
       "      <th>...</th>\n",
       "      <td>...</td>\n",
       "      <td>...</td>\n",
       "      <td>...</td>\n",
       "      <td>...</td>\n",
       "      <td>...</td>\n",
       "    </tr>\n",
       "    <tr>\n",
       "      <th>135634</th>\n",
       "      <td>2020-06-04 18:14:33</td>\n",
       "      <td>building</td>\n",
       "      <td>research_center</td>\n",
       "      <td>515c1952-99aa-4bca-a7ea-d0449eb5385a</td>\n",
       "      <td>NaN</td>\n",
       "    </tr>\n",
       "    <tr>\n",
       "      <th>135635</th>\n",
       "      <td>2020-06-05 00:08:06</td>\n",
       "      <td>building</td>\n",
       "      <td>research_center</td>\n",
       "      <td>f21d179f-1c4b-437e-b9c6-ab1976907195</td>\n",
       "      <td>NaN</td>\n",
       "    </tr>\n",
       "    <tr>\n",
       "      <th>135636</th>\n",
       "      <td>2020-06-05 02:25:12</td>\n",
       "      <td>finished_stage_1</td>\n",
       "      <td>NaN</td>\n",
       "      <td>515c1952-99aa-4bca-a7ea-d0449eb5385a</td>\n",
       "      <td>NaN</td>\n",
       "    </tr>\n",
       "    <tr>\n",
       "      <th>135638</th>\n",
       "      <td>2020-06-05 12:12:27</td>\n",
       "      <td>finished_stage_1</td>\n",
       "      <td>NaN</td>\n",
       "      <td>32572adb-900f-4b5d-a453-1eb1e6d88d8b</td>\n",
       "      <td>NaN</td>\n",
       "    </tr>\n",
       "    <tr>\n",
       "      <th>135639</th>\n",
       "      <td>2020-06-05 12:32:49</td>\n",
       "      <td>finished_stage_1</td>\n",
       "      <td>NaN</td>\n",
       "      <td>f21d179f-1c4b-437e-b9c6-ab1976907195</td>\n",
       "      <td>NaN</td>\n",
       "    </tr>\n",
       "  </tbody>\n",
       "</table>\n",
       "<p>41136 rows × 5 columns</p>\n",
       "</div>"
      ],
      "text/plain": [
       "            event_datetime             event    building_type   \n",
       "2      2020-05-04 00:00:16          building    assembly_shop  \\\n",
       "4      2020-05-04 00:00:35          building    assembly_shop   \n",
       "6      2020-05-04 00:00:36          building    assembly_shop   \n",
       "11     2020-05-04 00:02:24          building    assembly_shop   \n",
       "15     2020-05-04 00:03:10          building    assembly_shop   \n",
       "...                    ...               ...              ...   \n",
       "135634 2020-06-04 18:14:33          building  research_center   \n",
       "135635 2020-06-05 00:08:06          building  research_center   \n",
       "135636 2020-06-05 02:25:12  finished_stage_1              NaN   \n",
       "135638 2020-06-05 12:12:27  finished_stage_1              NaN   \n",
       "135639 2020-06-05 12:32:49  finished_stage_1              NaN   \n",
       "\n",
       "                                     user_id project_type  \n",
       "2       6edd42cc-e753-4ff6-a947-2107cd560710          NaN  \n",
       "4       cdc6bb92-0ccb-4490-9866-ef142f09139d          NaN  \n",
       "6       4fe0f101-694b-4e31-9740-d1d87f7208ea          NaN  \n",
       "11      9c200ece-3b74-44c4-8a3f-260f2486c5d7          NaN  \n",
       "15      02bf92c2-17a0-4156-be88-2054fb6b7421          NaN  \n",
       "...                                      ...          ...  \n",
       "135634  515c1952-99aa-4bca-a7ea-d0449eb5385a          NaN  \n",
       "135635  f21d179f-1c4b-437e-b9c6-ab1976907195          NaN  \n",
       "135636  515c1952-99aa-4bca-a7ea-d0449eb5385a          NaN  \n",
       "135638  32572adb-900f-4b5d-a453-1eb1e6d88d8b          NaN  \n",
       "135639  f21d179f-1c4b-437e-b9c6-ab1976907195          NaN  \n",
       "\n",
       "[41136 rows x 5 columns]"
      ]
     },
     "execution_count": 60,
     "metadata": {},
     "output_type": "execute_result"
    }
   ],
   "source": [
    "# отфильтруем действия игроков, которые есть в списке игроков завершивих первый уровень\n",
    "# и которых нет в списке игроков, прошедших уровень через завершение проекта,те прошедших уровень\n",
    "# победив другого игрока\n",
    "pvp_users=game_actions.query('(user_id in @users_finished_stage) and (~(user_id in @pve_users_list)) ')\n",
    "pvp_users"
   ]
  },
  {
   "cell_type": "code",
   "execution_count": 61,
   "id": "d053c1ff",
   "metadata": {},
   "outputs": [
    {
     "data": {
      "text/plain": [
       "3951"
      ]
     },
     "execution_count": 61,
     "metadata": {},
     "output_type": "execute_result"
    }
   ],
   "source": [
    "#посчитаем количество пользователей,прошедших уровень, победив другого игрока\n",
    "pvp_users['user_id'].nunique()"
   ]
  },
  {
   "cell_type": "markdown",
   "id": "5fe01dec",
   "metadata": {},
   "source": [
    "3951 игроков завершили игру победой над другим игроком. Это в 2 раза больше чем через постройку космической орбитальной станции."
   ]
  },
  {
   "cell_type": "code",
   "execution_count": 62,
   "id": "e5101b64",
   "metadata": {},
   "outputs": [],
   "source": [
    "#сохраним список пользователей, прошедших уровень через завершение проекта\n",
    "pvp_users_list=pvp_users['user_id'].tolist()"
   ]
  },
  {
   "cell_type": "code",
   "execution_count": 63,
   "id": "4248d141",
   "metadata": {
    "scrolled": true
   },
   "outputs": [
    {
     "data": {
      "text/html": [
       "<div>\n",
       "<style scoped>\n",
       "    .dataframe tbody tr th:only-of-type {\n",
       "        vertical-align: middle;\n",
       "    }\n",
       "\n",
       "    .dataframe tbody tr th {\n",
       "        vertical-align: top;\n",
       "    }\n",
       "\n",
       "    .dataframe thead th {\n",
       "        text-align: right;\n",
       "    }\n",
       "</style>\n",
       "<table border=\"1\" class=\"dataframe\">\n",
       "  <thead>\n",
       "    <tr style=\"text-align: right;\">\n",
       "      <th></th>\n",
       "      <th>event_datetime</th>\n",
       "      <th>event</th>\n",
       "      <th>building_type</th>\n",
       "      <th>user_id</th>\n",
       "      <th>project_type</th>\n",
       "      <th>strategy</th>\n",
       "    </tr>\n",
       "  </thead>\n",
       "  <tbody>\n",
       "    <tr>\n",
       "      <th>0</th>\n",
       "      <td>2020-05-04 00:00:01</td>\n",
       "      <td>building</td>\n",
       "      <td>assembly_shop</td>\n",
       "      <td>55e92310-cb8e-4754-b622-597e124b03de</td>\n",
       "      <td>NaN</td>\n",
       "      <td>no_end</td>\n",
       "    </tr>\n",
       "    <tr>\n",
       "      <th>1</th>\n",
       "      <td>2020-05-04 00:00:03</td>\n",
       "      <td>building</td>\n",
       "      <td>assembly_shop</td>\n",
       "      <td>c07b1c10-f477-44dc-81dc-ec82254b1347</td>\n",
       "      <td>NaN</td>\n",
       "      <td>pve</td>\n",
       "    </tr>\n",
       "    <tr>\n",
       "      <th>2</th>\n",
       "      <td>2020-05-04 00:00:16</td>\n",
       "      <td>building</td>\n",
       "      <td>assembly_shop</td>\n",
       "      <td>6edd42cc-e753-4ff6-a947-2107cd560710</td>\n",
       "      <td>NaN</td>\n",
       "      <td>pvp</td>\n",
       "    </tr>\n",
       "    <tr>\n",
       "      <th>3</th>\n",
       "      <td>2020-05-04 00:00:16</td>\n",
       "      <td>building</td>\n",
       "      <td>assembly_shop</td>\n",
       "      <td>92c69003-d60a-444a-827f-8cc51bf6bf4c</td>\n",
       "      <td>NaN</td>\n",
       "      <td>no_end</td>\n",
       "    </tr>\n",
       "    <tr>\n",
       "      <th>4</th>\n",
       "      <td>2020-05-04 00:00:35</td>\n",
       "      <td>building</td>\n",
       "      <td>assembly_shop</td>\n",
       "      <td>cdc6bb92-0ccb-4490-9866-ef142f09139d</td>\n",
       "      <td>NaN</td>\n",
       "      <td>pvp</td>\n",
       "    </tr>\n",
       "    <tr>\n",
       "      <th>...</th>\n",
       "      <td>...</td>\n",
       "      <td>...</td>\n",
       "      <td>...</td>\n",
       "      <td>...</td>\n",
       "      <td>...</td>\n",
       "      <td>...</td>\n",
       "    </tr>\n",
       "    <tr>\n",
       "      <th>135635</th>\n",
       "      <td>2020-06-05 00:08:06</td>\n",
       "      <td>building</td>\n",
       "      <td>research_center</td>\n",
       "      <td>f21d179f-1c4b-437e-b9c6-ab1976907195</td>\n",
       "      <td>NaN</td>\n",
       "      <td>pvp</td>\n",
       "    </tr>\n",
       "    <tr>\n",
       "      <th>135636</th>\n",
       "      <td>2020-06-05 02:25:12</td>\n",
       "      <td>finished_stage_1</td>\n",
       "      <td>NaN</td>\n",
       "      <td>515c1952-99aa-4bca-a7ea-d0449eb5385a</td>\n",
       "      <td>NaN</td>\n",
       "      <td>pvp</td>\n",
       "    </tr>\n",
       "    <tr>\n",
       "      <th>135637</th>\n",
       "      <td>2020-06-05 08:57:52</td>\n",
       "      <td>building</td>\n",
       "      <td>research_center</td>\n",
       "      <td>ed3e7d02-8a96-4be7-9998-e9813ff9c316</td>\n",
       "      <td>NaN</td>\n",
       "      <td>no_end</td>\n",
       "    </tr>\n",
       "    <tr>\n",
       "      <th>135638</th>\n",
       "      <td>2020-06-05 12:12:27</td>\n",
       "      <td>finished_stage_1</td>\n",
       "      <td>NaN</td>\n",
       "      <td>32572adb-900f-4b5d-a453-1eb1e6d88d8b</td>\n",
       "      <td>NaN</td>\n",
       "      <td>pvp</td>\n",
       "    </tr>\n",
       "    <tr>\n",
       "      <th>135639</th>\n",
       "      <td>2020-06-05 12:32:49</td>\n",
       "      <td>finished_stage_1</td>\n",
       "      <td>NaN</td>\n",
       "      <td>f21d179f-1c4b-437e-b9c6-ab1976907195</td>\n",
       "      <td>NaN</td>\n",
       "      <td>pvp</td>\n",
       "    </tr>\n",
       "  </tbody>\n",
       "</table>\n",
       "<p>135639 rows × 6 columns</p>\n",
       "</div>"
      ],
      "text/plain": [
       "            event_datetime             event    building_type   \n",
       "0      2020-05-04 00:00:01          building    assembly_shop  \\\n",
       "1      2020-05-04 00:00:03          building    assembly_shop   \n",
       "2      2020-05-04 00:00:16          building    assembly_shop   \n",
       "3      2020-05-04 00:00:16          building    assembly_shop   \n",
       "4      2020-05-04 00:00:35          building    assembly_shop   \n",
       "...                    ...               ...              ...   \n",
       "135635 2020-06-05 00:08:06          building  research_center   \n",
       "135636 2020-06-05 02:25:12  finished_stage_1              NaN   \n",
       "135637 2020-06-05 08:57:52          building  research_center   \n",
       "135638 2020-06-05 12:12:27  finished_stage_1              NaN   \n",
       "135639 2020-06-05 12:32:49  finished_stage_1              NaN   \n",
       "\n",
       "                                     user_id project_type strategy  \n",
       "0       55e92310-cb8e-4754-b622-597e124b03de          NaN   no_end  \n",
       "1       c07b1c10-f477-44dc-81dc-ec82254b1347          NaN      pve  \n",
       "2       6edd42cc-e753-4ff6-a947-2107cd560710          NaN      pvp  \n",
       "3       92c69003-d60a-444a-827f-8cc51bf6bf4c          NaN   no_end  \n",
       "4       cdc6bb92-0ccb-4490-9866-ef142f09139d          NaN      pvp  \n",
       "...                                      ...          ...      ...  \n",
       "135635  f21d179f-1c4b-437e-b9c6-ab1976907195          NaN      pvp  \n",
       "135636  515c1952-99aa-4bca-a7ea-d0449eb5385a          NaN      pvp  \n",
       "135637  ed3e7d02-8a96-4be7-9998-e9813ff9c316          NaN   no_end  \n",
       "135638  32572adb-900f-4b5d-a453-1eb1e6d88d8b          NaN      pvp  \n",
       "135639  f21d179f-1c4b-437e-b9c6-ab1976907195          NaN      pvp  \n",
       "\n",
       "[135639 rows x 6 columns]"
      ]
     },
     "execution_count": 63,
     "metadata": {},
     "output_type": "execute_result"
    }
   ],
   "source": [
    "#cделаем таблицу с пометкой типа стратегии\n",
    "new_game_actions=game_actions.copy(deep=True)\n",
    "result=[]\n",
    "for value in new_game_actions['user_id']:\n",
    "    if value in pve_users_list:\n",
    "        result.append(\"pve\")    \n",
    "    elif value in pvp_users_list:\n",
    "        result.append(\"pvp\")   \n",
    "    else:    \n",
    "        result.append(\"no_end\")    \n",
    "new_game_actions['strategy']=result\n",
    "\n",
    "new_game_actions"
   ]
  },
  {
   "cell_type": "code",
   "execution_count": 64,
   "id": "d70c080d",
   "metadata": {},
   "outputs": [
    {
     "data": {
      "text/plain": [
       "13576"
      ]
     },
     "execution_count": 64,
     "metadata": {},
     "output_type": "execute_result"
    }
   ],
   "source": [
    "#всего уникальных пользователей\n",
    "new_game_actions['user_id'].nunique()"
   ]
  },
  {
   "cell_type": "code",
   "execution_count": 65,
   "id": "7d730d7f",
   "metadata": {},
   "outputs": [
    {
     "data": {
      "text/plain": [
       "7759"
      ]
     },
     "execution_count": 65,
     "metadata": {},
     "output_type": "execute_result"
    }
   ],
   "source": [
    "#сколько не закончили игру\n",
    "users_no_end=new_game_actions.query('strategy==\"no_end\"')['user_id'].nunique()\n",
    "users_no_end"
   ]
  },
  {
   "cell_type": "code",
   "execution_count": 66,
   "id": "f55fa13d",
   "metadata": {
    "scrolled": true
   },
   "outputs": [
    {
     "data": {
      "image/png": "[encoded data removed]",
      "text/plain": [
       "<Figure size 720x360 with 1 Axes>"
      ]
     },
     "metadata": {
      "needs_background": "light"
     },
     "output_type": "display_data"
    }
   ],
   "source": [
    "#построим график распределения игроков по сценариям игры\n",
    "plt.figure(figsize=(10,5))\n",
    "plt.title('Сегментация пользователей по сценариям игры', fontdict={'size':15})\n",
    "ax = sns.barplot(data=new_game_actions.groupby(by='strategy').agg({'user_id':'nunique'}).reset_index(), x='strategy', y= 'user_id',palette='coolwarm')\n",
    "ax.set(xlabel='Сценарий игры', ylabel='Количество пользователей');"
   ]
  },
  {
   "cell_type": "markdown",
   "id": "bd55163a",
   "metadata": {},
   "source": [
    "Всего уникальных пользоателей 13576.\n",
    "7759 пользователей е закончили первый уровень.\n",
    "3951 игроков завершили игру победой над другим игроком.\n",
    "1866 игроков завершили игру реализовав проект."
   ]
  },
  {
   "cell_type": "markdown",
   "id": "e1e9f232",
   "metadata": {},
   "source": [
    "### Какой из этих двух сценариев оказывается быстрее?"
   ]
  },
  {
   "cell_type": "code",
   "execution_count": 67,
   "id": "9075afba",
   "metadata": {},
   "outputs": [
    {
     "data": {
      "text/html": [
       "<div>\n",
       "<style scoped>\n",
       "    .dataframe tbody tr th:only-of-type {\n",
       "        vertical-align: middle;\n",
       "    }\n",
       "\n",
       "    .dataframe tbody tr th {\n",
       "        vertical-align: top;\n",
       "    }\n",
       "\n",
       "    .dataframe thead th {\n",
       "        text-align: right;\n",
       "    }\n",
       "</style>\n",
       "<table border=\"1\" class=\"dataframe\">\n",
       "  <thead>\n",
       "    <tr style=\"text-align: right;\">\n",
       "      <th></th>\n",
       "      <th>user_id</th>\n",
       "      <th>game_finished</th>\n",
       "      <th>game_started</th>\n",
       "      <th>game_duration</th>\n",
       "      <th>strategy</th>\n",
       "    </tr>\n",
       "  </thead>\n",
       "  <tbody>\n",
       "    <tr>\n",
       "      <th>0</th>\n",
       "      <td>001d39dc-366c-4021-9604-6a3b9ff01e25</td>\n",
       "      <td>2020-05-12 07:40:47</td>\n",
       "      <td>2020-05-05 21:02:05</td>\n",
       "      <td>6 days 10:38:42</td>\n",
       "      <td>pvp</td>\n",
       "    </tr>\n",
       "    <tr>\n",
       "      <th>1</th>\n",
       "      <td>003ee7e8-6356-4286-a715-62f22a18d2a1</td>\n",
       "      <td>2020-05-17 21:47:49</td>\n",
       "      <td>2020-05-05 08:31:04</td>\n",
       "      <td>12 days 13:16:45</td>\n",
       "      <td>pvp</td>\n",
       "    </tr>\n",
       "    <tr>\n",
       "      <th>2</th>\n",
       "      <td>004074f8-251a-4776-922c-8348dca1a2f6</td>\n",
       "      <td>2020-05-16 19:57:40</td>\n",
       "      <td>2020-05-04 01:07:35</td>\n",
       "      <td>12 days 18:50:05</td>\n",
       "      <td>pvp</td>\n",
       "    </tr>\n",
       "    <tr>\n",
       "      <th>3</th>\n",
       "      <td>00464e5e-28ed-4be6-bf44-517ef7b3937b</td>\n",
       "      <td>2020-05-15 16:02:01</td>\n",
       "      <td>2020-05-04 08:35:29</td>\n",
       "      <td>11 days 07:26:32</td>\n",
       "      <td>pvp</td>\n",
       "    </tr>\n",
       "    <tr>\n",
       "      <th>4</th>\n",
       "      <td>0056c007-c082-43cc-bdef-afc49bca4cb9</td>\n",
       "      <td>2020-05-16 13:48:39</td>\n",
       "      <td>2020-05-10 11:49:47</td>\n",
       "      <td>6 days 01:58:52</td>\n",
       "      <td>pvp</td>\n",
       "    </tr>\n",
       "    <tr>\n",
       "      <th>...</th>\n",
       "      <td>...</td>\n",
       "      <td>...</td>\n",
       "      <td>...</td>\n",
       "      <td>...</td>\n",
       "      <td>...</td>\n",
       "    </tr>\n",
       "    <tr>\n",
       "      <th>5812</th>\n",
       "      <td>ffd002f3-3545-423e-8dba-0c6a2d48a3aa</td>\n",
       "      <td>2020-05-19 04:03:24</td>\n",
       "      <td>2020-05-06 06:34:18</td>\n",
       "      <td>12 days 21:29:06</td>\n",
       "      <td>pvp</td>\n",
       "    </tr>\n",
       "    <tr>\n",
       "      <th>5813</th>\n",
       "      <td>ffe810f4-1a1f-464b-924d-6f120b0cb8df</td>\n",
       "      <td>2020-05-18 02:03:36</td>\n",
       "      <td>2020-05-04 17:46:05</td>\n",
       "      <td>13 days 08:17:31</td>\n",
       "      <td>pvp</td>\n",
       "    </tr>\n",
       "    <tr>\n",
       "      <th>5814</th>\n",
       "      <td>ffef4fed-164c-40e1-bde1-3980f76d0fb5</td>\n",
       "      <td>2020-05-11 22:15:54</td>\n",
       "      <td>2020-05-04 01:58:59</td>\n",
       "      <td>7 days 20:16:55</td>\n",
       "      <td>pvp</td>\n",
       "    </tr>\n",
       "    <tr>\n",
       "      <th>5815</th>\n",
       "      <td>fffb626c-5ab6-47c9-8113-2062a2f18494</td>\n",
       "      <td>2020-05-12 13:01:52</td>\n",
       "      <td>2020-05-04 02:05:09</td>\n",
       "      <td>8 days 10:56:43</td>\n",
       "      <td>pvp</td>\n",
       "    </tr>\n",
       "    <tr>\n",
       "      <th>5816</th>\n",
       "      <td>ffff69cc-fec1-4fd3-9f98-93be1112a6b8</td>\n",
       "      <td>2020-05-25 14:05:51</td>\n",
       "      <td>2020-05-08 06:57:30</td>\n",
       "      <td>17 days 07:08:21</td>\n",
       "      <td>pve</td>\n",
       "    </tr>\n",
       "  </tbody>\n",
       "</table>\n",
       "<p>5817 rows × 5 columns</p>\n",
       "</div>"
      ],
      "text/plain": [
       "                                   user_id       game_finished   \n",
       "0     001d39dc-366c-4021-9604-6a3b9ff01e25 2020-05-12 07:40:47  \\\n",
       "1     003ee7e8-6356-4286-a715-62f22a18d2a1 2020-05-17 21:47:49   \n",
       "2     004074f8-251a-4776-922c-8348dca1a2f6 2020-05-16 19:57:40   \n",
       "3     00464e5e-28ed-4be6-bf44-517ef7b3937b 2020-05-15 16:02:01   \n",
       "4     0056c007-c082-43cc-bdef-afc49bca4cb9 2020-05-16 13:48:39   \n",
       "...                                    ...                 ...   \n",
       "5812  ffd002f3-3545-423e-8dba-0c6a2d48a3aa 2020-05-19 04:03:24   \n",
       "5813  ffe810f4-1a1f-464b-924d-6f120b0cb8df 2020-05-18 02:03:36   \n",
       "5814  ffef4fed-164c-40e1-bde1-3980f76d0fb5 2020-05-11 22:15:54   \n",
       "5815  fffb626c-5ab6-47c9-8113-2062a2f18494 2020-05-12 13:01:52   \n",
       "5816  ffff69cc-fec1-4fd3-9f98-93be1112a6b8 2020-05-25 14:05:51   \n",
       "\n",
       "            game_started    game_duration strategy  \n",
       "0    2020-05-05 21:02:05  6 days 10:38:42      pvp  \n",
       "1    2020-05-05 08:31:04 12 days 13:16:45      pvp  \n",
       "2    2020-05-04 01:07:35 12 days 18:50:05      pvp  \n",
       "3    2020-05-04 08:35:29 11 days 07:26:32      pvp  \n",
       "4    2020-05-10 11:49:47  6 days 01:58:52      pvp  \n",
       "...                  ...              ...      ...  \n",
       "5812 2020-05-06 06:34:18 12 days 21:29:06      pvp  \n",
       "5813 2020-05-04 17:46:05 13 days 08:17:31      pvp  \n",
       "5814 2020-05-04 01:58:59  7 days 20:16:55      pvp  \n",
       "5815 2020-05-04 02:05:09  8 days 10:56:43      pvp  \n",
       "5816 2020-05-08 06:57:30 17 days 07:08:21      pve  \n",
       "\n",
       "[5817 rows x 5 columns]"
      ]
     },
     "execution_count": 67,
     "metadata": {},
     "output_type": "execute_result"
    }
   ],
   "source": [
    "#добавим в таблицу с расчетами скорости прохождения уровня сценарий прохождения игры\n",
    "\n",
    "result=[]\n",
    "for value in first_stage_users['user_id']:\n",
    "    if value in pve_users_list:\n",
    "        result.append(\"pve\")\n",
    "    else:    \n",
    "        result.append(\"pvp\")\n",
    "first_stage_users['strategy']=result\n",
    "\n",
    "first_stage_users"
   ]
  },
  {
   "cell_type": "code",
   "execution_count": 68,
   "id": "15e0f2e2",
   "metadata": {},
   "outputs": [
    {
     "data": {
      "text/plain": [
       "strategy\n",
       "pve   13 days 00:45:41\n",
       "pvp   10 days 19:01:37\n",
       "Name: game_duration, dtype: timedelta64[s]"
      ]
     },
     "execution_count": 68,
     "metadata": {},
     "output_type": "execute_result"
    }
   ],
   "source": [
    "#посчитаем медианное время прохождения игры при каждом типе стратегии\n",
    "first_stage_users.groupby(by='strategy')['game_duration'].median(numeric_only=False)"
   ]
  },
  {
   "cell_type": "code",
   "execution_count": 69,
   "id": "741212e1",
   "metadata": {},
   "outputs": [
    {
     "name": "stdout",
     "output_type": "stream",
     "text": [
      "<class 'pandas.core.frame.DataFrame'>\n",
      "RangeIndex: 5817 entries, 0 to 5816\n",
      "Data columns (total 5 columns):\n",
      " #   Column         Non-Null Count  Dtype         \n",
      "---  ------         --------------  -----         \n",
      " 0   user_id        5817 non-null   object        \n",
      " 1   game_finished  5817 non-null   datetime64[s] \n",
      " 2   game_started   5817 non-null   datetime64[s] \n",
      " 3   game_duration  5817 non-null   timedelta64[s]\n",
      " 4   strategy       5817 non-null   object        \n",
      "dtypes: datetime64[s](2), object(2), timedelta64[s](1)\n",
      "memory usage: 227.4+ KB\n"
     ]
    }
   ],
   "source": [
    "first_stage_users.info()"
   ]
  },
  {
   "cell_type": "markdown",
   "id": "2a43691f",
   "metadata": {},
   "source": [
    "Пользователи, которые выбирают пройти уровень построив космическую орбитальную станцию тратят на прохождение 13 дней, а пользователи, предпочевшие победить другого игрока  - на 3 дня меньше (10 дней)."
   ]
  },
  {
   "cell_type": "markdown",
   "id": "2655053a",
   "metadata": {},
   "source": [
    "### Сколько обьектов и какого типа строят при каждом типе стретегии?"
   ]
  },
  {
   "cell_type": "code",
   "execution_count": 70,
   "id": "c6dfc3f5",
   "metadata": {
    "scrolled": false
   },
   "outputs": [
    {
     "data": {
      "text/html": [
       "<div>\n",
       "<style scoped>\n",
       "    .dataframe tbody tr th:only-of-type {\n",
       "        vertical-align: middle;\n",
       "    }\n",
       "\n",
       "    .dataframe tbody tr th {\n",
       "        vertical-align: top;\n",
       "    }\n",
       "\n",
       "    .dataframe thead th {\n",
       "        text-align: right;\n",
       "    }\n",
       "</style>\n",
       "<table border=\"1\" class=\"dataframe\">\n",
       "  <thead>\n",
       "    <tr style=\"text-align: right;\">\n",
       "      <th></th>\n",
       "      <th></th>\n",
       "      <th>count</th>\n",
       "    </tr>\n",
       "    <tr>\n",
       "      <th>strategy</th>\n",
       "      <th>building_type</th>\n",
       "      <th></th>\n",
       "    </tr>\n",
       "  </thead>\n",
       "  <tbody>\n",
       "    <tr>\n",
       "      <th rowspan=\"3\" valign=\"top\">pvp</th>\n",
       "      <th>spaceport</th>\n",
       "      <td>17132</td>\n",
       "    </tr>\n",
       "    <tr>\n",
       "      <th>assembly_shop</th>\n",
       "      <td>16298</td>\n",
       "    </tr>\n",
       "    <tr>\n",
       "      <th>research_center</th>\n",
       "      <td>3755</td>\n",
       "    </tr>\n",
       "    <tr>\n",
       "      <th rowspan=\"3\" valign=\"top\">pve</th>\n",
       "      <th>spaceport</th>\n",
       "      <td>10788</td>\n",
       "    </tr>\n",
       "    <tr>\n",
       "      <th>assembly_shop</th>\n",
       "      <td>9116</td>\n",
       "    </tr>\n",
       "    <tr>\n",
       "      <th>research_center</th>\n",
       "      <td>3697</td>\n",
       "    </tr>\n",
       "    <tr>\n",
       "      <th rowspan=\"3\" valign=\"top\">no_end</th>\n",
       "      <th>spaceport</th>\n",
       "      <td>31405</td>\n",
       "    </tr>\n",
       "    <tr>\n",
       "      <th>assembly_shop</th>\n",
       "      <td>29080</td>\n",
       "    </tr>\n",
       "    <tr>\n",
       "      <th>research_center</th>\n",
       "      <td>6685</td>\n",
       "    </tr>\n",
       "  </tbody>\n",
       "</table>\n",
       "</div>"
      ],
      "text/plain": [
       "                          count\n",
       "strategy building_type         \n",
       "pvp      spaceport        17132\n",
       "         assembly_shop    16298\n",
       "         research_center   3755\n",
       "pve      spaceport        10788\n",
       "         assembly_shop     9116\n",
       "         research_center   3697\n",
       "no_end   spaceport        31405\n",
       "         assembly_shop    29080\n",
       "         research_center   6685"
      ]
     },
     "execution_count": 70,
     "metadata": {},
     "output_type": "execute_result"
    }
   ],
   "source": [
    "building_by_strategy=new_game_actions.groupby(by=['strategy','building_type']).agg({'building_type':'count'})\n",
    "#переименнуем колонки\n",
    "building_by_strategy.columns = ['count']\n",
    "building_by_strategy=building_by_strategy.sort_values(by=['strategy','count'],ascending=False)\n",
    "building_by_strategy"
   ]
  },
  {
   "cell_type": "code",
   "execution_count": 71,
   "id": "1456db59",
   "metadata": {},
   "outputs": [
    {
     "data": {
      "image/png": "[encoded data removed]",
      "text/plain": [
       "<Figure size 1080x504 with 1 Axes>"
      ]
     },
     "metadata": {
      "needs_background": "light"
     },
     "output_type": "display_data"
    }
   ],
   "source": [
    "plt.figure(figsize=(15,7))\n",
    "plt.title('Количество построек по типам построек и стратегиям игры', fontdict={'size':15})\n",
    "ax=sns.barplot( data=building_by_strategy.reset_index(),x='strategy',y='count', hue='building_type', palette='coolwarm')\n",
    "ax.set(xlabel='Стратегия', ylabel='Количество построек');"
   ]
  },
  {
   "cell_type": "code",
   "execution_count": 72,
   "id": "b4035cd2",
   "metadata": {},
   "outputs": [
    {
     "data": {
      "text/html": [
       "<div>\n",
       "<style scoped>\n",
       "    .dataframe tbody tr th:only-of-type {\n",
       "        vertical-align: middle;\n",
       "    }\n",
       "\n",
       "    .dataframe tbody tr th {\n",
       "        vertical-align: top;\n",
       "    }\n",
       "\n",
       "    .dataframe thead th {\n",
       "        text-align: right;\n",
       "    }\n",
       "</style>\n",
       "<table border=\"1\" class=\"dataframe\">\n",
       "  <thead>\n",
       "    <tr style=\"text-align: right;\">\n",
       "      <th></th>\n",
       "      <th>building_type</th>\n",
       "    </tr>\n",
       "    <tr>\n",
       "      <th>strategy</th>\n",
       "      <th></th>\n",
       "    </tr>\n",
       "  </thead>\n",
       "  <tbody>\n",
       "    <tr>\n",
       "      <th>pve</th>\n",
       "      <td>23601</td>\n",
       "    </tr>\n",
       "    <tr>\n",
       "      <th>pvp</th>\n",
       "      <td>37185</td>\n",
       "    </tr>\n",
       "    <tr>\n",
       "      <th>no_end</th>\n",
       "      <td>67170</td>\n",
       "    </tr>\n",
       "  </tbody>\n",
       "</table>\n",
       "</div>"
      ],
      "text/plain": [
       "          building_type\n",
       "strategy               \n",
       "pve               23601\n",
       "pvp               37185\n",
       "no_end            67170"
      ]
     },
     "execution_count": 72,
     "metadata": {},
     "output_type": "execute_result"
    }
   ],
   "source": [
    "#посчитаем суммарное количество построек по типам сценария игры\n",
    "new_game_actions.groupby(by=['strategy']).agg({'building_type':'count'}).sort_values(by='building_type')"
   ]
  },
  {
   "cell_type": "markdown",
   "id": "8d8768a5",
   "metadata": {},
   "source": [
    "Строительство космопортов лидирует при любом типе стратегии. Однако,при прохождении через победу над другим игром построек  суммарно существенно больше, как космопортов, так и вцелом."
   ]
  },
  {
   "cell_type": "markdown",
   "id": "45fdb605",
   "metadata": {},
   "source": [
    "Пользователей предпочитающих победу над другим игроком больше, следовательно суммарно эта категория пользователей лидирует по количеству построек.\n",
    "Ниже рассмотрим сколько в среднем строят пользователи, в том числе с учетом стратегии игры."
   ]
  },
  {
   "cell_type": "markdown",
   "id": "5d137719",
   "metadata": {},
   "source": [
    "### Сколько пользователи в среднем строят построек?"
   ]
  },
  {
   "cell_type": "code",
   "execution_count": 73,
   "id": "47ffc60a",
   "metadata": {},
   "outputs": [
    {
     "data": {
      "text/html": [
       "<div>\n",
       "<style scoped>\n",
       "    .dataframe tbody tr th:only-of-type {\n",
       "        vertical-align: middle;\n",
       "    }\n",
       "\n",
       "    .dataframe tbody tr th {\n",
       "        vertical-align: top;\n",
       "    }\n",
       "\n",
       "    .dataframe thead th {\n",
       "        text-align: right;\n",
       "    }\n",
       "</style>\n",
       "<table border=\"1\" class=\"dataframe\">\n",
       "  <thead>\n",
       "    <tr style=\"text-align: right;\">\n",
       "      <th></th>\n",
       "      <th></th>\n",
       "      <th>building_count</th>\n",
       "    </tr>\n",
       "    <tr>\n",
       "      <th>user_id</th>\n",
       "      <th>strategy</th>\n",
       "      <th></th>\n",
       "    </tr>\n",
       "  </thead>\n",
       "  <tbody>\n",
       "    <tr>\n",
       "      <th>83d9c3c0-35d0-434f-84d8-1ad2f6b606bb</th>\n",
       "      <th>no_end</th>\n",
       "      <td>1</td>\n",
       "    </tr>\n",
       "    <tr>\n",
       "      <th>dac343d0-b438-4ea7-87a4-83ab7ed0b164</th>\n",
       "      <th>no_end</th>\n",
       "      <td>1</td>\n",
       "    </tr>\n",
       "    <tr>\n",
       "      <th>f503e280-dfdd-439b-afcd-af93433aec42</th>\n",
       "      <th>no_end</th>\n",
       "      <td>1</td>\n",
       "    </tr>\n",
       "    <tr>\n",
       "      <th>8a0c43d1-e44e-4799-845a-d4b61d00c0c7</th>\n",
       "      <th>no_end</th>\n",
       "      <td>1</td>\n",
       "    </tr>\n",
       "    <tr>\n",
       "      <th>886c3d2d-a547-4f46-9d03-0722ba3b3f5e</th>\n",
       "      <th>no_end</th>\n",
       "      <td>1</td>\n",
       "    </tr>\n",
       "    <tr>\n",
       "      <th>...</th>\n",
       "      <th>...</th>\n",
       "      <td>...</td>\n",
       "    </tr>\n",
       "    <tr>\n",
       "      <th>ff841992-d93b-462e-bc6e-18c24a514f36</th>\n",
       "      <th>pve</th>\n",
       "      <td>20</td>\n",
       "    </tr>\n",
       "    <tr>\n",
       "      <th>cefc5aac-4011-4e00-becc-2634c4527713</th>\n",
       "      <th>no_end</th>\n",
       "      <td>20</td>\n",
       "    </tr>\n",
       "    <tr>\n",
       "      <th>a5add3ce-1ac4-4b97-aba0-f040efc4c1b0</th>\n",
       "      <th>no_end</th>\n",
       "      <td>20</td>\n",
       "    </tr>\n",
       "    <tr>\n",
       "      <th>bf542075-e3a2-4e79-82d8-3838e86d2a25</th>\n",
       "      <th>pve</th>\n",
       "      <td>20</td>\n",
       "    </tr>\n",
       "    <tr>\n",
       "      <th>4c5782eb-6f86-4fde-a2e6-695dc86fa928</th>\n",
       "      <th>no_end</th>\n",
       "      <td>20</td>\n",
       "    </tr>\n",
       "  </tbody>\n",
       "</table>\n",
       "<p>13576 rows × 1 columns</p>\n",
       "</div>"
      ],
      "text/plain": [
       "                                               building_count\n",
       "user_id                              strategy                \n",
       "83d9c3c0-35d0-434f-84d8-1ad2f6b606bb no_end                 1\n",
       "dac343d0-b438-4ea7-87a4-83ab7ed0b164 no_end                 1\n",
       "f503e280-dfdd-439b-afcd-af93433aec42 no_end                 1\n",
       "8a0c43d1-e44e-4799-845a-d4b61d00c0c7 no_end                 1\n",
       "886c3d2d-a547-4f46-9d03-0722ba3b3f5e no_end                 1\n",
       "...                                                       ...\n",
       "ff841992-d93b-462e-bc6e-18c24a514f36 pve                   20\n",
       "cefc5aac-4011-4e00-becc-2634c4527713 no_end                20\n",
       "a5add3ce-1ac4-4b97-aba0-f040efc4c1b0 no_end                20\n",
       "bf542075-e3a2-4e79-82d8-3838e86d2a25 pve                   20\n",
       "4c5782eb-6f86-4fde-a2e6-695dc86fa928 no_end                20\n",
       "\n",
       "[13576 rows x 1 columns]"
      ]
     },
     "execution_count": 73,
     "metadata": {},
     "output_type": "execute_result"
    }
   ],
   "source": [
    "#сколько построек совершает каждый пользователь\n",
    "building_per_user=(new_game_actions.groupby(by=['user_id','strategy'])\n",
    "                              .agg({'building_type':'count'})\n",
    "                              .sort_values(by='building_type'))\n",
    "building_per_user.columns=['building_count']\n",
    "building_per_user"
   ]
  },
  {
   "cell_type": "code",
   "execution_count": 74,
   "id": "404f1b87",
   "metadata": {},
   "outputs": [
    {
     "data": {
      "text/html": [
       "<div>\n",
       "<style scoped>\n",
       "    .dataframe tbody tr th:only-of-type {\n",
       "        vertical-align: middle;\n",
       "    }\n",
       "\n",
       "    .dataframe tbody tr th {\n",
       "        vertical-align: top;\n",
       "    }\n",
       "\n",
       "    .dataframe thead th {\n",
       "        text-align: right;\n",
       "    }\n",
       "</style>\n",
       "<table border=\"1\" class=\"dataframe\">\n",
       "  <thead>\n",
       "    <tr style=\"text-align: right;\">\n",
       "      <th></th>\n",
       "      <th>building_count</th>\n",
       "    </tr>\n",
       "  </thead>\n",
       "  <tbody>\n",
       "    <tr>\n",
       "      <th>count</th>\n",
       "      <td>13576.000000</td>\n",
       "    </tr>\n",
       "    <tr>\n",
       "      <th>mean</th>\n",
       "      <td>9.425162</td>\n",
       "    </tr>\n",
       "    <tr>\n",
       "      <th>std</th>\n",
       "      <td>3.860800</td>\n",
       "    </tr>\n",
       "    <tr>\n",
       "      <th>min</th>\n",
       "      <td>1.000000</td>\n",
       "    </tr>\n",
       "    <tr>\n",
       "      <th>25%</th>\n",
       "      <td>6.000000</td>\n",
       "    </tr>\n",
       "    <tr>\n",
       "      <th>50%</th>\n",
       "      <td>10.000000</td>\n",
       "    </tr>\n",
       "    <tr>\n",
       "      <th>75%</th>\n",
       "      <td>12.000000</td>\n",
       "    </tr>\n",
       "    <tr>\n",
       "      <th>max</th>\n",
       "      <td>20.000000</td>\n",
       "    </tr>\n",
       "  </tbody>\n",
       "</table>\n",
       "</div>"
      ],
      "text/plain": [
       "       building_count\n",
       "count    13576.000000\n",
       "mean         9.425162\n",
       "std          3.860800\n",
       "min          1.000000\n",
       "25%          6.000000\n",
       "50%         10.000000\n",
       "75%         12.000000\n",
       "max         20.000000"
      ]
     },
     "execution_count": 74,
     "metadata": {},
     "output_type": "execute_result"
    }
   ],
   "source": [
    "building_per_user.describe()"
   ]
  },
  {
   "cell_type": "code",
   "execution_count": 75,
   "id": "ebab6812",
   "metadata": {},
   "outputs": [
    {
     "data": {
      "text/html": [
       "<div>\n",
       "<style scoped>\n",
       "    .dataframe tbody tr th:only-of-type {\n",
       "        vertical-align: middle;\n",
       "    }\n",
       "\n",
       "    .dataframe tbody tr th {\n",
       "        vertical-align: top;\n",
       "    }\n",
       "\n",
       "    .dataframe thead th {\n",
       "        text-align: right;\n",
       "    }\n",
       "</style>\n",
       "<table border=\"1\" class=\"dataframe\">\n",
       "  <thead>\n",
       "    <tr style=\"text-align: right;\">\n",
       "      <th></th>\n",
       "      <th>building_count</th>\n",
       "    </tr>\n",
       "    <tr>\n",
       "      <th>strategy</th>\n",
       "      <th></th>\n",
       "    </tr>\n",
       "  </thead>\n",
       "  <tbody>\n",
       "    <tr>\n",
       "      <th>no_end</th>\n",
       "      <td>8.657043</td>\n",
       "    </tr>\n",
       "    <tr>\n",
       "      <th>pve</th>\n",
       "      <td>12.647910</td>\n",
       "    </tr>\n",
       "    <tr>\n",
       "      <th>pvp</th>\n",
       "      <td>9.411541</td>\n",
       "    </tr>\n",
       "  </tbody>\n",
       "</table>\n",
       "</div>"
      ],
      "text/plain": [
       "          building_count\n",
       "strategy                \n",
       "no_end          8.657043\n",
       "pve            12.647910\n",
       "pvp             9.411541"
      ]
     },
     "execution_count": 75,
     "metadata": {},
     "output_type": "execute_result"
    }
   ],
   "source": [
    " #cреднее количество построек на игрока по сценариям игры\n",
    "building_per_user.groupby('strategy').agg({'building_count':'mean'})"
   ]
  },
  {
   "cell_type": "code",
   "execution_count": 76,
   "id": "14351ea8",
   "metadata": {},
   "outputs": [
    {
     "data": {
      "image/png": "[encoded data removed]",
      "text/plain": [
       "<Figure size 1080x504 with 1 Axes>"
      ]
     },
     "metadata": {
      "needs_background": "light"
     },
     "output_type": "display_data"
    }
   ],
   "source": [
    "#построим гистограмму\n",
    "building_per_user.reset_index().hist(bins=20,color='olivedrab',figsize=(15,7))\n",
    "plt.title('Гистограмма скорости прохождения первого уровня', fontdict={'size':15})\n",
    "plt.xlabel('Время прохождения')\n",
    "plt.ylabel('Количество пользователей');"
   ]
  },
  {
   "cell_type": "markdown",
   "id": "2774642f",
   "metadata": {},
   "source": [
    "Среднее количество построек - 9,4. Максимальное - 20, минимальное - 1. Количество построек зависит от сценария игры, при победе над другим игроком всреднем строят меньше - 9,4, а при постройке космической орбитальной станции - 12.6."
   ]
  },
  {
   "cell_type": "code",
   "execution_count": 77,
   "id": "7c2df359",
   "metadata": {},
   "outputs": [],
   "source": [
    "buildings_only= (game_actions.query('event == \"building\"')\n",
    "                             .sort_values(by=['user_id','event_datetime'])\n",
    "                             .reset_index(drop=True))"
   ]
  },
  {
   "cell_type": "code",
   "execution_count": 78,
   "id": "d1139d89",
   "metadata": {
    "scrolled": true
   },
   "outputs": [
    {
     "data": {
      "text/html": [
       "<div>\n",
       "<style scoped>\n",
       "    .dataframe tbody tr th:only-of-type {\n",
       "        vertical-align: middle;\n",
       "    }\n",
       "\n",
       "    .dataframe tbody tr th {\n",
       "        vertical-align: top;\n",
       "    }\n",
       "\n",
       "    .dataframe thead th {\n",
       "        text-align: right;\n",
       "    }\n",
       "</style>\n",
       "<table border=\"1\" class=\"dataframe\">\n",
       "  <thead>\n",
       "    <tr style=\"text-align: right;\">\n",
       "      <th></th>\n",
       "      <th>event_datetime</th>\n",
       "      <th>event</th>\n",
       "      <th>building_type</th>\n",
       "      <th>user_id</th>\n",
       "      <th>project_type</th>\n",
       "    </tr>\n",
       "  </thead>\n",
       "  <tbody>\n",
       "    <tr>\n",
       "      <th>0</th>\n",
       "      <td>2020-05-06 01:07:37</td>\n",
       "      <td>building</td>\n",
       "      <td>assembly_shop</td>\n",
       "      <td>0001f83c-c6ac-4621-b7f0-8a28b283ac30</td>\n",
       "      <td>NaN</td>\n",
       "    </tr>\n",
       "    <tr>\n",
       "      <th>1</th>\n",
       "      <td>2020-05-06 11:31:56</td>\n",
       "      <td>building</td>\n",
       "      <td>assembly_shop</td>\n",
       "      <td>0001f83c-c6ac-4621-b7f0-8a28b283ac30</td>\n",
       "      <td>NaN</td>\n",
       "    </tr>\n",
       "    <tr>\n",
       "      <th>2</th>\n",
       "      <td>2020-05-06 15:11:50</td>\n",
       "      <td>building</td>\n",
       "      <td>assembly_shop</td>\n",
       "      <td>0001f83c-c6ac-4621-b7f0-8a28b283ac30</td>\n",
       "      <td>NaN</td>\n",
       "    </tr>\n",
       "    <tr>\n",
       "      <th>3</th>\n",
       "      <td>2020-05-09 05:59:57</td>\n",
       "      <td>building</td>\n",
       "      <td>assembly_shop</td>\n",
       "      <td>0001f83c-c6ac-4621-b7f0-8a28b283ac30</td>\n",
       "      <td>NaN</td>\n",
       "    </tr>\n",
       "    <tr>\n",
       "      <th>4</th>\n",
       "      <td>2020-05-09 07:35:40</td>\n",
       "      <td>building</td>\n",
       "      <td>assembly_shop</td>\n",
       "      <td>0001f83c-c6ac-4621-b7f0-8a28b283ac30</td>\n",
       "      <td>NaN</td>\n",
       "    </tr>\n",
       "  </tbody>\n",
       "</table>\n",
       "</div>"
      ],
      "text/plain": [
       "       event_datetime     event  building_type   \n",
       "0 2020-05-06 01:07:37  building  assembly_shop  \\\n",
       "1 2020-05-06 11:31:56  building  assembly_shop   \n",
       "2 2020-05-06 15:11:50  building  assembly_shop   \n",
       "3 2020-05-09 05:59:57  building  assembly_shop   \n",
       "4 2020-05-09 07:35:40  building  assembly_shop   \n",
       "\n",
       "                                user_id project_type  \n",
       "0  0001f83c-c6ac-4621-b7f0-8a28b283ac30          NaN  \n",
       "1  0001f83c-c6ac-4621-b7f0-8a28b283ac30          NaN  \n",
       "2  0001f83c-c6ac-4621-b7f0-8a28b283ac30          NaN  \n",
       "3  0001f83c-c6ac-4621-b7f0-8a28b283ac30          NaN  \n",
       "4  0001f83c-c6ac-4621-b7f0-8a28b283ac30          NaN  "
      ]
     },
     "execution_count": 78,
     "metadata": {},
     "output_type": "execute_result"
    }
   ],
   "source": [
    "buildings_only.head()"
   ]
  },
  {
   "cell_type": "markdown",
   "id": "4b84247a",
   "metadata": {},
   "source": [
    "Для каждой постройки присвоим порядковый номер для игрока"
   ]
  },
  {
   "cell_type": "code",
   "execution_count": 79,
   "id": "f3dce403",
   "metadata": {},
   "outputs": [
    {
     "data": {
      "text/html": [
       "<div>\n",
       "<style scoped>\n",
       "    .dataframe tbody tr th:only-of-type {\n",
       "        vertical-align: middle;\n",
       "    }\n",
       "\n",
       "    .dataframe tbody tr th {\n",
       "        vertical-align: top;\n",
       "    }\n",
       "\n",
       "    .dataframe thead th {\n",
       "        text-align: right;\n",
       "    }\n",
       "</style>\n",
       "<table border=\"1\" class=\"dataframe\">\n",
       "  <thead>\n",
       "    <tr style=\"text-align: right;\">\n",
       "      <th></th>\n",
       "      <th>event_datetime</th>\n",
       "      <th>event</th>\n",
       "      <th>building_type</th>\n",
       "      <th>user_id</th>\n",
       "      <th>project_type</th>\n",
       "      <th>num_build</th>\n",
       "    </tr>\n",
       "  </thead>\n",
       "  <tbody>\n",
       "    <tr>\n",
       "      <th>0</th>\n",
       "      <td>2020-05-06 01:07:37</td>\n",
       "      <td>building</td>\n",
       "      <td>assembly_shop</td>\n",
       "      <td>0001f83c-c6ac-4621-b7f0-8a28b283ac30</td>\n",
       "      <td>NaN</td>\n",
       "      <td>1</td>\n",
       "    </tr>\n",
       "    <tr>\n",
       "      <th>1</th>\n",
       "      <td>2020-05-06 11:31:56</td>\n",
       "      <td>building</td>\n",
       "      <td>assembly_shop</td>\n",
       "      <td>0001f83c-c6ac-4621-b7f0-8a28b283ac30</td>\n",
       "      <td>NaN</td>\n",
       "      <td>2</td>\n",
       "    </tr>\n",
       "    <tr>\n",
       "      <th>2</th>\n",
       "      <td>2020-05-06 15:11:50</td>\n",
       "      <td>building</td>\n",
       "      <td>assembly_shop</td>\n",
       "      <td>0001f83c-c6ac-4621-b7f0-8a28b283ac30</td>\n",
       "      <td>NaN</td>\n",
       "      <td>3</td>\n",
       "    </tr>\n",
       "    <tr>\n",
       "      <th>3</th>\n",
       "      <td>2020-05-09 05:59:57</td>\n",
       "      <td>building</td>\n",
       "      <td>assembly_shop</td>\n",
       "      <td>0001f83c-c6ac-4621-b7f0-8a28b283ac30</td>\n",
       "      <td>NaN</td>\n",
       "      <td>4</td>\n",
       "    </tr>\n",
       "    <tr>\n",
       "      <th>4</th>\n",
       "      <td>2020-05-09 07:35:40</td>\n",
       "      <td>building</td>\n",
       "      <td>assembly_shop</td>\n",
       "      <td>0001f83c-c6ac-4621-b7f0-8a28b283ac30</td>\n",
       "      <td>NaN</td>\n",
       "      <td>5</td>\n",
       "    </tr>\n",
       "    <tr>\n",
       "      <th>5</th>\n",
       "      <td>2020-05-09 17:36:38</td>\n",
       "      <td>building</td>\n",
       "      <td>assembly_shop</td>\n",
       "      <td>0001f83c-c6ac-4621-b7f0-8a28b283ac30</td>\n",
       "      <td>NaN</td>\n",
       "      <td>6</td>\n",
       "    </tr>\n",
       "    <tr>\n",
       "      <th>6</th>\n",
       "      <td>2020-05-11 17:10:00</td>\n",
       "      <td>building</td>\n",
       "      <td>spaceport</td>\n",
       "      <td>0001f83c-c6ac-4621-b7f0-8a28b283ac30</td>\n",
       "      <td>NaN</td>\n",
       "      <td>7</td>\n",
       "    </tr>\n",
       "    <tr>\n",
       "      <th>7</th>\n",
       "      <td>2020-05-12 03:21:47</td>\n",
       "      <td>building</td>\n",
       "      <td>spaceport</td>\n",
       "      <td>0001f83c-c6ac-4621-b7f0-8a28b283ac30</td>\n",
       "      <td>NaN</td>\n",
       "      <td>8</td>\n",
       "    </tr>\n",
       "    <tr>\n",
       "      <th>8</th>\n",
       "      <td>2020-05-12 04:03:20</td>\n",
       "      <td>building</td>\n",
       "      <td>spaceport</td>\n",
       "      <td>0001f83c-c6ac-4621-b7f0-8a28b283ac30</td>\n",
       "      <td>NaN</td>\n",
       "      <td>9</td>\n",
       "    </tr>\n",
       "    <tr>\n",
       "      <th>9</th>\n",
       "      <td>2020-05-14 16:58:48</td>\n",
       "      <td>building</td>\n",
       "      <td>spaceport</td>\n",
       "      <td>0001f83c-c6ac-4621-b7f0-8a28b283ac30</td>\n",
       "      <td>NaN</td>\n",
       "      <td>10</td>\n",
       "    </tr>\n",
       "    <tr>\n",
       "      <th>10</th>\n",
       "      <td>2020-05-18 18:02:14</td>\n",
       "      <td>building</td>\n",
       "      <td>spaceport</td>\n",
       "      <td>0001f83c-c6ac-4621-b7f0-8a28b283ac30</td>\n",
       "      <td>NaN</td>\n",
       "      <td>11</td>\n",
       "    </tr>\n",
       "    <tr>\n",
       "      <th>11</th>\n",
       "      <td>2020-05-19 02:44:08</td>\n",
       "      <td>building</td>\n",
       "      <td>spaceport</td>\n",
       "      <td>0001f83c-c6ac-4621-b7f0-8a28b283ac30</td>\n",
       "      <td>NaN</td>\n",
       "      <td>12</td>\n",
       "    </tr>\n",
       "    <tr>\n",
       "      <th>12</th>\n",
       "      <td>2020-05-20 11:26:06</td>\n",
       "      <td>building</td>\n",
       "      <td>research_center</td>\n",
       "      <td>0001f83c-c6ac-4621-b7f0-8a28b283ac30</td>\n",
       "      <td>NaN</td>\n",
       "      <td>13</td>\n",
       "    </tr>\n",
       "    <tr>\n",
       "      <th>13</th>\n",
       "      <td>2020-05-06 03:09:12</td>\n",
       "      <td>building</td>\n",
       "      <td>assembly_shop</td>\n",
       "      <td>00151b4f-ba38-44a8-a650-d7cf130a0105</td>\n",
       "      <td>NaN</td>\n",
       "      <td>1</td>\n",
       "    </tr>\n",
       "    <tr>\n",
       "      <th>14</th>\n",
       "      <td>2020-05-06 11:00:18</td>\n",
       "      <td>building</td>\n",
       "      <td>assembly_shop</td>\n",
       "      <td>00151b4f-ba38-44a8-a650-d7cf130a0105</td>\n",
       "      <td>NaN</td>\n",
       "      <td>2</td>\n",
       "    </tr>\n",
       "    <tr>\n",
       "      <th>15</th>\n",
       "      <td>2020-05-07 04:41:52</td>\n",
       "      <td>building</td>\n",
       "      <td>assembly_shop</td>\n",
       "      <td>00151b4f-ba38-44a8-a650-d7cf130a0105</td>\n",
       "      <td>NaN</td>\n",
       "      <td>3</td>\n",
       "    </tr>\n",
       "    <tr>\n",
       "      <th>16</th>\n",
       "      <td>2020-05-09 21:46:24</td>\n",
       "      <td>building</td>\n",
       "      <td>assembly_shop</td>\n",
       "      <td>00151b4f-ba38-44a8-a650-d7cf130a0105</td>\n",
       "      <td>NaN</td>\n",
       "      <td>4</td>\n",
       "    </tr>\n",
       "    <tr>\n",
       "      <th>17</th>\n",
       "      <td>2020-05-11 11:49:18</td>\n",
       "      <td>building</td>\n",
       "      <td>spaceport</td>\n",
       "      <td>00151b4f-ba38-44a8-a650-d7cf130a0105</td>\n",
       "      <td>NaN</td>\n",
       "      <td>5</td>\n",
       "    </tr>\n",
       "    <tr>\n",
       "      <th>18</th>\n",
       "      <td>2020-05-11 13:31:13</td>\n",
       "      <td>building</td>\n",
       "      <td>spaceport</td>\n",
       "      <td>00151b4f-ba38-44a8-a650-d7cf130a0105</td>\n",
       "      <td>NaN</td>\n",
       "      <td>6</td>\n",
       "    </tr>\n",
       "    <tr>\n",
       "      <th>19</th>\n",
       "      <td>2020-05-13 02:16:52</td>\n",
       "      <td>building</td>\n",
       "      <td>spaceport</td>\n",
       "      <td>00151b4f-ba38-44a8-a650-d7cf130a0105</td>\n",
       "      <td>NaN</td>\n",
       "      <td>7</td>\n",
       "    </tr>\n",
       "  </tbody>\n",
       "</table>\n",
       "</div>"
      ],
      "text/plain": [
       "        event_datetime     event    building_type   \n",
       "0  2020-05-06 01:07:37  building    assembly_shop  \\\n",
       "1  2020-05-06 11:31:56  building    assembly_shop   \n",
       "2  2020-05-06 15:11:50  building    assembly_shop   \n",
       "3  2020-05-09 05:59:57  building    assembly_shop   \n",
       "4  2020-05-09 07:35:40  building    assembly_shop   \n",
       "5  2020-05-09 17:36:38  building    assembly_shop   \n",
       "6  2020-05-11 17:10:00  building        spaceport   \n",
       "7  2020-05-12 03:21:47  building        spaceport   \n",
       "8  2020-05-12 04:03:20  building        spaceport   \n",
       "9  2020-05-14 16:58:48  building        spaceport   \n",
       "10 2020-05-18 18:02:14  building        spaceport   \n",
       "11 2020-05-19 02:44:08  building        spaceport   \n",
       "12 2020-05-20 11:26:06  building  research_center   \n",
       "13 2020-05-06 03:09:12  building    assembly_shop   \n",
       "14 2020-05-06 11:00:18  building    assembly_shop   \n",
       "15 2020-05-07 04:41:52  building    assembly_shop   \n",
       "16 2020-05-09 21:46:24  building    assembly_shop   \n",
       "17 2020-05-11 11:49:18  building        spaceport   \n",
       "18 2020-05-11 13:31:13  building        spaceport   \n",
       "19 2020-05-13 02:16:52  building        spaceport   \n",
       "\n",
       "                                 user_id project_type  num_build  \n",
       "0   0001f83c-c6ac-4621-b7f0-8a28b283ac30          NaN          1  \n",
       "1   0001f83c-c6ac-4621-b7f0-8a28b283ac30          NaN          2  \n",
       "2   0001f83c-c6ac-4621-b7f0-8a28b283ac30          NaN          3  \n",
       "3   0001f83c-c6ac-4621-b7f0-8a28b283ac30          NaN          4  \n",
       "4   0001f83c-c6ac-4621-b7f0-8a28b283ac30          NaN          5  \n",
       "5   0001f83c-c6ac-4621-b7f0-8a28b283ac30          NaN          6  \n",
       "6   0001f83c-c6ac-4621-b7f0-8a28b283ac30          NaN          7  \n",
       "7   0001f83c-c6ac-4621-b7f0-8a28b283ac30          NaN          8  \n",
       "8   0001f83c-c6ac-4621-b7f0-8a28b283ac30          NaN          9  \n",
       "9   0001f83c-c6ac-4621-b7f0-8a28b283ac30          NaN         10  \n",
       "10  0001f83c-c6ac-4621-b7f0-8a28b283ac30          NaN         11  \n",
       "11  0001f83c-c6ac-4621-b7f0-8a28b283ac30          NaN         12  \n",
       "12  0001f83c-c6ac-4621-b7f0-8a28b283ac30          NaN         13  \n",
       "13  00151b4f-ba38-44a8-a650-d7cf130a0105          NaN          1  \n",
       "14  00151b4f-ba38-44a8-a650-d7cf130a0105          NaN          2  \n",
       "15  00151b4f-ba38-44a8-a650-d7cf130a0105          NaN          3  \n",
       "16  00151b4f-ba38-44a8-a650-d7cf130a0105          NaN          4  \n",
       "17  00151b4f-ba38-44a8-a650-d7cf130a0105          NaN          5  \n",
       "18  00151b4f-ba38-44a8-a650-d7cf130a0105          NaN          6  \n",
       "19  00151b4f-ba38-44a8-a650-d7cf130a0105          NaN          7  "
      ]
     },
     "execution_count": 79,
     "metadata": {},
     "output_type": "execute_result"
    }
   ],
   "source": [
    "buildings_only['num_build']=buildings_only.groupby('user_id')['event_datetime'].cumcount()+1\n",
    "buildings_only.head(20)"
   ]
  },
  {
   "cell_type": "code",
   "execution_count": 80,
   "id": "5694ee37",
   "metadata": {
    "scrolled": true
   },
   "outputs": [
    {
     "data": {
      "text/html": [
       "<div>\n",
       "<style scoped>\n",
       "    .dataframe tbody tr th:only-of-type {\n",
       "        vertical-align: middle;\n",
       "    }\n",
       "\n",
       "    .dataframe tbody tr th {\n",
       "        vertical-align: top;\n",
       "    }\n",
       "\n",
       "    .dataframe thead th {\n",
       "        text-align: right;\n",
       "    }\n",
       "</style>\n",
       "<table border=\"1\" class=\"dataframe\">\n",
       "  <thead>\n",
       "    <tr style=\"text-align: right;\">\n",
       "      <th></th>\n",
       "      <th>num_build</th>\n",
       "      <th>user_id</th>\n",
       "    </tr>\n",
       "  </thead>\n",
       "  <tbody>\n",
       "    <tr>\n",
       "      <th>0</th>\n",
       "      <td>1</td>\n",
       "      <td>13576</td>\n",
       "    </tr>\n",
       "    <tr>\n",
       "      <th>1</th>\n",
       "      <td>2</td>\n",
       "      <td>13519</td>\n",
       "    </tr>\n",
       "    <tr>\n",
       "      <th>2</th>\n",
       "      <td>3</td>\n",
       "      <td>13241</td>\n",
       "    </tr>\n",
       "    <tr>\n",
       "      <th>3</th>\n",
       "      <td>4</td>\n",
       "      <td>12685</td>\n",
       "    </tr>\n",
       "    <tr>\n",
       "      <th>4</th>\n",
       "      <td>5</td>\n",
       "      <td>11903</td>\n",
       "    </tr>\n",
       "  </tbody>\n",
       "</table>\n",
       "</div>"
      ],
      "text/plain": [
       "   num_build  user_id\n",
       "0          1    13576\n",
       "1          2    13519\n",
       "2          3    13241\n",
       "3          4    12685\n",
       "4          5    11903"
      ]
     },
     "execution_count": 80,
     "metadata": {},
     "output_type": "execute_result"
    }
   ],
   "source": [
    "pv_new= buildings_only.groupby('num_build').agg({'user_id':'count'}).reset_index()\n",
    "pv_new.head()"
   ]
  },
  {
   "cell_type": "code",
   "execution_count": 81,
   "id": "c26bd18d",
   "metadata": {},
   "outputs": [
    {
     "data": {
      "text/plain": [
       "114380"
      ]
     },
     "execution_count": 81,
     "metadata": {},
     "output_type": "execute_result"
    }
   ],
   "source": [
    "pv_new.query('num_build>1')['user_id'].sum()"
   ]
  },
  {
   "cell_type": "markdown",
   "id": "6f55d938",
   "metadata": {},
   "source": [
    "Получается, что первую постройку постройили 13576 раз, для достижения нужного количества показов - 108623 раз, показыать нужно уже начиная  со второй постройки. \n",
    "\n",
    "Далее я бы эту модель не рассмтаривала и ориентировалась бы на показ со второго дня, тк показ со второй пострйоки - много негатива."
   ]
  },
  {
   "cell_type": "markdown",
   "id": "35085e6d",
   "metadata": {},
   "source": [
    "## Проверка статистической гипотезы различия времени прохождения уровня между пользователями, которые заканчивают уровень через реализацию проекта, и пользователями, которые заканчивают уровень победой над другим игроком."
   ]
  },
  {
   "cell_type": "code",
   "execution_count": 82,
   "id": "aa3d113d",
   "metadata": {},
   "outputs": [],
   "source": [
    "game_duration_pve = first_stage_users.query('strategy == \"pve\"')['game_duration']\n",
    "game_duration_pvp = first_stage_users.query('strategy == \"pvp\"')['game_duration']"
   ]
  },
  {
   "cell_type": "markdown",
   "id": "3824a935",
   "metadata": {},
   "source": [
    "Ранее при изучении времени прохождения уровеня, мы видели,что есть выбросы. Проведем  проведем непараметрический тест Уилкоксона-Манна-Уитни,учитывающий все значения."
   ]
  },
  {
   "cell_type": "markdown",
   "id": "6f7cbcee",
   "metadata": {},
   "source": [
    "Сформулируем гипотезы:\n",
    "\n",
    "Но - время прохождения уровня между пользователями, которые заканчивают уровень через реализацию проекта и пользователями, которые заканчивают уровень победой над другим игроком не отличается.\n",
    "\n",
    "Н1 - время прохождения уровня между пользователями, которые заканчивают уровень через реализацию проекта и пользователями, которые заканчивают уровень победой над другим игроком отличается."
   ]
  },
  {
   "cell_type": "code",
   "execution_count": 83,
   "id": "64a84117",
   "metadata": {},
   "outputs": [
    {
     "name": "stdout",
     "output_type": "stream",
     "text": [
      "Уровень значимости p-value:  1.1228044721644527e-106\n",
      "Отвергаем нулевую гипотезу: разница статистически значима\n"
     ]
    }
   ],
   "source": [
    "alpha = 0.05\n",
    "\n",
    "results = st.mannwhitneyu(game_duration_pve, game_duration_pvp)\n",
    "\n",
    "print('Уровень значимости p-value: ', results.pvalue)\n",
    "\n",
    "if results.pvalue < alpha:\n",
    "    print('Отвергаем нулевую гипотезу: разница статистически значима')\n",
    "else:\n",
    "    print(\n",
    "        'Не получилось отвергнуть нулевую гипотезу, вывод о различии сделать нельзя'\n",
    "    ) "
   ]
  },
  {
   "cell_type": "markdown",
   "id": "6516e29a",
   "metadata": {},
   "source": [
    "## Проверка статистической гипотезы различия количества построенных объектов пользователями  между пользователями, которые заканчивают уровень через реализацию проекта, и пользователями, которые заканчивают уровень победой над другим игроком."
   ]
  },
  {
   "cell_type": "code",
   "execution_count": 84,
   "id": "8b9c7229",
   "metadata": {},
   "outputs": [],
   "source": [
    "buildings_pve = building_per_user.query('strategy == \"pve\"')['building_count']\n",
    "buildings_pvp = building_per_user.query('strategy == \"pvp\"')['building_count']"
   ]
  },
  {
   "cell_type": "markdown",
   "id": "de7f1221",
   "metadata": {},
   "source": [
    "Ранее при изучении количества построек на пользователя, мы видели,что есть выбросы. Проведем  проведем непараметрический тест Уилкоксона-Манна-Уитни,учитывающий все значения."
   ]
  },
  {
   "cell_type": "markdown",
   "id": "e7005c2c",
   "metadata": {},
   "source": [
    "Сформулируем гипотезы:\n",
    "\n",
    "Но - количество построек между пользователями, которые заканчивают уровень через реализацию проекта и пользователями, которые заканчивают уровень победой над другим игроком не отличается.\n",
    "\n",
    "Н1 - количество построек между пользователями, которые заканчивают уровень через реализацию проекта и пользователями, которые заканчивают уровень победой над другим игроком отличается."
   ]
  },
  {
   "cell_type": "code",
   "execution_count": 85,
   "id": "0f83bae3",
   "metadata": {},
   "outputs": [
    {
     "name": "stdout",
     "output_type": "stream",
     "text": [
      "Уровень значимости  p-value:  5.211926275022306e-305\n",
      "Отвергаем нулевую гипотезу: разница статистически значима\n"
     ]
    }
   ],
   "source": [
    "alpha = 0.05\n",
    "\n",
    "results = st.mannwhitneyu(buildings_pve, buildings_pvp)\n",
    "\n",
    "print('Уровень значимости  p-value: ', results.pvalue)\n",
    "\n",
    "if results.pvalue < alpha:\n",
    "    print('Отвергаем нулевую гипотезу: разница статистически значима')\n",
    "else:\n",
    "    print(\n",
    "        'Не получилось отвергнуть нулевую гипотезу, вывод о различии сделать нельзя') "
   ]
  },
  {
   "cell_type": "markdown",
   "id": "bb0c439f",
   "metadata": {},
   "source": [
    "## Описание и оценка эффективности новой модели монетизации, ее соответствие требованиям заказчика"
   ]
  },
  {
   "cell_type": "markdown",
   "id": "75789100",
   "metadata": {},
   "source": [
    "Перед нами стояла задача сформировать новую модель монитизации. Обязательным является условие окупаемости и уменьшение негатива пользователей от показа рекламы.\n",
    "\n",
    "Расходы на рекламу составили - 7603.58 у.е. \n",
    "Из них больше всего на facebook_ads (2140.9 у.е.), меньше всего на youtube_channel_reklama(1068.12 у.е.).\n",
    "Для окупаемости сердств для привлечения пользователей при стоимости показа рекламы  0.07 у.е. необходимо показать ее 108623 раз. \n",
    "\n",
    "Рекламу планируется показывать на экране выбора построики. \n",
    "Всего пользователи построили 127956 зданий.То есть если мы будем каждый раз при выборе постройки показывать рекламу, то расходы окупятся.\n",
    "\n",
    "Однако, мы хотим уменьшить негативное влияние рекламы, ведь если пользователь с первых минут игры будет видеть много рекламы,то это может его оттолкнуть и он не продолжит пользоваться приложением. Увеличение стоимости показа рекламы позволило бы сократить количество показов, но если принимать стоимость показа за неименную, то возможен вариант показа рекламы со второго дня игры.\n",
    "\n",
    "Это даст возможность пользователю втянуться в игру и уменьшает вероятность,что реклама станет негативным фактором влияющим на отток пользователей."
   ]
  },
  {
   "cell_type": "markdown",
   "id": "5ea04e7d",
   "metadata": {},
   "source": [
    "Активность игроков меняется с течением времени"
   ]
  },
  {
   "cell_type": "code",
   "execution_count": 86,
   "id": "5b5baeb2",
   "metadata": {
    "scrolled": false
   },
   "outputs": [
    {
     "data": {
      "image/png": "[encoded data removed]",
      "text/plain": [
       "<Figure size 1080x504 with 1 Axes>"
      ]
     },
     "metadata": {
      "needs_background": "light"
     },
     "output_type": "display_data"
    }
   ],
   "source": [
    "#построим график\n",
    "plt.figure(figsize=(15,7))\n",
    "plt.title('Количество построек,которые делают пользователи по дням игры', fontdict={'size':15})\n",
    "pv2.plot(kind='bar',color='darkseagreen')\n",
    "plt.xticks(rotation=0,ha='right')\n",
    "plt.xlabel('Дни игры')\n",
    "plt.ylabel('Количество построек');"
   ]
  },
  {
   "cell_type": "markdown",
   "id": "2c3a4602",
   "metadata": {},
   "source": [
    "На графике мы видим снижение суммарного количества построек с течением времени.\n",
    "В первый день игры пользователи построили - 18808 построек. Следовательно рекламу нужно начинать показывать пользователю не позже второго дня игры, иначе реклама не окупится."
   ]
  },
  {
   "cell_type": "markdown",
   "id": "b555a26b",
   "metadata": {},
   "source": [
    "В качестве дополнительных вариантов можно рассмотреть разную стоимость показа рекламы пользователям пришедшим из разных источников, тк стоимость привлечения так же варьируется."
   ]
  },
  {
   "cell_type": "markdown",
   "id": "9685d4f1",
   "metadata": {},
   "source": [
    "Пользователей,которые закончили первый уровень через реализацию проекта строят больше построек, однако из меньше, возможно существует способ мотивировать пользователей чаще заканчивать уровень через постройку проекта."
   ]
  },
  {
   "cell_type": "markdown",
   "id": "b5d60921",
   "metadata": {},
   "source": [
    "## Общий вывод"
   ]
  },
  {
   "cell_type": "markdown",
   "id": "1bd34af8",
   "metadata": {},
   "source": [
    "Поставленная задача - сформировать модель монетизации для мобильной игры «Космические братья»**\n",
    "\n",
    "Базовая модель монетизации предполагает показ рекламы пользователю каждый раз на экране выбора постройки. Стоимость показа рекламы - 0.07 у.е.\n",
    "\n",
    " Данные по действиям игроков представлены с 4 мая 2020 по 5 июня 2020\n",
    "\n",
    " В рамках анализа данных мы обнаружили, что:\n",
    " - 5817 пользователей завершили первый уровень, всего уникальных пользователй 13576.\n",
    "- минимальное время прохождения 1 уровня - 9 часов 4 минут, максимальное - 30 дней. В среднем - 11 дней\n",
    "- за все время наблюдений пользователи построили 127956 построек. Чаще всего пользователи строят космопорт - 59325 раз, а исследовательский центр строят в 4 раза реже - 14137 раз\n",
    "\n",
    "- 1866 игроков завершили уровень построив космическую орбитальную станцию\n",
    "- 3951 игроков завершили игру победой над другим игроком. Это в 2 раза больше чем через постройку космической орбитальной станции\n",
    "- 7759 пользователей не закончили первый уровень\n",
    "- Пользователи, которые выбирают пройти уровень построив космическую орбитальную станцию тратят на прохождение 13 дней, а пользователи, предпочевшие победить другого игрока  - на 3 дня меньше (10 дней).\n",
    "\n",
    "- при прохождении уровня путем победы над другим игроком строят меньше построек, в среднем - 9,4. А при победе через строительство орбитальной станции - 12,6. Однако за счет того, что пользователей предпочитающих победу над другим игроком больше, то суммарно эта категория пользователей лидирует по количеству построек.\n",
    "\n",
    "- самая популярная постройка при любом сценарии игры - космопорт\n",
    "\n",
    "- расходы на рекламу составили 7603.58 у.е. \n",
    "Из них больше всего на facebook_ads (2140.9 у.е.), меньше всего на youtube_channel_reklama(1068.12 у.е.).\n",
    "Для окупаемости сердств для привлечения пользователей при стоимости показа рекламы  0.07 у.е. необходимо показать ее 108623 раз.\n",
    "\n",
    "- Больше всего пользователей приходит из источника yandex_direct - 4817 пользователей. Меньше всего из youtube_channel_reklama - 2688.\n",
    "\n",
    "- активность игроков со временем меняется, более активно пользователи играют первые 7 дней\n",
    "\n",
    "Была проведена проверка статистических гипотез:\n",
    "- время прохождения уровня между пользователями, которые заканчивают уровень через реализацию проекта и пользователями, которые заканчивают уровень победой над другим игроком не отличается\n",
    "\n",
    "- количество построек между пользователями, которые заканчивают уровень через реализацию проекта и пользователями, которые заканчивают уровень победой над другим игроком не отличается\n",
    "\n",
    "Оба раза нулевые гипотезы были отвергнуты.\n",
    "\n",
    "По итогу предложена модель монетизации:\n",
    "- показ рекламы на экране выбора постройки, начиная со 2 дня игры"
   ]
  }
 ],
 "metadata": {
  "ExecuteTimeLog": [
   {
    "duration": 1546,
    "start_time": "2023-04-21T06:41:30.235Z"
   },
   {
    "duration": 860,
    "start_time": "2023-04-21T06:41:31.785Z"
   },
   {
    "duration": 1317,
    "start_time": "2023-04-21T06:41:34.929Z"
   },
   {
    "duration": 622,
    "start_time": "2023-04-21T06:41:36.248Z"
   },
   {
    "duration": 20,
    "start_time": "2023-04-21T06:41:36.872Z"
   },
   {
    "duration": 65,
    "start_time": "2023-04-21T06:41:36.894Z"
   },
   {
    "duration": 27,
    "start_time": "2023-04-21T06:41:36.962Z"
   },
   {
    "duration": 47,
    "start_time": "2023-04-21T06:41:36.991Z"
   },
   {
    "duration": 11,
    "start_time": "2023-04-21T06:41:37.040Z"
   },
   {
    "duration": 13,
    "start_time": "2023-04-21T06:41:37.053Z"
   },
   {
    "duration": 11,
    "start_time": "2023-04-21T06:41:37.068Z"
   },
   {
    "duration": 30,
    "start_time": "2023-04-21T06:41:37.081Z"
   },
   {
    "duration": 12,
    "start_time": "2023-04-21T06:41:37.113Z"
   },
   {
    "duration": 10,
    "start_time": "2023-04-21T06:41:37.127Z"
   },
   {
    "duration": 13,
    "start_time": "2023-04-21T06:41:37.139Z"
   },
   {
    "duration": 6,
    "start_time": "2023-04-21T06:41:37.155Z"
   },
   {
    "duration": 70,
    "start_time": "2023-04-21T06:41:37.162Z"
   },
   {
    "duration": 64,
    "start_time": "2023-04-21T06:41:37.234Z"
   },
   {
    "duration": 68,
    "start_time": "2023-04-21T06:41:37.300Z"
   },
   {
    "duration": 55,
    "start_time": "2023-04-21T06:41:37.370Z"
   },
   {
    "duration": 39,
    "start_time": "2023-04-21T06:41:37.427Z"
   },
   {
    "duration": 52,
    "start_time": "2023-04-21T06:41:37.467Z"
   },
   {
    "duration": 44,
    "start_time": "2023-04-21T06:41:37.521Z"
   },
   {
    "duration": 14,
    "start_time": "2023-04-21T06:41:37.567Z"
   },
   {
    "duration": 60,
    "start_time": "2023-04-21T06:41:37.582Z"
   },
   {
    "duration": 26,
    "start_time": "2023-04-21T06:41:37.644Z"
   },
   {
    "duration": 9,
    "start_time": "2023-04-21T06:41:37.671Z"
   },
   {
    "duration": 87,
    "start_time": "2023-04-21T06:41:37.681Z"
   },
   {
    "duration": 9,
    "start_time": "2023-04-21T06:41:37.769Z"
   },
   {
    "duration": 289,
    "start_time": "2023-04-21T06:41:37.780Z"
   },
   {
    "duration": 26,
    "start_time": "2023-04-21T06:41:38.071Z"
   },
   {
    "duration": 35,
    "start_time": "2023-04-21T06:41:38.099Z"
   },
   {
    "duration": 24,
    "start_time": "2023-04-21T06:41:38.136Z"
   },
   {
    "duration": 4,
    "start_time": "2023-04-21T06:41:38.162Z"
   },
   {
    "duration": 21,
    "start_time": "2023-04-21T06:41:38.168Z"
   },
   {
    "duration": 185,
    "start_time": "2023-04-21T06:41:38.191Z"
   },
   {
    "duration": 6,
    "start_time": "2023-04-21T06:41:38.377Z"
   },
   {
    "duration": 36,
    "start_time": "2023-04-21T06:41:38.384Z"
   },
   {
    "duration": 17,
    "start_time": "2023-04-21T06:41:38.422Z"
   },
   {
    "duration": 200,
    "start_time": "2023-04-21T06:41:38.440Z"
   },
   {
    "duration": 18,
    "start_time": "2023-04-21T06:41:38.643Z"
   },
   {
    "duration": 640,
    "start_time": "2023-04-21T06:41:38.663Z"
   },
   {
    "duration": 42233,
    "start_time": "2023-04-21T06:41:39.314Z"
   },
   {
    "duration": 141,
    "start_time": "2023-04-21T06:42:21.548Z"
   },
   {
    "duration": 12,
    "start_time": "2023-04-21T06:42:21.690Z"
   },
   {
    "duration": 282,
    "start_time": "2023-04-21T06:42:21.704Z"
   },
   {
    "duration": 20,
    "start_time": "2023-04-21T06:42:21.988Z"
   },
   {
    "duration": 39042,
    "start_time": "2023-04-21T06:42:22.009Z"
   },
   {
    "duration": 113,
    "start_time": "2023-04-21T06:43:01.052Z"
   },
   {
    "duration": 378,
    "start_time": "2023-04-21T06:43:01.166Z"
   },
   {
    "duration": 396,
    "start_time": "2023-04-21T06:43:01.546Z"
   },
   {
    "duration": 26,
    "start_time": "2023-04-21T06:43:01.943Z"
   },
   {
    "duration": 64,
    "start_time": "2023-04-21T06:43:01.971Z"
   },
   {
    "duration": 22,
    "start_time": "2023-04-21T06:43:02.038Z"
   },
   {
    "duration": 127,
    "start_time": "2023-04-21T06:43:02.062Z"
   },
   {
    "duration": 55,
    "start_time": "2023-04-21T06:43:02.190Z"
   },
   {
    "duration": 67,
    "start_time": "2023-04-21T06:43:02.247Z"
   },
   {
    "duration": 64005,
    "start_time": "2023-04-21T06:43:02.317Z"
   },
   {
    "duration": 45,
    "start_time": "2023-04-21T06:44:06.325Z"
   },
   {
    "duration": 119,
    "start_time": "2023-04-21T06:44:06.372Z"
   },
   {
    "duration": 239,
    "start_time": "2023-04-21T06:44:06.494Z"
   },
   {
    "duration": 195,
    "start_time": "2023-04-21T06:44:06.735Z"
   },
   {
    "duration": 136,
    "start_time": "2023-04-21T06:44:06.932Z"
   },
   {
    "duration": 0,
    "start_time": "2023-04-21T06:44:07.070Z"
   },
   {
    "duration": 0,
    "start_time": "2023-04-21T06:44:07.072Z"
   },
   {
    "duration": 1,
    "start_time": "2023-04-21T06:44:07.073Z"
   },
   {
    "duration": 0,
    "start_time": "2023-04-21T06:44:07.082Z"
   },
   {
    "duration": 0,
    "start_time": "2023-04-21T06:44:07.083Z"
   },
   {
    "duration": 0,
    "start_time": "2023-04-21T06:44:07.084Z"
   },
   {
    "duration": 0,
    "start_time": "2023-04-21T06:44:07.085Z"
   },
   {
    "duration": 0,
    "start_time": "2023-04-21T06:44:07.086Z"
   },
   {
    "duration": 0,
    "start_time": "2023-04-21T06:44:07.088Z"
   },
   {
    "duration": 0,
    "start_time": "2023-04-21T06:44:07.089Z"
   },
   {
    "duration": 0,
    "start_time": "2023-04-21T06:44:07.091Z"
   },
   {
    "duration": 0,
    "start_time": "2023-04-21T06:44:07.092Z"
   },
   {
    "duration": 0,
    "start_time": "2023-04-21T06:44:07.093Z"
   },
   {
    "duration": 0,
    "start_time": "2023-04-21T06:44:07.095Z"
   },
   {
    "duration": 0,
    "start_time": "2023-04-21T06:44:07.097Z"
   },
   {
    "duration": 0,
    "start_time": "2023-04-21T06:44:07.099Z"
   },
   {
    "duration": 0,
    "start_time": "2023-04-21T06:44:07.100Z"
   },
   {
    "duration": 4,
    "start_time": "2023-04-21T06:48:10.739Z"
   },
   {
    "duration": 117,
    "start_time": "2023-04-21T06:49:10.753Z"
   },
   {
    "duration": 27,
    "start_time": "2023-04-21T06:50:56.341Z"
   },
   {
    "duration": 11,
    "start_time": "2023-04-21T06:51:30.359Z"
   },
   {
    "duration": 7,
    "start_time": "2023-04-21T06:51:33.325Z"
   },
   {
    "duration": 5,
    "start_time": "2023-04-21T06:51:37.774Z"
   },
   {
    "duration": 13,
    "start_time": "2023-04-21T06:51:56.310Z"
   },
   {
    "duration": 13,
    "start_time": "2023-04-21T06:57:51.536Z"
   },
   {
    "duration": 46,
    "start_time": "2023-04-21T06:57:52.612Z"
   },
   {
    "duration": 256,
    "start_time": "2023-04-21T06:57:53.104Z"
   },
   {
    "duration": 22,
    "start_time": "2023-04-21T06:57:53.535Z"
   },
   {
    "duration": 68,
    "start_time": "2023-04-21T06:57:55.100Z"
   },
   {
    "duration": 21,
    "start_time": "2023-04-21T06:57:55.573Z"
   },
   {
    "duration": 289,
    "start_time": "2023-04-21T06:57:55.831Z"
   },
   {
    "duration": 11,
    "start_time": "2023-04-21T06:57:56.122Z"
   },
   {
    "duration": 28,
    "start_time": "2023-04-21T06:57:56.213Z"
   },
   {
    "duration": 9,
    "start_time": "2023-04-21T06:57:56.358Z"
   },
   {
    "duration": 12,
    "start_time": "2023-04-21T06:57:57.241Z"
   },
   {
    "duration": 20,
    "start_time": "2023-04-21T06:57:57.874Z"
   },
   {
    "duration": 10,
    "start_time": "2023-04-21T06:57:58.319Z"
   },
   {
    "duration": 12,
    "start_time": "2023-04-21T06:57:58.518Z"
   },
   {
    "duration": 25,
    "start_time": "2023-04-21T06:57:59.178Z"
   },
   {
    "duration": 258,
    "start_time": "2023-04-21T06:58:00.113Z"
   },
   {
    "duration": 310,
    "start_time": "2023-04-21T06:58:00.709Z"
   },
   {
    "duration": 6,
    "start_time": "2023-04-21T07:07:31.413Z"
   },
   {
    "duration": 36464,
    "start_time": "2023-04-23T09:54:55.574Z"
   },
   {
    "duration": 1552,
    "start_time": "2023-04-23T09:55:32.040Z"
   },
   {
    "duration": 750,
    "start_time": "2023-04-23T09:55:33.594Z"
   },
   {
    "duration": 15,
    "start_time": "2023-04-23T09:55:34.346Z"
   },
   {
    "duration": 31,
    "start_time": "2023-04-23T09:55:34.363Z"
   },
   {
    "duration": 21,
    "start_time": "2023-04-23T09:55:34.396Z"
   },
   {
    "duration": 25,
    "start_time": "2023-04-23T09:55:34.419Z"
   },
   {
    "duration": 8,
    "start_time": "2023-04-23T09:55:34.446Z"
   },
   {
    "duration": 14,
    "start_time": "2023-04-23T09:55:34.456Z"
   },
   {
    "duration": 22,
    "start_time": "2023-04-23T09:55:34.473Z"
   },
   {
    "duration": 6,
    "start_time": "2023-04-23T09:55:34.497Z"
   },
   {
    "duration": 16,
    "start_time": "2023-04-23T09:55:34.505Z"
   },
   {
    "duration": 16,
    "start_time": "2023-04-23T09:55:34.523Z"
   },
   {
    "duration": 10,
    "start_time": "2023-04-23T09:55:34.542Z"
   },
   {
    "duration": 12,
    "start_time": "2023-04-23T09:55:34.554Z"
   },
   {
    "duration": 61,
    "start_time": "2023-04-23T09:55:34.568Z"
   },
   {
    "duration": 68,
    "start_time": "2023-04-23T09:55:34.631Z"
   },
   {
    "duration": 56,
    "start_time": "2023-04-23T09:55:34.701Z"
   },
   {
    "duration": 32,
    "start_time": "2023-04-23T09:55:34.759Z"
   },
   {
    "duration": 19,
    "start_time": "2023-04-23T09:55:34.793Z"
   },
   {
    "duration": 30,
    "start_time": "2023-04-23T09:55:34.814Z"
   },
   {
    "duration": 48,
    "start_time": "2023-04-23T09:55:34.846Z"
   },
   {
    "duration": 13,
    "start_time": "2023-04-23T09:55:34.896Z"
   },
   {
    "duration": 21,
    "start_time": "2023-04-23T09:55:34.911Z"
   },
   {
    "duration": 23,
    "start_time": "2023-04-23T09:55:34.934Z"
   },
   {
    "duration": 38,
    "start_time": "2023-04-23T09:55:34.958Z"
   },
   {
    "duration": 50,
    "start_time": "2023-04-23T09:55:34.997Z"
   },
   {
    "duration": 8,
    "start_time": "2023-04-23T09:55:35.049Z"
   },
   {
    "duration": 255,
    "start_time": "2023-04-23T09:55:35.059Z"
   },
   {
    "duration": 11,
    "start_time": "2023-04-23T09:55:35.315Z"
   },
   {
    "duration": 18,
    "start_time": "2023-04-23T09:55:35.328Z"
   },
   {
    "duration": 26,
    "start_time": "2023-04-23T09:55:35.347Z"
   },
   {
    "duration": 5,
    "start_time": "2023-04-23T09:55:35.390Z"
   },
   {
    "duration": 15,
    "start_time": "2023-04-23T09:55:35.397Z"
   },
   {
    "duration": 154,
    "start_time": "2023-04-23T09:55:35.414Z"
   },
   {
    "duration": 5,
    "start_time": "2023-04-23T09:55:35.569Z"
   },
   {
    "duration": 16,
    "start_time": "2023-04-23T09:55:35.576Z"
   },
   {
    "duration": 38,
    "start_time": "2023-04-23T09:55:35.593Z"
   },
   {
    "duration": 153,
    "start_time": "2023-04-23T09:55:35.633Z"
   },
   {
    "duration": 14,
    "start_time": "2023-04-23T09:55:35.789Z"
   },
   {
    "duration": 106,
    "start_time": "2023-04-23T09:55:35.808Z"
   },
   {
    "duration": 31156,
    "start_time": "2023-04-23T09:55:35.916Z"
   },
   {
    "duration": 16,
    "start_time": "2023-04-23T09:56:07.074Z"
   },
   {
    "duration": 7,
    "start_time": "2023-04-23T09:56:07.092Z"
   },
   {
    "duration": 10,
    "start_time": "2023-04-23T09:56:07.101Z"
   },
   {
    "duration": 19,
    "start_time": "2023-04-23T09:56:07.114Z"
   },
   {
    "duration": 118,
    "start_time": "2023-04-23T09:56:07.135Z"
   },
   {
    "duration": 8,
    "start_time": "2023-04-23T09:56:07.255Z"
   },
   {
    "duration": 257,
    "start_time": "2023-04-23T09:56:07.265Z"
   },
   {
    "duration": 13,
    "start_time": "2023-04-23T09:56:07.524Z"
   },
   {
    "duration": 30760,
    "start_time": "2023-04-23T09:56:07.539Z"
   },
   {
    "duration": 93,
    "start_time": "2023-04-23T09:56:38.301Z"
   },
   {
    "duration": 9,
    "start_time": "2023-04-23T09:56:38.397Z"
   },
   {
    "duration": 255,
    "start_time": "2023-04-23T09:56:38.408Z"
   },
   {
    "duration": 47,
    "start_time": "2023-04-23T09:56:38.664Z"
   },
   {
    "duration": 11,
    "start_time": "2023-04-23T09:56:38.713Z"
   },
   {
    "duration": 29,
    "start_time": "2023-04-23T09:56:38.726Z"
   },
   {
    "duration": 33,
    "start_time": "2023-04-23T09:56:38.757Z"
   },
   {
    "duration": 4,
    "start_time": "2023-04-23T09:56:38.792Z"
   },
   {
    "duration": 36,
    "start_time": "2023-04-23T09:56:38.797Z"
   },
   {
    "duration": 7,
    "start_time": "2023-04-23T09:56:38.835Z"
   },
   {
    "duration": 12,
    "start_time": "2023-04-23T09:56:38.844Z"
   },
   {
    "duration": 42637,
    "start_time": "2023-04-23T09:56:38.858Z"
   },
   {
    "duration": 20,
    "start_time": "2023-04-23T09:57:21.497Z"
   },
   {
    "duration": 22,
    "start_time": "2023-04-23T09:57:21.519Z"
   },
   {
    "duration": 229,
    "start_time": "2023-04-23T09:57:21.543Z"
   },
   {
    "duration": 149,
    "start_time": "2023-04-23T09:57:21.775Z"
   },
   {
    "duration": 7,
    "start_time": "2023-04-23T09:57:21.927Z"
   },
   {
    "duration": 20,
    "start_time": "2023-04-23T09:57:21.936Z"
   },
   {
    "duration": 45,
    "start_time": "2023-04-23T09:57:21.958Z"
   },
   {
    "duration": 232,
    "start_time": "2023-04-23T09:57:22.005Z"
   },
   {
    "duration": 20,
    "start_time": "2023-04-23T09:57:22.240Z"
   },
   {
    "duration": 73,
    "start_time": "2023-04-23T09:57:22.262Z"
   },
   {
    "duration": 12,
    "start_time": "2023-04-23T09:57:22.337Z"
   },
   {
    "duration": 15,
    "start_time": "2023-04-23T09:57:22.351Z"
   },
   {
    "duration": 271,
    "start_time": "2023-04-23T09:57:22.390Z"
   },
   {
    "duration": 10,
    "start_time": "2023-04-23T09:57:22.663Z"
   },
   {
    "duration": 36,
    "start_time": "2023-04-23T09:57:22.675Z"
   },
   {
    "duration": 9,
    "start_time": "2023-04-23T09:57:22.713Z"
   },
   {
    "duration": 118,
    "start_time": "2023-04-23T09:57:22.723Z"
   },
   {
    "duration": 9,
    "start_time": "2023-04-23T09:57:22.843Z"
   },
   {
    "duration": 52,
    "start_time": "2023-04-23T09:57:22.854Z"
   },
   {
    "duration": 15,
    "start_time": "2023-04-23T09:57:22.907Z"
   },
   {
    "duration": 6,
    "start_time": "2023-04-23T09:57:22.924Z"
   },
   {
    "duration": 23,
    "start_time": "2023-04-23T09:57:22.932Z"
   },
   {
    "duration": 12,
    "start_time": "2023-04-23T09:57:22.956Z"
   },
   {
    "duration": 28,
    "start_time": "2023-04-23T09:57:22.970Z"
   },
   {
    "duration": 10,
    "start_time": "2023-04-23T09:57:22.999Z"
   },
   {
    "duration": 252,
    "start_time": "2023-04-23T09:57:23.010Z"
   }
  ],
  "kernelspec": {
   "display_name": "Python 3 (ipykernel)",
   "language": "python",
   "name": "python3"
  },
  "language_info": {
   "codemirror_mode": {
    "name": "ipython",
    "version": 3
   },
   "file_extension": ".py",
   "mimetype": "text/x-python",
   "name": "python",
   "nbconvert_exporter": "python",
   "pygments_lexer": "ipython3",
   "version": "3.9.5"
  },
  "toc": {
   "base_numbering": 1,
   "nav_menu": {},
   "number_sections": true,
   "sideBar": true,
   "skip_h1_title": true,
   "title_cell": "Table of Contents",
   "title_sidebar": "Contents",
   "toc_cell": true,
   "toc_position": {
    "height": "calc(100% - 180px)",
    "left": "10px",
    "top": "150px",
    "width": "338.8235168457031px"
   },
   "toc_section_display": true,
   "toc_window_display": true
  }
 },
 "nbformat": 4,
 "nbformat_minor": 5
}

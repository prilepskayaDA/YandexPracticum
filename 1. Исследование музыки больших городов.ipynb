{
 "cells": [
  {
   "cell_type": "markdown",
   "metadata": {
    "deletable": false,
    "editable": false,
    "id": "E0vqbgi9ay0H"
   },
   "source": [
    "# Яндекс Музыка"
   ]
  },
  {
   "cell_type": "markdown",
   "metadata": {
    "deletable": false,
    "editable": false,
    "id": "VUC88oWjTJw2"
   },
   "source": [
    "Сравнение Москвы и Петербурга окружено мифами. Например:\n",
    " * Москва — мегаполис, подчинённый жёсткому ритму рабочей недели;\n",
    " * Петербург — культурная столица, со своими вкусами.\n",
    "\n",
    "На данных Яндекс Музыки вы сравните поведение пользователей двух столиц.\n",
    "\n",
    "**Цель исследования** — проверьте три гипотезы:\n",
    "1. Активность пользователей зависит от дня недели. Причём в Москве и Петербурге это проявляется по-разному.\n",
    "2. В понедельник утром в Москве преобладают одни жанры, а в Петербурге — другие. Так же и вечером пятницы преобладают разные жанры — в зависимости от города. \n",
    "3. Москва и Петербург предпочитают разные жанры музыки. В Москве чаще слушают поп-музыку, в Петербурге — русский рэп.\n",
    "\n",
    "**Ход исследования**\n",
    "\n",
    "Данные о поведении пользователей вы получите из файла `yandex_music_project.csv`. О качестве данных ничего не известно. Поэтому перед проверкой гипотез понадобится обзор данных. \n",
    "\n",
    "Вы проверите данные на ошибки и оцените их влияние на исследование. Затем, на этапе предобработки вы поищете возможность исправить самые критичные ошибки данных.\n",
    " \n",
    "Таким образом, исследование пройдёт в три этапа:\n",
    " 1. Обзор данных.\n",
    " 2. Предобработка данных.\n",
    " 3. Проверка гипотез.\n",
    "\n"
   ]
  },
  {
   "cell_type": "markdown",
   "metadata": {
    "deletable": false,
    "editable": false,
    "id": "Ml1hmfXC_Zcs"
   },
   "source": [
    "## Обзор данных\n",
    "\n",
    "Составьте первое представление о данных Яндекс Музыки.\n",
    "\n",
    "\n"
   ]
  },
  {
   "cell_type": "markdown",
   "metadata": {
    "deletable": false,
    "editable": false,
    "id": "57eAOGIz_Zcs",
    "tags": [
     "start_task"
    ]
   },
   "source": [
    "**Задание 1**\n",
    "\n",
    "Основной инструмент аналитика — `pandas`. Импортируйте эту библиотеку."
   ]
  },
  {
   "cell_type": "code",
   "execution_count": 246,
   "metadata": {
    "deletable": false,
    "id": "AXN7PHPN_Zcs"
   },
   "outputs": [],
   "source": [
    "import pandas as pd # импорт библиотеки pandas"
   ]
  },
  {
   "cell_type": "markdown",
   "metadata": {
    "deletable": false,
    "editable": false,
    "id": "SG23P8tt_Zcs",
    "tags": [
     "start_task"
    ]
   },
   "source": [
    "**Задание 2**\n",
    "\n",
    "Прочитайте файл `yandex_music_project.csv` из папки `/datasets` и сохраните его в переменной `df`:"
   ]
  },
  {
   "cell_type": "code",
   "execution_count": 247,
   "metadata": {
    "deletable": false,
    "id": "fFVu7vqh_Zct"
   },
   "outputs": [],
   "source": [
    "df = pd.read_csv('/datasets/yandex_music_project.csv')# чтение файла с данными и сохранение в df"
   ]
  },
  {
   "cell_type": "markdown",
   "metadata": {
    "deletable": false,
    "editable": false,
    "id": "rDoOMd3uTqnZ",
    "tags": [
     "start_task"
    ]
   },
   "source": [
    "**Задание 3**\n",
    "\n",
    "\n",
    "Выведите на экран первые десять строк таблицы:"
   ]
  },
  {
   "cell_type": "code",
   "execution_count": 248,
   "metadata": {
    "deletable": false,
    "id": "oWTVX3gW_Zct"
   },
   "outputs": [
    {
     "data": {
      "text/html": [
       "<div>\n",
       "<style scoped>\n",
       "    .dataframe tbody tr th:only-of-type {\n",
       "        vertical-align: middle;\n",
       "    }\n",
       "\n",
       "    .dataframe tbody tr th {\n",
       "        vertical-align: top;\n",
       "    }\n",
       "\n",
       "    .dataframe thead th {\n",
       "        text-align: right;\n",
       "    }\n",
       "</style>\n",
       "<table border=\"1\" class=\"dataframe\">\n",
       "  <thead>\n",
       "    <tr style=\"text-align: right;\">\n",
       "      <th></th>\n",
       "      <th>userID</th>\n",
       "      <th>Track</th>\n",
       "      <th>artist</th>\n",
       "      <th>genre</th>\n",
       "      <th>City</th>\n",
       "      <th>time</th>\n",
       "      <th>Day</th>\n",
       "    </tr>\n",
       "  </thead>\n",
       "  <tbody>\n",
       "    <tr>\n",
       "      <th>0</th>\n",
       "      <td>FFB692EC</td>\n",
       "      <td>Kamigata To Boots</td>\n",
       "      <td>The Mass Missile</td>\n",
       "      <td>rock</td>\n",
       "      <td>Saint-Petersburg</td>\n",
       "      <td>20:28:33</td>\n",
       "      <td>Wednesday</td>\n",
       "    </tr>\n",
       "    <tr>\n",
       "      <th>1</th>\n",
       "      <td>55204538</td>\n",
       "      <td>Delayed Because of Accident</td>\n",
       "      <td>Andreas Rönnberg</td>\n",
       "      <td>rock</td>\n",
       "      <td>Moscow</td>\n",
       "      <td>14:07:09</td>\n",
       "      <td>Friday</td>\n",
       "    </tr>\n",
       "    <tr>\n",
       "      <th>2</th>\n",
       "      <td>20EC38</td>\n",
       "      <td>Funiculì funiculà</td>\n",
       "      <td>Mario Lanza</td>\n",
       "      <td>pop</td>\n",
       "      <td>Saint-Petersburg</td>\n",
       "      <td>20:58:07</td>\n",
       "      <td>Wednesday</td>\n",
       "    </tr>\n",
       "    <tr>\n",
       "      <th>3</th>\n",
       "      <td>A3DD03C9</td>\n",
       "      <td>Dragons in the Sunset</td>\n",
       "      <td>Fire + Ice</td>\n",
       "      <td>folk</td>\n",
       "      <td>Saint-Petersburg</td>\n",
       "      <td>08:37:09</td>\n",
       "      <td>Monday</td>\n",
       "    </tr>\n",
       "    <tr>\n",
       "      <th>4</th>\n",
       "      <td>E2DC1FAE</td>\n",
       "      <td>Soul People</td>\n",
       "      <td>Space Echo</td>\n",
       "      <td>dance</td>\n",
       "      <td>Moscow</td>\n",
       "      <td>08:34:34</td>\n",
       "      <td>Monday</td>\n",
       "    </tr>\n",
       "    <tr>\n",
       "      <th>5</th>\n",
       "      <td>842029A1</td>\n",
       "      <td>Преданная</td>\n",
       "      <td>IMPERVTOR</td>\n",
       "      <td>rusrap</td>\n",
       "      <td>Saint-Petersburg</td>\n",
       "      <td>13:09:41</td>\n",
       "      <td>Friday</td>\n",
       "    </tr>\n",
       "    <tr>\n",
       "      <th>6</th>\n",
       "      <td>4CB90AA5</td>\n",
       "      <td>True</td>\n",
       "      <td>Roman Messer</td>\n",
       "      <td>dance</td>\n",
       "      <td>Moscow</td>\n",
       "      <td>13:00:07</td>\n",
       "      <td>Wednesday</td>\n",
       "    </tr>\n",
       "    <tr>\n",
       "      <th>7</th>\n",
       "      <td>F03E1C1F</td>\n",
       "      <td>Feeling This Way</td>\n",
       "      <td>Polina Griffith</td>\n",
       "      <td>dance</td>\n",
       "      <td>Moscow</td>\n",
       "      <td>20:47:49</td>\n",
       "      <td>Wednesday</td>\n",
       "    </tr>\n",
       "    <tr>\n",
       "      <th>8</th>\n",
       "      <td>8FA1D3BE</td>\n",
       "      <td>И вновь продолжается бой</td>\n",
       "      <td>NaN</td>\n",
       "      <td>ruspop</td>\n",
       "      <td>Moscow</td>\n",
       "      <td>09:17:40</td>\n",
       "      <td>Friday</td>\n",
       "    </tr>\n",
       "    <tr>\n",
       "      <th>9</th>\n",
       "      <td>E772D5C0</td>\n",
       "      <td>Pessimist</td>\n",
       "      <td>NaN</td>\n",
       "      <td>dance</td>\n",
       "      <td>Saint-Petersburg</td>\n",
       "      <td>21:20:49</td>\n",
       "      <td>Wednesday</td>\n",
       "    </tr>\n",
       "  </tbody>\n",
       "</table>\n",
       "</div>"
      ],
      "text/plain": [
       "     userID                        Track            artist   genre  \\\n",
       "0  FFB692EC            Kamigata To Boots  The Mass Missile    rock   \n",
       "1  55204538  Delayed Because of Accident  Andreas Rönnberg    rock   \n",
       "2    20EC38            Funiculì funiculà       Mario Lanza     pop   \n",
       "3  A3DD03C9        Dragons in the Sunset        Fire + Ice    folk   \n",
       "4  E2DC1FAE                  Soul People        Space Echo   dance   \n",
       "5  842029A1                    Преданная         IMPERVTOR  rusrap   \n",
       "6  4CB90AA5                         True      Roman Messer   dance   \n",
       "7  F03E1C1F             Feeling This Way   Polina Griffith   dance   \n",
       "8  8FA1D3BE     И вновь продолжается бой               NaN  ruspop   \n",
       "9  E772D5C0                    Pessimist               NaN   dance   \n",
       "\n",
       "             City        time        Day  \n",
       "0  Saint-Petersburg  20:28:33  Wednesday  \n",
       "1            Moscow  14:07:09     Friday  \n",
       "2  Saint-Petersburg  20:58:07  Wednesday  \n",
       "3  Saint-Petersburg  08:37:09     Monday  \n",
       "4            Moscow  08:34:34     Monday  \n",
       "5  Saint-Petersburg  13:09:41     Friday  \n",
       "6            Moscow  13:00:07  Wednesday  \n",
       "7            Moscow  20:47:49  Wednesday  \n",
       "8            Moscow  09:17:40     Friday  \n",
       "9  Saint-Petersburg  21:20:49  Wednesday  "
      ]
     },
     "execution_count": 248,
     "metadata": {},
     "output_type": "execute_result"
    }
   ],
   "source": [
    "df.head(10)# получение первых 10 строк таблицы df"
   ]
  },
  {
   "cell_type": "markdown",
   "metadata": {
    "deletable": false,
    "editable": false,
    "id": "EO73Kwic_Zct",
    "tags": [
     "start_task"
    ]
   },
   "source": [
    "**Задание 4**\n",
    "\n",
    "\n",
    "Одной командой получить общую информацию о таблице c помощью метода `info()`:"
   ]
  },
  {
   "cell_type": "code",
   "execution_count": 249,
   "metadata": {
    "deletable": false,
    "id": "DSf2kIb-_Zct"
   },
   "outputs": [
    {
     "name": "stdout",
     "output_type": "stream",
     "text": [
      "<class 'pandas.core.frame.DataFrame'>\n",
      "RangeIndex: 65079 entries, 0 to 65078\n",
      "Data columns (total 7 columns):\n",
      " #   Column    Non-Null Count  Dtype \n",
      "---  ------    --------------  ----- \n",
      " 0     userID  65079 non-null  object\n",
      " 1   Track     63848 non-null  object\n",
      " 2   artist    57876 non-null  object\n",
      " 3   genre     63881 non-null  object\n",
      " 4     City    65079 non-null  object\n",
      " 5   time      65079 non-null  object\n",
      " 6   Day       65079 non-null  object\n",
      "dtypes: object(7)\n",
      "memory usage: 3.5+ MB\n"
     ]
    }
   ],
   "source": [
    "df.info()# получение общей информации о данных в таблице df"
   ]
  },
  {
   "cell_type": "markdown",
   "metadata": {
    "deletable": false,
    "editable": false,
    "id": "TaQ2Iwbr_Zct"
   },
   "source": [
    "Итак, в таблице семь столбцов. Тип данных во всех столбцах — `object`.\n",
    "\n",
    "Согласно документации к данным:\n",
    "* `userID` — идентификатор пользователя;\n",
    "* `Track` — название трека;  \n",
    "* `artist` — имя исполнителя;\n",
    "* `genre` — название жанра;\n",
    "* `City` — город пользователя;\n",
    "* `time` — время начала прослушивания;\n",
    "* `Day` — день недели.\n",
    "\n",
    "Количество значений в столбцах различается. Значит, в данных есть пропущенные значения."
   ]
  },
  {
   "cell_type": "markdown",
   "metadata": {
    "deletable": false,
    "editable": false,
    "id": "rAfziTBDmf2h",
    "tags": [
     "start_task"
    ]
   },
   "source": [
    "**Задание 5**\n",
    "\n",
    "**Вопрос со свободной формой ответа**\n",
    "\n",
    "В названиях колонок видны нарушения стиля:\n",
    "* Строчные буквы сочетаются с прописными.\n",
    "* Встречаются пробелы.\n",
    "\n",
    "Какое третье нарушение?"
   ]
  },
  {
   "cell_type": "code",
   "execution_count": 250,
   "metadata": {
    "id": "jD8EXEIvmf2h"
   },
   "outputs": [],
   "source": [
    "#не понятно что именно отражает time. Напишите ваш ответ здесь комментарием. Не удаляйте символ #. Не меняйте тип этой ячейки на Markdown."
   ]
  },
  {
   "cell_type": "markdown",
   "metadata": {
    "deletable": false,
    "editable": false,
    "id": "MCB6-dXG_Zct"
   },
   "source": [
    "**Выводы**\n",
    "\n",
    "В каждой строке таблицы — данные о прослушанном треке. Часть колонок описывает саму композицию: название, исполнителя и жанр. Остальные данные рассказывают о пользователе: из какого он города, когда он слушал музыку. \n",
    "\n",
    "Предварительно можно утверждать, что данных достаточно для проверки гипотез. Но встречаются пропуски в данных, а в названиях колонок — расхождения с хорошим стилем.\n",
    "\n",
    "Чтобы двигаться дальше, нужно устранить проблемы в данных."
   ]
  },
  {
   "cell_type": "markdown",
   "metadata": {
    "deletable": false,
    "editable": false,
    "id": "SjYF6Ub9_Zct"
   },
   "source": [
    "## Предобработка данных\n",
    "Исправьте стиль в заголовках столбцов, исключите пропуски. Затем проверьте данные на дубликаты."
   ]
  },
  {
   "cell_type": "markdown",
   "metadata": {
    "deletable": false,
    "editable": false,
    "id": "dIaKXr29_Zct",
    "tags": [
     "start_task"
    ]
   },
   "source": [
    "### Стиль заголовков\n",
    "\n",
    "**Задание 6**\n",
    "\n",
    "Выведите на экран названия столбцов:"
   ]
  },
  {
   "cell_type": "code",
   "execution_count": 251,
   "metadata": {
    "deletable": false,
    "id": "oKOTdF_Q_Zct"
   },
   "outputs": [
    {
     "data": {
      "text/plain": [
       "Index(['  userID', 'Track', 'artist', 'genre', '  City  ', 'time', 'Day'], dtype='object')"
      ]
     },
     "execution_count": 251,
     "metadata": {},
     "output_type": "execute_result"
    }
   ],
   "source": [
    "df.columns # перечень названий столбцов таблицы df"
   ]
  },
  {
   "cell_type": "markdown",
   "metadata": {
    "deletable": false,
    "editable": false,
    "id": "zj5534cv_Zct",
    "tags": [
     "start_task"
    ]
   },
   "source": [
    "**Задание 7**\n",
    "\n",
    "\n",
    "Приведите названия в соответствие с хорошим стилем:\n",
    "* несколько слов в названии запишите в «змеином_регистре»,\n",
    "* все символы сделайте строчными,\n",
    "* устраните пробелы.\n",
    "\n",
    "Для этого переименуйте колонки так:\n",
    "* `'  userID'` → `'user_id'`;\n",
    "* `'Track'` → `'track'`;\n",
    "* `'  City  '` → `'city'`;\n",
    "* `'Day'` → `'day'`."
   ]
  },
  {
   "cell_type": "code",
   "execution_count": 252,
   "metadata": {
    "deletable": false,
    "id": "ISlFqs5y_Zct"
   },
   "outputs": [],
   "source": [
    "df=df.rename(columns={'  userID':'user_id','Track':'track','  City  ':'city','Day':'day'}) #переименование столбцов"
   ]
  },
  {
   "cell_type": "markdown",
   "metadata": {
    "deletable": false,
    "editable": false,
    "id": "1dqbh00J_Zct",
    "tags": [
     "start_task"
    ]
   },
   "source": [
    "**Задание 8**\n",
    "\n",
    "\n",
    "Проверьте результат. Для этого ещё раз выведите на экран названия столбцов:"
   ]
  },
  {
   "cell_type": "code",
   "execution_count": 253,
   "metadata": {
    "deletable": false,
    "id": "d4NOAmTW_Zct"
   },
   "outputs": [
    {
     "data": {
      "text/plain": [
       "Index(['user_id', 'track', 'artist', 'genre', 'city', 'time', 'day'], dtype='object')"
      ]
     },
     "execution_count": 253,
     "metadata": {},
     "output_type": "execute_result"
    }
   ],
   "source": [
    "df.columns# проверка результатов - перечень названий столбцов"
   ]
  },
  {
   "cell_type": "markdown",
   "metadata": {
    "deletable": false,
    "editable": false,
    "id": "5ISfbcfY_Zct",
    "tags": [
     "start_task"
    ]
   },
   "source": [
    "### Пропуски значений\n",
    "\n",
    "**Задание 9**\n",
    "\n",
    "Сначала посчитайте, сколько в таблице пропущенных значений. Для этого достаточно двух методов `pandas`:"
   ]
  },
  {
   "cell_type": "code",
   "execution_count": 254,
   "metadata": {
    "deletable": false,
    "id": "RskX29qr_Zct"
   },
   "outputs": [
    {
     "data": {
      "text/plain": [
       "user_id       0\n",
       "track      1231\n",
       "artist     7203\n",
       "genre      1198\n",
       "city          0\n",
       "time          0\n",
       "day           0\n",
       "dtype: int64"
      ]
     },
     "execution_count": 254,
     "metadata": {},
     "output_type": "execute_result"
    }
   ],
   "source": [
    "df.isna().sum()\n",
    "# подсчёт пропусков"
   ]
  },
  {
   "cell_type": "markdown",
   "metadata": {
    "deletable": false,
    "editable": false,
    "id": "qubhgnlO_Zct"
   },
   "source": [
    "Не все пропущенные значения влияют на исследование. Так в `track` и `artist` пропуски не важны для вашей работы. Достаточно заменить их явными обозначениями.\n",
    "\n",
    "Но пропуски в `genre` могут помешать сравнению музыкальных вкусов в Москве и Санкт-Петербурге. На практике было бы правильно установить причину пропусков и восстановить данные. Такой возможности нет в учебном проекте. Придётся:\n",
    "* заполнить и эти пропуски явными обозначениями;\n",
    "* оценить, насколько они повредят расчётам. "
   ]
  },
  {
   "cell_type": "markdown",
   "metadata": {
    "deletable": false,
    "editable": false,
    "id": "fSv2laPA_Zct",
    "tags": [
     "start_task"
    ]
   },
   "source": [
    "**Задание 10**\n",
    "\n",
    "Замените пропущенные значения в столбцах `track`, `artist` и `genre` на строку `'unknown'`. Для этого создайте список `columns_to_replace`, переберите его элементы циклом `for` и для каждого столбца выполните замену пропущенных значений:"
   ]
  },
  {
   "cell_type": "code",
   "execution_count": 255,
   "metadata": {
    "deletable": false,
    "id": "KplB5qWs_Zct"
   },
   "outputs": [],
   "source": [
    "columns_to_replace = ['track','artist','genre']\n",
    "for column in columns_to_replace:\n",
    "    df[column]=df[column].fillna('unknown')\n",
    "    # перебор названий столбцов в цикле и замена пропущенных значений на 'unknown'"
   ]
  },
  {
   "cell_type": "markdown",
   "metadata": {
    "deletable": false,
    "editable": false,
    "id": "Ilsm-MZo_Zct",
    "tags": [
     "start_task"
    ]
   },
   "source": [
    "**Задание 11**\n",
    "\n",
    "Убедитесь, что в таблице не осталось пропусков. Для этого ещё раз посчитайте пропущенные значения."
   ]
  },
  {
   "cell_type": "code",
   "execution_count": 256,
   "metadata": {
    "deletable": false,
    "id": "Tq4nYRX4_Zct"
   },
   "outputs": [
    {
     "data": {
      "text/plain": [
       "user_id    0\n",
       "track      0\n",
       "artist     0\n",
       "genre      0\n",
       "city       0\n",
       "time       0\n",
       "day        0\n",
       "dtype: int64"
      ]
     },
     "execution_count": 256,
     "metadata": {},
     "output_type": "execute_result"
    }
   ],
   "source": [
    "df.isna().sum()# подсчёт пропусков"
   ]
  },
  {
   "cell_type": "markdown",
   "metadata": {
    "deletable": false,
    "editable": false,
    "id": "BWKRtBJ3_Zct",
    "tags": [
     "start_task"
    ]
   },
   "source": [
    "### Дубликаты\n",
    "\n",
    "**Задание 12**\n",
    "\n",
    "Посчитайте явные дубликаты в таблице одной командой:"
   ]
  },
  {
   "cell_type": "code",
   "execution_count": 257,
   "metadata": {
    "deletable": false,
    "id": "36eES_S0_Zct"
   },
   "outputs": [
    {
     "data": {
      "text/plain": [
       "3826"
      ]
     },
     "execution_count": 257,
     "metadata": {},
     "output_type": "execute_result"
    }
   ],
   "source": [
    "df.duplicated().sum()# подсчёт явных дубликатов"
   ]
  },
  {
   "cell_type": "markdown",
   "metadata": {
    "deletable": false,
    "editable": false,
    "id": "Ot25h6XR_Zct",
    "tags": [
     "start_task"
    ]
   },
   "source": [
    "**Задание 13**\n",
    "\n",
    "Вызовите специальный метод `pandas`, чтобы удалить явные дубликаты:"
   ]
  },
  {
   "cell_type": "code",
   "execution_count": 258,
   "metadata": {
    "deletable": false,
    "id": "exFHq6tt_Zct"
   },
   "outputs": [],
   "source": [
    "df=df.drop_duplicates()# удаление явных дубликатов"
   ]
  },
  {
   "cell_type": "markdown",
   "metadata": {
    "deletable": false,
    "editable": false,
    "id": "Im2YwBEG_Zct",
    "tags": [
     "start_task"
    ]
   },
   "source": [
    "**Задание 14**\n",
    "\n",
    "Ещё раз посчитайте явные дубликаты в таблице — убедитесь, что полностью от них избавились:"
   ]
  },
  {
   "cell_type": "code",
   "execution_count": 259,
   "metadata": {
    "deletable": false,
    "id": "-8PuNWQ0_Zct"
   },
   "outputs": [
    {
     "data": {
      "text/plain": [
       "0"
      ]
     },
     "execution_count": 259,
     "metadata": {},
     "output_type": "execute_result"
    }
   ],
   "source": [
    "df.duplicated().sum()# проверка на отсутствие дубликатов"
   ]
  },
  {
   "cell_type": "markdown",
   "metadata": {
    "deletable": false,
    "editable": false,
    "id": "QlFBsxAr_Zct"
   },
   "source": [
    "Теперь избавьтесь от неявных дубликатов в колонке `genre`. Например, название одного и того же жанра может быть записано немного по-разному. Такие ошибки тоже повлияют на результат исследования."
   ]
  },
  {
   "cell_type": "markdown",
   "metadata": {
    "deletable": false,
    "editable": false,
    "id": "eSjWwsOh_Zct",
    "tags": [
     "start_task"
    ]
   },
   "source": [
    "**Задание 15**\n",
    "\n",
    "Выведите на экран список уникальных названий жанров, отсортированный в алфавитном порядке. Для этого:\n",
    "1. извлеките нужный столбец датафрейма; \n",
    "2. примените к нему метод сортировки;\n",
    "3. для отсортированного столбца вызовите метод, который вернёт уникальные значения из столбца."
   ]
  },
  {
   "cell_type": "code",
   "execution_count": 260,
   "metadata": {
    "deletable": false,
    "id": "JIUcqzZN_Zct"
   },
   "outputs": [
    {
     "data": {
      "text/plain": [
       "array(['acid', 'acoustic', 'action', 'adult', 'africa', 'afrikaans',\n",
       "       'alternative', 'alternativepunk', 'ambient', 'americana',\n",
       "       'animated', 'anime', 'arabesk', 'arabic', 'arena',\n",
       "       'argentinetango', 'art', 'audiobook', 'author', 'avantgarde',\n",
       "       'axé', 'baile', 'balkan', 'beats', 'bigroom', 'black', 'bluegrass',\n",
       "       'blues', 'bollywood', 'bossa', 'brazilian', 'breakbeat', 'breaks',\n",
       "       'broadway', 'cantautori', 'cantopop', 'canzone', 'caribbean',\n",
       "       'caucasian', 'celtic', 'chamber', 'chanson', 'children', 'chill',\n",
       "       'chinese', 'choral', 'christian', 'christmas', 'classical',\n",
       "       'classicmetal', 'club', 'colombian', 'comedy', 'conjazz',\n",
       "       'contemporary', 'country', 'cuban', 'dance', 'dancehall',\n",
       "       'dancepop', 'dark', 'death', 'deep', 'deutschrock', 'deutschspr',\n",
       "       'dirty', 'disco', 'dnb', 'documentary', 'downbeat', 'downtempo',\n",
       "       'drum', 'dub', 'dubstep', 'eastern', 'easy', 'electronic',\n",
       "       'electropop', 'emo', 'entehno', 'epicmetal', 'estrada', 'ethnic',\n",
       "       'eurofolk', 'european', 'experimental', 'extrememetal', 'fado',\n",
       "       'fairytail', 'film', 'fitness', 'flamenco', 'folk', 'folklore',\n",
       "       'folkmetal', 'folkrock', 'folktronica', 'forró', 'frankreich',\n",
       "       'französisch', 'french', 'funk', 'future', 'gangsta', 'garage',\n",
       "       'german', 'ghazal', 'gitarre', 'glitch', 'gospel', 'gothic',\n",
       "       'grime', 'grunge', 'gypsy', 'handsup', \"hard'n'heavy\", 'hardcore',\n",
       "       'hardstyle', 'hardtechno', 'hip', 'hip-hop', 'hiphop',\n",
       "       'historisch', 'holiday', 'hop', 'horror', 'house', 'hymn', 'idm',\n",
       "       'independent', 'indian', 'indie', 'indipop', 'industrial',\n",
       "       'inspirational', 'instrumental', 'international', 'irish', 'jam',\n",
       "       'japanese', 'jazz', 'jewish', 'jpop', 'jungle', 'k-pop',\n",
       "       'karadeniz', 'karaoke', 'kayokyoku', 'korean', 'laiko', 'latin',\n",
       "       'latino', 'leftfield', 'local', 'lounge', 'loungeelectronic',\n",
       "       'lovers', 'malaysian', 'mandopop', 'marschmusik', 'meditative',\n",
       "       'mediterranean', 'melodic', 'metal', 'metalcore', 'mexican',\n",
       "       'middle', 'minimal', 'miscellaneous', 'modern', 'mood', 'mpb',\n",
       "       'muslim', 'native', 'neoklassik', 'neue', 'new', 'newage',\n",
       "       'newwave', 'nu', 'nujazz', 'numetal', 'oceania', 'old', 'opera',\n",
       "       'orchestral', 'other', 'piano', 'podcasts', 'pop', 'popdance',\n",
       "       'popelectronic', 'popeurodance', 'poprussian', 'post',\n",
       "       'posthardcore', 'postrock', 'power', 'progmetal', 'progressive',\n",
       "       'psychedelic', 'punjabi', 'punk', 'quebecois', 'ragga', 'ram',\n",
       "       'rancheras', 'rap', 'rave', 'reggae', 'reggaeton', 'regional',\n",
       "       'relax', 'religious', 'retro', 'rhythm', 'rnb', 'rnr', 'rock',\n",
       "       'rockabilly', 'rockalternative', 'rockindie', 'rockother',\n",
       "       'romance', 'roots', 'ruspop', 'rusrap', 'rusrock', 'russian',\n",
       "       'salsa', 'samba', 'scenic', 'schlager', 'self', 'sertanejo',\n",
       "       'shanson', 'shoegazing', 'showtunes', 'singer', 'ska', 'skarock',\n",
       "       'slow', 'smooth', 'soft', 'soul', 'soulful', 'sound', 'soundtrack',\n",
       "       'southern', 'specialty', 'speech', 'spiritual', 'sport',\n",
       "       'stonerrock', 'surf', 'swing', 'synthpop', 'synthrock',\n",
       "       'sängerportrait', 'tango', 'tanzorchester', 'taraftar', 'tatar',\n",
       "       'tech', 'techno', 'teen', 'thrash', 'top', 'traditional',\n",
       "       'tradjazz', 'trance', 'tribal', 'trip', 'triphop', 'tropical',\n",
       "       'türk', 'türkçe', 'ukrrock', 'unknown', 'urban', 'uzbek',\n",
       "       'variété', 'vi', 'videogame', 'vocal', 'western', 'world',\n",
       "       'worldbeat', 'ïîï', 'электроника'], dtype=object)"
      ]
     },
     "execution_count": 260,
     "metadata": {},
     "output_type": "execute_result"
    }
   ],
   "source": [
    "df_sorted=df['genre'].sort_values()\n",
    "df_sorted.unique()# Просмотр уникальных названий жанров"
   ]
  },
  {
   "cell_type": "markdown",
   "metadata": {
    "deletable": false,
    "editable": false,
    "id": "qej-Qmuo_Zct",
    "tags": [
     "start_task"
    ]
   },
   "source": [
    "**Задание 16**\n",
    "\n",
    "Просмотрите список и найдите неявные дубликаты названия `hiphop`. Это могут быть названия с ошибками или альтернативные названия того же жанра.\n",
    "\n",
    "Вы увидите следующие неявные дубликаты:\n",
    "* *hip*,\n",
    "* *hop*,\n",
    "* *hip-hop*.\n",
    "\n",
    "Чтобы очистить от них таблицу используйте метод `replace()` с двумя аргументами: списком строк-дубликатов (включащий *hip*, *hop* и *hip-hop*) и строкой с правильным значением. Вам нужно исправить колонку `genre` в таблице `df`: заменить каждое значение из списка дубликатов на верное. Вместо `hip`, `hop` и `hip-hop` в таблице должно быть значение `hiphop`:"
   ]
  },
  {
   "cell_type": "code",
   "execution_count": 261,
   "metadata": {
    "deletable": false,
    "id": "ErNDkmns_Zct"
   },
   "outputs": [],
   "source": [
    "df['genre']=df['genre'].replace(['hip','hop','hip-hop'],'hiphop')# Устранение неявных дубликатов"
   ]
  },
  {
   "cell_type": "markdown",
   "metadata": {
    "deletable": false,
    "editable": false,
    "id": "zQKF16_RG15m",
    "tags": [
     "start_task"
    ]
   },
   "source": [
    "**Задание 17**\n",
    "\n",
    "Проверьте, что заменили неправильные названия:\n",
    "\n",
    "*   hip,\n",
    "*   hop,\n",
    "*   hip-hop.\n",
    "\n",
    "Выведите отсортированный список уникальных значений столбца `genre`:"
   ]
  },
  {
   "cell_type": "code",
   "execution_count": 262,
   "metadata": {
    "deletable": false,
    "id": "wvixALnFG15m"
   },
   "outputs": [
    {
     "data": {
      "text/plain": [
       "array(['acid', 'acoustic', 'action', 'adult', 'africa', 'afrikaans',\n",
       "       'alternative', 'alternativepunk', 'ambient', 'americana',\n",
       "       'animated', 'anime', 'arabesk', 'arabic', 'arena',\n",
       "       'argentinetango', 'art', 'audiobook', 'author', 'avantgarde',\n",
       "       'axé', 'baile', 'balkan', 'beats', 'bigroom', 'black', 'bluegrass',\n",
       "       'blues', 'bollywood', 'bossa', 'brazilian', 'breakbeat', 'breaks',\n",
       "       'broadway', 'cantautori', 'cantopop', 'canzone', 'caribbean',\n",
       "       'caucasian', 'celtic', 'chamber', 'chanson', 'children', 'chill',\n",
       "       'chinese', 'choral', 'christian', 'christmas', 'classical',\n",
       "       'classicmetal', 'club', 'colombian', 'comedy', 'conjazz',\n",
       "       'contemporary', 'country', 'cuban', 'dance', 'dancehall',\n",
       "       'dancepop', 'dark', 'death', 'deep', 'deutschrock', 'deutschspr',\n",
       "       'dirty', 'disco', 'dnb', 'documentary', 'downbeat', 'downtempo',\n",
       "       'drum', 'dub', 'dubstep', 'eastern', 'easy', 'electronic',\n",
       "       'electropop', 'emo', 'entehno', 'epicmetal', 'estrada', 'ethnic',\n",
       "       'eurofolk', 'european', 'experimental', 'extrememetal', 'fado',\n",
       "       'fairytail', 'film', 'fitness', 'flamenco', 'folk', 'folklore',\n",
       "       'folkmetal', 'folkrock', 'folktronica', 'forró', 'frankreich',\n",
       "       'französisch', 'french', 'funk', 'future', 'gangsta', 'garage',\n",
       "       'german', 'ghazal', 'gitarre', 'glitch', 'gospel', 'gothic',\n",
       "       'grime', 'grunge', 'gypsy', 'handsup', \"hard'n'heavy\", 'hardcore',\n",
       "       'hardstyle', 'hardtechno', 'hiphop', 'historisch', 'holiday',\n",
       "       'horror', 'house', 'hymn', 'idm', 'independent', 'indian', 'indie',\n",
       "       'indipop', 'industrial', 'inspirational', 'instrumental',\n",
       "       'international', 'irish', 'jam', 'japanese', 'jazz', 'jewish',\n",
       "       'jpop', 'jungle', 'k-pop', 'karadeniz', 'karaoke', 'kayokyoku',\n",
       "       'korean', 'laiko', 'latin', 'latino', 'leftfield', 'local',\n",
       "       'lounge', 'loungeelectronic', 'lovers', 'malaysian', 'mandopop',\n",
       "       'marschmusik', 'meditative', 'mediterranean', 'melodic', 'metal',\n",
       "       'metalcore', 'mexican', 'middle', 'minimal', 'miscellaneous',\n",
       "       'modern', 'mood', 'mpb', 'muslim', 'native', 'neoklassik', 'neue',\n",
       "       'new', 'newage', 'newwave', 'nu', 'nujazz', 'numetal', 'oceania',\n",
       "       'old', 'opera', 'orchestral', 'other', 'piano', 'podcasts', 'pop',\n",
       "       'popdance', 'popelectronic', 'popeurodance', 'poprussian', 'post',\n",
       "       'posthardcore', 'postrock', 'power', 'progmetal', 'progressive',\n",
       "       'psychedelic', 'punjabi', 'punk', 'quebecois', 'ragga', 'ram',\n",
       "       'rancheras', 'rap', 'rave', 'reggae', 'reggaeton', 'regional',\n",
       "       'relax', 'religious', 'retro', 'rhythm', 'rnb', 'rnr', 'rock',\n",
       "       'rockabilly', 'rockalternative', 'rockindie', 'rockother',\n",
       "       'romance', 'roots', 'ruspop', 'rusrap', 'rusrock', 'russian',\n",
       "       'salsa', 'samba', 'scenic', 'schlager', 'self', 'sertanejo',\n",
       "       'shanson', 'shoegazing', 'showtunes', 'singer', 'ska', 'skarock',\n",
       "       'slow', 'smooth', 'soft', 'soul', 'soulful', 'sound', 'soundtrack',\n",
       "       'southern', 'specialty', 'speech', 'spiritual', 'sport',\n",
       "       'stonerrock', 'surf', 'swing', 'synthpop', 'synthrock',\n",
       "       'sängerportrait', 'tango', 'tanzorchester', 'taraftar', 'tatar',\n",
       "       'tech', 'techno', 'teen', 'thrash', 'top', 'traditional',\n",
       "       'tradjazz', 'trance', 'tribal', 'trip', 'triphop', 'tropical',\n",
       "       'türk', 'türkçe', 'ukrrock', 'unknown', 'urban', 'uzbek',\n",
       "       'variété', 'vi', 'videogame', 'vocal', 'western', 'world',\n",
       "       'worldbeat', 'ïîï', 'электроника'], dtype=object)"
      ]
     },
     "execution_count": 262,
     "metadata": {},
     "output_type": "execute_result"
    }
   ],
   "source": [
    "df['genre'].sort_values().unique()# Проверка на неявные дубликаты"
   ]
  },
  {
   "cell_type": "markdown",
   "metadata": {
    "deletable": false,
    "editable": false,
    "id": "jz6a9-7HQUDd"
   },
   "source": [
    "**Выводы**\n",
    "\n",
    "Предобработка обнаружила три проблемы в данных:\n",
    "\n",
    "- нарушения в стиле заголовков,\n",
    "- пропущенные значения,\n",
    "- дубликаты — явные и неявные.\n",
    "\n",
    "Вы исправили заголовки, чтобы упростить работу с таблицей. Без дубликатов исследование станет более точным.\n",
    "\n",
    "Пропущенные значения вы заменили на `'unknown'`. Ещё предстоит увидеть, не повредят ли исследованию пропуски в колонке `genre`.\n",
    "\n",
    "Теперь можно перейти к проверке гипотез. "
   ]
  },
  {
   "cell_type": "markdown",
   "metadata": {
    "deletable": false,
    "editable": false,
    "id": "WttZHXH0SqKk"
   },
   "source": [
    "## Проверка гипотез"
   ]
  },
  {
   "cell_type": "markdown",
   "metadata": {
    "deletable": false,
    "editable": false,
    "id": "Im936VVi_Zcu"
   },
   "source": [
    "### Сравнение поведения пользователей двух столиц"
   ]
  },
  {
   "cell_type": "markdown",
   "metadata": {
    "deletable": false,
    "editable": false,
    "id": "nwt_MuaL_Zcu"
   },
   "source": [
    "Первая гипотеза утверждает, что пользователи по-разному слушают музыку в Москве и Санкт-Петербурге. Проверьте это предположение по данным о трёх днях недели — понедельнике, среде и пятнице. Для этого:\n",
    "\n",
    "* Разделите пользователей Москвы и Санкт-Петербурга.\n",
    "* Сравните, сколько треков послушала каждая группа пользователей в понедельник, среду и пятницу.\n"
   ]
  },
  {
   "cell_type": "markdown",
   "metadata": {
    "deletable": false,
    "editable": false,
    "id": "8Dw_YMmT_Zcu",
    "tags": [
     "start_task"
    ]
   },
   "source": [
    "**Задание 18**\n",
    "\n",
    "Для тренировки сначала выполните каждый из расчётов по отдельности. \n",
    "\n",
    "Оцените активность пользователей в каждом городе. Сгруппируйте данные по городу и посчитайте прослушивания в каждой группе.\n",
    "\n"
   ]
  },
  {
   "cell_type": "code",
   "execution_count": 263,
   "metadata": {
    "deletable": false,
    "id": "0_Qs96oh_Zcu"
   },
   "outputs": [
    {
     "data": {
      "text/plain": [
       "city\n",
       "Moscow              42741\n",
       "Saint-Petersburg    18512\n",
       "Name: user_id, dtype: int64"
      ]
     },
     "execution_count": 263,
     "metadata": {},
     "output_type": "execute_result"
    }
   ],
   "source": [
    "grouped_by_city=df.groupby('city').count()\n",
    "grouped_by_city['user_id'] # Подсчёт прослушиваний в каждом городе"
   ]
  },
  {
   "cell_type": "markdown",
   "metadata": {
    "deletable": false,
    "editable": false,
    "id": "dzli3w8o_Zcu",
    "tags": [
     "start_task"
    ]
   },
   "source": [
    "В Москве прослушиваний больше, чем в Петербурге. Из этого не следует, что московские пользователи чаще слушают музыку. Просто самих пользователей в Москве больше.\n",
    "\n",
    "**Задание 19**\n",
    "\n",
    "Теперь сгруппируйте данные по дню недели и посчитайте прослушивания в понедельник, среду и пятницу. Учтите, что в данных есть информация о прослушиваниях только за эти дни.\n"
   ]
  },
  {
   "cell_type": "code",
   "execution_count": 264,
   "metadata": {
    "deletable": false,
    "id": "uZMKjiJz_Zcu"
   },
   "outputs": [
    {
     "data": {
      "text/plain": [
       "day\n",
       "Friday       21840\n",
       "Monday       21354\n",
       "Wednesday    18059\n",
       "Name: user_id, dtype: int64"
      ]
     },
     "execution_count": 264,
     "metadata": {},
     "output_type": "execute_result"
    }
   ],
   "source": [
    "grouped_by_day = df.groupby('day').count()\n",
    "grouped_by_day['user_id']# Подсчёт прослушиваний в каждый из трёх дней"
   ]
  },
  {
   "cell_type": "markdown",
   "metadata": {
    "deletable": false,
    "editable": false,
    "id": "cC2tNrlL_Zcu"
   },
   "source": [
    "В среднем пользователи из двух городов менее активны по средам. Но картина может измениться, если рассмотреть каждый город в отдельности."
   ]
  },
  {
   "cell_type": "markdown",
   "metadata": {
    "deletable": false,
    "editable": false,
    "id": "POzs8bGa_Zcu",
    "tags": [
     "start_task"
    ]
   },
   "source": [
    "**Задание 20**\n",
    "\n",
    "\n",
    "Вы видели, как работает группировка по городу и по дням недели. Теперь напишите функцию, которая объединит два эти расчёта.\n",
    "\n",
    "Создайте функцию `number_tracks()`, которая посчитает прослушивания для заданного дня и города. Ей понадобятся два параметра:\n",
    "* день недели,\n",
    "* название города.\n",
    "\n",
    "В функции сохраните в переменную строки исходной таблицы, у которых значение:\n",
    "  * в колонке `day` равно параметру `day`,\n",
    "  * в колонке `city` равно параметру `city`.\n",
    "\n",
    "Для этого примените последовательную фильтрацию с логической индексацией (или сложные логические выражения в одну строку, если вы уже знакомы с ними).\n",
    "\n",
    "Затем посчитайте значения в столбце `user_id` получившейся таблицы. Результат сохраните в новую переменную. Верните эту переменную из функции."
   ]
  },
  {
   "cell_type": "code",
   "execution_count": 265,
   "metadata": {
    "deletable": false,
    "id": "Nz3GdQB1_Zcu"
   },
   "outputs": [],
   "source": [
    "def number_tracks(day,city):\n",
    "    track_list = df[(df['day']== day)\n",
    "           & (df['city'] == city)] \n",
    "    track_list_count=track_list['user_id'].count()                                \n",
    "    return track_list_count                                \n",
    "                                    "
   ]
  },
  {
   "cell_type": "markdown",
   "metadata": {
    "deletable": false,
    "editable": false,
    "id": "ytf7xFrFJQ2r",
    "tags": [
     "start_task"
    ]
   },
   "source": [
    "**Задание 21**\n",
    "\n",
    "Вызовите `number_tracks()` шесть раз, меняя значение параметров — так, чтобы получить данные для каждого города в каждый из трёх дней."
   ]
  },
  {
   "cell_type": "code",
   "execution_count": 266,
   "metadata": {
    "deletable": false,
    "id": "rJcRATNQ_Zcu"
   },
   "outputs": [
    {
     "data": {
      "text/plain": [
       "15740"
      ]
     },
     "execution_count": 266,
     "metadata": {},
     "output_type": "execute_result"
    }
   ],
   "source": [
    "number_tracks('Monday','Moscow')# количество прослушиваний в Москве по понедельникам"
   ]
  },
  {
   "cell_type": "code",
   "execution_count": 267,
   "metadata": {
    "deletable": false,
    "id": "hq_ncZ5T_Zcu"
   },
   "outputs": [
    {
     "data": {
      "text/plain": [
       "5614"
      ]
     },
     "execution_count": 267,
     "metadata": {},
     "output_type": "execute_result"
    }
   ],
   "source": [
    "number_tracks('Monday','Saint-Petersburg')# количество прослушиваний в Санкт-Петербурге по понедельникам"
   ]
  },
  {
   "cell_type": "code",
   "execution_count": 268,
   "metadata": {
    "deletable": false,
    "id": "_NTy2VPU_Zcu"
   },
   "outputs": [
    {
     "data": {
      "text/plain": [
       "11056"
      ]
     },
     "execution_count": 268,
     "metadata": {},
     "output_type": "execute_result"
    }
   ],
   "source": [
    "number_tracks('Wednesday','Moscow')# количество прослушиваний в Москве по средам"
   ]
  },
  {
   "cell_type": "code",
   "execution_count": 269,
   "metadata": {
    "deletable": false,
    "id": "j2y3TAwo_Zcu"
   },
   "outputs": [
    {
     "data": {
      "text/plain": [
       "7003"
      ]
     },
     "execution_count": 269,
     "metadata": {},
     "output_type": "execute_result"
    }
   ],
   "source": [
    "number_tracks('Wednesday','Saint-Petersburg')# количество прослушиваний в Санкт-Петербурге по средам"
   ]
  },
  {
   "cell_type": "code",
   "execution_count": 270,
   "metadata": {
    "deletable": false,
    "id": "vYDw5u_K_Zcu"
   },
   "outputs": [
    {
     "data": {
      "text/plain": [
       "15945"
      ]
     },
     "execution_count": 270,
     "metadata": {},
     "output_type": "execute_result"
    }
   ],
   "source": [
    "number_tracks('Friday','Moscow')# количество прослушиваний в Москве по пятницам"
   ]
  },
  {
   "cell_type": "code",
   "execution_count": 271,
   "metadata": {
    "deletable": false,
    "id": "8_yzFtW3_Zcu"
   },
   "outputs": [
    {
     "data": {
      "text/plain": [
       "5895"
      ]
     },
     "execution_count": 271,
     "metadata": {},
     "output_type": "execute_result"
    }
   ],
   "source": [
    "number_tracks('Friday','Saint-Petersburg')# количество прослушиваний в Санкт-Петербурге по пятницам"
   ]
  },
  {
   "cell_type": "markdown",
   "metadata": {
    "deletable": false,
    "editable": false,
    "id": "7QXffbO-_Zcu",
    "tags": [
     "start_task"
    ]
   },
   "source": [
    "**Задание 22**\n",
    "\n",
    "Создайте c помощью конструктора `pd.DataFrame` таблицу, где\n",
    "* названия колонок — `['city', 'monday', 'wednesday', 'friday']`;\n",
    "* данные — результаты, которые вы получили с помощью `number_tracks`."
   ]
  },
  {
   "cell_type": "code",
   "execution_count": 272,
   "metadata": {
    "deletable": false,
    "id": "APAcLpOr_Zcu"
   },
   "outputs": [
    {
     "name": "stdout",
     "output_type": "stream",
     "text": [
      "              city  monday  wednesday  friday\n",
      "0           Москва   15740      11056   15945\n",
      "1  Санкт-Петербург    5614       7003    5895\n"
     ]
    }
   ],
   "source": [
    "columns= ['city', 'monday', 'wednesday', 'friday']\n",
    "data =[['Москва',15740,11056,15945],\n",
    "['Санкт-Петербург',5614,7003,5895]]\n",
    "\n",
    "info = pd.DataFrame(data=data,columns= columns)# Таблица с результатами\n",
    "print(info)"
   ]
  },
  {
   "cell_type": "markdown",
   "metadata": {
    "deletable": false,
    "editable": false,
    "id": "-EgPIHYu_Zcu"
   },
   "source": [
    "**Выводы**\n",
    "\n",
    "Данные показывают разницу поведения пользователей:\n",
    "\n",
    "- В Москве пик прослушиваний приходится на понедельник и пятницу, а в среду заметен спад.\n",
    "- В Петербурге, наоборот, больше слушают музыку по средам. Активность в понедельник и пятницу здесь почти в равной мере уступает среде.\n",
    "\n",
    "Значит, данные говорят в пользу первой гипотезы."
   ]
  },
  {
   "cell_type": "markdown",
   "metadata": {
    "deletable": false,
    "editable": false,
    "id": "atZAxtq4_Zcu"
   },
   "source": [
    "### Музыка в начале и в конце недели"
   ]
  },
  {
   "cell_type": "markdown",
   "metadata": {
    "deletable": false,
    "editable": false,
    "id": "eXrQqXFH_Zcu"
   },
   "source": [
    "Согласно второй гипотезе, утром в понедельник в Москве преобладают одни жанры, а в Петербурге — другие. Так же и вечером пятницы преобладают разные жанры — в зависимости от города."
   ]
  },
  {
   "cell_type": "markdown",
   "metadata": {
    "deletable": false,
    "editable": false,
    "id": "S8UcW6Hw_Zcu",
    "tags": [
     "start_task"
    ]
   },
   "source": [
    "**Задание 23**\n",
    "\n",
    "Сохраните таблицы с данными в две переменные:\n",
    "* по Москве — в `moscow_general`;\n",
    "* по Санкт-Петербургу — в `spb_general`."
   ]
  },
  {
   "cell_type": "code",
   "execution_count": 273,
   "metadata": {
    "deletable": false,
    "id": "qeaFfM_P_Zcu"
   },
   "outputs": [],
   "source": [
    "moscow_general = df[df['city'] == 'Moscow']# получение таблицы moscow_general из тех строк таблицы df, \n",
    "# для которых значение в столбце 'city' равно 'Moscow'\n"
   ]
  },
  {
   "cell_type": "code",
   "execution_count": 274,
   "metadata": {
    "deletable": false,
    "id": "ORaVRKto_Zcu"
   },
   "outputs": [],
   "source": [
    "spb_general = df[df['city'] == 'Saint-Petersburg']# получение таблицы spb_general из тех строк таблицы df,\n",
    "# для которых значение в столбце 'city' равно 'Saint-Petersburg'\n"
   ]
  },
  {
   "cell_type": "markdown",
   "metadata": {
    "deletable": false,
    "editable": false,
    "id": "MEJV-CX2_Zcu",
    "tags": [
     "start_task"
    ]
   },
   "source": [
    "**Задание 24**\n",
    "\n",
    "Создайте функцию `genre_weekday()` с четырьмя параметрами:\n",
    "* таблица (датафрейм) с данными,\n",
    "* день недели,\n",
    "* начальная временная метка в формате 'hh:mm', \n",
    "* последняя временная метка в формате 'hh:mm'.\n",
    "\n",
    "Функция должна вернуть информацию о топ-10 жанров тех треков, которые прослушивали в указанный день, в промежутке между двумя отметками времени."
   ]
  },
  {
   "cell_type": "code",
   "execution_count": 276,
   "metadata": {
    "deletable": false,
    "id": "laJT9BYl_Zcu"
   },
   "outputs": [],
   "source": [
    "def genre_weekday(df, day, time1, time2):\n",
    "    # последовательная фильтрация\n",
    "    # оставляем в genre_df только те строки df, у которых день равен day\n",
    "    genre_df = df[df['day'] == day]\n",
    "    # оставляем в genre_df только те строки genre_df, у которых время меньше time2\n",
    "    genre_df = genre_df[genre_df['time'] < time2]# ваш код здесь\n",
    "    # оставляем в genre_df только те строки genre_df, у которых время больше time1\n",
    "    genre_df = genre_df[genre_df['time'] > time1]# ваш код здесь\n",
    "    # сгруппируем отфильтрованный датафрейм по столбцу с названиями жанров, возьмём столбец genre и посчитаем кол-во строк для каждого жанра методом count()\n",
    "    genre_df_grouped = genre_df.groupby('genre')['genre'].count()# ваш код здесь\n",
    "    # отсортируем результат по убыванию (чтобы в начале Series оказались самые популярные жанры)\n",
    "    genre_df_sorted = genre_df_grouped.sort_values(ascending=False)# ваш код здесь\n",
    "    # вернём Series с 10 самыми популярными жанрами в указанный отрезок времени заданного дня\n",
    "    return genre_df_sorted[:10]"
   ]
  },
  {
   "cell_type": "markdown",
   "metadata": {
    "deletable": false,
    "editable": false,
    "id": "la2s2_PF_Zcu",
    "tags": [
     "start_task"
    ]
   },
   "source": [
    "**Задание 25**\n",
    "\n",
    "\n",
    "Cравните результаты функции `genre_weekday()` для Москвы и Санкт-Петербурга в понедельник утром (с 7:00 до 11:00) и в пятницу вечером (с 17:00 до 23:00):"
   ]
  },
  {
   "cell_type": "code",
   "execution_count": 277,
   "metadata": {
    "deletable": false,
    "id": "yz7itPUQ_Zcu"
   },
   "outputs": [
    {
     "data": {
      "text/plain": [
       "genre\n",
       "pop            781\n",
       "dance          549\n",
       "electronic     480\n",
       "rock           474\n",
       "hiphop         286\n",
       "ruspop         186\n",
       "world          181\n",
       "rusrap         175\n",
       "alternative    164\n",
       "unknown        161\n",
       "Name: genre, dtype: int64"
      ]
     },
     "execution_count": 277,
     "metadata": {},
     "output_type": "execute_result"
    }
   ],
   "source": [
    "genre_weekday(moscow_general,'Monday','07:00','11:00')# вызов функции для утра понедельника в Москве (вместо df — таблица moscow_general)\n",
    "# объекты, хранящие время, являются строками и сравниваются как строки\n",
    "# пример вызова: genre_weekday(moscow_general, 'Monday', '07:00', '11:00')"
   ]
  },
  {
   "cell_type": "code",
   "execution_count": 278,
   "metadata": {
    "deletable": false,
    "id": "kwUcHPdy_Zcu"
   },
   "outputs": [
    {
     "data": {
      "text/plain": [
       "genre\n",
       "pop            218\n",
       "dance          182\n",
       "rock           162\n",
       "electronic     147\n",
       "hiphop          80\n",
       "ruspop          64\n",
       "alternative     58\n",
       "rusrap          55\n",
       "jazz            44\n",
       "classical       40\n",
       "Name: genre, dtype: int64"
      ]
     },
     "execution_count": 278,
     "metadata": {},
     "output_type": "execute_result"
    }
   ],
   "source": [
    "genre_weekday(spb_general,'Monday','07:00','11:00')# вызов функции для утра понедельника в Петербурге (вместо df — таблица spb_general)"
   ]
  },
  {
   "cell_type": "code",
   "execution_count": 279,
   "metadata": {
    "deletable": false,
    "id": "EzXVRE1o_Zcu"
   },
   "outputs": [
    {
     "data": {
      "text/plain": [
       "genre\n",
       "pop            713\n",
       "rock           517\n",
       "dance          495\n",
       "electronic     482\n",
       "hiphop         273\n",
       "world          208\n",
       "ruspop         170\n",
       "alternative    163\n",
       "classical      163\n",
       "rusrap         142\n",
       "Name: genre, dtype: int64"
      ]
     },
     "execution_count": 279,
     "metadata": {},
     "output_type": "execute_result"
    }
   ],
   "source": [
    "genre_weekday(moscow_general,'Friday','17:00','23:00')# вызов функции для вечера пятницы в Москве"
   ]
  },
  {
   "cell_type": "code",
   "execution_count": 280,
   "metadata": {
    "deletable": false,
    "id": "JZaEKu5v_Zcu"
   },
   "outputs": [
    {
     "data": {
      "text/plain": [
       "genre\n",
       "pop            256\n",
       "electronic     216\n",
       "rock           216\n",
       "dance          210\n",
       "hiphop          97\n",
       "alternative     63\n",
       "jazz            61\n",
       "classical       60\n",
       "rusrap          59\n",
       "world           54\n",
       "Name: genre, dtype: int64"
      ]
     },
     "execution_count": 280,
     "metadata": {},
     "output_type": "execute_result"
    }
   ],
   "source": [
    "genre_weekday(spb_general,'Friday','17:00','23:00')# вызов функции для вечера пятницы в Петербурге"
   ]
  },
  {
   "cell_type": "markdown",
   "metadata": {
    "deletable": false,
    "editable": false,
    "id": "wrCe4MNX_Zcu"
   },
   "source": [
    "**Выводы**\n",
    "\n",
    "Если сравнить топ-10 жанров в понедельник утром, можно сделать такие выводы:\n",
    "\n",
    "1. В Москве и Петербурге слушают похожую музыку. Единственное отличие — в московский рейтинг вошёл жанр “world”, а в петербургский — джаз и классика.\n",
    "\n",
    "2. В Москве пропущенных значений оказалось так много, что значение `'unknown'` заняло десятое место среди самых популярных жанров. Значит, пропущенные значения занимают существенную долю в данных и угрожают достоверности исследования.\n",
    "\n",
    "Вечер пятницы не меняет эту картину. Некоторые жанры поднимаются немного выше, другие спускаются, но в целом топ-10 остаётся тем же самым.\n",
    "\n",
    "Таким образом, вторая гипотеза подтвердилась лишь частично:\n",
    "* Пользователи слушают похожую музыку в начале недели и в конце.\n",
    "* Разница между Москвой и Петербургом не слишком выражена. В Москве чаще слушают русскую популярную музыку, в Петербурге — джаз.\n",
    "\n",
    "Однако пропуски в данных ставят под сомнение этот результат. В Москве их так много, что рейтинг топ-10 мог бы выглядеть иначе, если бы не утерянные  данные о жанрах."
   ]
  },
  {
   "cell_type": "markdown",
   "metadata": {
    "deletable": false,
    "editable": false,
    "id": "JolODAqr_Zcu"
   },
   "source": [
    "### Жанровые предпочтения в Москве и Петербурге\n",
    "\n",
    "Гипотеза: Петербург — столица рэпа, музыку этого жанра там слушают чаще, чем в Москве.  А Москва — город контрастов, в котором, тем не менее, преобладает поп-музыка."
   ]
  },
  {
   "cell_type": "markdown",
   "metadata": {
    "deletable": false,
    "editable": false,
    "id": "DlegSvaT_Zcu",
    "tags": [
     "start_task"
    ]
   },
   "source": [
    "**Задание 26**\n",
    "\n",
    "Сгруппируйте таблицу `moscow_general` по жанру и посчитайте прослушивания треков каждого жанра методом `count()`. Затем отсортируйте результат в порядке убывания и сохраните его в таблице `moscow_genres`."
   ]
  },
  {
   "cell_type": "code",
   "execution_count": 287,
   "metadata": {
    "deletable": false,
    "id": "r19lIPke_Zcu",
    "scrolled": true
   },
   "outputs": [],
   "source": [
    "moscow_grouped = moscow_general.groupby('genre')['genre'].count()# одной строкой: группировка таблицы moscow_general по столбцу 'genre', \n",
    "moscow_genres = moscow_grouped.sort_values(ascending=False)# подсчёт числа значений 'genre' в этой группировке методом count(), \n",
    "# сортировка получившегося Series в порядке убывания и сохранение в moscow_genres"
   ]
  },
  {
   "cell_type": "markdown",
   "metadata": {
    "deletable": false,
    "editable": false,
    "id": "6kMuomxTiIr8",
    "tags": [
     "start_task"
    ]
   },
   "source": [
    "**Задание 27**\n",
    "\n",
    "Выведите на экран первые десять строк `moscow_genres`:"
   ]
  },
  {
   "cell_type": "code",
   "execution_count": 289,
   "metadata": {
    "deletable": false,
    "id": "WhCSooF8_Zcv"
   },
   "outputs": [
    {
     "data": {
      "text/plain": [
       "genre\n",
       "pop            5892\n",
       "dance          4435\n",
       "rock           3965\n",
       "electronic     3786\n",
       "hiphop         2096\n",
       "classical      1616\n",
       "world          1432\n",
       "alternative    1379\n",
       "ruspop         1372\n",
       "rusrap         1161\n",
       "Name: genre, dtype: int64"
      ]
     },
     "execution_count": 289,
     "metadata": {},
     "output_type": "execute_result"
    }
   ],
   "source": [
    "moscow_genres[:10]# просмотр первых 10 строк moscow_genres"
   ]
  },
  {
   "cell_type": "markdown",
   "metadata": {
    "deletable": false,
    "editable": false,
    "id": "cnPG2vnN_Zcv",
    "tags": [
     "start_task"
    ]
   },
   "source": [
    "**Задание 28**\n",
    "\n",
    "\n",
    "Теперь повторите то же и для Петербурга.\n",
    "\n",
    "Сгруппируйте таблицу `spb_general` по жанру. Посчитайте прослушивания треков каждого жанра. Результат отсортируйте в порядке убывания и сохраните в таблице `spb_genres`:\n"
   ]
  },
  {
   "cell_type": "code",
   "execution_count": 290,
   "metadata": {
    "deletable": false,
    "id": "gluLIpE7_Zcv"
   },
   "outputs": [],
   "source": [
    "spb_grouped=spb_general.groupby('genre')['genre'].count()# одной строкой: группировка таблицы spb_general по столбцу 'genre', \n",
    "spb_genres =  spb_grouped.sort_values(ascending=False)# подсчёт числа значений 'genre' в этой группировке методом count(), \n",
    "# сортировка получившегося Series в порядке убывания и сохранение в spb_genres"
   ]
  },
  {
   "cell_type": "markdown",
   "metadata": {
    "deletable": false,
    "editable": false,
    "id": "5Doha_ODgyQ8",
    "tags": [
     "start_task"
    ]
   },
   "source": [
    "**Задание 29**\n",
    "\n",
    "Выведите на экран первые десять строк `spb_genres`:"
   ]
  },
  {
   "cell_type": "code",
   "execution_count": 291,
   "metadata": {
    "deletable": false,
    "id": "uaGJHjVU_Zcv"
   },
   "outputs": [
    {
     "data": {
      "text/plain": [
       "genre\n",
       "pop            2431\n",
       "dance          1932\n",
       "rock           1879\n",
       "electronic     1736\n",
       "hiphop          960\n",
       "alternative     649\n",
       "classical       646\n",
       "rusrap          564\n",
       "ruspop          538\n",
       "world           515\n",
       "Name: genre, dtype: int64"
      ]
     },
     "execution_count": 291,
     "metadata": {},
     "output_type": "execute_result"
    }
   ],
   "source": [
    "spb_genres[:10]# просмотр первых 10 строк spb_genres"
   ]
  },
  {
   "cell_type": "markdown",
   "metadata": {
    "deletable": false,
    "editable": false,
    "id": "RY51YJYu_Zcv"
   },
   "source": [
    "**Выводы**"
   ]
  },
  {
   "cell_type": "markdown",
   "metadata": {
    "deletable": false,
    "editable": false,
    "id": "nVhnJEm__Zcv"
   },
   "source": [
    "Гипотеза частично подтвердилась:\n",
    "* Поп-музыка — самый популярный жанр в Москве, как и предполагала гипотеза. Более того, в топ-10 жанров встречается близкий жанр — русская популярная музыка.\n",
    "* Вопреки ожиданиям, рэп одинаково популярен в Москве и Петербурге. \n"
   ]
  },
  {
   "cell_type": "markdown",
   "metadata": {
    "deletable": false,
    "editable": false,
    "id": "ykKQ0N65_Zcv"
   },
   "source": [
    "## Итоги исследования"
   ]
  },
  {
   "cell_type": "markdown",
   "metadata": {
    "deletable": false,
    "editable": false,
    "id": "tjUwbHb3_Zcv"
   },
   "source": [
    "Вы проверили три гипотезы и установили:\n",
    "\n",
    "1. День недели по-разному влияет на активность пользователей в Москве и Петербурге. \n",
    "\n",
    "Первая гипотеза полностью подтвердилась.\n",
    "\n",
    "2. Музыкальные предпочтения не сильно меняются в течение недели — будь то Москва или Петербург. Небольшие различия заметны в начале недели, по понедельникам:\n",
    "* в Москве слушают музыку жанра “world”,\n",
    "* в Петербурге — джаз и классику.\n",
    "\n",
    "Таким образом, вторая гипотеза подтвердилась лишь отчасти. Этот результат мог оказаться иным, если бы не пропуски в данных.\n",
    "\n",
    "3. Во вкусах пользователей Москвы и Петербурга больше общего чем различий. Вопреки ожиданиям, предпочтения жанров в Петербурге напоминают московские.\n",
    "\n",
    "Третья гипотеза не подтвердилась. Если различия в предпочтениях и существуют, на основной массе пользователей они незаметны.\n",
    "\n",
    "**На практике исследования содержат проверки статистических гипотез.**\n",
    "Из данных одного сервиса не всегда можно сделать вывод о всех жителях города.\n",
    "Проверки статистических гипотез покажут, насколько они достоверны, исходя из имеющихся данных. \n",
    "С методами проверок гипотез вы ещё познакомитесь в следующих темах."
   ]
  }
 ],
 "metadata": {
  "ExecuteTimeLog": [
   {
    "duration": 356,
    "start_time": "2022-10-23T13:21:18.391Z"
   },
   {
    "duration": 92,
    "start_time": "2022-10-23T13:22:28.102Z"
   },
   {
    "duration": 60,
    "start_time": "2022-10-23T13:24:27.249Z"
   },
   {
    "duration": 568,
    "start_time": "2022-10-23T13:24:37.007Z"
   },
   {
    "duration": 19,
    "start_time": "2022-10-23T13:26:13.857Z"
   },
   {
    "duration": 41,
    "start_time": "2022-10-23T13:27:03.918Z"
   },
   {
    "duration": 8,
    "start_time": "2022-10-23T13:34:13.764Z"
   },
   {
    "duration": 9,
    "start_time": "2022-10-23T13:34:25.506Z"
   },
   {
    "duration": 7,
    "start_time": "2022-10-23T13:34:31.650Z"
   },
   {
    "duration": 4,
    "start_time": "2022-10-23T13:34:57.496Z"
   },
   {
    "duration": 121,
    "start_time": "2022-10-23T13:37:12.430Z"
   },
   {
    "duration": 87,
    "start_time": "2022-10-23T13:37:25.819Z"
   },
   {
    "duration": 106,
    "start_time": "2022-10-23T13:37:31.610Z"
   },
   {
    "duration": 14,
    "start_time": "2022-10-23T13:37:49.422Z"
   },
   {
    "duration": 6,
    "start_time": "2022-10-23T13:38:02.954Z"
   },
   {
    "duration": 23,
    "start_time": "2022-10-23T13:42:50.176Z"
   },
   {
    "duration": 4,
    "start_time": "2022-10-23T13:42:56.054Z"
   },
   {
    "duration": 6,
    "start_time": "2022-10-23T13:43:20.380Z"
   },
   {
    "duration": 7,
    "start_time": "2022-10-23T13:44:37.470Z"
   },
   {
    "duration": 11,
    "start_time": "2022-10-23T13:45:18.332Z"
   },
   {
    "duration": 7,
    "start_time": "2022-10-23T13:45:38.717Z"
   },
   {
    "duration": 7,
    "start_time": "2022-10-23T13:45:46.665Z"
   },
   {
    "duration": 7,
    "start_time": "2022-10-23T13:47:50.861Z"
   },
   {
    "duration": 8,
    "start_time": "2022-10-23T13:48:18.957Z"
   },
   {
    "duration": 3,
    "start_time": "2022-10-23T13:49:44.954Z"
   },
   {
    "duration": 170,
    "start_time": "2022-10-23T13:51:17.884Z"
   },
   {
    "duration": 13,
    "start_time": "2022-10-23T13:51:20.445Z"
   },
   {
    "duration": 26,
    "start_time": "2022-10-23T13:51:23.094Z"
   },
   {
    "duration": 2,
    "start_time": "2022-10-23T13:51:26.760Z"
   },
   {
    "duration": 4,
    "start_time": "2022-10-23T13:51:31.775Z"
   },
   {
    "duration": 10,
    "start_time": "2022-10-23T13:51:35.660Z"
   },
   {
    "duration": 3,
    "start_time": "2022-10-23T13:51:38.304Z"
   },
   {
    "duration": 22,
    "start_time": "2022-10-23T13:51:42.375Z"
   },
   {
    "duration": 70,
    "start_time": "2022-10-23T13:56:34.848Z"
   },
   {
    "duration": 1523,
    "start_time": "2022-10-23T13:56:42.159Z"
   },
   {
    "duration": 20,
    "start_time": "2022-10-23T13:57:06.263Z"
   },
   {
    "duration": 66,
    "start_time": "2022-10-23T13:57:20.250Z"
   },
   {
    "duration": 21,
    "start_time": "2022-10-23T13:57:25.250Z"
   },
   {
    "duration": 66,
    "start_time": "2022-10-23T13:59:33.211Z"
   },
   {
    "duration": 69,
    "start_time": "2022-10-23T14:01:00.944Z"
   },
   {
    "duration": 70,
    "start_time": "2022-10-23T14:01:22.949Z"
   },
   {
    "duration": 69,
    "start_time": "2022-10-23T14:01:58.361Z"
   },
   {
    "duration": 63,
    "start_time": "2022-10-23T14:02:01.529Z"
   },
   {
    "duration": 9,
    "start_time": "2022-10-23T14:04:19.806Z"
   },
   {
    "duration": 39,
    "start_time": "2022-10-23T14:04:42.503Z"
   },
   {
    "duration": 32,
    "start_time": "2022-10-23T14:04:45.951Z"
   },
   {
    "duration": 50,
    "start_time": "2022-10-23T14:05:57.945Z"
   },
   {
    "duration": 1170,
    "start_time": "2022-10-23T14:06:08.417Z"
   },
   {
    "duration": 1080,
    "start_time": "2022-10-23T14:06:34.102Z"
   },
   {
    "duration": 33,
    "start_time": "2022-10-23T14:06:42.962Z"
   },
   {
    "duration": 8,
    "start_time": "2022-10-23T14:09:54.203Z"
   },
   {
    "duration": 10,
    "start_time": "2022-10-23T14:13:35.803Z"
   },
   {
    "duration": 7,
    "start_time": "2022-10-23T14:14:14.665Z"
   },
   {
    "duration": 9,
    "start_time": "2022-10-23T14:16:29.116Z"
   },
   {
    "duration": 7,
    "start_time": "2022-10-23T14:17:28.315Z"
   },
   {
    "duration": 5,
    "start_time": "2022-10-23T14:17:47.515Z"
   },
   {
    "duration": 5,
    "start_time": "2022-10-23T14:17:52.470Z"
   },
   {
    "duration": 5,
    "start_time": "2022-10-23T14:17:53.849Z"
   },
   {
    "duration": 9,
    "start_time": "2022-10-23T14:17:56.276Z"
   },
   {
    "duration": 7,
    "start_time": "2022-10-23T14:18:41.772Z"
   },
   {
    "duration": 1021,
    "start_time": "2022-10-23T14:21:19.949Z"
   },
   {
    "duration": 1083,
    "start_time": "2022-10-23T14:22:17.669Z"
   },
   {
    "duration": 7,
    "start_time": "2022-10-23T14:23:16.818Z"
   },
   {
    "duration": 6,
    "start_time": "2022-10-23T14:24:57.032Z"
   },
   {
    "duration": 3,
    "start_time": "2022-10-23T14:28:58.041Z"
   },
   {
    "duration": 171,
    "start_time": "2022-10-23T14:28:59.105Z"
   },
   {
    "duration": 11,
    "start_time": "2022-10-23T14:29:00.583Z"
   },
   {
    "duration": 29,
    "start_time": "2022-10-23T14:29:01.997Z"
   },
   {
    "duration": 2,
    "start_time": "2022-10-23T14:29:04.190Z"
   },
   {
    "duration": 3,
    "start_time": "2022-10-23T14:29:06.711Z"
   },
   {
    "duration": 10,
    "start_time": "2022-10-23T14:29:07.777Z"
   },
   {
    "duration": 4,
    "start_time": "2022-10-23T14:29:08.797Z"
   },
   {
    "duration": 23,
    "start_time": "2022-10-23T14:29:10.046Z"
   },
   {
    "duration": 26,
    "start_time": "2022-10-23T14:29:12.020Z"
   },
   {
    "duration": 35,
    "start_time": "2022-10-23T14:29:13.720Z"
   },
   {
    "duration": 64,
    "start_time": "2022-10-23T14:29:17.845Z"
   },
   {
    "duration": 72,
    "start_time": "2022-10-23T14:29:19.220Z"
   },
   {
    "duration": 70,
    "start_time": "2022-10-23T14:29:21.022Z"
   },
   {
    "duration": 7,
    "start_time": "2022-10-23T14:29:38.805Z"
   },
   {
    "duration": 46,
    "start_time": "2022-10-23T14:29:52.204Z"
   },
   {
    "duration": 8,
    "start_time": "2022-10-23T14:30:54.089Z"
   },
   {
    "duration": 12,
    "start_time": "2022-10-23T14:34:13.025Z"
   },
   {
    "duration": 4,
    "start_time": "2022-10-23T14:35:11.496Z"
   },
   {
    "duration": 180,
    "start_time": "2022-10-23T14:35:11.501Z"
   },
   {
    "duration": 11,
    "start_time": "2022-10-23T14:35:11.683Z"
   },
   {
    "duration": 37,
    "start_time": "2022-10-23T14:35:11.695Z"
   },
   {
    "duration": 33,
    "start_time": "2022-10-23T14:35:11.734Z"
   },
   {
    "duration": 8,
    "start_time": "2022-10-23T14:35:11.768Z"
   },
   {
    "duration": 8,
    "start_time": "2022-10-23T14:35:11.777Z"
   },
   {
    "duration": 4,
    "start_time": "2022-10-23T14:35:11.786Z"
   },
   {
    "duration": 22,
    "start_time": "2022-10-23T14:35:11.792Z"
   },
   {
    "duration": 33,
    "start_time": "2022-10-23T14:35:11.816Z"
   },
   {
    "duration": 34,
    "start_time": "2022-10-23T14:35:11.856Z"
   },
   {
    "duration": 66,
    "start_time": "2022-10-23T14:35:11.892Z"
   },
   {
    "duration": 69,
    "start_time": "2022-10-23T14:35:11.960Z"
   },
   {
    "duration": 54,
    "start_time": "2022-10-23T14:35:12.036Z"
   },
   {
    "duration": 53,
    "start_time": "2022-10-23T14:35:12.092Z"
   },
   {
    "duration": 13,
    "start_time": "2022-10-23T14:35:12.149Z"
   },
   {
    "duration": 8,
    "start_time": "2022-10-23T14:35:40.091Z"
   },
   {
    "duration": 102,
    "start_time": "2022-10-23T14:39:10.576Z"
   },
   {
    "duration": 36,
    "start_time": "2022-10-23T14:39:38.445Z"
   },
   {
    "duration": 25,
    "start_time": "2022-10-23T14:43:04.668Z"
   },
   {
    "duration": 38,
    "start_time": "2022-10-23T14:44:11.356Z"
   },
   {
    "duration": 25,
    "start_time": "2022-10-23T14:55:08.836Z"
   },
   {
    "duration": 24,
    "start_time": "2022-10-23T14:56:02.192Z"
   },
   {
    "duration": 25,
    "start_time": "2022-10-23T14:56:29.168Z"
   },
   {
    "duration": 4,
    "start_time": "2022-10-23T15:00:23.845Z"
   },
   {
    "duration": 3,
    "start_time": "2022-10-23T15:00:37.003Z"
   },
   {
    "duration": 141,
    "start_time": "2022-10-23T15:00:37.008Z"
   },
   {
    "duration": 10,
    "start_time": "2022-10-23T15:00:37.151Z"
   },
   {
    "duration": 28,
    "start_time": "2022-10-23T15:00:37.163Z"
   },
   {
    "duration": 3,
    "start_time": "2022-10-23T15:00:37.194Z"
   },
   {
    "duration": 8,
    "start_time": "2022-10-23T15:00:37.198Z"
   },
   {
    "duration": 17,
    "start_time": "2022-10-23T15:00:37.207Z"
   },
   {
    "duration": 4,
    "start_time": "2022-10-23T15:00:37.225Z"
   },
   {
    "duration": 26,
    "start_time": "2022-10-23T15:00:37.230Z"
   },
   {
    "duration": 17,
    "start_time": "2022-10-23T15:00:37.257Z"
   },
   {
    "duration": 18,
    "start_time": "2022-10-23T15:00:37.276Z"
   },
   {
    "duration": 86,
    "start_time": "2022-10-23T15:00:37.296Z"
   },
   {
    "duration": 70,
    "start_time": "2022-10-23T15:00:37.383Z"
   },
   {
    "duration": 55,
    "start_time": "2022-10-23T15:00:37.457Z"
   },
   {
    "duration": 37,
    "start_time": "2022-10-23T15:00:37.513Z"
   },
   {
    "duration": 9,
    "start_time": "2022-10-23T15:00:37.551Z"
   },
   {
    "duration": 32,
    "start_time": "2022-10-23T15:00:37.561Z"
   },
   {
    "duration": 27,
    "start_time": "2022-10-23T15:00:42.037Z"
   },
   {
    "duration": 6,
    "start_time": "2022-10-23T15:00:43.973Z"
   },
   {
    "duration": 4,
    "start_time": "2022-10-23T15:00:59.410Z"
   },
   {
    "duration": 4,
    "start_time": "2022-10-23T15:01:12.378Z"
   },
   {
    "duration": 2,
    "start_time": "2022-10-23T15:01:22.714Z"
   },
   {
    "duration": 154,
    "start_time": "2022-10-23T15:01:22.718Z"
   },
   {
    "duration": 10,
    "start_time": "2022-10-23T15:01:22.873Z"
   },
   {
    "duration": 37,
    "start_time": "2022-10-23T15:01:22.885Z"
   },
   {
    "duration": 2,
    "start_time": "2022-10-23T15:01:22.924Z"
   },
   {
    "duration": 10,
    "start_time": "2022-10-23T15:01:22.928Z"
   },
   {
    "duration": 12,
    "start_time": "2022-10-23T15:01:22.939Z"
   },
   {
    "duration": 11,
    "start_time": "2022-10-23T15:01:22.953Z"
   },
   {
    "duration": 31,
    "start_time": "2022-10-23T15:01:22.966Z"
   },
   {
    "duration": 18,
    "start_time": "2022-10-23T15:01:22.998Z"
   },
   {
    "duration": 40,
    "start_time": "2022-10-23T15:01:23.018Z"
   },
   {
    "duration": 88,
    "start_time": "2022-10-23T15:01:23.060Z"
   },
   {
    "duration": 55,
    "start_time": "2022-10-23T15:01:23.150Z"
   },
   {
    "duration": 59,
    "start_time": "2022-10-23T15:01:23.206Z"
   },
   {
    "duration": 31,
    "start_time": "2022-10-23T15:01:23.267Z"
   },
   {
    "duration": 23,
    "start_time": "2022-10-23T15:01:23.300Z"
   },
   {
    "duration": 30,
    "start_time": "2022-10-23T15:01:23.324Z"
   },
   {
    "duration": 25,
    "start_time": "2022-10-23T15:01:23.355Z"
   },
   {
    "duration": 4,
    "start_time": "2022-10-23T15:01:26.956Z"
   },
   {
    "duration": 29,
    "start_time": "2022-10-23T15:02:29.708Z"
   },
   {
    "duration": 28,
    "start_time": "2022-10-23T15:02:50.796Z"
   },
   {
    "duration": 68,
    "start_time": "2022-10-23T15:12:37.667Z"
   },
   {
    "duration": 74,
    "start_time": "2022-10-23T15:17:33.768Z"
   },
   {
    "duration": 2,
    "start_time": "2022-10-23T15:18:12.748Z"
   },
   {
    "duration": 2,
    "start_time": "2022-10-23T15:18:18.594Z"
   },
   {
    "duration": 7,
    "start_time": "2022-10-23T15:20:00.213Z"
   },
   {
    "duration": 6,
    "start_time": "2022-10-23T15:20:07.402Z"
   },
   {
    "duration": 11,
    "start_time": "2022-10-23T15:20:20.462Z"
   },
   {
    "duration": 10,
    "start_time": "2022-10-23T15:21:30.844Z"
   },
   {
    "duration": 10,
    "start_time": "2022-10-23T15:21:33.566Z"
   },
   {
    "duration": 14,
    "start_time": "2022-10-23T15:21:37.563Z"
   },
   {
    "duration": 7,
    "start_time": "2022-10-23T15:21:46.697Z"
   },
   {
    "duration": 6,
    "start_time": "2022-10-23T15:21:50.601Z"
   },
   {
    "duration": 14,
    "start_time": "2022-10-23T15:21:58.982Z"
   },
   {
    "duration": 13,
    "start_time": "2022-10-23T15:22:07.742Z"
   },
   {
    "duration": 18,
    "start_time": "2022-10-23T15:23:01.057Z"
   },
   {
    "duration": 7,
    "start_time": "2022-10-23T15:23:01.674Z"
   },
   {
    "duration": 12,
    "start_time": "2022-10-23T15:23:46.420Z"
   },
   {
    "duration": 15,
    "start_time": "2022-10-23T15:23:47.380Z"
   },
   {
    "duration": 12,
    "start_time": "2022-10-23T15:23:47.992Z"
   },
   {
    "duration": 7,
    "start_time": "2022-10-23T15:25:06.613Z"
   },
   {
    "duration": 8,
    "start_time": "2022-10-23T15:26:01.735Z"
   },
   {
    "duration": 10,
    "start_time": "2022-10-23T15:26:36.962Z"
   },
   {
    "duration": 2,
    "start_time": "2022-10-23T15:26:42.855Z"
   },
   {
    "duration": 146,
    "start_time": "2022-10-23T15:26:42.859Z"
   },
   {
    "duration": 10,
    "start_time": "2022-10-23T15:26:43.007Z"
   },
   {
    "duration": 27,
    "start_time": "2022-10-23T15:26:43.021Z"
   },
   {
    "duration": 3,
    "start_time": "2022-10-23T15:26:43.050Z"
   },
   {
    "duration": 7,
    "start_time": "2022-10-23T15:26:43.054Z"
   },
   {
    "duration": 10,
    "start_time": "2022-10-23T15:26:43.062Z"
   },
   {
    "duration": 4,
    "start_time": "2022-10-23T15:26:43.073Z"
   },
   {
    "duration": 43,
    "start_time": "2022-10-23T15:26:43.079Z"
   },
   {
    "duration": 15,
    "start_time": "2022-10-23T15:26:43.124Z"
   },
   {
    "duration": 29,
    "start_time": "2022-10-23T15:26:43.141Z"
   },
   {
    "duration": 61,
    "start_time": "2022-10-23T15:26:43.171Z"
   },
   {
    "duration": 61,
    "start_time": "2022-10-23T15:26:43.234Z"
   },
   {
    "duration": 66,
    "start_time": "2022-10-23T15:26:43.297Z"
   },
   {
    "duration": 33,
    "start_time": "2022-10-23T15:26:43.364Z"
   },
   {
    "duration": 26,
    "start_time": "2022-10-23T15:26:43.399Z"
   },
   {
    "duration": 34,
    "start_time": "2022-10-23T15:26:43.427Z"
   },
   {
    "duration": 28,
    "start_time": "2022-10-23T15:26:43.463Z"
   },
   {
    "duration": 47,
    "start_time": "2022-10-23T15:26:43.493Z"
   },
   {
    "duration": 4,
    "start_time": "2022-10-23T15:26:43.541Z"
   },
   {
    "duration": 19,
    "start_time": "2022-10-23T15:26:43.546Z"
   },
   {
    "duration": 14,
    "start_time": "2022-10-23T15:26:43.567Z"
   },
   {
    "duration": 41,
    "start_time": "2022-10-23T15:26:43.582Z"
   },
   {
    "duration": 14,
    "start_time": "2022-10-23T15:26:43.625Z"
   },
   {
    "duration": 15,
    "start_time": "2022-10-23T15:26:43.641Z"
   },
   {
    "duration": 12,
    "start_time": "2022-10-23T15:26:43.658Z"
   },
   {
    "duration": 8,
    "start_time": "2022-10-23T15:26:47.013Z"
   },
   {
    "duration": 4,
    "start_time": "2022-10-23T15:27:27.355Z"
   },
   {
    "duration": 9,
    "start_time": "2022-10-23T15:27:39.794Z"
   },
   {
    "duration": 13,
    "start_time": "2022-10-23T15:29:14.549Z"
   },
   {
    "duration": 15,
    "start_time": "2022-10-23T15:33:01.651Z"
   },
   {
    "duration": 4,
    "start_time": "2022-10-23T15:33:15.263Z"
   },
   {
    "duration": 6,
    "start_time": "2022-10-23T15:33:32.120Z"
   },
   {
    "duration": 81,
    "start_time": "2022-10-23T15:37:01.836Z"
   },
   {
    "duration": 10,
    "start_time": "2022-10-23T15:37:19.606Z"
   },
   {
    "duration": 10,
    "start_time": "2022-10-23T15:37:24.396Z"
   },
   {
    "duration": 10,
    "start_time": "2022-10-23T15:37:46.957Z"
   },
   {
    "duration": 92,
    "start_time": "2022-10-23T15:51:25.435Z"
   },
   {
    "duration": 71,
    "start_time": "2022-10-23T15:51:33.581Z"
   },
   {
    "duration": 67,
    "start_time": "2022-10-23T15:52:39.768Z"
   },
   {
    "duration": 2,
    "start_time": "2022-10-23T15:52:48.977Z"
   },
   {
    "duration": 146,
    "start_time": "2022-10-23T15:52:48.981Z"
   },
   {
    "duration": 10,
    "start_time": "2022-10-23T15:52:49.128Z"
   },
   {
    "duration": 28,
    "start_time": "2022-10-23T15:52:49.140Z"
   },
   {
    "duration": 2,
    "start_time": "2022-10-23T15:52:49.171Z"
   },
   {
    "duration": 6,
    "start_time": "2022-10-23T15:52:49.174Z"
   },
   {
    "duration": 6,
    "start_time": "2022-10-23T15:52:49.182Z"
   },
   {
    "duration": 3,
    "start_time": "2022-10-23T15:52:49.190Z"
   },
   {
    "duration": 43,
    "start_time": "2022-10-23T15:52:49.195Z"
   },
   {
    "duration": 17,
    "start_time": "2022-10-23T15:52:49.240Z"
   },
   {
    "duration": 18,
    "start_time": "2022-10-23T15:52:49.258Z"
   },
   {
    "duration": 68,
    "start_time": "2022-10-23T15:52:49.277Z"
   },
   {
    "duration": 75,
    "start_time": "2022-10-23T15:52:49.349Z"
   },
   {
    "duration": 47,
    "start_time": "2022-10-23T15:52:49.426Z"
   },
   {
    "duration": 32,
    "start_time": "2022-10-23T15:52:49.475Z"
   },
   {
    "duration": 9,
    "start_time": "2022-10-23T15:52:49.522Z"
   },
   {
    "duration": 37,
    "start_time": "2022-10-23T15:52:49.532Z"
   },
   {
    "duration": 23,
    "start_time": "2022-10-23T15:52:49.571Z"
   },
   {
    "duration": 33,
    "start_time": "2022-10-23T15:52:49.596Z"
   },
   {
    "duration": 3,
    "start_time": "2022-10-23T15:52:49.631Z"
   },
   {
    "duration": 19,
    "start_time": "2022-10-23T15:52:49.635Z"
   },
   {
    "duration": 11,
    "start_time": "2022-10-23T15:52:49.656Z"
   },
   {
    "duration": 11,
    "start_time": "2022-10-23T15:52:49.669Z"
   },
   {
    "duration": 11,
    "start_time": "2022-10-23T15:52:49.682Z"
   },
   {
    "duration": 40,
    "start_time": "2022-10-23T15:52:49.694Z"
   },
   {
    "duration": 87,
    "start_time": "2022-10-23T15:52:49.736Z"
   },
   {
    "duration": 6,
    "start_time": "2022-10-23T15:52:49.824Z"
   },
   {
    "duration": 13,
    "start_time": "2022-10-23T15:52:49.831Z"
   },
   {
    "duration": 12,
    "start_time": "2022-10-23T15:52:57.794Z"
   },
   {
    "duration": 9,
    "start_time": "2022-10-23T15:52:58.343Z"
   },
   {
    "duration": 79,
    "start_time": "2022-10-23T15:53:00.052Z"
   },
   {
    "duration": 72,
    "start_time": "2022-10-23T15:53:17.010Z"
   },
   {
    "duration": 2,
    "start_time": "2022-10-23T15:53:20.026Z"
   },
   {
    "duration": 3,
    "start_time": "2022-10-23T15:53:20.502Z"
   },
   {
    "duration": 3,
    "start_time": "2022-10-23T15:53:25.512Z"
   },
   {
    "duration": 157,
    "start_time": "2022-10-23T15:53:25.517Z"
   },
   {
    "duration": 11,
    "start_time": "2022-10-23T15:53:25.675Z"
   },
   {
    "duration": 29,
    "start_time": "2022-10-23T15:53:25.688Z"
   },
   {
    "duration": 10,
    "start_time": "2022-10-23T15:53:25.721Z"
   },
   {
    "duration": 9,
    "start_time": "2022-10-23T15:53:25.732Z"
   },
   {
    "duration": 12,
    "start_time": "2022-10-23T15:53:25.742Z"
   },
   {
    "duration": 12,
    "start_time": "2022-10-23T15:53:25.756Z"
   },
   {
    "duration": 34,
    "start_time": "2022-10-23T15:53:25.770Z"
   },
   {
    "duration": 17,
    "start_time": "2022-10-23T15:53:25.805Z"
   },
   {
    "duration": 22,
    "start_time": "2022-10-23T15:53:25.823Z"
   },
   {
    "duration": 58,
    "start_time": "2022-10-23T15:53:25.847Z"
   },
   {
    "duration": 69,
    "start_time": "2022-10-23T15:53:25.907Z"
   },
   {
    "duration": 81,
    "start_time": "2022-10-23T15:53:25.979Z"
   },
   {
    "duration": 42,
    "start_time": "2022-10-23T15:53:26.062Z"
   },
   {
    "duration": 25,
    "start_time": "2022-10-23T15:53:26.105Z"
   },
   {
    "duration": 44,
    "start_time": "2022-10-23T15:53:26.132Z"
   },
   {
    "duration": 48,
    "start_time": "2022-10-23T15:53:26.178Z"
   },
   {
    "duration": 32,
    "start_time": "2022-10-23T15:53:26.227Z"
   },
   {
    "duration": 3,
    "start_time": "2022-10-23T15:53:26.261Z"
   },
   {
    "duration": 19,
    "start_time": "2022-10-23T15:53:26.265Z"
   },
   {
    "duration": 36,
    "start_time": "2022-10-23T15:53:26.285Z"
   },
   {
    "duration": 17,
    "start_time": "2022-10-23T15:53:26.323Z"
   },
   {
    "duration": 14,
    "start_time": "2022-10-23T15:53:26.341Z"
   },
   {
    "duration": 14,
    "start_time": "2022-10-23T15:53:26.357Z"
   },
   {
    "duration": 15,
    "start_time": "2022-10-23T15:53:26.372Z"
   },
   {
    "duration": 34,
    "start_time": "2022-10-23T15:53:26.388Z"
   },
   {
    "duration": 18,
    "start_time": "2022-10-23T15:53:26.423Z"
   },
   {
    "duration": 10,
    "start_time": "2022-10-23T15:53:26.443Z"
   },
   {
    "duration": 67,
    "start_time": "2022-10-23T15:53:31.804Z"
   },
   {
    "duration": 5,
    "start_time": "2022-10-23T15:54:01.040Z"
   },
   {
    "duration": 16,
    "start_time": "2022-10-23T16:00:07.259Z"
   },
   {
    "duration": 11,
    "start_time": "2022-10-23T16:01:18.438Z"
   },
   {
    "duration": 17,
    "start_time": "2022-10-23T16:01:20.751Z"
   },
   {
    "duration": 11,
    "start_time": "2022-10-23T16:01:21.327Z"
   },
   {
    "duration": 9,
    "start_time": "2022-10-23T16:06:02.365Z"
   },
   {
    "duration": 12,
    "start_time": "2022-10-23T16:06:26.607Z"
   },
   {
    "duration": 11,
    "start_time": "2022-10-23T16:07:19.315Z"
   },
   {
    "duration": 13,
    "start_time": "2022-10-23T16:08:26.629Z"
   },
   {
    "duration": 10,
    "start_time": "2022-10-23T16:08:37.665Z"
   },
   {
    "duration": 8,
    "start_time": "2022-10-23T16:09:23.397Z"
   },
   {
    "duration": 8,
    "start_time": "2022-10-23T16:09:26.679Z"
   },
   {
    "duration": 7,
    "start_time": "2022-10-23T16:09:46.505Z"
   },
   {
    "duration": 5,
    "start_time": "2022-10-23T16:11:01.035Z"
   },
   {
    "duration": 6,
    "start_time": "2022-10-23T16:12:39.248Z"
   },
   {
    "duration": 5,
    "start_time": "2022-10-23T16:13:08.726Z"
   }
  ],
  "colab": {
   "collapsed_sections": [
    "E0vqbgi9ay0H",
    "VUC88oWjTJw2"
   ],
   "name": "automatization_template_upd4.ipynb",
   "provenance": []
  },
  "kernelspec": {
   "display_name": "Python 3 (ipykernel)",
   "language": "python",
   "name": "python3"
  },
  "language_info": {
   "codemirror_mode": {
    "name": "ipython",
    "version": 3
   },
   "file_extension": ".py",
   "mimetype": "text/x-python",
   "name": "python",
   "nbconvert_exporter": "python",
   "pygments_lexer": "ipython3",
   "version": "3.9.5"
  },
  "toc": {
   "base_numbering": 1,
   "nav_menu": {
    "height": "215px",
    "width": "403px"
   },
   "number_sections": true,
   "sideBar": true,
   "skip_h1_title": true,
   "title_cell": "Table of Contents",
   "title_sidebar": "Contents",
   "toc_cell": false,
   "toc_position": {
    "height": "calc(100% - 180px)",
    "left": "10px",
    "top": "150px",
    "width": "285.825px"
   },
   "toc_section_display": true,
   "toc_window_display": false
  }
 },
 "nbformat": 4,
 "nbformat_minor": 1
}

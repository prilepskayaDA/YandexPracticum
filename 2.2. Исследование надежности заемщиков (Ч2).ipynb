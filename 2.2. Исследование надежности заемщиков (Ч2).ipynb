{
 "cells": [
  {
   "cell_type": "markdown",
   "id": "69101abb",
   "metadata": {
    "deletable": false,
    "editable": false,
    "id": "c81daeeb"
   },
   "source": [
    "# Исследование надежности заемщиков\n"
   ]
  },
  {
   "cell_type": "markdown",
   "id": "90aa5428",
   "metadata": {
    "deletable": false,
    "editable": false,
    "id": "827c20bf"
   },
   "source": [
    "Во второй части проекта вы выполните шаги 3 и 4. Их вручную проверит ревьюер.\n",
    "Чтобы вам не пришлось писать код заново для шагов 1 и 2, мы добавили авторские решения в ячейки с кодом. \n",
    "\n"
   ]
  },
  {
   "cell_type": "markdown",
   "id": "e49d5fb2",
   "metadata": {
    "deletable": false,
    "editable": false,
    "id": "744d7639"
   },
   "source": [
    "## Откройте таблицу и изучите общую информацию о данных"
   ]
  },
  {
   "cell_type": "markdown",
   "id": "b192cb27",
   "metadata": {
    "deletable": false,
    "editable": false,
    "id": "e7a14c31"
   },
   "source": [
    "**Задание 1. Импортируйте библиотеку pandas. Считайте данные из csv-файла в датафрейм и сохраните в переменную `data`. Путь к файлу:**\n",
    "\n",
    "`/datasets/data.csv`"
   ]
  },
  {
   "cell_type": "code",
   "execution_count": 1,
   "id": "f57ecb13",
   "metadata": {
    "deletable": false,
    "id": "7bcf75c9"
   },
   "outputs": [],
   "source": [
    "import pandas as pd\n",
    "\n",
    "try:\n",
    "    data = pd.read_csv('/datasets/data.csv')\n",
    "except:\n",
    "    data = pd.read_csv('https://code.s3.yandex.net/datasets/data.csv')"
   ]
  },
  {
   "cell_type": "markdown",
   "id": "66483f81",
   "metadata": {
    "deletable": false,
    "editable": false,
    "id": "b8038fe3"
   },
   "source": [
    "**Задание 2. Выведите первые 20 строчек датафрейма `data` на экран.**"
   ]
  },
  {
   "cell_type": "code",
   "execution_count": 2,
   "id": "1b12d1a9",
   "metadata": {
    "deletable": false,
    "id": "2a7cab99",
    "outputId": "1a8f3ef2-d323-4ec2-ddf7-89670b5944c4"
   },
   "outputs": [
    {
     "data": {
      "text/html": [
       "<div>\n",
       "<style scoped>\n",
       "    .dataframe tbody tr th:only-of-type {\n",
       "        vertical-align: middle;\n",
       "    }\n",
       "\n",
       "    .dataframe tbody tr th {\n",
       "        vertical-align: top;\n",
       "    }\n",
       "\n",
       "    .dataframe thead th {\n",
       "        text-align: right;\n",
       "    }\n",
       "</style>\n",
       "<table border=\"1\" class=\"dataframe\">\n",
       "  <thead>\n",
       "    <tr style=\"text-align: right;\">\n",
       "      <th></th>\n",
       "      <th>children</th>\n",
       "      <th>days_employed</th>\n",
       "      <th>dob_years</th>\n",
       "      <th>education</th>\n",
       "      <th>education_id</th>\n",
       "      <th>family_status</th>\n",
       "      <th>family_status_id</th>\n",
       "      <th>gender</th>\n",
       "      <th>income_type</th>\n",
       "      <th>debt</th>\n",
       "      <th>total_income</th>\n",
       "      <th>purpose</th>\n",
       "    </tr>\n",
       "  </thead>\n",
       "  <tbody>\n",
       "    <tr>\n",
       "      <th>0</th>\n",
       "      <td>1</td>\n",
       "      <td>-8437.673028</td>\n",
       "      <td>42</td>\n",
       "      <td>высшее</td>\n",
       "      <td>0</td>\n",
       "      <td>женат / замужем</td>\n",
       "      <td>0</td>\n",
       "      <td>F</td>\n",
       "      <td>сотрудник</td>\n",
       "      <td>0</td>\n",
       "      <td>253875.639453</td>\n",
       "      <td>покупка жилья</td>\n",
       "    </tr>\n",
       "    <tr>\n",
       "      <th>1</th>\n",
       "      <td>1</td>\n",
       "      <td>-4024.803754</td>\n",
       "      <td>36</td>\n",
       "      <td>среднее</td>\n",
       "      <td>1</td>\n",
       "      <td>женат / замужем</td>\n",
       "      <td>0</td>\n",
       "      <td>F</td>\n",
       "      <td>сотрудник</td>\n",
       "      <td>0</td>\n",
       "      <td>112080.014102</td>\n",
       "      <td>приобретение автомобиля</td>\n",
       "    </tr>\n",
       "    <tr>\n",
       "      <th>2</th>\n",
       "      <td>0</td>\n",
       "      <td>-5623.422610</td>\n",
       "      <td>33</td>\n",
       "      <td>Среднее</td>\n",
       "      <td>1</td>\n",
       "      <td>женат / замужем</td>\n",
       "      <td>0</td>\n",
       "      <td>M</td>\n",
       "      <td>сотрудник</td>\n",
       "      <td>0</td>\n",
       "      <td>145885.952297</td>\n",
       "      <td>покупка жилья</td>\n",
       "    </tr>\n",
       "    <tr>\n",
       "      <th>3</th>\n",
       "      <td>3</td>\n",
       "      <td>-4124.747207</td>\n",
       "      <td>32</td>\n",
       "      <td>среднее</td>\n",
       "      <td>1</td>\n",
       "      <td>женат / замужем</td>\n",
       "      <td>0</td>\n",
       "      <td>M</td>\n",
       "      <td>сотрудник</td>\n",
       "      <td>0</td>\n",
       "      <td>267628.550329</td>\n",
       "      <td>дополнительное образование</td>\n",
       "    </tr>\n",
       "    <tr>\n",
       "      <th>4</th>\n",
       "      <td>0</td>\n",
       "      <td>340266.072047</td>\n",
       "      <td>53</td>\n",
       "      <td>среднее</td>\n",
       "      <td>1</td>\n",
       "      <td>гражданский брак</td>\n",
       "      <td>1</td>\n",
       "      <td>F</td>\n",
       "      <td>пенсионер</td>\n",
       "      <td>0</td>\n",
       "      <td>158616.077870</td>\n",
       "      <td>сыграть свадьбу</td>\n",
       "    </tr>\n",
       "    <tr>\n",
       "      <th>5</th>\n",
       "      <td>0</td>\n",
       "      <td>-926.185831</td>\n",
       "      <td>27</td>\n",
       "      <td>высшее</td>\n",
       "      <td>0</td>\n",
       "      <td>гражданский брак</td>\n",
       "      <td>1</td>\n",
       "      <td>M</td>\n",
       "      <td>компаньон</td>\n",
       "      <td>0</td>\n",
       "      <td>255763.565419</td>\n",
       "      <td>покупка жилья</td>\n",
       "    </tr>\n",
       "    <tr>\n",
       "      <th>6</th>\n",
       "      <td>0</td>\n",
       "      <td>-2879.202052</td>\n",
       "      <td>43</td>\n",
       "      <td>высшее</td>\n",
       "      <td>0</td>\n",
       "      <td>женат / замужем</td>\n",
       "      <td>0</td>\n",
       "      <td>F</td>\n",
       "      <td>компаньон</td>\n",
       "      <td>0</td>\n",
       "      <td>240525.971920</td>\n",
       "      <td>операции с жильем</td>\n",
       "    </tr>\n",
       "    <tr>\n",
       "      <th>7</th>\n",
       "      <td>0</td>\n",
       "      <td>-152.779569</td>\n",
       "      <td>50</td>\n",
       "      <td>СРЕДНЕЕ</td>\n",
       "      <td>1</td>\n",
       "      <td>женат / замужем</td>\n",
       "      <td>0</td>\n",
       "      <td>M</td>\n",
       "      <td>сотрудник</td>\n",
       "      <td>0</td>\n",
       "      <td>135823.934197</td>\n",
       "      <td>образование</td>\n",
       "    </tr>\n",
       "    <tr>\n",
       "      <th>8</th>\n",
       "      <td>2</td>\n",
       "      <td>-6929.865299</td>\n",
       "      <td>35</td>\n",
       "      <td>ВЫСШЕЕ</td>\n",
       "      <td>0</td>\n",
       "      <td>гражданский брак</td>\n",
       "      <td>1</td>\n",
       "      <td>F</td>\n",
       "      <td>сотрудник</td>\n",
       "      <td>0</td>\n",
       "      <td>95856.832424</td>\n",
       "      <td>на проведение свадьбы</td>\n",
       "    </tr>\n",
       "    <tr>\n",
       "      <th>9</th>\n",
       "      <td>0</td>\n",
       "      <td>-2188.756445</td>\n",
       "      <td>41</td>\n",
       "      <td>среднее</td>\n",
       "      <td>1</td>\n",
       "      <td>женат / замужем</td>\n",
       "      <td>0</td>\n",
       "      <td>M</td>\n",
       "      <td>сотрудник</td>\n",
       "      <td>0</td>\n",
       "      <td>144425.938277</td>\n",
       "      <td>покупка жилья для семьи</td>\n",
       "    </tr>\n",
       "    <tr>\n",
       "      <th>10</th>\n",
       "      <td>2</td>\n",
       "      <td>-4171.483647</td>\n",
       "      <td>36</td>\n",
       "      <td>высшее</td>\n",
       "      <td>0</td>\n",
       "      <td>женат / замужем</td>\n",
       "      <td>0</td>\n",
       "      <td>M</td>\n",
       "      <td>компаньон</td>\n",
       "      <td>0</td>\n",
       "      <td>113943.491460</td>\n",
       "      <td>покупка недвижимости</td>\n",
       "    </tr>\n",
       "    <tr>\n",
       "      <th>11</th>\n",
       "      <td>0</td>\n",
       "      <td>-792.701887</td>\n",
       "      <td>40</td>\n",
       "      <td>среднее</td>\n",
       "      <td>1</td>\n",
       "      <td>женат / замужем</td>\n",
       "      <td>0</td>\n",
       "      <td>F</td>\n",
       "      <td>сотрудник</td>\n",
       "      <td>0</td>\n",
       "      <td>77069.234271</td>\n",
       "      <td>покупка коммерческой недвижимости</td>\n",
       "    </tr>\n",
       "    <tr>\n",
       "      <th>12</th>\n",
       "      <td>0</td>\n",
       "      <td>NaN</td>\n",
       "      <td>65</td>\n",
       "      <td>среднее</td>\n",
       "      <td>1</td>\n",
       "      <td>гражданский брак</td>\n",
       "      <td>1</td>\n",
       "      <td>M</td>\n",
       "      <td>пенсионер</td>\n",
       "      <td>0</td>\n",
       "      <td>NaN</td>\n",
       "      <td>сыграть свадьбу</td>\n",
       "    </tr>\n",
       "    <tr>\n",
       "      <th>13</th>\n",
       "      <td>0</td>\n",
       "      <td>-1846.641941</td>\n",
       "      <td>54</td>\n",
       "      <td>неоконченное высшее</td>\n",
       "      <td>2</td>\n",
       "      <td>женат / замужем</td>\n",
       "      <td>0</td>\n",
       "      <td>F</td>\n",
       "      <td>сотрудник</td>\n",
       "      <td>0</td>\n",
       "      <td>130458.228857</td>\n",
       "      <td>приобретение автомобиля</td>\n",
       "    </tr>\n",
       "    <tr>\n",
       "      <th>14</th>\n",
       "      <td>0</td>\n",
       "      <td>-1844.956182</td>\n",
       "      <td>56</td>\n",
       "      <td>высшее</td>\n",
       "      <td>0</td>\n",
       "      <td>гражданский брак</td>\n",
       "      <td>1</td>\n",
       "      <td>F</td>\n",
       "      <td>компаньон</td>\n",
       "      <td>1</td>\n",
       "      <td>165127.911772</td>\n",
       "      <td>покупка жилой недвижимости</td>\n",
       "    </tr>\n",
       "    <tr>\n",
       "      <th>15</th>\n",
       "      <td>1</td>\n",
       "      <td>-972.364419</td>\n",
       "      <td>26</td>\n",
       "      <td>среднее</td>\n",
       "      <td>1</td>\n",
       "      <td>женат / замужем</td>\n",
       "      <td>0</td>\n",
       "      <td>F</td>\n",
       "      <td>сотрудник</td>\n",
       "      <td>0</td>\n",
       "      <td>116820.904450</td>\n",
       "      <td>строительство собственной недвижимости</td>\n",
       "    </tr>\n",
       "    <tr>\n",
       "      <th>16</th>\n",
       "      <td>0</td>\n",
       "      <td>-1719.934226</td>\n",
       "      <td>35</td>\n",
       "      <td>среднее</td>\n",
       "      <td>1</td>\n",
       "      <td>женат / замужем</td>\n",
       "      <td>0</td>\n",
       "      <td>F</td>\n",
       "      <td>сотрудник</td>\n",
       "      <td>0</td>\n",
       "      <td>289202.704229</td>\n",
       "      <td>недвижимость</td>\n",
       "    </tr>\n",
       "    <tr>\n",
       "      <th>17</th>\n",
       "      <td>0</td>\n",
       "      <td>-2369.999720</td>\n",
       "      <td>33</td>\n",
       "      <td>высшее</td>\n",
       "      <td>0</td>\n",
       "      <td>гражданский брак</td>\n",
       "      <td>1</td>\n",
       "      <td>M</td>\n",
       "      <td>сотрудник</td>\n",
       "      <td>0</td>\n",
       "      <td>90410.586745</td>\n",
       "      <td>строительство недвижимости</td>\n",
       "    </tr>\n",
       "    <tr>\n",
       "      <th>18</th>\n",
       "      <td>0</td>\n",
       "      <td>400281.136913</td>\n",
       "      <td>53</td>\n",
       "      <td>среднее</td>\n",
       "      <td>1</td>\n",
       "      <td>вдовец / вдова</td>\n",
       "      <td>2</td>\n",
       "      <td>F</td>\n",
       "      <td>пенсионер</td>\n",
       "      <td>0</td>\n",
       "      <td>56823.777243</td>\n",
       "      <td>на покупку подержанного автомобиля</td>\n",
       "    </tr>\n",
       "    <tr>\n",
       "      <th>19</th>\n",
       "      <td>0</td>\n",
       "      <td>-10038.818549</td>\n",
       "      <td>48</td>\n",
       "      <td>СРЕДНЕЕ</td>\n",
       "      <td>1</td>\n",
       "      <td>в разводе</td>\n",
       "      <td>3</td>\n",
       "      <td>F</td>\n",
       "      <td>сотрудник</td>\n",
       "      <td>0</td>\n",
       "      <td>242831.107982</td>\n",
       "      <td>на покупку своего автомобиля</td>\n",
       "    </tr>\n",
       "  </tbody>\n",
       "</table>\n",
       "</div>"
      ],
      "text/plain": [
       "    children  days_employed  dob_years            education  education_id  \\\n",
       "0          1   -8437.673028         42               высшее             0   \n",
       "1          1   -4024.803754         36              среднее             1   \n",
       "2          0   -5623.422610         33              Среднее             1   \n",
       "3          3   -4124.747207         32              среднее             1   \n",
       "4          0  340266.072047         53              среднее             1   \n",
       "5          0    -926.185831         27               высшее             0   \n",
       "6          0   -2879.202052         43               высшее             0   \n",
       "7          0    -152.779569         50              СРЕДНЕЕ             1   \n",
       "8          2   -6929.865299         35               ВЫСШЕЕ             0   \n",
       "9          0   -2188.756445         41              среднее             1   \n",
       "10         2   -4171.483647         36               высшее             0   \n",
       "11         0    -792.701887         40              среднее             1   \n",
       "12         0            NaN         65              среднее             1   \n",
       "13         0   -1846.641941         54  неоконченное высшее             2   \n",
       "14         0   -1844.956182         56               высшее             0   \n",
       "15         1    -972.364419         26              среднее             1   \n",
       "16         0   -1719.934226         35              среднее             1   \n",
       "17         0   -2369.999720         33               высшее             0   \n",
       "18         0  400281.136913         53              среднее             1   \n",
       "19         0  -10038.818549         48              СРЕДНЕЕ             1   \n",
       "\n",
       "       family_status  family_status_id gender income_type  debt  \\\n",
       "0    женат / замужем                 0      F   сотрудник     0   \n",
       "1    женат / замужем                 0      F   сотрудник     0   \n",
       "2    женат / замужем                 0      M   сотрудник     0   \n",
       "3    женат / замужем                 0      M   сотрудник     0   \n",
       "4   гражданский брак                 1      F   пенсионер     0   \n",
       "5   гражданский брак                 1      M   компаньон     0   \n",
       "6    женат / замужем                 0      F   компаньон     0   \n",
       "7    женат / замужем                 0      M   сотрудник     0   \n",
       "8   гражданский брак                 1      F   сотрудник     0   \n",
       "9    женат / замужем                 0      M   сотрудник     0   \n",
       "10   женат / замужем                 0      M   компаньон     0   \n",
       "11   женат / замужем                 0      F   сотрудник     0   \n",
       "12  гражданский брак                 1      M   пенсионер     0   \n",
       "13   женат / замужем                 0      F   сотрудник     0   \n",
       "14  гражданский брак                 1      F   компаньон     1   \n",
       "15   женат / замужем                 0      F   сотрудник     0   \n",
       "16   женат / замужем                 0      F   сотрудник     0   \n",
       "17  гражданский брак                 1      M   сотрудник     0   \n",
       "18    вдовец / вдова                 2      F   пенсионер     0   \n",
       "19         в разводе                 3      F   сотрудник     0   \n",
       "\n",
       "     total_income                                 purpose  \n",
       "0   253875.639453                           покупка жилья  \n",
       "1   112080.014102                 приобретение автомобиля  \n",
       "2   145885.952297                           покупка жилья  \n",
       "3   267628.550329              дополнительное образование  \n",
       "4   158616.077870                         сыграть свадьбу  \n",
       "5   255763.565419                           покупка жилья  \n",
       "6   240525.971920                       операции с жильем  \n",
       "7   135823.934197                             образование  \n",
       "8    95856.832424                   на проведение свадьбы  \n",
       "9   144425.938277                 покупка жилья для семьи  \n",
       "10  113943.491460                    покупка недвижимости  \n",
       "11   77069.234271       покупка коммерческой недвижимости  \n",
       "12            NaN                         сыграть свадьбу  \n",
       "13  130458.228857                 приобретение автомобиля  \n",
       "14  165127.911772              покупка жилой недвижимости  \n",
       "15  116820.904450  строительство собственной недвижимости  \n",
       "16  289202.704229                            недвижимость  \n",
       "17   90410.586745              строительство недвижимости  \n",
       "18   56823.777243      на покупку подержанного автомобиля  \n",
       "19  242831.107982            на покупку своего автомобиля  "
      ]
     },
     "execution_count": 2,
     "metadata": {},
     "output_type": "execute_result"
    }
   ],
   "source": [
    "data.head(20)"
   ]
  },
  {
   "cell_type": "markdown",
   "id": "d9cb64bc",
   "metadata": {
    "deletable": false,
    "editable": false,
    "id": "1c12e233"
   },
   "source": [
    "**Задание 3. Выведите основную информацию о датафрейме с помощью метода `info()`.**"
   ]
  },
  {
   "cell_type": "code",
   "execution_count": 3,
   "id": "5784a131",
   "metadata": {
    "deletable": false,
    "id": "2b757bca",
    "outputId": "15376089-8dad-46c9-b520-c05248d43158"
   },
   "outputs": [
    {
     "name": "stdout",
     "output_type": "stream",
     "text": [
      "<class 'pandas.core.frame.DataFrame'>\n",
      "RangeIndex: 21525 entries, 0 to 21524\n",
      "Data columns (total 12 columns):\n",
      " #   Column            Non-Null Count  Dtype  \n",
      "---  ------            --------------  -----  \n",
      " 0   children          21525 non-null  int64  \n",
      " 1   days_employed     19351 non-null  float64\n",
      " 2   dob_years         21525 non-null  int64  \n",
      " 3   education         21525 non-null  object \n",
      " 4   education_id      21525 non-null  int64  \n",
      " 5   family_status     21525 non-null  object \n",
      " 6   family_status_id  21525 non-null  int64  \n",
      " 7   gender            21525 non-null  object \n",
      " 8   income_type       21525 non-null  object \n",
      " 9   debt              21525 non-null  int64  \n",
      " 10  total_income      19351 non-null  float64\n",
      " 11  purpose           21525 non-null  object \n",
      "dtypes: float64(2), int64(5), object(5)\n",
      "memory usage: 2.0+ MB\n"
     ]
    }
   ],
   "source": [
    "data.info()"
   ]
  },
  {
   "cell_type": "markdown",
   "id": "085698fa",
   "metadata": {
    "deletable": false,
    "editable": false,
    "id": "333ec665"
   },
   "source": [
    "## Предобработка данных"
   ]
  },
  {
   "cell_type": "markdown",
   "id": "bb088299",
   "metadata": {
    "deletable": false,
    "editable": false,
    "id": "02d92d53"
   },
   "source": [
    "### Удаление пропусков"
   ]
  },
  {
   "cell_type": "markdown",
   "id": "bf1a9d34",
   "metadata": {
    "deletable": false,
    "editable": false,
    "id": "cd84967c"
   },
   "source": [
    "**Задание 4. Выведите количество пропущенных значений для каждого столбца. Используйте комбинацию двух методов.**"
   ]
  },
  {
   "cell_type": "code",
   "execution_count": 4,
   "id": "57589241",
   "metadata": {
    "deletable": false,
    "id": "7f9b2309",
    "outputId": "81f4d817-781c-465c-ed15-91ce4446810d"
   },
   "outputs": [
    {
     "data": {
      "text/plain": [
       "children               0\n",
       "days_employed       2174\n",
       "dob_years              0\n",
       "education              0\n",
       "education_id           0\n",
       "family_status          0\n",
       "family_status_id       0\n",
       "gender                 0\n",
       "income_type            0\n",
       "debt                   0\n",
       "total_income        2174\n",
       "purpose                0\n",
       "dtype: int64"
      ]
     },
     "execution_count": 4,
     "metadata": {},
     "output_type": "execute_result"
    }
   ],
   "source": [
    "data.isna().sum()"
   ]
  },
  {
   "cell_type": "markdown",
   "id": "dc634c6a",
   "metadata": {
    "deletable": false,
    "editable": false,
    "id": "db86e27b"
   },
   "source": [
    "**Задание 5. В двух столбцах есть пропущенные значения. Один из них — `days_employed`. Пропуски в этом столбце вы обработаете на следующем этапе. Другой столбец с пропущенными значениями — `total_income` — хранит данные о доходах. На сумму дохода сильнее всего влияет тип занятости, поэтому заполнить пропуски в этом столбце нужно медианным значением по каждому типу из столбца `income_type`. Например, у человека с типом занятости `сотрудник` пропуск в столбце `total_income` должен быть заполнен медианным доходом среди всех записей с тем же типом.**"
   ]
  },
  {
   "cell_type": "code",
   "execution_count": 5,
   "id": "3d08b7a7",
   "metadata": {},
   "outputs": [
    {
     "data": {
      "text/plain": [
       "array(['сотрудник', 'пенсионер', 'компаньон', 'госслужащий',\n",
       "       'безработный', 'предприниматель', 'студент', 'в декрете'],\n",
       "      dtype=object)"
      ]
     },
     "execution_count": 5,
     "metadata": {},
     "output_type": "execute_result"
    }
   ],
   "source": [
    "data['income_type'].unique() #типы занятости"
   ]
  },
  {
   "cell_type": "code",
   "execution_count": 6,
   "id": "3c0d5717",
   "metadata": {
    "deletable": false,
    "id": "42006a93"
   },
   "outputs": [],
   "source": [
    "for t in data['income_type'].unique():\n",
    "    data.loc[(data['income_type'] == t) & (data['total_income'].isna()), 'total_income'] = \\\n",
    "    data.loc[(data['income_type'] == t), 'total_income'].median()\n",
    "#заменили пропуски медианным значением по каждому типа из столбца income_type    "
   ]
  },
  {
   "cell_type": "markdown",
   "id": "8e1c72d2",
   "metadata": {
    "deletable": false,
    "editable": false,
    "id": "89da5ece"
   },
   "source": [
    "### Обработка аномальных значений"
   ]
  },
  {
   "cell_type": "markdown",
   "id": "423caca2",
   "metadata": {
    "deletable": false,
    "editable": false,
    "id": "57964554"
   },
   "source": [
    "**Задание 6. В данных могут встречаться артефакты (аномалии) — значения, которые не отражают действительность и появились по какой-то ошибке. таким артефактом будет отрицательное количество дней трудового стажа в столбце `days_employed`. Для реальных данных это нормально. Обработайте значения в этом столбце: замените все отрицательные значения положительными с помощью метода `abs()`.**"
   ]
  },
  {
   "cell_type": "code",
   "execution_count": 7,
   "id": "e8f9a0d7",
   "metadata": {
    "deletable": false,
    "id": "f6f055bf"
   },
   "outputs": [],
   "source": [
    "data['days_employed'] = data['days_employed'].abs()"
   ]
  },
  {
   "cell_type": "markdown",
   "id": "b35a2e9d",
   "metadata": {
    "deletable": false,
    "editable": false,
    "id": "6107dd2f"
   },
   "source": [
    "**Задание 7. Для каждого типа занятости выведите медианное значение трудового стажа `days_employed` в днях.**"
   ]
  },
  {
   "cell_type": "code",
   "execution_count": 8,
   "id": "e447fd0e",
   "metadata": {
    "deletable": false,
    "id": "85a5faf6",
    "outputId": "801ef80e-522b-4668-f34e-565af7432bcf"
   },
   "outputs": [
    {
     "data": {
      "text/plain": [
       "income_type\n",
       "безработный        366413.652744\n",
       "в декрете            3296.759962\n",
       "госслужащий          2689.368353\n",
       "компаньон            1547.382223\n",
       "пенсионер          365213.306266\n",
       "предприниматель       520.848083\n",
       "сотрудник            1574.202821\n",
       "студент               578.751554\n",
       "Name: days_employed, dtype: float64"
      ]
     },
     "execution_count": 8,
     "metadata": {},
     "output_type": "execute_result"
    }
   ],
   "source": [
    "data.groupby('income_type')['days_employed'].agg('median')"
   ]
  },
  {
   "cell_type": "markdown",
   "id": "cee48c75",
   "metadata": {
    "deletable": false,
    "editable": false,
    "id": "38d1a030"
   },
   "source": [
    "У двух типов (безработные и пенсионеры) получатся аномально большие значения. Исправить такие значения сложно, поэтому оставьте их как есть. Тем более этот столбец не понадобится вам для исследования."
   ]
  },
  {
   "cell_type": "markdown",
   "id": "f97c2e8d",
   "metadata": {
    "deletable": false,
    "editable": false,
    "id": "d8a9f147"
   },
   "source": [
    "**Задание 8. Выведите перечень уникальных значений столбца `children`.**"
   ]
  },
  {
   "cell_type": "code",
   "execution_count": 9,
   "id": "c83642b0",
   "metadata": {
    "deletable": false,
    "id": "ef5056eb",
    "outputId": "6975b15c-7f95-4697-d16d-a0c79b657b03"
   },
   "outputs": [
    {
     "data": {
      "text/plain": [
       "array([ 1,  0,  3,  2, -1,  4, 20,  5])"
      ]
     },
     "execution_count": 9,
     "metadata": {},
     "output_type": "execute_result"
    }
   ],
   "source": [
    "data['children'].unique()"
   ]
  },
  {
   "cell_type": "markdown",
   "id": "eb58a1fa",
   "metadata": {
    "deletable": false,
    "editable": false,
    "id": "40b9ebf2"
   },
   "source": [
    "**Задание 9. В столбце `children` есть два аномальных значения. Удалите строки, в которых встречаются такие аномальные значения из датафрейма `data`.**"
   ]
  },
  {
   "cell_type": "code",
   "execution_count": 10,
   "id": "11852842",
   "metadata": {
    "deletable": false,
    "id": "3ff9801d"
   },
   "outputs": [],
   "source": [
    "data = data[(data['children'] != -1) & (data['children'] != 20)]"
   ]
  },
  {
   "cell_type": "markdown",
   "id": "e328e901",
   "metadata": {
    "deletable": false,
    "editable": false,
    "id": "bbc4d0ce"
   },
   "source": [
    "**Задание 10. Ещё раз выведите перечень уникальных значений столбца `children`, чтобы убедиться, что артефакты удалены.**"
   ]
  },
  {
   "cell_type": "code",
   "execution_count": 11,
   "id": "9fcc26da",
   "metadata": {
    "deletable": false,
    "id": "ad4fa8b7",
    "outputId": "b2097101-d49d-44d9-901b-32a65c9463d1"
   },
   "outputs": [
    {
     "data": {
      "text/plain": [
       "array([1, 0, 3, 2, 4, 5])"
      ]
     },
     "execution_count": 11,
     "metadata": {},
     "output_type": "execute_result"
    }
   ],
   "source": [
    "data['children'].unique()"
   ]
  },
  {
   "cell_type": "markdown",
   "id": "108502c1",
   "metadata": {
    "deletable": false,
    "editable": false,
    "id": "75440b63"
   },
   "source": [
    "### Удаление пропусков (продолжение)"
   ]
  },
  {
   "cell_type": "markdown",
   "id": "788b1994",
   "metadata": {
    "deletable": false,
    "editable": false,
    "id": "f4ea573f"
   },
   "source": [
    "**Задание 11. Заполните пропуски в столбце `days_employed` медианными значениями по каждого типа занятости `income_type`.**"
   ]
  },
  {
   "cell_type": "code",
   "execution_count": 12,
   "id": "419e0711",
   "metadata": {
    "deletable": false,
    "id": "af6b1a7e"
   },
   "outputs": [],
   "source": [
    "for t in data['income_type'].unique():\n",
    "    data.loc[(data['income_type'] == t) & (data['days_employed'].isna()), 'days_employed'] = \\\n",
    "    data.loc[(data['income_type'] == t), 'days_employed'].median()"
   ]
  },
  {
   "cell_type": "markdown",
   "id": "d03d5760",
   "metadata": {
    "deletable": false,
    "editable": false,
    "id": "2753f40d"
   },
   "source": [
    "**Задание 12. Убедитесь, что все пропуски заполнены. Проверьте себя и ещё раз выведите количество пропущенных значений для каждого столбца с помощью двух методов.**"
   ]
  },
  {
   "cell_type": "code",
   "execution_count": 13,
   "id": "8a79d531",
   "metadata": {
    "deletable": false,
    "id": "55f78bc2",
    "outputId": "8da1e4e1-358e-4e87-98c9-f261bce0a7b2"
   },
   "outputs": [
    {
     "data": {
      "text/plain": [
       "children            0\n",
       "days_employed       0\n",
       "dob_years           0\n",
       "education           0\n",
       "education_id        0\n",
       "family_status       0\n",
       "family_status_id    0\n",
       "gender              0\n",
       "income_type         0\n",
       "debt                0\n",
       "total_income        0\n",
       "purpose             0\n",
       "dtype: int64"
      ]
     },
     "execution_count": 13,
     "metadata": {},
     "output_type": "execute_result"
    }
   ],
   "source": [
    "data.isna().sum()"
   ]
  },
  {
   "cell_type": "markdown",
   "id": "d0d0705f",
   "metadata": {
    "deletable": false,
    "editable": false,
    "id": "ddc81e43"
   },
   "source": [
    "### Изменение типов данных"
   ]
  },
  {
   "cell_type": "markdown",
   "id": "59b11d57",
   "metadata": {
    "deletable": false,
    "editable": false,
    "id": "42d19d24"
   },
   "source": [
    "**Задание 13. Замените вещественный тип данных в столбце `total_income` на целочисленный с помощью метода `astype()`.**"
   ]
  },
  {
   "cell_type": "code",
   "execution_count": 14,
   "id": "8fe1394f",
   "metadata": {
    "deletable": false,
    "id": "920b65ad"
   },
   "outputs": [],
   "source": [
    "data['total_income'] = data['total_income'].astype(int)"
   ]
  },
  {
   "cell_type": "markdown",
   "id": "89adc389",
   "metadata": {
    "deletable": false,
    "editable": false,
    "id": "80c420ba"
   },
   "source": [
    "### Обработка дубликатов"
   ]
  },
  {
   "cell_type": "markdown",
   "id": "71422282",
   "metadata": {
    "deletable": false,
    "editable": false
   },
   "source": [
    "**Задание 14. Обработайте неявные дубликаты в столбце `education`. В этом столбце есть одни и те же значения, но записанные по-разному: с использованием заглавных и строчных букв. Приведите их к нижнему регистру. Проверьте остальные столбцы.**"
   ]
  },
  {
   "cell_type": "code",
   "execution_count": 15,
   "id": "5b0bf4c7",
   "metadata": {
    "deletable": false
   },
   "outputs": [],
   "source": [
    "data['education'] = data['education'].str.lower()"
   ]
  },
  {
   "cell_type": "markdown",
   "id": "ace4a7fb",
   "metadata": {
    "deletable": false,
    "editable": false,
    "id": "dc587695"
   },
   "source": [
    "**Задание 15. Выведите на экран количество строк-дубликатов в данных. Если такие строки присутствуют, удалите их.**"
   ]
  },
  {
   "cell_type": "code",
   "execution_count": 16,
   "id": "da92f6b8",
   "metadata": {
    "deletable": false,
    "id": "3ee445e4",
    "outputId": "9684deba-1934-42d1-99e1-cda61740f822"
   },
   "outputs": [
    {
     "data": {
      "text/plain": [
       "71"
      ]
     },
     "execution_count": 16,
     "metadata": {},
     "output_type": "execute_result"
    }
   ],
   "source": [
    "data.duplicated().sum()"
   ]
  },
  {
   "cell_type": "code",
   "execution_count": 17,
   "id": "8de08b85",
   "metadata": {
    "deletable": false,
    "id": "8575fe05"
   },
   "outputs": [],
   "source": [
    "data = data.drop_duplicates()"
   ]
  },
  {
   "cell_type": "markdown",
   "id": "ae54453f",
   "metadata": {
    "deletable": false,
    "editable": false,
    "id": "9904cf55"
   },
   "source": [
    "### Категоризация данных"
   ]
  },
  {
   "cell_type": "markdown",
   "id": "325ec6b9",
   "metadata": {
    "deletable": false,
    "editable": false,
    "id": "72fcc8a2"
   },
   "source": [
    "**Задание 16. На основании диапазонов, указанных ниже, создайте в датафрейме `data` столбец `total_income_category` с категориями:**\n",
    "\n",
    "- 0–30000 — `'E'`;\n",
    "- 30001–50000 — `'D'`;\n",
    "- 50001–200000 — `'C'`;\n",
    "- 200001–1000000 — `'B'`;\n",
    "- 1000001 и выше — `'A'`.\n",
    "\n",
    "\n",
    "**Например, кредитополучателю с доходом 25000 нужно назначить категорию `'E'`, а клиенту, получающему 235000, — `'B'`. Используйте собственную функцию с именем `categorize_income()` и метод `apply()`.**"
   ]
  },
  {
   "cell_type": "code",
   "execution_count": 18,
   "id": "c6c742f4",
   "metadata": {
    "deletable": false,
    "id": "e1771346"
   },
   "outputs": [],
   "source": [
    "def categorize_income(income):\n",
    "    try:\n",
    "        if 0 <= income <= 30000:\n",
    "            return 'E'\n",
    "        elif 30001 <= income <= 50000:\n",
    "            return 'D'\n",
    "        elif 50001 <= income <= 200000:\n",
    "            return 'C'\n",
    "        elif 200001 <= income <= 1000000:\n",
    "            return 'B'\n",
    "        elif income >= 1000001:\n",
    "            return 'A'\n",
    "    except:\n",
    "        pass"
   ]
  },
  {
   "cell_type": "code",
   "execution_count": 19,
   "id": "c9888e01",
   "metadata": {
    "deletable": false,
    "id": "d5f3586d"
   },
   "outputs": [],
   "source": [
    "data['total_income_category'] = data['total_income'].apply(categorize_income)"
   ]
  },
  {
   "cell_type": "markdown",
   "id": "16ec3bde",
   "metadata": {
    "deletable": false,
    "editable": false,
    "id": "dde49b5c"
   },
   "source": [
    "**Задание 17. Выведите на экран перечень уникальных целей взятия кредита из столбца `purpose`.**"
   ]
  },
  {
   "cell_type": "code",
   "execution_count": 20,
   "id": "de7f62d3",
   "metadata": {
    "deletable": false,
    "id": "f67ce9b3",
    "outputId": "673c12d9-7d7e-4ae0-9812-c622c89dd244"
   },
   "outputs": [
    {
     "data": {
      "text/plain": [
       "array(['покупка жилья', 'приобретение автомобиля',\n",
       "       'дополнительное образование', 'сыграть свадьбу',\n",
       "       'операции с жильем', 'образование', 'на проведение свадьбы',\n",
       "       'покупка жилья для семьи', 'покупка недвижимости',\n",
       "       'покупка коммерческой недвижимости', 'покупка жилой недвижимости',\n",
       "       'строительство собственной недвижимости', 'недвижимость',\n",
       "       'строительство недвижимости', 'на покупку подержанного автомобиля',\n",
       "       'на покупку своего автомобиля',\n",
       "       'операции с коммерческой недвижимостью',\n",
       "       'строительство жилой недвижимости', 'жилье',\n",
       "       'операции со своей недвижимостью', 'автомобили',\n",
       "       'заняться образованием', 'сделка с подержанным автомобилем',\n",
       "       'получение образования', 'автомобиль', 'свадьба',\n",
       "       'получение дополнительного образования', 'покупка своего жилья',\n",
       "       'операции с недвижимостью', 'получение высшего образования',\n",
       "       'свой автомобиль', 'сделка с автомобилем',\n",
       "       'профильное образование', 'высшее образование',\n",
       "       'покупка жилья для сдачи', 'на покупку автомобиля', 'ремонт жилью',\n",
       "       'заняться высшим образованием'], dtype=object)"
      ]
     },
     "execution_count": 20,
     "metadata": {},
     "output_type": "execute_result"
    }
   ],
   "source": [
    "data['purpose'].unique()"
   ]
  },
  {
   "cell_type": "markdown",
   "id": "ea46cbb9",
   "metadata": {
    "deletable": false,
    "editable": false,
    "id": "85d0aef0"
   },
   "source": [
    "**Задание 18. Создайте функцию, которая на основании данных из столбца `purpose` сформирует новый столбец `purpose_category`, в который войдут следующие категории:**\n",
    "\n",
    "- `'операции с автомобилем'`,\n",
    "- `'операции с недвижимостью'`,\n",
    "- `'проведение свадьбы'`,\n",
    "- `'получение образования'`.\n",
    "\n",
    "**Например, если в столбце `purpose` находится подстрока `'на покупку автомобиля'`, то в столбце `purpose_category` должна появиться строка `'операции с автомобилем'`.**\n",
    "\n",
    "**Используйте собственную функцию с именем `categorize_purpose()` и метод `apply()`. Изучите данные в столбце `purpose` и определите, какие подстроки помогут вам правильно определить категорию.**"
   ]
  },
  {
   "cell_type": "code",
   "execution_count": 21,
   "id": "98513ad2",
   "metadata": {
    "deletable": false,
    "id": "e149fab4"
   },
   "outputs": [],
   "source": [
    "def categorize_purpose(row):\n",
    "    try:\n",
    "        if 'автом' in row:\n",
    "            return 'операции с автомобилем'\n",
    "        elif 'жил' in row or 'недвиж' in row:\n",
    "            return 'операции с недвижимостью'\n",
    "        elif 'свад' in row:\n",
    "            return 'проведение свадьбы'\n",
    "        elif 'образов' in row:\n",
    "            return 'получение образования'\n",
    "    except:\n",
    "        return 'нет категории'"
   ]
  },
  {
   "cell_type": "code",
   "execution_count": 22,
   "id": "0a20dbcb",
   "metadata": {
    "deletable": false,
    "id": "bf36e69b"
   },
   "outputs": [],
   "source": [
    "data['purpose_category'] = data['purpose'].apply(categorize_purpose)"
   ]
  },
  {
   "cell_type": "markdown",
   "id": "ebac9853",
   "metadata": {
    "deletable": false,
    "editable": false,
    "id": "09b242bf"
   },
   "source": [
    "### Шаг 3. Исследуйте данные и ответьте на вопросы"
   ]
  },
  {
   "cell_type": "markdown",
   "id": "18ec73b2",
   "metadata": {
    "deletable": false,
    "editable": false,
    "id": "c5d66278"
   },
   "source": [
    "#### 3.1 Есть ли зависимость между количеством детей и возвратом кредита в срок?"
   ]
  },
  {
   "cell_type": "markdown",
   "id": "dfa0bc99",
   "metadata": {},
   "source": [
    "Сгруппируем данные по количеству детей.\n",
    "Столбец sum - cумма значений по столбцу debt отражает суммарное количество фактов просрочки по кредиту в каждой категории, так как 1 - есть просрочка, 0 - нет просрочки.\n",
    "Столбец count - количество клиентов в данной категории.  \n",
    "Столбец ratio - отношение количества фактов просрочки по кредиту к общему количеству клиентов в данной категории. Данный столбец необходим, так как в количество клиентов в категориях сильно различается."
   ]
  },
  {
   "cell_type": "code",
   "execution_count": 23,
   "id": "525ff47d",
   "metadata": {
    "deletable": false,
    "id": "2cacfc4a"
   },
   "outputs": [],
   "source": [
    "data_children_grouped=data.groupby('children').agg({'debt':['sum','count']})\n",
    "data_children_grouped['ratio']=data_children_grouped['debt']['sum']/data_children_grouped['debt']['count']\n",
    "data_children_grouped['ratio'] *= 100 # умножим на 100 для наглядности"
   ]
  },
  {
   "cell_type": "markdown",
   "id": "3f9c380e",
   "metadata": {},
   "source": [
    "Отсортируем данные по убыванию столбца ratio. "
   ]
  },
  {
   "cell_type": "code",
   "execution_count": 24,
   "id": "b0ad799c",
   "metadata": {
    "scrolled": true
   },
   "outputs": [
    {
     "data": {
      "text/html": [
       "<div>\n",
       "<style scoped>\n",
       "    .dataframe tbody tr th:only-of-type {\n",
       "        vertical-align: middle;\n",
       "    }\n",
       "\n",
       "    .dataframe tbody tr th {\n",
       "        vertical-align: top;\n",
       "    }\n",
       "\n",
       "    .dataframe thead tr th {\n",
       "        text-align: left;\n",
       "    }\n",
       "\n",
       "    .dataframe thead tr:last-of-type th {\n",
       "        text-align: right;\n",
       "    }\n",
       "</style>\n",
       "<table border=\"1\" class=\"dataframe\">\n",
       "  <thead>\n",
       "    <tr>\n",
       "      <th></th>\n",
       "      <th colspan=\"2\" halign=\"left\">debt</th>\n",
       "      <th>ratio</th>\n",
       "    </tr>\n",
       "    <tr>\n",
       "      <th></th>\n",
       "      <th>sum</th>\n",
       "      <th>count</th>\n",
       "      <th></th>\n",
       "    </tr>\n",
       "    <tr>\n",
       "      <th>children</th>\n",
       "      <th></th>\n",
       "      <th></th>\n",
       "      <th></th>\n",
       "    </tr>\n",
       "  </thead>\n",
       "  <tbody>\n",
       "    <tr>\n",
       "      <th>4</th>\n",
       "      <td>4</td>\n",
       "      <td>41</td>\n",
       "      <td>9.756098</td>\n",
       "    </tr>\n",
       "    <tr>\n",
       "      <th>2</th>\n",
       "      <td>194</td>\n",
       "      <td>2052</td>\n",
       "      <td>9.454191</td>\n",
       "    </tr>\n",
       "    <tr>\n",
       "      <th>1</th>\n",
       "      <td>444</td>\n",
       "      <td>4808</td>\n",
       "      <td>9.234609</td>\n",
       "    </tr>\n",
       "    <tr>\n",
       "      <th>3</th>\n",
       "      <td>27</td>\n",
       "      <td>330</td>\n",
       "      <td>8.181818</td>\n",
       "    </tr>\n",
       "    <tr>\n",
       "      <th>0</th>\n",
       "      <td>1063</td>\n",
       "      <td>14091</td>\n",
       "      <td>7.543822</td>\n",
       "    </tr>\n",
       "    <tr>\n",
       "      <th>5</th>\n",
       "      <td>0</td>\n",
       "      <td>9</td>\n",
       "      <td>0.000000</td>\n",
       "    </tr>\n",
       "  </tbody>\n",
       "</table>\n",
       "</div>"
      ],
      "text/plain": [
       "          debt            ratio\n",
       "           sum  count          \n",
       "children                       \n",
       "4            4     41  9.756098\n",
       "2          194   2052  9.454191\n",
       "1          444   4808  9.234609\n",
       "3           27    330  8.181818\n",
       "0         1063  14091  7.543822\n",
       "5            0      9  0.000000"
      ]
     },
     "execution_count": 24,
     "metadata": {},
     "output_type": "execute_result"
    }
   ],
   "source": [
    "data_children_sorted = data_children_grouped.sort_values(by='ratio',ascending=False)\n",
    "data_children_sorted"
   ]
  },
  {
   "cell_type": "markdown",
   "id": "8914a1ef",
   "metadata": {},
   "source": [
    "Клиенты у которых 4,2,1 детей чаще  не возврващают кредиты в срок, чем те у кого 3,5 детей или нет детей. При этом клиенты с 5 детьми вообще не имееют задолженностей,но таких клиентов всего 9 в данной выборке. Процент просрочек в категориях с 4 и 2 отличается незначительно."
   ]
  },
  {
   "cell_type": "markdown",
   "id": "d70d00ae",
   "metadata": {},
   "source": [
    "Построим сводную таблицу №1 для клиентов, имеющих задолженность и посмотрим их семейный статус и количество детей.Среди должников больше всего женатых/замужних людей без детей. "
   ]
  },
  {
   "cell_type": "code",
   "execution_count": 25,
   "id": "b3b831af",
   "metadata": {},
   "outputs": [
    {
     "data": {
      "text/html": [
       "<div>\n",
       "<style scoped>\n",
       "    .dataframe tbody tr th:only-of-type {\n",
       "        vertical-align: middle;\n",
       "    }\n",
       "\n",
       "    .dataframe tbody tr th {\n",
       "        vertical-align: top;\n",
       "    }\n",
       "\n",
       "    .dataframe thead th {\n",
       "        text-align: right;\n",
       "    }\n",
       "</style>\n",
       "<table border=\"1\" class=\"dataframe\">\n",
       "  <thead>\n",
       "    <tr style=\"text-align: right;\">\n",
       "      <th>children</th>\n",
       "      <th>0</th>\n",
       "      <th>1</th>\n",
       "      <th>2</th>\n",
       "      <th>3</th>\n",
       "      <th>4</th>\n",
       "      <th>5</th>\n",
       "    </tr>\n",
       "    <tr>\n",
       "      <th>family_status</th>\n",
       "      <th></th>\n",
       "      <th></th>\n",
       "      <th></th>\n",
       "      <th></th>\n",
       "      <th></th>\n",
       "      <th></th>\n",
       "    </tr>\n",
       "  </thead>\n",
       "  <tbody>\n",
       "    <tr>\n",
       "      <th>Не женат / не замужем</th>\n",
       "      <td>210</td>\n",
       "      <td>52</td>\n",
       "      <td>9</td>\n",
       "      <td>1</td>\n",
       "      <td>1</td>\n",
       "      <td>0</td>\n",
       "    </tr>\n",
       "    <tr>\n",
       "      <th>в разводе</th>\n",
       "      <td>55</td>\n",
       "      <td>21</td>\n",
       "      <td>7</td>\n",
       "      <td>1</td>\n",
       "      <td>0</td>\n",
       "      <td>0</td>\n",
       "    </tr>\n",
       "    <tr>\n",
       "      <th>вдовец / вдова</th>\n",
       "      <td>53</td>\n",
       "      <td>7</td>\n",
       "      <td>3</td>\n",
       "      <td>0</td>\n",
       "      <td>0</td>\n",
       "      <td>0</td>\n",
       "    </tr>\n",
       "    <tr>\n",
       "      <th>гражданский брак</th>\n",
       "      <td>229</td>\n",
       "      <td>118</td>\n",
       "      <td>30</td>\n",
       "      <td>8</td>\n",
       "      <td>0</td>\n",
       "      <td>0</td>\n",
       "    </tr>\n",
       "    <tr>\n",
       "      <th>женат / замужем</th>\n",
       "      <td>516</td>\n",
       "      <td>246</td>\n",
       "      <td>145</td>\n",
       "      <td>17</td>\n",
       "      <td>3</td>\n",
       "      <td>0</td>\n",
       "    </tr>\n",
       "  </tbody>\n",
       "</table>\n",
       "</div>"
      ],
      "text/plain": [
       "children                 0    1    2   3  4  5\n",
       "family_status                                 \n",
       "Не женат / не замужем  210   52    9   1  1  0\n",
       "в разводе               55   21    7   1  0  0\n",
       "вдовец / вдова          53    7    3   0  0  0\n",
       "гражданский брак       229  118   30   8  0  0\n",
       "женат / замужем        516  246  145  17  3  0"
      ]
     },
     "execution_count": 25,
     "metadata": {},
     "output_type": "execute_result"
    }
   ],
   "source": [
    "data_pivot = data.pivot_table(index=['family_status'], columns='children', values='debt', aggfunc='sum')\n",
    "data_pivot = data_pivot.fillna(0).astype(int) #заменим значения NaN на нули для удобства расчетов\n",
    "data_pivot"
   ]
  },
  {
   "cell_type": "code",
   "execution_count": 26,
   "id": "8748b43a",
   "metadata": {},
   "outputs": [],
   "source": [
    "import seaborn as sns"
   ]
  },
  {
   "cell_type": "code",
   "execution_count": 27,
   "id": "161730cf",
   "metadata": {},
   "outputs": [
    {
     "data": {
      "image/png": "[encoded data removed]",
      "text/plain": [
       "<Figure size 432x288 with 2 Axes>"
      ]
     },
     "metadata": {
      "needs_background": "light"
     },
     "output_type": "display_data"
    }
   ],
   "source": [
    "sns.heatmap(data_pivot, vmin=0, vmax=100,cmap='Blues'); \n",
    "#построим тепловую карту для наглядного отображения результатов"
   ]
  },
  {
   "cell_type": "markdown",
   "id": "d27eba75",
   "metadata": {},
   "source": [
    "Построим сводную таблицу№2 для клиентов, имеющих задолженность и посмотрим их уровень дохода и количество детей. Должников больше всего среди тех, у кого детей нет, при этом это люди со средним уровнем дохода."
   ]
  },
  {
   "cell_type": "code",
   "execution_count": 28,
   "id": "289b4344",
   "metadata": {},
   "outputs": [
    {
     "data": {
      "text/html": [
       "<div>\n",
       "<style scoped>\n",
       "    .dataframe tbody tr th:only-of-type {\n",
       "        vertical-align: middle;\n",
       "    }\n",
       "\n",
       "    .dataframe tbody tr th {\n",
       "        vertical-align: top;\n",
       "    }\n",
       "\n",
       "    .dataframe thead th {\n",
       "        text-align: right;\n",
       "    }\n",
       "</style>\n",
       "<table border=\"1\" class=\"dataframe\">\n",
       "  <thead>\n",
       "    <tr style=\"text-align: right;\">\n",
       "      <th>children</th>\n",
       "      <th>0</th>\n",
       "      <th>1</th>\n",
       "      <th>2</th>\n",
       "      <th>3</th>\n",
       "      <th>4</th>\n",
       "      <th>5</th>\n",
       "    </tr>\n",
       "    <tr>\n",
       "      <th>total_income_category</th>\n",
       "      <th></th>\n",
       "      <th></th>\n",
       "      <th></th>\n",
       "      <th></th>\n",
       "      <th></th>\n",
       "      <th></th>\n",
       "    </tr>\n",
       "  </thead>\n",
       "  <tbody>\n",
       "    <tr>\n",
       "      <th>A</th>\n",
       "      <td>1</td>\n",
       "      <td>1</td>\n",
       "      <td>0</td>\n",
       "      <td>0</td>\n",
       "      <td>0</td>\n",
       "      <td>0</td>\n",
       "    </tr>\n",
       "    <tr>\n",
       "      <th>B</th>\n",
       "      <td>220</td>\n",
       "      <td>88</td>\n",
       "      <td>41</td>\n",
       "      <td>4</td>\n",
       "      <td>1</td>\n",
       "      <td>0</td>\n",
       "    </tr>\n",
       "    <tr>\n",
       "      <th>C</th>\n",
       "      <td>828</td>\n",
       "      <td>351</td>\n",
       "      <td>149</td>\n",
       "      <td>22</td>\n",
       "      <td>3</td>\n",
       "      <td>0</td>\n",
       "    </tr>\n",
       "    <tr>\n",
       "      <th>D</th>\n",
       "      <td>12</td>\n",
       "      <td>4</td>\n",
       "      <td>4</td>\n",
       "      <td>1</td>\n",
       "      <td>0</td>\n",
       "      <td>0</td>\n",
       "    </tr>\n",
       "    <tr>\n",
       "      <th>E</th>\n",
       "      <td>2</td>\n",
       "      <td>0</td>\n",
       "      <td>0</td>\n",
       "      <td>0</td>\n",
       "      <td>0</td>\n",
       "      <td>0</td>\n",
       "    </tr>\n",
       "  </tbody>\n",
       "</table>\n",
       "</div>"
      ],
      "text/plain": [
       "children                 0    1    2   3  4  5\n",
       "total_income_category                         \n",
       "A                        1    1    0   0  0  0\n",
       "B                      220   88   41   4  1  0\n",
       "C                      828  351  149  22  3  0\n",
       "D                       12    4    4   1  0  0\n",
       "E                        2    0    0   0  0  0"
      ]
     },
     "execution_count": 28,
     "metadata": {},
     "output_type": "execute_result"
    }
   ],
   "source": [
    "data_pivot2 = data.pivot_table(index=['total_income_category'], columns='children', values='debt', aggfunc='sum')\n",
    "data_pivot2 = data_pivot2.fillna(0).astype(int) #заменим значения NaN на нули для удобства расчетов\n",
    "data_pivot2"
   ]
  },
  {
   "cell_type": "code",
   "execution_count": 29,
   "id": "7ca0934a",
   "metadata": {},
   "outputs": [
    {
     "data": {
      "image/png": "[encoded data removed]",
      "text/plain": [
       "<Figure size 432x288 with 2 Axes>"
      ]
     },
     "metadata": {
      "needs_background": "light"
     },
     "output_type": "display_data"
    }
   ],
   "source": [
    "sns.heatmap(data_pivot2, vmin=0, vmax=100,cmap='Blues');\n",
    "#построим тепловую карту для наглядного отображения результатов"
   ]
  },
  {
   "cell_type": "markdown",
   "id": "72377e35",
   "metadata": {},
   "source": [
    "Построим сводную таблицу№3 для клиентов, имеющих задолженность и посмотрим их уровень дохода и количество детей. "
   ]
  },
  {
   "cell_type": "code",
   "execution_count": 30,
   "id": "d2480e70",
   "metadata": {},
   "outputs": [
    {
     "data": {
      "text/html": [
       "<div>\n",
       "<style scoped>\n",
       "    .dataframe tbody tr th:only-of-type {\n",
       "        vertical-align: middle;\n",
       "    }\n",
       "\n",
       "    .dataframe tbody tr th {\n",
       "        vertical-align: top;\n",
       "    }\n",
       "\n",
       "    .dataframe thead th {\n",
       "        text-align: right;\n",
       "    }\n",
       "</style>\n",
       "<table border=\"1\" class=\"dataframe\">\n",
       "  <thead>\n",
       "    <tr style=\"text-align: right;\">\n",
       "      <th>children</th>\n",
       "      <th>0</th>\n",
       "      <th>1</th>\n",
       "      <th>2</th>\n",
       "      <th>3</th>\n",
       "      <th>4</th>\n",
       "      <th>5</th>\n",
       "    </tr>\n",
       "    <tr>\n",
       "      <th>purpose_category</th>\n",
       "      <th></th>\n",
       "      <th></th>\n",
       "      <th></th>\n",
       "      <th></th>\n",
       "      <th></th>\n",
       "      <th></th>\n",
       "    </tr>\n",
       "  </thead>\n",
       "  <tbody>\n",
       "    <tr>\n",
       "      <th>операции с автомобилем</th>\n",
       "      <td>243</td>\n",
       "      <td>103</td>\n",
       "      <td>48</td>\n",
       "      <td>5</td>\n",
       "      <td>1</td>\n",
       "      <td>0</td>\n",
       "    </tr>\n",
       "    <tr>\n",
       "      <th>операции с недвижимостью</th>\n",
       "      <td>476</td>\n",
       "      <td>200</td>\n",
       "      <td>88</td>\n",
       "      <td>13</td>\n",
       "      <td>3</td>\n",
       "      <td>0</td>\n",
       "    </tr>\n",
       "    <tr>\n",
       "      <th>получение образования</th>\n",
       "      <td>229</td>\n",
       "      <td>90</td>\n",
       "      <td>46</td>\n",
       "      <td>4</td>\n",
       "      <td>0</td>\n",
       "      <td>0</td>\n",
       "    </tr>\n",
       "    <tr>\n",
       "      <th>проведение свадьбы</th>\n",
       "      <td>115</td>\n",
       "      <td>51</td>\n",
       "      <td>12</td>\n",
       "      <td>5</td>\n",
       "      <td>0</td>\n",
       "      <td>0</td>\n",
       "    </tr>\n",
       "  </tbody>\n",
       "</table>\n",
       "</div>"
      ],
      "text/plain": [
       "children                    0    1   2   3  4  5\n",
       "purpose_category                                \n",
       "операции с автомобилем    243  103  48   5  1  0\n",
       "операции с недвижимостью  476  200  88  13  3  0\n",
       "получение образования     229   90  46   4  0  0\n",
       "проведение свадьбы        115   51  12   5  0  0"
      ]
     },
     "execution_count": 30,
     "metadata": {},
     "output_type": "execute_result"
    }
   ],
   "source": [
    "data_pivot3 = data.pivot_table(index=['purpose_category'], columns='children', values='debt', aggfunc='sum')\n",
    "data_pivot3"
   ]
  },
  {
   "cell_type": "code",
   "execution_count": 31,
   "id": "18841efe",
   "metadata": {},
   "outputs": [
    {
     "data": {
      "image/png": "[encoded data removed]",
      "text/plain": [
       "<Figure size 432x288 with 2 Axes>"
      ]
     },
     "metadata": {
      "needs_background": "light"
     },
     "output_type": "display_data"
    }
   ],
   "source": [
    "sns.heatmap(data_pivot3, vmin=0, vmax=100,cmap='Blues');\n",
    "#построим тепловую карту для наглядного отображения результатов"
   ]
  },
  {
   "cell_type": "markdown",
   "id": "c88f7480",
   "metadata": {
    "deletable": false,
    "id": "3a6b99ec"
   },
   "source": [
    "**Вывод:** \n",
    "Клиенты у которых 4,2,1 детей чаще  не возврващают кредиты в срок, чем те у кого 3,5 детей или нет детей. При этом клиенты с 5 детьми вообще не имееют задолженностей,но таких клиентов всего 9 в данной выборке. Процент просрочек в категориях с 4 и 2 отличается незначительно.Сделать вывод что клиенты с наибольшим количеством детей самые надежные, а с наименьшим - самые не надежные без учета других показателей нельзя.\n",
    "\n",
    "При анализе сводных таблиц видно, что:\n",
    " - среди должников больше всего женатых/замужних людей без детей(сводная таблица №1).\n",
    " - среди должников больше всего бездетных со средним уровнем дохода. При этом должников со средним уровнем дохода С больше с количеством детей 0,1,2 чем в категориях с другим уровнем дохода. Можно сделать вывод, что доход влияет на погашение кредита в срок больше чем количество детей(сводная таблица№2).\n",
    " - среди должников больше всего бездетных,при чем во всех категориях назначения кредита(сводная таблица №3)."
   ]
  },
  {
   "cell_type": "markdown",
   "id": "10c64eb0",
   "metadata": {
    "deletable": false,
    "editable": false,
    "id": "97be82ca"
   },
   "source": [
    "#### 3.2 Есть ли зависимость между семейным положением и возвратом кредита в срок?"
   ]
  },
  {
   "cell_type": "markdown",
   "id": "0ba5e4be",
   "metadata": {},
   "source": [
    "Сгруппируем данные по категориям семейного положения.\n",
    "\n",
    "Столбец sum - cумма значений по столбцу debt отражает суммарное количество фактов просрочки\n",
    "по кредиту в каждой категории, так как 1 - есть просрочка, 0 - нет просрочки.\n",
    "Столбец count - количество клиентов в данной категории.  \n",
    "Столбец ratio - отношение количества фактов просрочки по кредиту к общему количеству клиентов в данной категории.\n",
    "Данный столбец необходим, так как в количество клиентов в категориях сильно различается."
   ]
  },
  {
   "cell_type": "code",
   "execution_count": 32,
   "id": "b6060cb1",
   "metadata": {
    "deletable": false,
    "id": "dc3f7ee8"
   },
   "outputs": [],
   "source": [
    "data_family_grouped=data.groupby('family_status').agg({'debt':['sum','count']})\n",
    "data_family_grouped['ratio']=data_family_grouped['debt']['sum']/data_family_grouped['debt']['count']\n",
    "data_family_grouped['ratio'] *= 100 # умножим на 100 для наглядности"
   ]
  },
  {
   "cell_type": "markdown",
   "id": "2bd5e44c",
   "metadata": {},
   "source": [
    "Отсортируем данные по убыванию столбца ratio."
   ]
  },
  {
   "cell_type": "code",
   "execution_count": 33,
   "id": "4095b044",
   "metadata": {
    "scrolled": true
   },
   "outputs": [
    {
     "data": {
      "text/html": [
       "<div>\n",
       "<style scoped>\n",
       "    .dataframe tbody tr th:only-of-type {\n",
       "        vertical-align: middle;\n",
       "    }\n",
       "\n",
       "    .dataframe tbody tr th {\n",
       "        vertical-align: top;\n",
       "    }\n",
       "\n",
       "    .dataframe thead tr th {\n",
       "        text-align: left;\n",
       "    }\n",
       "\n",
       "    .dataframe thead tr:last-of-type th {\n",
       "        text-align: right;\n",
       "    }\n",
       "</style>\n",
       "<table border=\"1\" class=\"dataframe\">\n",
       "  <thead>\n",
       "    <tr>\n",
       "      <th></th>\n",
       "      <th colspan=\"2\" halign=\"left\">debt</th>\n",
       "      <th>ratio</th>\n",
       "    </tr>\n",
       "    <tr>\n",
       "      <th></th>\n",
       "      <th>sum</th>\n",
       "      <th>count</th>\n",
       "      <th></th>\n",
       "    </tr>\n",
       "    <tr>\n",
       "      <th>family_status</th>\n",
       "      <th></th>\n",
       "      <th></th>\n",
       "      <th></th>\n",
       "    </tr>\n",
       "  </thead>\n",
       "  <tbody>\n",
       "    <tr>\n",
       "      <th>Не женат / не замужем</th>\n",
       "      <td>273</td>\n",
       "      <td>2796</td>\n",
       "      <td>9.763948</td>\n",
       "    </tr>\n",
       "    <tr>\n",
       "      <th>гражданский брак</th>\n",
       "      <td>385</td>\n",
       "      <td>4134</td>\n",
       "      <td>9.313014</td>\n",
       "    </tr>\n",
       "    <tr>\n",
       "      <th>женат / замужем</th>\n",
       "      <td>927</td>\n",
       "      <td>12261</td>\n",
       "      <td>7.560558</td>\n",
       "    </tr>\n",
       "    <tr>\n",
       "      <th>в разводе</th>\n",
       "      <td>84</td>\n",
       "      <td>1189</td>\n",
       "      <td>7.064760</td>\n",
       "    </tr>\n",
       "    <tr>\n",
       "      <th>вдовец / вдова</th>\n",
       "      <td>63</td>\n",
       "      <td>951</td>\n",
       "      <td>6.624606</td>\n",
       "    </tr>\n",
       "  </tbody>\n",
       "</table>\n",
       "</div>"
      ],
      "text/plain": [
       "                      debt            ratio\n",
       "                       sum  count          \n",
       "family_status                              \n",
       "Не женат / не замужем  273   2796  9.763948\n",
       "гражданский брак       385   4134  9.313014\n",
       "женат / замужем        927  12261  7.560558\n",
       "в разводе               84   1189  7.064760\n",
       "вдовец / вдова          63    951  6.624606"
      ]
     },
     "execution_count": 33,
     "metadata": {},
     "output_type": "execute_result"
    }
   ],
   "source": [
    "data_family_sorted = data_family_grouped.sort_values(by='ratio',ascending=False)\n",
    "data_family_sorted "
   ]
  },
  {
   "cell_type": "markdown",
   "id": "bfde5592",
   "metadata": {},
   "source": [
    "Построим сводную таблицу№4 для клиентов, имеющих задолженность и посмотрим их семейный статус и цель кредита. "
   ]
  },
  {
   "cell_type": "code",
   "execution_count": 34,
   "id": "b1167451",
   "metadata": {
    "scrolled": true
   },
   "outputs": [
    {
     "data": {
      "text/html": [
       "<div>\n",
       "<style scoped>\n",
       "    .dataframe tbody tr th:only-of-type {\n",
       "        vertical-align: middle;\n",
       "    }\n",
       "\n",
       "    .dataframe tbody tr th {\n",
       "        vertical-align: top;\n",
       "    }\n",
       "\n",
       "    .dataframe thead th {\n",
       "        text-align: right;\n",
       "    }\n",
       "</style>\n",
       "<table border=\"1\" class=\"dataframe\">\n",
       "  <thead>\n",
       "    <tr style=\"text-align: right;\">\n",
       "      <th>family_status</th>\n",
       "      <th>Не женат / не замужем</th>\n",
       "      <th>в разводе</th>\n",
       "      <th>вдовец / вдова</th>\n",
       "      <th>гражданский брак</th>\n",
       "      <th>женат / замужем</th>\n",
       "    </tr>\n",
       "    <tr>\n",
       "      <th>purpose_category</th>\n",
       "      <th></th>\n",
       "      <th></th>\n",
       "      <th></th>\n",
       "      <th></th>\n",
       "      <th></th>\n",
       "    </tr>\n",
       "  </thead>\n",
       "  <tbody>\n",
       "    <tr>\n",
       "      <th>операции с автомобилем</th>\n",
       "      <td>82</td>\n",
       "      <td>21</td>\n",
       "      <td>20</td>\n",
       "      <td>51</td>\n",
       "      <td>226</td>\n",
       "    </tr>\n",
       "    <tr>\n",
       "      <th>операции с недвижимостью</th>\n",
       "      <td>129</td>\n",
       "      <td>46</td>\n",
       "      <td>28</td>\n",
       "      <td>91</td>\n",
       "      <td>486</td>\n",
       "    </tr>\n",
       "    <tr>\n",
       "      <th>получение образования</th>\n",
       "      <td>62</td>\n",
       "      <td>17</td>\n",
       "      <td>15</td>\n",
       "      <td>60</td>\n",
       "      <td>215</td>\n",
       "    </tr>\n",
       "    <tr>\n",
       "      <th>проведение свадьбы</th>\n",
       "      <td>0</td>\n",
       "      <td>0</td>\n",
       "      <td>0</td>\n",
       "      <td>183</td>\n",
       "      <td>0</td>\n",
       "    </tr>\n",
       "  </tbody>\n",
       "</table>\n",
       "</div>"
      ],
      "text/plain": [
       "family_status             Не женат / не замужем  в разводе  вдовец / вдова  \\\n",
       "purpose_category                                                             \n",
       "операции с автомобилем                       82         21              20   \n",
       "операции с недвижимостью                    129         46              28   \n",
       "получение образования                        62         17              15   \n",
       "проведение свадьбы                            0          0               0   \n",
       "\n",
       "family_status             гражданский брак  женат / замужем  \n",
       "purpose_category                                             \n",
       "операции с автомобилем                  51              226  \n",
       "операции с недвижимостью                91              486  \n",
       "получение образования                   60              215  \n",
       "проведение свадьбы                     183                0  "
      ]
     },
     "execution_count": 34,
     "metadata": {},
     "output_type": "execute_result"
    }
   ],
   "source": [
    "data_pivot4 = data.pivot_table(index=['purpose_category'], columns='family_status', values='debt', aggfunc='sum')\n",
    "data_pivot4 = data_pivot4.fillna(0).astype(int)\n",
    "data_pivot4"
   ]
  },
  {
   "cell_type": "code",
   "execution_count": 35,
   "id": "2da5abb1",
   "metadata": {},
   "outputs": [
    {
     "data": {
      "image/png": "[encoded data removed]",
      "text/plain": [
       "<Figure size 432x288 with 2 Axes>"
      ]
     },
     "metadata": {
      "needs_background": "light"
     },
     "output_type": "display_data"
    }
   ],
   "source": [
    "sns.heatmap(data_pivot4, vmin=0, vmax=150,cmap='Blues');\n",
    "#построим тепловую карту для наглядного отображения результатов"
   ]
  },
  {
   "cell_type": "markdown",
   "id": "e6c761c2",
   "metadata": {},
   "source": [
    "Построим сводную таблицу№5 для клиентов, имеющих задолженность и посмотрим их семейный статус и уровень дохода. "
   ]
  },
  {
   "cell_type": "code",
   "execution_count": 36,
   "id": "80f8ec59",
   "metadata": {
    "scrolled": true
   },
   "outputs": [
    {
     "data": {
      "text/html": [
       "<div>\n",
       "<style scoped>\n",
       "    .dataframe tbody tr th:only-of-type {\n",
       "        vertical-align: middle;\n",
       "    }\n",
       "\n",
       "    .dataframe tbody tr th {\n",
       "        vertical-align: top;\n",
       "    }\n",
       "\n",
       "    .dataframe thead th {\n",
       "        text-align: right;\n",
       "    }\n",
       "</style>\n",
       "<table border=\"1\" class=\"dataframe\">\n",
       "  <thead>\n",
       "    <tr style=\"text-align: right;\">\n",
       "      <th>family_status</th>\n",
       "      <th>Не женат / не замужем</th>\n",
       "      <th>в разводе</th>\n",
       "      <th>вдовец / вдова</th>\n",
       "      <th>гражданский брак</th>\n",
       "      <th>женат / замужем</th>\n",
       "    </tr>\n",
       "    <tr>\n",
       "      <th>total_income_category</th>\n",
       "      <th></th>\n",
       "      <th></th>\n",
       "      <th></th>\n",
       "      <th></th>\n",
       "      <th></th>\n",
       "    </tr>\n",
       "  </thead>\n",
       "  <tbody>\n",
       "    <tr>\n",
       "      <th>A</th>\n",
       "      <td>0</td>\n",
       "      <td>0</td>\n",
       "      <td>0</td>\n",
       "      <td>1</td>\n",
       "      <td>1</td>\n",
       "    </tr>\n",
       "    <tr>\n",
       "      <th>B</th>\n",
       "      <td>62</td>\n",
       "      <td>18</td>\n",
       "      <td>9</td>\n",
       "      <td>64</td>\n",
       "      <td>201</td>\n",
       "    </tr>\n",
       "    <tr>\n",
       "      <th>C</th>\n",
       "      <td>209</td>\n",
       "      <td>64</td>\n",
       "      <td>54</td>\n",
       "      <td>315</td>\n",
       "      <td>711</td>\n",
       "    </tr>\n",
       "    <tr>\n",
       "      <th>D</th>\n",
       "      <td>2</td>\n",
       "      <td>2</td>\n",
       "      <td>0</td>\n",
       "      <td>5</td>\n",
       "      <td>12</td>\n",
       "    </tr>\n",
       "    <tr>\n",
       "      <th>E</th>\n",
       "      <td>0</td>\n",
       "      <td>0</td>\n",
       "      <td>0</td>\n",
       "      <td>0</td>\n",
       "      <td>2</td>\n",
       "    </tr>\n",
       "  </tbody>\n",
       "</table>\n",
       "</div>"
      ],
      "text/plain": [
       "family_status          Не женат / не замужем  в разводе  вдовец / вдова  \\\n",
       "total_income_category                                                     \n",
       "A                                          0          0               0   \n",
       "B                                         62         18               9   \n",
       "C                                        209         64              54   \n",
       "D                                          2          2               0   \n",
       "E                                          0          0               0   \n",
       "\n",
       "family_status          гражданский брак  женат / замужем  \n",
       "total_income_category                                     \n",
       "A                                     1                1  \n",
       "B                                    64              201  \n",
       "C                                   315              711  \n",
       "D                                     5               12  \n",
       "E                                     0                2  "
      ]
     },
     "execution_count": 36,
     "metadata": {},
     "output_type": "execute_result"
    }
   ],
   "source": [
    "data_pivot5 = data.pivot_table(index=['total_income_category'], columns='family_status', values='debt', aggfunc='sum')\n",
    "data_pivot5 = data_pivot5.fillna(0).astype(int)\n",
    "data_pivot5"
   ]
  },
  {
   "cell_type": "code",
   "execution_count": 37,
   "id": "216e7350",
   "metadata": {},
   "outputs": [
    {
     "data": {
      "image/png": "[encoded data removed]",
      "text/plain": [
       "<Figure size 432x288 with 2 Axes>"
      ]
     },
     "metadata": {
      "needs_background": "light"
     },
     "output_type": "display_data"
    }
   ],
   "source": [
    "sns.heatmap(data_pivot5, vmin=0, vmax=150,cmap='Blues');\n",
    "#построим тепловую карту для наглядного отображения результатов"
   ]
  },
  {
   "cell_type": "markdown",
   "id": "e258480b",
   "metadata": {
    "deletable": false,
    "id": "1cef7837"
   },
   "source": [
    "**Вывод:** \n",
    "Клиенты с семейным положением \"не женат/не замужем\" и \"гражданский брак\" чаще  не возврващают кредиты в срок, чем клиенты с семейным положением \"женат/замужем\",\"в разводе\", \"вдовец/вдова\".\n",
    "\n",
    "При анализе сводных таблиц видно, что:\n",
    "- среди должников больше всего со статусом \"гражданский брак\" при цели кредита \"свадьба\" и \"женат/замужем\" для всех остальных целей кредита.(сводная таблица №4)\n",
    "- среди должников больше всего со статусом \"женат/замужем\" со средним уровнем дохода С. При этом видно что в в категории среднего дохода С должников с любым семейным статусом больше чем в других категориях дохода(сводная таблица №5)."
   ]
  },
  {
   "cell_type": "markdown",
   "id": "9661a90f",
   "metadata": {
    "deletable": false,
    "editable": false,
    "id": "1e8b2fca"
   },
   "source": [
    "#### 3.3 Есть ли зависимость между уровнем дохода и возвратом кредита в срок?"
   ]
  },
  {
   "cell_type": "markdown",
   "id": "6d8c83c6",
   "metadata": {},
   "source": [
    "Сгруппируем данные по категориям уровня дохода.\n",
    "\n",
    "Столбец sum - cумма значений по столбцу debt отражает суммарное количество фактов просрочки\n",
    "по кредиту в каждой категории, так как 1 - есть просрочка, 0 - нет просрочки.\n",
    "Столбец count - количество клиентов в данной категории.  \n",
    "Столбец ratio - отношение количества фактов просрочки по кредиту к общему количеству клиентов в данной категории.\n",
    "Данный столбец необходим, так как в количество клиентов в категориях сильно различается."
   ]
  },
  {
   "cell_type": "code",
   "execution_count": 38,
   "id": "48e610d9",
   "metadata": {
    "deletable": false,
    "id": "cd7e3720"
   },
   "outputs": [],
   "source": [
    "data_total_income_category_grouped=data.groupby('total_income_category').agg({'debt':['sum','count']})\n",
    "data_total_income_category_grouped['ratio']=data_total_income_category_grouped['debt']['sum'] / \\\n",
    "                                            data_total_income_category_grouped['debt']['count']\n",
    "data_total_income_category_grouped['ratio'] *= 100 #умножим на 100 для наглядности"
   ]
  },
  {
   "cell_type": "markdown",
   "id": "404a6d01",
   "metadata": {},
   "source": [
    "Отсортируем данные по убыванию столбца ratio."
   ]
  },
  {
   "cell_type": "code",
   "execution_count": 39,
   "id": "ce777886",
   "metadata": {
    "scrolled": false
   },
   "outputs": [
    {
     "data": {
      "text/html": [
       "<div>\n",
       "<style scoped>\n",
       "    .dataframe tbody tr th:only-of-type {\n",
       "        vertical-align: middle;\n",
       "    }\n",
       "\n",
       "    .dataframe tbody tr th {\n",
       "        vertical-align: top;\n",
       "    }\n",
       "\n",
       "    .dataframe thead tr th {\n",
       "        text-align: left;\n",
       "    }\n",
       "\n",
       "    .dataframe thead tr:last-of-type th {\n",
       "        text-align: right;\n",
       "    }\n",
       "</style>\n",
       "<table border=\"1\" class=\"dataframe\">\n",
       "  <thead>\n",
       "    <tr>\n",
       "      <th></th>\n",
       "      <th colspan=\"2\" halign=\"left\">debt</th>\n",
       "      <th>ratio</th>\n",
       "    </tr>\n",
       "    <tr>\n",
       "      <th></th>\n",
       "      <th>sum</th>\n",
       "      <th>count</th>\n",
       "      <th></th>\n",
       "    </tr>\n",
       "    <tr>\n",
       "      <th>total_income_category</th>\n",
       "      <th></th>\n",
       "      <th></th>\n",
       "      <th></th>\n",
       "    </tr>\n",
       "  </thead>\n",
       "  <tbody>\n",
       "    <tr>\n",
       "      <th>E</th>\n",
       "      <td>2</td>\n",
       "      <td>22</td>\n",
       "      <td>9.090909</td>\n",
       "    </tr>\n",
       "    <tr>\n",
       "      <th>C</th>\n",
       "      <td>1353</td>\n",
       "      <td>15921</td>\n",
       "      <td>8.498210</td>\n",
       "    </tr>\n",
       "    <tr>\n",
       "      <th>A</th>\n",
       "      <td>2</td>\n",
       "      <td>25</td>\n",
       "      <td>8.000000</td>\n",
       "    </tr>\n",
       "    <tr>\n",
       "      <th>B</th>\n",
       "      <td>354</td>\n",
       "      <td>5014</td>\n",
       "      <td>7.060231</td>\n",
       "    </tr>\n",
       "    <tr>\n",
       "      <th>D</th>\n",
       "      <td>21</td>\n",
       "      <td>349</td>\n",
       "      <td>6.017192</td>\n",
       "    </tr>\n",
       "  </tbody>\n",
       "</table>\n",
       "</div>"
      ],
      "text/plain": [
       "                       debt            ratio\n",
       "                        sum  count          \n",
       "total_income_category                       \n",
       "E                         2     22  9.090909\n",
       "C                      1353  15921  8.498210\n",
       "A                         2     25  8.000000\n",
       "B                       354   5014  7.060231\n",
       "D                        21    349  6.017192"
      ]
     },
     "execution_count": 39,
     "metadata": {},
     "output_type": "execute_result"
    }
   ],
   "source": [
    "data_total_income_category_sorted = data_total_income_category_grouped.sort_values(by='ratio',ascending=False)\n",
    "data_total_income_category_sorted"
   ]
  },
  {
   "cell_type": "markdown",
   "id": "0478a15d",
   "metadata": {},
   "source": [
    "Построим сводную таблицу№6 для клиентов, имеющих задолженность и посмотрим их уровень дохода и цель кредита. "
   ]
  },
  {
   "cell_type": "code",
   "execution_count": 40,
   "id": "a6d11eec",
   "metadata": {},
   "outputs": [
    {
     "data": {
      "text/html": [
       "<div>\n",
       "<style scoped>\n",
       "    .dataframe tbody tr th:only-of-type {\n",
       "        vertical-align: middle;\n",
       "    }\n",
       "\n",
       "    .dataframe tbody tr th {\n",
       "        vertical-align: top;\n",
       "    }\n",
       "\n",
       "    .dataframe thead th {\n",
       "        text-align: right;\n",
       "    }\n",
       "</style>\n",
       "<table border=\"1\" class=\"dataframe\">\n",
       "  <thead>\n",
       "    <tr style=\"text-align: right;\">\n",
       "      <th>purpose_category</th>\n",
       "      <th>операции с автомобилем</th>\n",
       "      <th>операции с недвижимостью</th>\n",
       "      <th>получение образования</th>\n",
       "      <th>проведение свадьбы</th>\n",
       "    </tr>\n",
       "    <tr>\n",
       "      <th>total_income_category</th>\n",
       "      <th></th>\n",
       "      <th></th>\n",
       "      <th></th>\n",
       "      <th></th>\n",
       "    </tr>\n",
       "  </thead>\n",
       "  <tbody>\n",
       "    <tr>\n",
       "      <th>A</th>\n",
       "      <td>0</td>\n",
       "      <td>1</td>\n",
       "      <td>1</td>\n",
       "      <td>0</td>\n",
       "    </tr>\n",
       "    <tr>\n",
       "      <th>B</th>\n",
       "      <td>85</td>\n",
       "      <td>172</td>\n",
       "      <td>69</td>\n",
       "      <td>28</td>\n",
       "    </tr>\n",
       "    <tr>\n",
       "      <th>C</th>\n",
       "      <td>305</td>\n",
       "      <td>599</td>\n",
       "      <td>297</td>\n",
       "      <td>152</td>\n",
       "    </tr>\n",
       "    <tr>\n",
       "      <th>D</th>\n",
       "      <td>10</td>\n",
       "      <td>6</td>\n",
       "      <td>2</td>\n",
       "      <td>3</td>\n",
       "    </tr>\n",
       "    <tr>\n",
       "      <th>E</th>\n",
       "      <td>0</td>\n",
       "      <td>2</td>\n",
       "      <td>0</td>\n",
       "      <td>0</td>\n",
       "    </tr>\n",
       "  </tbody>\n",
       "</table>\n",
       "</div>"
      ],
      "text/plain": [
       "purpose_category       операции с автомобилем  операции с недвижимостью  \\\n",
       "total_income_category                                                     \n",
       "A                                           0                         1   \n",
       "B                                          85                       172   \n",
       "C                                         305                       599   \n",
       "D                                          10                         6   \n",
       "E                                           0                         2   \n",
       "\n",
       "purpose_category       получение образования  проведение свадьбы  \n",
       "total_income_category                                             \n",
       "A                                          1                   0  \n",
       "B                                         69                  28  \n",
       "C                                        297                 152  \n",
       "D                                          2                   3  \n",
       "E                                          0                   0  "
      ]
     },
     "execution_count": 40,
     "metadata": {},
     "output_type": "execute_result"
    }
   ],
   "source": [
    "data_pivot6 = data.pivot_table(index=['total_income_category'], columns='purpose_category', values='debt', aggfunc='sum')\n",
    "data_pivot6"
   ]
  },
  {
   "cell_type": "code",
   "execution_count": 41,
   "id": "331fbed1",
   "metadata": {},
   "outputs": [
    {
     "data": {
      "image/png": "[encoded data removed]",
      "text/plain": [
       "<Figure size 432x288 with 2 Axes>"
      ]
     },
     "metadata": {
      "needs_background": "light"
     },
     "output_type": "display_data"
    }
   ],
   "source": [
    "sns.heatmap(data_pivot6, vmin=0, vmax=200,cmap='Blues');\n",
    "#построим тепловую карту для наглядного отображения результатов"
   ]
  },
  {
   "cell_type": "markdown",
   "id": "a5296c90",
   "metadata": {
    "deletable": false,
    "id": "e8593def"
   },
   "source": [
    "**Вывод:** \n",
    "Клиенты с наименьшим доходом, категория Е чаще других не возвращают кредит во время, однако таких клиентов всего 22 в данной выборке. Вто время как клиентов категории С существенно больше, а они находятся на втором месте по частоте просрочек. С - средний класс, средний уровень дохода.\n",
    "Категории с самым большим и с самым маленьким доходом (А и Е) самые малочисленные.\n",
    "\n",
    "При анализе сводных таблиц видно, что:\n",
    "- среди должников больше всего с уровнем дохода С при любых целях кредита.\n"
   ]
  },
  {
   "cell_type": "markdown",
   "id": "fbb59dd5",
   "metadata": {
    "deletable": false,
    "editable": false,
    "id": "99ecbd1f"
   },
   "source": [
    "#### 3.4 Как разные цели кредита влияют на его возврат в срок?"
   ]
  },
  {
   "cell_type": "markdown",
   "id": "47de6c5b",
   "metadata": {},
   "source": [
    "Сгруппируем данные по категориям уровня дохода.\n",
    "\n",
    "Столбец sum - cумма значений по столбцу debt отражает суммарное количество фактов просрочки\n",
    "по кредиту в каждой категории, так как 1 - есть просрочка, 0 - нет просрочки.\n",
    "Столбец count - количество клиентов в данной категории.  \n",
    "Столбец ratio - отношение количества фактов просрочки по кредиту к общему количеству клиентов в данной категории.\n",
    "Данный столбец необходим, так как в количество клиентов в категориях сильно различается."
   ]
  },
  {
   "cell_type": "code",
   "execution_count": 42,
   "id": "207b90b3",
   "metadata": {
    "deletable": false,
    "id": "2b687290"
   },
   "outputs": [],
   "source": [
    "data_purpose_category_grouped=data.groupby('purpose_category').agg({'debt':['sum','count']})\n",
    "data_purpose_category_grouped['ratio'] = data_purpose_category_grouped['debt']['sum'] / \\\n",
    "                                         data_purpose_category_grouped['debt']['count']\n",
    "data_purpose_category_grouped['ratio'] *= 100 # умножим на 100 для наглядности"
   ]
  },
  {
   "cell_type": "markdown",
   "id": "685e11c2",
   "metadata": {},
   "source": [
    "Отсортируем данные по убыванию столбца ratio."
   ]
  },
  {
   "cell_type": "code",
   "execution_count": 43,
   "id": "c9fec3f3",
   "metadata": {},
   "outputs": [
    {
     "data": {
      "text/html": [
       "<div>\n",
       "<style scoped>\n",
       "    .dataframe tbody tr th:only-of-type {\n",
       "        vertical-align: middle;\n",
       "    }\n",
       "\n",
       "    .dataframe tbody tr th {\n",
       "        vertical-align: top;\n",
       "    }\n",
       "\n",
       "    .dataframe thead tr th {\n",
       "        text-align: left;\n",
       "    }\n",
       "\n",
       "    .dataframe thead tr:last-of-type th {\n",
       "        text-align: right;\n",
       "    }\n",
       "</style>\n",
       "<table border=\"1\" class=\"dataframe\">\n",
       "  <thead>\n",
       "    <tr>\n",
       "      <th></th>\n",
       "      <th colspan=\"2\" halign=\"left\">debt</th>\n",
       "      <th>ratio</th>\n",
       "    </tr>\n",
       "    <tr>\n",
       "      <th></th>\n",
       "      <th>sum</th>\n",
       "      <th>count</th>\n",
       "      <th></th>\n",
       "    </tr>\n",
       "    <tr>\n",
       "      <th>purpose_category</th>\n",
       "      <th></th>\n",
       "      <th></th>\n",
       "      <th></th>\n",
       "    </tr>\n",
       "  </thead>\n",
       "  <tbody>\n",
       "    <tr>\n",
       "      <th>операции с автомобилем</th>\n",
       "      <td>400</td>\n",
       "      <td>4279</td>\n",
       "      <td>9.347978</td>\n",
       "    </tr>\n",
       "    <tr>\n",
       "      <th>получение образования</th>\n",
       "      <td>369</td>\n",
       "      <td>3988</td>\n",
       "      <td>9.252758</td>\n",
       "    </tr>\n",
       "    <tr>\n",
       "      <th>проведение свадьбы</th>\n",
       "      <td>183</td>\n",
       "      <td>2313</td>\n",
       "      <td>7.911803</td>\n",
       "    </tr>\n",
       "    <tr>\n",
       "      <th>операции с недвижимостью</th>\n",
       "      <td>780</td>\n",
       "      <td>10751</td>\n",
       "      <td>7.255139</td>\n",
       "    </tr>\n",
       "  </tbody>\n",
       "</table>\n",
       "</div>"
      ],
      "text/plain": [
       "                         debt            ratio\n",
       "                          sum  count          \n",
       "purpose_category                              \n",
       "операции с автомобилем    400   4279  9.347978\n",
       "получение образования     369   3988  9.252758\n",
       "проведение свадьбы        183   2313  7.911803\n",
       "операции с недвижимостью  780  10751  7.255139"
      ]
     },
     "execution_count": 43,
     "metadata": {},
     "output_type": "execute_result"
    }
   ],
   "source": [
    "data_purpose_category_sorted = data_purpose_category_grouped.sort_values(by='ratio',ascending=False)\n",
    "data_purpose_category_sorted"
   ]
  },
  {
   "cell_type": "markdown",
   "id": "9ea97f36",
   "metadata": {
    "deletable": false,
    "id": "b4bb2ce6"
   },
   "source": [
    "**Вывод:** \n",
    "Чаще всего кредит берут на операции с недвижимостью, однако просрочек по ним меньше всего."
   ]
  },
  {
   "cell_type": "markdown",
   "id": "27d2cf0c",
   "metadata": {
    "deletable": false,
    "editable": false,
    "id": "09c3ac4c"
   },
   "source": [
    "#### 3.5 Приведите возможные причины появления пропусков в исходных данных."
   ]
  },
  {
   "cell_type": "markdown",
   "id": "c3f3ab35",
   "metadata": {
    "deletable": false,
    "id": "9da2ceda"
   },
   "source": [
    "*Ответ:* \n",
    "Данные были пропущенны в столбцах total_income и days_employed, при этом количество пропусков в столбцах одинаковое.  Когда есть пропуск в данных о трудовом стаже, то есть пропуск и в данных об уровне дохода. Вероятно клиентом не были предоставлены все необходимые документы из пакета документов для оформления кредита (копии трудовой, справка о доходах, СНИЛС и др.)"
   ]
  },
  {
   "cell_type": "markdown",
   "id": "112fc163",
   "metadata": {
    "deletable": false,
    "editable": false,
    "id": "7b0487d6"
   },
   "source": [
    "#### 3.6 Объясните, почему заполнить пропуски медианным значением — лучшее решение для количественных переменных."
   ]
  },
  {
   "cell_type": "markdown",
   "id": "bc062320",
   "metadata": {
    "deletable": false,
    "id": "7ecf2b8e"
   },
   "source": [
    "*Ответ:* Медианное значение более обьективно в условиях большого разброса значений. В столбце о доходах клиентов максимальное и минимальное значения отличаются больше чем в 10 раз, при этом  в данных нет плавного роста от минимума до максимума, а есть выбросы в обе стороны. Аналогичная ситуация с данными о трудовом стаже."
   ]
  },
  {
   "cell_type": "code",
   "execution_count": 44,
   "id": "aedf5b4d",
   "metadata": {},
   "outputs": [
    {
     "data": {
      "text/plain": [
       "2265604"
      ]
     },
     "execution_count": 44,
     "metadata": {},
     "output_type": "execute_result"
    }
   ],
   "source": [
    "data['total_income'].max() # максимальное значение ежемесячного дохода "
   ]
  },
  {
   "cell_type": "code",
   "execution_count": 45,
   "id": "af12f4ff",
   "metadata": {},
   "outputs": [
    {
     "data": {
      "text/plain": [
       "20667"
      ]
     },
     "execution_count": 45,
     "metadata": {},
     "output_type": "execute_result"
    }
   ],
   "source": [
    "data['total_income'].min() # минимальное значение ежемесячного дохода "
   ]
  },
  {
   "cell_type": "code",
   "execution_count": 46,
   "id": "50a44f61",
   "metadata": {},
   "outputs": [
    {
     "data": {
      "text/plain": [
       "401755.40047533"
      ]
     },
     "execution_count": 46,
     "metadata": {},
     "output_type": "execute_result"
    }
   ],
   "source": [
    "data['days_employed'].max() # максимальное значение трудового стажа "
   ]
  },
  {
   "cell_type": "code",
   "execution_count": 47,
   "id": "41f20a51",
   "metadata": {},
   "outputs": [
    {
     "data": {
      "text/plain": [
       "24.14163324048118"
      ]
     },
     "execution_count": 47,
     "metadata": {},
     "output_type": "execute_result"
    }
   ],
   "source": [
    "data['days_employed'].min() # минимальное значение трудового стажа  "
   ]
  },
  {
   "cell_type": "markdown",
   "id": "b756d07d",
   "metadata": {
    "deletable": false,
    "editable": false,
    "id": "6db5255a"
   },
   "source": [
    "### Шаг 4: общий вывод."
   ]
  },
  {
   "cell_type": "markdown",
   "id": "d750a8de",
   "metadata": {
    "deletable": false,
    "id": "bad65432"
   },
   "source": [
    "**Поставленная задача - понять, влияет ли семейное положение и количество детей клиента на факт погашения кредита в срок.** Входные данные— статистика о платёжеспособности клиентов.\n",
    "\n",
    "**Была проведена предварительная обработка данных:**\n",
    "- обработаны аномальные значения(0 и -20 для столбца \"дети\"(children));\n",
    "- удалены явные дубликаты (71 строка);\n",
    "- пропуски в столбцах \"доходы\"(total_income) и \"трудовой стаж\"(days_employed) заменены на медианное значение для каждой категории плательщиков по типу занятости, всего 2174 пропуск в каждом столбце;\n",
    "- по уровню дохода клиенты разбиты на следующие категории;\n",
    "    - 0–30000 — 'E';\n",
    "    - 30001–50000 — 'D';\n",
    "    - 50001–200000 — 'C';\n",
    "    - 200001–1000000 — 'B';\n",
    "    - 1000001 и выше — 'A'.\n",
    "\n",
    "**При проведении исследования поставлены следующие гипотезы:**\n",
    "1. количество детей влияет на факт погашения кредита в срок\n",
    "2. семейное положение влияет на факт погашения кредита в срок\n",
    "3. уровень дохода влияет на факт погашения кредита в срок\n",
    "4. цель кредита влияет на факт погашения кредита в срок\n",
    "\n",
    "**Гипотеза №1 - количество детей влияет на факт погашения кредита в срок.**\n",
    "Клиенты с детьми чаще имеют задолженности, чем клиенты без детей. Так доля должников среди клиентов без детей - 7,5%,с одним ребенком - 9,2%, c двумя - 9,5%, с тремя - 8,2% , с четыремя - 9,8%. Клиенты с 5 детьми задолженности не имеют.  Сделать однозначный вывод о влиянии количества детей на факт просрочки нельзя, тк данные неоднородные - в выборке всего 9 клиентов с пятью детьми и 41 клиент с 4 детьми.\n",
    "\n",
    "Возможно,что клиенты с 4 и 5 детьми реже берут кредиты или таких семей вцелом меньше, чем с 1,2,3 детьми. Вероятно, клиентам с детьми сложнее выполнять финансовые обязательства, наличие детей часто влечет за собой незапланированные расходы.\n",
    "\n",
    "Однако это не единственный фактор влияющий на наличие просрочки. Далее, при анализе сводных таблиц в п.3.1. видно, что уровень дохода и цель кредита влияют на факт неуплаты больше чем количество детей. \n",
    "\n",
    "\n",
    "**Гипотеза №2 - семейное положение влияет на факт погашения кредита в срок.**  \n",
    "Cемейное положение оказывает влияние на погашение кредита в срок. Самый высокий процент должников среди клиентов со статусом \"не женат/не замужем\"(9,8%) и \"гражданский брак\"(9,3%). Те клиенты кто состоит или состоял в браке реже имеют задолженности: \"женат/замужем\"(7,6%), \"в разводе\"(7,1%), \"вдовец/вдова\" (6,6%). Так же женатые/замужние люди это самая большая категория клиентов.\n",
    "\n",
    "Среди должников больше всего со статусом \"гражданский брак\" при цели кредита \"свадьба\" и \"женат/замужем\" для всех остальных целей кредита.  \n",
    "  \n",
    "Стоит отметить, что в категории среднего дохода С должников с любым семейным статусом больше чем в других категориях дохода. Вероятно, уровень дохода влияет на просрочки сильнее чем семейный статус. \n",
    "     \n",
    "\n",
    "**Гипотеза №3 - уровень дохода влияет на факт погашения кредита в срок.** \n",
    "Клиенты с наименьшим доходом, категория Е чаще других не возвращают кредит во время, однако таких клиентов всего 22 в данной выборке(9,1%). На втором месте находятся клиенты со средним уровнем дохода С (8,5%), так же это самая многочисленная категория клиентов. В данных по доходам были пропуски,что могло оказать влияние на итоговые результаты анализа. Так же, при анализе видно, что должников больше всего со средним уровнем дохода С при любых целях кредита. \n",
    "\n",
    "\n",
    "**Гипотеза №4 - цель кредита влияет на факт погашения кредита в срок.** \n",
    "Самый большой процент долженности у кредитов,взятых для приобретения автомобиля - 9,3% и получения образования - 9,3%,а наименьшией у ипотечных кредитов - 7,3%. Можно сделать вывод,что цель кредита влияет на  вероятность вернуть кредит вовремя.\n",
    "    \n",
    "\n",
    "**Рекомендации**\n",
    "При построении модели кредитного скоринга учитывать влиение семейного положения и цели кредита. Провести дополнительное исследование на более однородных данных, установить причину пропусков данных по доходу клиентов. \n",
    "  "
   ]
  }
 ],
 "metadata": {
  "ExecuteTimeLog": [
   {
    "duration": 445,
    "start_time": "2022-11-03T19:27:51.131Z"
   },
   {
    "duration": 19,
    "start_time": "2022-11-03T19:27:51.578Z"
   },
   {
    "duration": 13,
    "start_time": "2022-11-03T19:27:51.598Z"
   },
   {
    "duration": 8,
    "start_time": "2022-11-03T19:27:51.612Z"
   },
   {
    "duration": 28,
    "start_time": "2022-11-03T19:27:51.621Z"
   },
   {
    "duration": 3,
    "start_time": "2022-11-03T19:27:51.651Z"
   },
   {
    "duration": 7,
    "start_time": "2022-11-03T19:27:51.677Z"
   },
   {
    "duration": 5,
    "start_time": "2022-11-03T19:27:51.685Z"
   },
   {
    "duration": 8,
    "start_time": "2022-11-03T19:27:51.691Z"
   },
   {
    "duration": 4,
    "start_time": "2022-11-03T19:27:51.701Z"
   },
   {
    "duration": 33,
    "start_time": "2022-11-03T19:27:51.706Z"
   },
   {
    "duration": 8,
    "start_time": "2022-11-03T19:27:51.740Z"
   },
   {
    "duration": 29,
    "start_time": "2022-11-03T19:27:51.749Z"
   },
   {
    "duration": 10,
    "start_time": "2022-11-03T19:27:51.779Z"
   },
   {
    "duration": 17,
    "start_time": "2022-11-03T19:27:51.790Z"
   },
   {
    "duration": 15,
    "start_time": "2022-11-03T19:27:51.808Z"
   },
   {
    "duration": 3,
    "start_time": "2022-11-03T19:27:51.824Z"
   },
   {
    "duration": 30,
    "start_time": "2022-11-03T19:27:51.828Z"
   },
   {
    "duration": 6,
    "start_time": "2022-11-03T19:27:51.859Z"
   },
   {
    "duration": 13,
    "start_time": "2022-11-03T19:27:51.866Z"
   },
   {
    "duration": 12,
    "start_time": "2022-11-03T19:27:51.881Z"
   },
   {
    "duration": 5,
    "start_time": "2022-11-03T19:27:51.894Z"
   },
   {
    "duration": 3,
    "start_time": "2022-11-03T19:27:51.901Z"
   },
   {
    "duration": 5,
    "start_time": "2022-11-03T19:27:51.906Z"
   },
   {
    "duration": 4,
    "start_time": "2022-11-03T19:27:51.912Z"
   },
   {
    "duration": 5,
    "start_time": "2022-11-03T19:32:54.344Z"
   },
   {
    "duration": 57,
    "start_time": "2022-11-03T20:07:38.773Z"
   },
   {
    "duration": 29,
    "start_time": "2022-11-03T20:08:40.128Z"
   },
   {
    "duration": 23,
    "start_time": "2022-11-03T20:09:21.004Z"
   },
   {
    "duration": 6,
    "start_time": "2022-11-03T20:09:40.182Z"
   },
   {
    "duration": 63,
    "start_time": "2022-11-03T20:09:59.602Z"
   },
   {
    "duration": 13,
    "start_time": "2022-11-03T20:09:59.667Z"
   },
   {
    "duration": 23,
    "start_time": "2022-11-03T20:09:59.681Z"
   },
   {
    "duration": 8,
    "start_time": "2022-11-03T20:09:59.706Z"
   },
   {
    "duration": 6,
    "start_time": "2022-11-03T20:09:59.715Z"
   },
   {
    "duration": 29,
    "start_time": "2022-11-03T20:09:59.722Z"
   },
   {
    "duration": 3,
    "start_time": "2022-11-03T20:09:59.752Z"
   },
   {
    "duration": 26,
    "start_time": "2022-11-03T20:09:59.756Z"
   },
   {
    "duration": 3,
    "start_time": "2022-11-03T20:09:59.784Z"
   },
   {
    "duration": 6,
    "start_time": "2022-11-03T20:09:59.789Z"
   },
   {
    "duration": 5,
    "start_time": "2022-11-03T20:09:59.796Z"
   },
   {
    "duration": 37,
    "start_time": "2022-11-03T20:09:59.802Z"
   },
   {
    "duration": 10,
    "start_time": "2022-11-03T20:09:59.840Z"
   },
   {
    "duration": 27,
    "start_time": "2022-11-03T20:09:59.851Z"
   },
   {
    "duration": 9,
    "start_time": "2022-11-03T20:09:59.880Z"
   },
   {
    "duration": 20,
    "start_time": "2022-11-03T20:09:59.891Z"
   },
   {
    "duration": 15,
    "start_time": "2022-11-03T20:09:59.912Z"
   },
   {
    "duration": 3,
    "start_time": "2022-11-03T20:09:59.929Z"
   },
   {
    "duration": 10,
    "start_time": "2022-11-03T20:09:59.934Z"
   },
   {
    "duration": 5,
    "start_time": "2022-11-03T20:09:59.945Z"
   },
   {
    "duration": 27,
    "start_time": "2022-11-03T20:09:59.951Z"
   },
   {
    "duration": 19,
    "start_time": "2022-11-03T20:09:59.979Z"
   },
   {
    "duration": 7,
    "start_time": "2022-11-03T20:10:03.643Z"
   },
   {
    "duration": 19,
    "start_time": "2022-11-03T20:10:47.003Z"
   },
   {
    "duration": 68,
    "start_time": "2022-11-03T20:11:13.900Z"
   },
   {
    "duration": 6,
    "start_time": "2022-11-03T20:11:20.481Z"
   },
   {
    "duration": 9,
    "start_time": "2022-11-03T20:11:27.163Z"
   },
   {
    "duration": 6,
    "start_time": "2022-11-03T20:11:33.926Z"
   },
   {
    "duration": 5,
    "start_time": "2022-11-03T20:12:05.949Z"
   },
   {
    "duration": 4,
    "start_time": "2022-11-03T20:12:09.686Z"
   },
   {
    "duration": 7,
    "start_time": "2022-11-03T20:12:17.469Z"
   },
   {
    "duration": 18,
    "start_time": "2022-11-03T20:12:40.729Z"
   },
   {
    "duration": 6,
    "start_time": "2022-11-03T20:13:32.967Z"
   },
   {
    "duration": 5,
    "start_time": "2022-11-03T20:13:42.558Z"
   },
   {
    "duration": 5,
    "start_time": "2022-11-03T20:13:45.007Z"
   },
   {
    "duration": 6,
    "start_time": "2022-11-03T20:13:47.390Z"
   },
   {
    "duration": 5,
    "start_time": "2022-11-03T20:15:56.776Z"
   },
   {
    "duration": 6,
    "start_time": "2022-11-03T20:16:02.919Z"
   },
   {
    "duration": 8,
    "start_time": "2022-11-03T20:19:15.439Z"
   },
   {
    "duration": 8,
    "start_time": "2022-11-03T20:19:17.999Z"
   },
   {
    "duration": 68,
    "start_time": "2022-11-03T20:22:09.140Z"
   },
   {
    "duration": 105,
    "start_time": "2022-11-03T20:24:18.901Z"
   },
   {
    "duration": 72,
    "start_time": "2022-11-03T20:24:26.396Z"
   },
   {
    "duration": 5,
    "start_time": "2022-11-03T20:24:31.026Z"
   },
   {
    "duration": 8,
    "start_time": "2022-11-03T20:24:43.018Z"
   },
   {
    "duration": 8,
    "start_time": "2022-11-03T20:25:13.426Z"
   },
   {
    "duration": 7,
    "start_time": "2022-11-03T20:25:17.299Z"
   },
   {
    "duration": 65,
    "start_time": "2022-11-03T20:25:24.516Z"
   },
   {
    "duration": 65,
    "start_time": "2022-11-03T20:25:27.058Z"
   },
   {
    "duration": 8,
    "start_time": "2022-11-03T20:25:33.633Z"
   },
   {
    "duration": 12,
    "start_time": "2022-11-03T20:25:48.031Z"
   },
   {
    "duration": 8,
    "start_time": "2022-11-03T20:25:56.420Z"
   },
   {
    "duration": 25,
    "start_time": "2022-11-03T20:26:08.445Z"
   },
   {
    "duration": 6,
    "start_time": "2022-11-03T20:26:39.204Z"
   },
   {
    "duration": 6,
    "start_time": "2022-11-03T20:26:55.140Z"
   },
   {
    "duration": 9,
    "start_time": "2022-11-03T20:27:07.527Z"
   },
   {
    "duration": 6,
    "start_time": "2022-11-03T20:27:18.178Z"
   },
   {
    "duration": 33,
    "start_time": "2022-11-03T20:32:12.208Z"
   },
   {
    "duration": 48,
    "start_time": "2022-11-03T20:32:47.638Z"
   },
   {
    "duration": 8,
    "start_time": "2022-11-03T20:34:19.087Z"
   },
   {
    "duration": 33,
    "start_time": "2022-11-03T20:36:41.302Z"
   },
   {
    "duration": 15,
    "start_time": "2022-11-03T20:37:11.272Z"
   },
   {
    "duration": 13,
    "start_time": "2022-11-03T20:39:12.298Z"
   },
   {
    "duration": 10,
    "start_time": "2022-11-03T20:45:34.377Z"
   },
   {
    "duration": 6,
    "start_time": "2022-11-03T20:47:45.548Z"
   },
   {
    "duration": 23,
    "start_time": "2022-11-03T20:49:13.149Z"
   },
   {
    "duration": 4,
    "start_time": "2022-11-03T20:50:06.184Z"
   },
   {
    "duration": 8,
    "start_time": "2022-11-03T20:50:22.007Z"
   },
   {
    "duration": 7,
    "start_time": "2022-11-03T20:50:38.700Z"
   },
   {
    "duration": 4,
    "start_time": "2022-11-03T20:59:13.289Z"
   },
   {
    "duration": 20,
    "start_time": "2022-11-03T20:59:47.228Z"
   },
   {
    "duration": 13,
    "start_time": "2022-11-03T21:00:12.577Z"
   },
   {
    "duration": 35,
    "start_time": "2022-11-03T21:03:07.712Z"
   },
   {
    "duration": 41,
    "start_time": "2022-11-03T21:04:04.920Z"
   },
   {
    "duration": 14,
    "start_time": "2022-11-03T21:05:25.632Z"
   },
   {
    "duration": 13,
    "start_time": "2022-11-03T21:06:03.332Z"
   },
   {
    "duration": 43,
    "start_time": "2022-11-03T21:06:15.336Z"
   },
   {
    "duration": 1221,
    "start_time": "2022-11-03T21:06:26.345Z"
   },
   {
    "duration": 22,
    "start_time": "2022-11-03T21:06:40.559Z"
   },
   {
    "duration": 5,
    "start_time": "2022-11-03T21:08:06.318Z"
   },
   {
    "duration": 8,
    "start_time": "2022-11-03T21:08:11.944Z"
   },
   {
    "duration": 7,
    "start_time": "2022-11-03T21:08:32.038Z"
   },
   {
    "duration": 40,
    "start_time": "2022-11-03T21:09:13.695Z"
   },
   {
    "duration": 23,
    "start_time": "2022-11-03T21:09:33.576Z"
   },
   {
    "duration": 690,
    "start_time": "2022-11-06T13:04:41.890Z"
   },
   {
    "duration": 21,
    "start_time": "2022-11-06T13:04:42.582Z"
   },
   {
    "duration": 15,
    "start_time": "2022-11-06T13:04:42.605Z"
   },
   {
    "duration": 10,
    "start_time": "2022-11-06T13:04:42.622Z"
   },
   {
    "duration": 7,
    "start_time": "2022-11-06T13:04:42.634Z"
   },
   {
    "duration": 33,
    "start_time": "2022-11-06T13:04:42.643Z"
   },
   {
    "duration": 3,
    "start_time": "2022-11-06T13:04:42.678Z"
   },
   {
    "duration": 9,
    "start_time": "2022-11-06T13:04:42.682Z"
   },
   {
    "duration": 4,
    "start_time": "2022-11-06T13:04:42.693Z"
   },
   {
    "duration": 7,
    "start_time": "2022-11-06T13:04:42.700Z"
   },
   {
    "duration": 30,
    "start_time": "2022-11-06T13:04:42.709Z"
   },
   {
    "duration": 33,
    "start_time": "2022-11-06T13:04:42.741Z"
   },
   {
    "duration": 9,
    "start_time": "2022-11-06T13:04:42.776Z"
   },
   {
    "duration": 4,
    "start_time": "2022-11-06T13:04:42.787Z"
   },
   {
    "duration": 13,
    "start_time": "2022-11-06T13:04:42.792Z"
   },
   {
    "duration": 45,
    "start_time": "2022-11-06T13:04:42.806Z"
   },
   {
    "duration": 16,
    "start_time": "2022-11-06T13:04:42.852Z"
   },
   {
    "duration": 3,
    "start_time": "2022-11-06T13:04:42.870Z"
   },
   {
    "duration": 13,
    "start_time": "2022-11-06T13:04:42.874Z"
   },
   {
    "duration": 8,
    "start_time": "2022-11-06T13:04:42.889Z"
   },
   {
    "duration": 4,
    "start_time": "2022-11-06T13:04:42.899Z"
   },
   {
    "duration": 34,
    "start_time": "2022-11-06T13:04:42.904Z"
   },
   {
    "duration": 11,
    "start_time": "2022-11-06T13:04:42.940Z"
   },
   {
    "duration": 10,
    "start_time": "2022-11-06T13:04:42.953Z"
   },
   {
    "duration": 24,
    "start_time": "2022-11-06T13:04:42.964Z"
   },
   {
    "duration": 994,
    "start_time": "2022-11-06T13:04:42.990Z"
   },
   {
    "duration": 392,
    "start_time": "2022-11-06T13:04:43.986Z"
   },
   {
    "duration": 22,
    "start_time": "2022-11-06T13:04:44.381Z"
   },
   {
    "duration": 300,
    "start_time": "2022-11-06T13:04:44.405Z"
   },
   {
    "duration": 32,
    "start_time": "2022-11-06T13:04:44.707Z"
   },
   {
    "duration": 298,
    "start_time": "2022-11-06T13:04:44.741Z"
   },
   {
    "duration": 13,
    "start_time": "2022-11-06T13:04:45.040Z"
   },
   {
    "duration": 11,
    "start_time": "2022-11-06T13:04:45.054Z"
   },
   {
    "duration": 23,
    "start_time": "2022-11-06T13:04:45.066Z"
   },
   {
    "duration": 359,
    "start_time": "2022-11-06T13:04:45.090Z"
   },
   {
    "duration": 20,
    "start_time": "2022-11-06T13:04:45.451Z"
   },
   {
    "duration": 293,
    "start_time": "2022-11-06T13:04:45.473Z"
   },
   {
    "duration": 13,
    "start_time": "2022-11-06T13:04:45.768Z"
   },
   {
    "duration": 10,
    "start_time": "2022-11-06T13:04:45.783Z"
   },
   {
    "duration": 21,
    "start_time": "2022-11-06T13:04:45.794Z"
   },
   {
    "duration": 329,
    "start_time": "2022-11-06T13:04:45.816Z"
   },
   {
    "duration": 15,
    "start_time": "2022-11-06T13:04:46.147Z"
   },
   {
    "duration": 11,
    "start_time": "2022-11-06T13:04:46.164Z"
   },
   {
    "duration": 5,
    "start_time": "2022-11-06T13:04:46.177Z"
   },
   {
    "duration": 5,
    "start_time": "2022-11-06T13:04:46.184Z"
   },
   {
    "duration": 5,
    "start_time": "2022-11-06T13:04:46.190Z"
   },
   {
    "duration": 5,
    "start_time": "2022-11-06T13:04:46.197Z"
   }
  ],
  "colab": {
   "name": "dpp_template_part2.ipynb",
   "provenance": []
  },
  "kernelspec": {
   "display_name": "Python 3 (ipykernel)",
   "language": "python",
   "name": "python3"
  },
  "language_info": {
   "codemirror_mode": {
    "name": "ipython",
    "version": 3
   },
   "file_extension": ".py",
   "mimetype": "text/x-python",
   "name": "python",
   "nbconvert_exporter": "python",
   "pygments_lexer": "ipython3",
   "version": "3.9.5"
  },
  "toc": {
   "base_numbering": 1,
   "nav_menu": {},
   "number_sections": true,
   "sideBar": true,
   "skip_h1_title": true,
   "title_cell": "Table of Contents",
   "title_sidebar": "Contents",
   "toc_cell": false,
   "toc_position": {},
   "toc_section_display": true,
   "toc_window_display": true
  }
 },
 "nbformat": 4,
 "nbformat_minor": 5
}

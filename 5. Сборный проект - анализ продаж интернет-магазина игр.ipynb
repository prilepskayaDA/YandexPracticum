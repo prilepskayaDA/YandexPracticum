{
 "cells": [
  {
   "cell_type": "markdown",
   "id": "cf25724c",
   "metadata": {},
   "source": [
    "**Задача:** выявить закономерности, определяющие успешность  компьютерной игры для дальнейшего планирования рекламных кампаний и закупок продукта для интернет-магазина компьютерных игр \"Стримчик\".\n",
    "\n",
    "**Имеющийся датасет:** исторические данные до 2016 года включительно из открытых источников о продажах игр, оценки пользователей и экспертов, жанры и платформы\n",
    "\n",
    "**План проекта:**\n",
    "- Подготовка данных\n",
    "- Исследовательский анализ данных\n",
    "- Составление портрета пользователя для каждого региона\n",
    "- Проверка гипотез\n",
    "- Подведение итогов и выводы"
   ]
  },
  {
   "cell_type": "markdown",
   "id": "42327cf0",
   "metadata": {
    "toc": true
   },
   "source": [
    "<h1>Table of Contents<span class=\"tocSkip\"></span></h1>\n",
    "<div class=\"toc\"><ul class=\"toc-item\"><li><span><a href=\"#Общее-и-план-проекта\" data-toc-modified-id=\"Общее-и-план-проекта-1\"><span class=\"toc-item-num\">1&nbsp;&nbsp;</span>Общее и план проекта</a></span></li><li><span><a href=\"#Предобработка-данных\" data-toc-modified-id=\"Предобработка-данных-2\"><span class=\"toc-item-num\">2&nbsp;&nbsp;</span>Предобработка данных</a></span><ul class=\"toc-item\"><li><span><a href=\"#name\" data-toc-modified-id=\"name-2.1\"><span class=\"toc-item-num\">2.1&nbsp;&nbsp;</span>name</a></span></li><li><span><a href=\"#platform\" data-toc-modified-id=\"platform-2.2\"><span class=\"toc-item-num\">2.2&nbsp;&nbsp;</span>platform</a></span></li><li><span><a href=\"#year-of-release\" data-toc-modified-id=\"year-of-release-2.3\"><span class=\"toc-item-num\">2.3&nbsp;&nbsp;</span>year of release</a></span></li><li><span><a href=\"#genre\" data-toc-modified-id=\"genre-2.4\"><span class=\"toc-item-num\">2.4&nbsp;&nbsp;</span>genre</a></span></li><li><span><a href=\"#critic_score\" data-toc-modified-id=\"critic_score-2.5\"><span class=\"toc-item-num\">2.5&nbsp;&nbsp;</span>critic_score</a></span></li><li><span><a href=\"#user_score\" data-toc-modified-id=\"user_score-2.6\"><span class=\"toc-item-num\">2.6&nbsp;&nbsp;</span>user_score</a></span></li><li><span><a href=\"#Rating\" data-toc-modified-id=\"Rating-2.7\"><span class=\"toc-item-num\">2.7&nbsp;&nbsp;</span>Rating</a></span></li></ul></li><li><span><a href=\"#Исследовательский-анализ-данных\" data-toc-modified-id=\"Исследовательский-анализ-данных-3\"><span class=\"toc-item-num\">3&nbsp;&nbsp;</span>Исследовательский анализ данных</a></span></li><li><span><a href=\"#Портрет-пользователя\" data-toc-modified-id=\"Портрет-пользователя-4\"><span class=\"toc-item-num\">4&nbsp;&nbsp;</span>Портрет пользователя</a></span></li><li><span><a href=\"#Проверка-гипотез\" data-toc-modified-id=\"Проверка-гипотез-5\"><span class=\"toc-item-num\">5&nbsp;&nbsp;</span>Проверка гипотез</a></span><ul class=\"toc-item\"><li><span><a href=\"#Гипотеза-Средние-пользовательские-рейтинги-платформ-Xbox-One-и-PC-одинаковые;\" data-toc-modified-id=\"Гипотеза-Средние-пользовательские-рейтинги-платформ-Xbox-One-и-PC-одинаковые;-5.1\"><span class=\"toc-item-num\">5.1&nbsp;&nbsp;</span>Гипотеза Средние пользовательские рейтинги платформ Xbox One и PC одинаковые;</a></span></li><li><span><a href=\"#Гипотеза-Средние-пользовательские-рейтинги-жанров-Action-(англ.-«действие»,-экшен-игры)-и-Sports-(англ.-«спортивные-соревнования»)-разные.\" data-toc-modified-id=\"Гипотеза-Средние-пользовательские-рейтинги-жанров-Action-(англ.-«действие»,-экшен-игры)-и-Sports-(англ.-«спортивные-соревнования»)-разные.-5.2\"><span class=\"toc-item-num\">5.2&nbsp;&nbsp;</span>Гипотеза Средние пользовательские рейтинги жанров Action (англ. «действие», экшен-игры) и Sports (англ. «спортивные соревнования») разные.</a></span></li></ul></li><li><span><a href=\"#Общий-вывод\" data-toc-modified-id=\"Общий-вывод-6\"><span class=\"toc-item-num\">6&nbsp;&nbsp;</span>Общий вывод</a></span></li></ul></div>"
   ]
  },
  {
   "cell_type": "markdown",
   "id": "0c9481a8",
   "metadata": {},
   "source": [
    "## Общее и план проекта"
   ]
  },
  {
   "cell_type": "code",
   "execution_count": 1,
   "id": "b79d217c",
   "metadata": {},
   "outputs": [],
   "source": [
    "import pandas as pd\n",
    "import seaborn as sns\n",
    "import matplotlib.pyplot as plt\n",
    "from scipy import stats as st"
   ]
  },
  {
   "cell_type": "code",
   "execution_count": 2,
   "id": "492bfae0",
   "metadata": {},
   "outputs": [],
   "source": [
    "df = pd.read_csv('https://code.s3.yandex.net/datasets/games.csv')"
   ]
  },
  {
   "cell_type": "code",
   "execution_count": 3,
   "id": "3e19db7a",
   "metadata": {},
   "outputs": [
    {
     "data": {
      "text/html": [
       "<div>\n",
       "<style scoped>\n",
       "    .dataframe tbody tr th:only-of-type {\n",
       "        vertical-align: middle;\n",
       "    }\n",
       "\n",
       "    .dataframe tbody tr th {\n",
       "        vertical-align: top;\n",
       "    }\n",
       "\n",
       "    .dataframe thead th {\n",
       "        text-align: right;\n",
       "    }\n",
       "</style>\n",
       "<table border=\"1\" class=\"dataframe\">\n",
       "  <thead>\n",
       "    <tr style=\"text-align: right;\">\n",
       "      <th></th>\n",
       "      <th>Name</th>\n",
       "      <th>Platform</th>\n",
       "      <th>Year_of_Release</th>\n",
       "      <th>Genre</th>\n",
       "      <th>NA_sales</th>\n",
       "      <th>EU_sales</th>\n",
       "      <th>JP_sales</th>\n",
       "      <th>Other_sales</th>\n",
       "      <th>Critic_Score</th>\n",
       "      <th>User_Score</th>\n",
       "      <th>Rating</th>\n",
       "    </tr>\n",
       "  </thead>\n",
       "  <tbody>\n",
       "    <tr>\n",
       "      <th>0</th>\n",
       "      <td>Wii Sports</td>\n",
       "      <td>Wii</td>\n",
       "      <td>2006.0</td>\n",
       "      <td>Sports</td>\n",
       "      <td>41.36</td>\n",
       "      <td>28.96</td>\n",
       "      <td>3.77</td>\n",
       "      <td>8.45</td>\n",
       "      <td>76.0</td>\n",
       "      <td>8</td>\n",
       "      <td>E</td>\n",
       "    </tr>\n",
       "    <tr>\n",
       "      <th>1</th>\n",
       "      <td>Super Mario Bros.</td>\n",
       "      <td>NES</td>\n",
       "      <td>1985.0</td>\n",
       "      <td>Platform</td>\n",
       "      <td>29.08</td>\n",
       "      <td>3.58</td>\n",
       "      <td>6.81</td>\n",
       "      <td>0.77</td>\n",
       "      <td>NaN</td>\n",
       "      <td>NaN</td>\n",
       "      <td>NaN</td>\n",
       "    </tr>\n",
       "    <tr>\n",
       "      <th>2</th>\n",
       "      <td>Mario Kart Wii</td>\n",
       "      <td>Wii</td>\n",
       "      <td>2008.0</td>\n",
       "      <td>Racing</td>\n",
       "      <td>15.68</td>\n",
       "      <td>12.76</td>\n",
       "      <td>3.79</td>\n",
       "      <td>3.29</td>\n",
       "      <td>82.0</td>\n",
       "      <td>8.3</td>\n",
       "      <td>E</td>\n",
       "    </tr>\n",
       "    <tr>\n",
       "      <th>3</th>\n",
       "      <td>Wii Sports Resort</td>\n",
       "      <td>Wii</td>\n",
       "      <td>2009.0</td>\n",
       "      <td>Sports</td>\n",
       "      <td>15.61</td>\n",
       "      <td>10.93</td>\n",
       "      <td>3.28</td>\n",
       "      <td>2.95</td>\n",
       "      <td>80.0</td>\n",
       "      <td>8</td>\n",
       "      <td>E</td>\n",
       "    </tr>\n",
       "    <tr>\n",
       "      <th>4</th>\n",
       "      <td>Pokemon Red/Pokemon Blue</td>\n",
       "      <td>GB</td>\n",
       "      <td>1996.0</td>\n",
       "      <td>Role-Playing</td>\n",
       "      <td>11.27</td>\n",
       "      <td>8.89</td>\n",
       "      <td>10.22</td>\n",
       "      <td>1.00</td>\n",
       "      <td>NaN</td>\n",
       "      <td>NaN</td>\n",
       "      <td>NaN</td>\n",
       "    </tr>\n",
       "  </tbody>\n",
       "</table>\n",
       "</div>"
      ],
      "text/plain": [
       "                       Name Platform  Year_of_Release         Genre  NA_sales  \\\n",
       "0                Wii Sports      Wii           2006.0        Sports     41.36   \n",
       "1         Super Mario Bros.      NES           1985.0      Platform     29.08   \n",
       "2            Mario Kart Wii      Wii           2008.0        Racing     15.68   \n",
       "3         Wii Sports Resort      Wii           2009.0        Sports     15.61   \n",
       "4  Pokemon Red/Pokemon Blue       GB           1996.0  Role-Playing     11.27   \n",
       "\n",
       "   EU_sales  JP_sales  Other_sales  Critic_Score User_Score Rating  \n",
       "0     28.96      3.77         8.45          76.0          8      E  \n",
       "1      3.58      6.81         0.77           NaN        NaN    NaN  \n",
       "2     12.76      3.79         3.29          82.0        8.3      E  \n",
       "3     10.93      3.28         2.95          80.0          8      E  \n",
       "4      8.89     10.22         1.00           NaN        NaN    NaN  "
      ]
     },
     "execution_count": 3,
     "metadata": {},
     "output_type": "execute_result"
    }
   ],
   "source": [
    "#посмотрим на имеющиеся данные\n",
    "df.head()"
   ]
  },
  {
   "cell_type": "code",
   "execution_count": 4,
   "id": "fd6a888b",
   "metadata": {},
   "outputs": [
    {
     "name": "stdout",
     "output_type": "stream",
     "text": [
      "<class 'pandas.core.frame.DataFrame'>\n",
      "RangeIndex: 16715 entries, 0 to 16714\n",
      "Data columns (total 11 columns):\n",
      " #   Column           Non-Null Count  Dtype  \n",
      "---  ------           --------------  -----  \n",
      " 0   Name             16713 non-null  object \n",
      " 1   Platform         16715 non-null  object \n",
      " 2   Year_of_Release  16446 non-null  float64\n",
      " 3   Genre            16713 non-null  object \n",
      " 4   NA_sales         16715 non-null  float64\n",
      " 5   EU_sales         16715 non-null  float64\n",
      " 6   JP_sales         16715 non-null  float64\n",
      " 7   Other_sales      16715 non-null  float64\n",
      " 8   Critic_Score     8137 non-null   float64\n",
      " 9   User_Score       10014 non-null  object \n",
      " 10  Rating           9949 non-null   object \n",
      "dtypes: float64(6), object(5)\n",
      "memory usage: 1.4+ MB\n"
     ]
    }
   ],
   "source": [
    "#посмотрим на имеющиеся данные\n",
    "df.info()"
   ]
  },
  {
   "cell_type": "markdown",
   "id": "0b0abc75",
   "metadata": {},
   "source": [
    "## Предобработка данных"
   ]
  },
  {
   "cell_type": "code",
   "execution_count": 5,
   "id": "a4cafccb",
   "metadata": {},
   "outputs": [],
   "source": [
    "#приведем название колонок к нижнему регистру\n",
    "df.columns = df.columns.str.lower()"
   ]
  },
  {
   "cell_type": "code",
   "execution_count": 6,
   "id": "1262403a",
   "metadata": {},
   "outputs": [
    {
     "data": {
      "text/plain": [
       "0"
      ]
     },
     "execution_count": 6,
     "metadata": {},
     "output_type": "execute_result"
    }
   ],
   "source": [
    "#проверим количество явных дубликатов\n",
    "(df.duplicated().sum()) "
   ]
  },
  {
   "cell_type": "markdown",
   "id": "be31c912",
   "metadata": {},
   "source": [
    "### name"
   ]
  },
  {
   "cell_type": "code",
   "execution_count": 7,
   "id": "64025490",
   "metadata": {
    "scrolled": true
   },
   "outputs": [
    {
     "data": {
      "text/plain": [
       "Need for Speed: Most Wanted                   12\n",
       "Ratatouille                                    9\n",
       "Madden NFL 07                                  9\n",
       "LEGO Marvel Super Heroes                       9\n",
       "FIFA 14                                        9\n",
       "                                              ..\n",
       "Shadow Tower                                   1\n",
       "S.L.A.I.: Steel Lancer Arena International     1\n",
       "Ninokuni: Shikkoku no Madoushi                 1\n",
       "Babysitting Mama                               1\n",
       "Hamtaro: Ham-Hams Unite!                       1\n",
       "Name: name, Length: 11559, dtype: int64"
      ]
     },
     "execution_count": 7,
     "metadata": {},
     "output_type": "execute_result"
    }
   ],
   "source": [
    "#посмотрим названия игр\n",
    "df['name'].value_counts()"
   ]
  },
  {
   "cell_type": "markdown",
   "id": "a149dc11",
   "metadata": {},
   "source": [
    "Видим, что значения повторяются. Проверим на примере одной игры дубли это или нет"
   ]
  },
  {
   "cell_type": "code",
   "execution_count": 8,
   "id": "ac227729",
   "metadata": {},
   "outputs": [
    {
     "data": {
      "text/html": [
       "<div>\n",
       "<style scoped>\n",
       "    .dataframe tbody tr th:only-of-type {\n",
       "        vertical-align: middle;\n",
       "    }\n",
       "\n",
       "    .dataframe tbody tr th {\n",
       "        vertical-align: top;\n",
       "    }\n",
       "\n",
       "    .dataframe thead th {\n",
       "        text-align: right;\n",
       "    }\n",
       "</style>\n",
       "<table border=\"1\" class=\"dataframe\">\n",
       "  <thead>\n",
       "    <tr style=\"text-align: right;\">\n",
       "      <th></th>\n",
       "      <th>name</th>\n",
       "      <th>platform</th>\n",
       "      <th>year_of_release</th>\n",
       "      <th>genre</th>\n",
       "      <th>na_sales</th>\n",
       "      <th>eu_sales</th>\n",
       "      <th>jp_sales</th>\n",
       "      <th>other_sales</th>\n",
       "      <th>critic_score</th>\n",
       "      <th>user_score</th>\n",
       "      <th>rating</th>\n",
       "    </tr>\n",
       "  </thead>\n",
       "  <tbody>\n",
       "    <tr>\n",
       "      <th>253</th>\n",
       "      <td>Need for Speed: Most Wanted</td>\n",
       "      <td>PS2</td>\n",
       "      <td>2005.0</td>\n",
       "      <td>Racing</td>\n",
       "      <td>2.03</td>\n",
       "      <td>1.79</td>\n",
       "      <td>0.08</td>\n",
       "      <td>0.47</td>\n",
       "      <td>82.0</td>\n",
       "      <td>9.1</td>\n",
       "      <td>T</td>\n",
       "    </tr>\n",
       "    <tr>\n",
       "      <th>523</th>\n",
       "      <td>Need for Speed: Most Wanted</td>\n",
       "      <td>PS3</td>\n",
       "      <td>2012.0</td>\n",
       "      <td>Racing</td>\n",
       "      <td>0.71</td>\n",
       "      <td>1.46</td>\n",
       "      <td>0.06</td>\n",
       "      <td>0.58</td>\n",
       "      <td>NaN</td>\n",
       "      <td>NaN</td>\n",
       "      <td>NaN</td>\n",
       "    </tr>\n",
       "    <tr>\n",
       "      <th>1190</th>\n",
       "      <td>Need for Speed: Most Wanted</td>\n",
       "      <td>X360</td>\n",
       "      <td>2012.0</td>\n",
       "      <td>Racing</td>\n",
       "      <td>0.62</td>\n",
       "      <td>0.78</td>\n",
       "      <td>0.01</td>\n",
       "      <td>0.15</td>\n",
       "      <td>83.0</td>\n",
       "      <td>8.5</td>\n",
       "      <td>T</td>\n",
       "    </tr>\n",
       "    <tr>\n",
       "      <th>1591</th>\n",
       "      <td>Need for Speed: Most Wanted</td>\n",
       "      <td>X360</td>\n",
       "      <td>2005.0</td>\n",
       "      <td>Racing</td>\n",
       "      <td>1.00</td>\n",
       "      <td>0.13</td>\n",
       "      <td>0.02</td>\n",
       "      <td>0.10</td>\n",
       "      <td>83.0</td>\n",
       "      <td>8.5</td>\n",
       "      <td>T</td>\n",
       "    </tr>\n",
       "    <tr>\n",
       "      <th>1998</th>\n",
       "      <td>Need for Speed: Most Wanted</td>\n",
       "      <td>XB</td>\n",
       "      <td>2005.0</td>\n",
       "      <td>Racing</td>\n",
       "      <td>0.53</td>\n",
       "      <td>0.46</td>\n",
       "      <td>0.00</td>\n",
       "      <td>0.05</td>\n",
       "      <td>83.0</td>\n",
       "      <td>8.8</td>\n",
       "      <td>T</td>\n",
       "    </tr>\n",
       "    <tr>\n",
       "      <th>2048</th>\n",
       "      <td>Need for Speed: Most Wanted</td>\n",
       "      <td>PSV</td>\n",
       "      <td>2012.0</td>\n",
       "      <td>Racing</td>\n",
       "      <td>0.33</td>\n",
       "      <td>0.45</td>\n",
       "      <td>0.01</td>\n",
       "      <td>0.22</td>\n",
       "      <td>NaN</td>\n",
       "      <td>NaN</td>\n",
       "      <td>NaN</td>\n",
       "    </tr>\n",
       "    <tr>\n",
       "      <th>3581</th>\n",
       "      <td>Need for Speed: Most Wanted</td>\n",
       "      <td>GC</td>\n",
       "      <td>2005.0</td>\n",
       "      <td>Racing</td>\n",
       "      <td>0.43</td>\n",
       "      <td>0.11</td>\n",
       "      <td>0.00</td>\n",
       "      <td>0.02</td>\n",
       "      <td>80.0</td>\n",
       "      <td>9.1</td>\n",
       "      <td>T</td>\n",
       "    </tr>\n",
       "    <tr>\n",
       "      <th>5972</th>\n",
       "      <td>Need for Speed: Most Wanted</td>\n",
       "      <td>PC</td>\n",
       "      <td>2005.0</td>\n",
       "      <td>Racing</td>\n",
       "      <td>0.02</td>\n",
       "      <td>0.23</td>\n",
       "      <td>0.00</td>\n",
       "      <td>0.04</td>\n",
       "      <td>82.0</td>\n",
       "      <td>8.5</td>\n",
       "      <td>T</td>\n",
       "    </tr>\n",
       "    <tr>\n",
       "      <th>6273</th>\n",
       "      <td>Need for Speed: Most Wanted</td>\n",
       "      <td>WiiU</td>\n",
       "      <td>2013.0</td>\n",
       "      <td>Racing</td>\n",
       "      <td>0.13</td>\n",
       "      <td>0.12</td>\n",
       "      <td>0.00</td>\n",
       "      <td>0.02</td>\n",
       "      <td>NaN</td>\n",
       "      <td>NaN</td>\n",
       "      <td>NaN</td>\n",
       "    </tr>\n",
       "    <tr>\n",
       "      <th>6410</th>\n",
       "      <td>Need for Speed: Most Wanted</td>\n",
       "      <td>DS</td>\n",
       "      <td>2005.0</td>\n",
       "      <td>Racing</td>\n",
       "      <td>0.24</td>\n",
       "      <td>0.01</td>\n",
       "      <td>0.00</td>\n",
       "      <td>0.02</td>\n",
       "      <td>45.0</td>\n",
       "      <td>6.1</td>\n",
       "      <td>E</td>\n",
       "    </tr>\n",
       "    <tr>\n",
       "      <th>6473</th>\n",
       "      <td>Need for Speed: Most Wanted</td>\n",
       "      <td>GBA</td>\n",
       "      <td>2005.0</td>\n",
       "      <td>Racing</td>\n",
       "      <td>0.19</td>\n",
       "      <td>0.07</td>\n",
       "      <td>0.00</td>\n",
       "      <td>0.00</td>\n",
       "      <td>NaN</td>\n",
       "      <td>8.3</td>\n",
       "      <td>E</td>\n",
       "    </tr>\n",
       "    <tr>\n",
       "      <th>11715</th>\n",
       "      <td>Need for Speed: Most Wanted</td>\n",
       "      <td>PC</td>\n",
       "      <td>2012.0</td>\n",
       "      <td>Racing</td>\n",
       "      <td>0.00</td>\n",
       "      <td>0.06</td>\n",
       "      <td>0.00</td>\n",
       "      <td>0.02</td>\n",
       "      <td>82.0</td>\n",
       "      <td>8.5</td>\n",
       "      <td>T</td>\n",
       "    </tr>\n",
       "  </tbody>\n",
       "</table>\n",
       "</div>"
      ],
      "text/plain": [
       "                              name platform  year_of_release   genre  \\\n",
       "253    Need for Speed: Most Wanted      PS2           2005.0  Racing   \n",
       "523    Need for Speed: Most Wanted      PS3           2012.0  Racing   \n",
       "1190   Need for Speed: Most Wanted     X360           2012.0  Racing   \n",
       "1591   Need for Speed: Most Wanted     X360           2005.0  Racing   \n",
       "1998   Need for Speed: Most Wanted       XB           2005.0  Racing   \n",
       "2048   Need for Speed: Most Wanted      PSV           2012.0  Racing   \n",
       "3581   Need for Speed: Most Wanted       GC           2005.0  Racing   \n",
       "5972   Need for Speed: Most Wanted       PC           2005.0  Racing   \n",
       "6273   Need for Speed: Most Wanted     WiiU           2013.0  Racing   \n",
       "6410   Need for Speed: Most Wanted       DS           2005.0  Racing   \n",
       "6473   Need for Speed: Most Wanted      GBA           2005.0  Racing   \n",
       "11715  Need for Speed: Most Wanted       PC           2012.0  Racing   \n",
       "\n",
       "       na_sales  eu_sales  jp_sales  other_sales  critic_score user_score  \\\n",
       "253        2.03      1.79      0.08         0.47          82.0        9.1   \n",
       "523        0.71      1.46      0.06         0.58           NaN        NaN   \n",
       "1190       0.62      0.78      0.01         0.15          83.0        8.5   \n",
       "1591       1.00      0.13      0.02         0.10          83.0        8.5   \n",
       "1998       0.53      0.46      0.00         0.05          83.0        8.8   \n",
       "2048       0.33      0.45      0.01         0.22           NaN        NaN   \n",
       "3581       0.43      0.11      0.00         0.02          80.0        9.1   \n",
       "5972       0.02      0.23      0.00         0.04          82.0        8.5   \n",
       "6273       0.13      0.12      0.00         0.02           NaN        NaN   \n",
       "6410       0.24      0.01      0.00         0.02          45.0        6.1   \n",
       "6473       0.19      0.07      0.00         0.00           NaN        8.3   \n",
       "11715      0.00      0.06      0.00         0.02          82.0        8.5   \n",
       "\n",
       "      rating  \n",
       "253        T  \n",
       "523      NaN  \n",
       "1190       T  \n",
       "1591       T  \n",
       "1998       T  \n",
       "2048     NaN  \n",
       "3581       T  \n",
       "5972       T  \n",
       "6273     NaN  \n",
       "6410       E  \n",
       "6473       E  \n",
       "11715      T  "
      ]
     },
     "execution_count": 8,
     "metadata": {},
     "output_type": "execute_result"
    }
   ],
   "source": [
    "#срез по игре Need for Speed: Most Wanted\n",
    "df.query('name == \"Need for Speed: Most Wanted\"')"
   ]
  },
  {
   "cell_type": "markdown",
   "id": "0872ead9",
   "metadata": {},
   "source": [
    "<font color='DarkBlue'><b>Комментарий ревьюера</b></font><br>\n",
    "<font color='DarkGreen'>👌 Хороший пример, когда одна и та же игра в один год на разных платформах имеет разные оценки отзывов и разный возрастной рейтинг. Да еще и выходит в разные года под одним названием.</font>"
   ]
  },
  {
   "cell_type": "markdown",
   "id": "85cc872e",
   "metadata": {},
   "source": [
    "Игра выпущена на разных платформах или на одной платформе, но в разных годах, т.е это перевыпуск, а не дубли"
   ]
  },
  {
   "cell_type": "code",
   "execution_count": 9,
   "id": "6d3effbe",
   "metadata": {},
   "outputs": [
    {
     "data": {
      "text/html": [
       "<div>\n",
       "<style scoped>\n",
       "    .dataframe tbody tr th:only-of-type {\n",
       "        vertical-align: middle;\n",
       "    }\n",
       "\n",
       "    .dataframe tbody tr th {\n",
       "        vertical-align: top;\n",
       "    }\n",
       "\n",
       "    .dataframe thead th {\n",
       "        text-align: right;\n",
       "    }\n",
       "</style>\n",
       "<table border=\"1\" class=\"dataframe\">\n",
       "  <thead>\n",
       "    <tr style=\"text-align: right;\">\n",
       "      <th></th>\n",
       "      <th>name</th>\n",
       "      <th>platform</th>\n",
       "      <th>year_of_release</th>\n",
       "      <th>genre</th>\n",
       "      <th>na_sales</th>\n",
       "      <th>eu_sales</th>\n",
       "      <th>jp_sales</th>\n",
       "      <th>other_sales</th>\n",
       "      <th>critic_score</th>\n",
       "      <th>user_score</th>\n",
       "      <th>rating</th>\n",
       "    </tr>\n",
       "  </thead>\n",
       "  <tbody>\n",
       "    <tr>\n",
       "      <th>659</th>\n",
       "      <td>NaN</td>\n",
       "      <td>GEN</td>\n",
       "      <td>1993.0</td>\n",
       "      <td>NaN</td>\n",
       "      <td>1.78</td>\n",
       "      <td>0.53</td>\n",
       "      <td>0.00</td>\n",
       "      <td>0.08</td>\n",
       "      <td>NaN</td>\n",
       "      <td>NaN</td>\n",
       "      <td>NaN</td>\n",
       "    </tr>\n",
       "    <tr>\n",
       "      <th>14244</th>\n",
       "      <td>NaN</td>\n",
       "      <td>GEN</td>\n",
       "      <td>1993.0</td>\n",
       "      <td>NaN</td>\n",
       "      <td>0.00</td>\n",
       "      <td>0.00</td>\n",
       "      <td>0.03</td>\n",
       "      <td>0.00</td>\n",
       "      <td>NaN</td>\n",
       "      <td>NaN</td>\n",
       "      <td>NaN</td>\n",
       "    </tr>\n",
       "  </tbody>\n",
       "</table>\n",
       "</div>"
      ],
      "text/plain": [
       "      name platform  year_of_release genre  na_sales  eu_sales  jp_sales  \\\n",
       "659    NaN      GEN           1993.0   NaN      1.78      0.53      0.00   \n",
       "14244  NaN      GEN           1993.0   NaN      0.00      0.00      0.03   \n",
       "\n",
       "       other_sales  critic_score user_score rating  \n",
       "659           0.08           NaN        NaN    NaN  \n",
       "14244         0.00           NaN        NaN    NaN  "
      ]
     },
     "execution_count": 9,
     "metadata": {},
     "output_type": "execute_result"
    }
   ],
   "source": [
    "#посмотрим на имющиеся пропуски\n",
    "df.query('name.isna()')"
   ]
  },
  {
   "cell_type": "markdown",
   "id": "82560e85",
   "metadata": {},
   "source": [
    "Пропусков всего два, можно смело их удалить,на ислледование это не повлияет"
   ]
  },
  {
   "cell_type": "code",
   "execution_count": 10,
   "id": "1bfe0303",
   "metadata": {},
   "outputs": [],
   "source": [
    "#удалим пропуски\n",
    "df=df.dropna(subset=['name'])"
   ]
  },
  {
   "cell_type": "markdown",
   "id": "dd170ea5",
   "metadata": {},
   "source": [
    "### platform"
   ]
  },
  {
   "cell_type": "code",
   "execution_count": 11,
   "id": "7583fccf",
   "metadata": {
    "scrolled": false
   },
   "outputs": [
    {
     "data": {
      "text/plain": [
       "PS2     2161\n",
       "DS      2151\n",
       "PS3     1331\n",
       "Wii     1320\n",
       "X360    1262\n",
       "PSP     1209\n",
       "PS      1197\n",
       "PC       974\n",
       "XB       824\n",
       "GBA      822\n",
       "GC       556\n",
       "3DS      520\n",
       "PSV      430\n",
       "PS4      392\n",
       "N64      319\n",
       "XOne     247\n",
       "SNES     239\n",
       "SAT      173\n",
       "WiiU     147\n",
       "2600     133\n",
       "GB        98\n",
       "NES       98\n",
       "DC        52\n",
       "GEN       27\n",
       "NG        12\n",
       "WS         6\n",
       "SCD        6\n",
       "3DO        3\n",
       "TG16       2\n",
       "GG         1\n",
       "PCFX       1\n",
       "Name: platform, dtype: int64"
      ]
     },
     "execution_count": 11,
     "metadata": {},
     "output_type": "execute_result"
    }
   ],
   "source": [
    "#посмотрим какие есть платформы\n",
    "df['platform'].value_counts()"
   ]
  },
  {
   "cell_type": "markdown",
   "id": "5f46930b",
   "metadata": {},
   "source": [
    "###  year of release"
   ]
  },
  {
   "cell_type": "code",
   "execution_count": 12,
   "id": "a180551b",
   "metadata": {},
   "outputs": [
    {
     "data": {
      "text/plain": [
       "array([2006., 1985., 2008., 2009., 1996., 1989., 1984., 2005., 1999.,\n",
       "       2007., 2010., 2013., 2004., 1990., 1988., 2002., 2001., 2011.,\n",
       "       1998., 2015., 2012., 2014., 1992., 1997., 1993., 1994., 1982.,\n",
       "       2016., 2003., 1986., 2000.,   nan, 1995., 1991., 1981., 1987.,\n",
       "       1980., 1983.])"
      ]
     },
     "execution_count": 12,
     "metadata": {},
     "output_type": "execute_result"
    }
   ],
   "source": [
    "# посмотрим уникальные значения по году выпуска\n",
    "df['year_of_release'].unique()"
   ]
  },
  {
   "cell_type": "code",
   "execution_count": 13,
   "id": "307a83c8",
   "metadata": {},
   "outputs": [
    {
     "data": {
      "text/plain": [
       "269"
      ]
     },
     "execution_count": 13,
     "metadata": {},
     "output_type": "execute_result"
    }
   ],
   "source": [
    "#количество пропусков\n",
    "df['year_of_release'].isna().sum()"
   ]
  },
  {
   "cell_type": "markdown",
   "id": "23052a70",
   "metadata": {},
   "source": [
    "Пропусков относительно не много, восстановить данные не возможно и заменить без искажения общей картины тоже. Удалим эти строки и изменим тип значений на целочисленный"
   ]
  },
  {
   "cell_type": "code",
   "execution_count": 14,
   "id": "6b7870c9",
   "metadata": {},
   "outputs": [],
   "source": [
    "#удалим пропуски и заменим тип данных year_of_release на int\n",
    "df=df.dropna(subset=['year_of_release'])\n",
    "df['year_of_release'] =df['year_of_release'].astype('int',errors='ignore')"
   ]
  },
  {
   "cell_type": "markdown",
   "id": "134c17c5",
   "metadata": {},
   "source": [
    "### genre "
   ]
  },
  {
   "cell_type": "code",
   "execution_count": 15,
   "id": "5a1008b4",
   "metadata": {},
   "outputs": [
    {
     "data": {
      "text/plain": [
       "0"
      ]
     },
     "execution_count": 15,
     "metadata": {},
     "output_type": "execute_result"
    }
   ],
   "source": [
    "#посмотрим количество пропусков в столбце\n",
    "df['genre'].isna().sum()"
   ]
  },
  {
   "cell_type": "code",
   "execution_count": 16,
   "id": "4439965f",
   "metadata": {
    "scrolled": true
   },
   "outputs": [
    {
     "data": {
      "text/plain": [
       "Action          3307\n",
       "Sports          2306\n",
       "Misc            1721\n",
       "Role-Playing    1481\n",
       "Shooter         1296\n",
       "Adventure       1293\n",
       "Racing          1226\n",
       "Platform         878\n",
       "Simulation       857\n",
       "Fighting         837\n",
       "Strategy         673\n",
       "Puzzle           569\n",
       "Name: genre, dtype: int64"
      ]
     },
     "execution_count": 16,
     "metadata": {},
     "output_type": "execute_result"
    }
   ],
   "source": [
    "df['genre'].value_counts()"
   ]
  },
  {
   "cell_type": "markdown",
   "id": "7cb6787b",
   "metadata": {},
   "source": [
    "### critic_score"
   ]
  },
  {
   "cell_type": "code",
   "execution_count": 17,
   "id": "7545f6cc",
   "metadata": {},
   "outputs": [
    {
     "data": {
      "text/plain": [
       "8461"
      ]
     },
     "execution_count": 17,
     "metadata": {},
     "output_type": "execute_result"
    }
   ],
   "source": [
    "#посмотрим количество пропусков в столбце\n",
    "df['critic_score'].isna().sum()"
   ]
  },
  {
   "cell_type": "markdown",
   "id": "dc7ed992",
   "metadata": {},
   "source": [
    "Пропусков много,удалять их нельзя, заполнить средними или мединными значениями тоже. Большое количество пропусков может быть связано с тем что для игр ранних годов выпуска тогда не сущуствовало сервисов для оценки критиков. Для игр последних лет выпуска вероятно произошла ошибка при выгрузке, либо данных нет для совсем свежих игр."
   ]
  },
  {
   "cell_type": "code",
   "execution_count": 18,
   "id": "eb25cf3a",
   "metadata": {
    "scrolled": true
   },
   "outputs": [
    {
     "data": {
      "text/html": [
       "<div>\n",
       "<style scoped>\n",
       "    .dataframe tbody tr th:only-of-type {\n",
       "        vertical-align: middle;\n",
       "    }\n",
       "\n",
       "    .dataframe tbody tr th {\n",
       "        vertical-align: top;\n",
       "    }\n",
       "\n",
       "    .dataframe thead th {\n",
       "        text-align: right;\n",
       "    }\n",
       "</style>\n",
       "<table border=\"1\" class=\"dataframe\">\n",
       "  <thead>\n",
       "    <tr style=\"text-align: right;\">\n",
       "      <th></th>\n",
       "      <th>name</th>\n",
       "      <th>platform</th>\n",
       "      <th>year_of_release</th>\n",
       "      <th>genre</th>\n",
       "      <th>na_sales</th>\n",
       "      <th>eu_sales</th>\n",
       "      <th>jp_sales</th>\n",
       "      <th>other_sales</th>\n",
       "      <th>critic_score</th>\n",
       "      <th>user_score</th>\n",
       "      <th>rating</th>\n",
       "    </tr>\n",
       "  </thead>\n",
       "  <tbody>\n",
       "    <tr>\n",
       "      <th>1</th>\n",
       "      <td>Super Mario Bros.</td>\n",
       "      <td>NES</td>\n",
       "      <td>1985</td>\n",
       "      <td>Platform</td>\n",
       "      <td>29.08</td>\n",
       "      <td>3.58</td>\n",
       "      <td>6.81</td>\n",
       "      <td>0.77</td>\n",
       "      <td>NaN</td>\n",
       "      <td>NaN</td>\n",
       "      <td>NaN</td>\n",
       "    </tr>\n",
       "    <tr>\n",
       "      <th>4</th>\n",
       "      <td>Pokemon Red/Pokemon Blue</td>\n",
       "      <td>GB</td>\n",
       "      <td>1996</td>\n",
       "      <td>Role-Playing</td>\n",
       "      <td>11.27</td>\n",
       "      <td>8.89</td>\n",
       "      <td>10.22</td>\n",
       "      <td>1.00</td>\n",
       "      <td>NaN</td>\n",
       "      <td>NaN</td>\n",
       "      <td>NaN</td>\n",
       "    </tr>\n",
       "    <tr>\n",
       "      <th>5</th>\n",
       "      <td>Tetris</td>\n",
       "      <td>GB</td>\n",
       "      <td>1989</td>\n",
       "      <td>Puzzle</td>\n",
       "      <td>23.20</td>\n",
       "      <td>2.26</td>\n",
       "      <td>4.22</td>\n",
       "      <td>0.58</td>\n",
       "      <td>NaN</td>\n",
       "      <td>NaN</td>\n",
       "      <td>NaN</td>\n",
       "    </tr>\n",
       "    <tr>\n",
       "      <th>9</th>\n",
       "      <td>Duck Hunt</td>\n",
       "      <td>NES</td>\n",
       "      <td>1984</td>\n",
       "      <td>Shooter</td>\n",
       "      <td>26.93</td>\n",
       "      <td>0.63</td>\n",
       "      <td>0.28</td>\n",
       "      <td>0.47</td>\n",
       "      <td>NaN</td>\n",
       "      <td>NaN</td>\n",
       "      <td>NaN</td>\n",
       "    </tr>\n",
       "    <tr>\n",
       "      <th>10</th>\n",
       "      <td>Nintendogs</td>\n",
       "      <td>DS</td>\n",
       "      <td>2005</td>\n",
       "      <td>Simulation</td>\n",
       "      <td>9.05</td>\n",
       "      <td>10.95</td>\n",
       "      <td>1.93</td>\n",
       "      <td>2.74</td>\n",
       "      <td>NaN</td>\n",
       "      <td>NaN</td>\n",
       "      <td>NaN</td>\n",
       "    </tr>\n",
       "    <tr>\n",
       "      <th>...</th>\n",
       "      <td>...</td>\n",
       "      <td>...</td>\n",
       "      <td>...</td>\n",
       "      <td>...</td>\n",
       "      <td>...</td>\n",
       "      <td>...</td>\n",
       "      <td>...</td>\n",
       "      <td>...</td>\n",
       "      <td>...</td>\n",
       "      <td>...</td>\n",
       "      <td>...</td>\n",
       "    </tr>\n",
       "    <tr>\n",
       "      <th>16710</th>\n",
       "      <td>Samurai Warriors: Sanada Maru</td>\n",
       "      <td>PS3</td>\n",
       "      <td>2016</td>\n",
       "      <td>Action</td>\n",
       "      <td>0.00</td>\n",
       "      <td>0.00</td>\n",
       "      <td>0.01</td>\n",
       "      <td>0.00</td>\n",
       "      <td>NaN</td>\n",
       "      <td>NaN</td>\n",
       "      <td>NaN</td>\n",
       "    </tr>\n",
       "    <tr>\n",
       "      <th>16711</th>\n",
       "      <td>LMA Manager 2007</td>\n",
       "      <td>X360</td>\n",
       "      <td>2006</td>\n",
       "      <td>Sports</td>\n",
       "      <td>0.00</td>\n",
       "      <td>0.01</td>\n",
       "      <td>0.00</td>\n",
       "      <td>0.00</td>\n",
       "      <td>NaN</td>\n",
       "      <td>NaN</td>\n",
       "      <td>NaN</td>\n",
       "    </tr>\n",
       "    <tr>\n",
       "      <th>16712</th>\n",
       "      <td>Haitaka no Psychedelica</td>\n",
       "      <td>PSV</td>\n",
       "      <td>2016</td>\n",
       "      <td>Adventure</td>\n",
       "      <td>0.00</td>\n",
       "      <td>0.00</td>\n",
       "      <td>0.01</td>\n",
       "      <td>0.00</td>\n",
       "      <td>NaN</td>\n",
       "      <td>NaN</td>\n",
       "      <td>NaN</td>\n",
       "    </tr>\n",
       "    <tr>\n",
       "      <th>16713</th>\n",
       "      <td>Spirits &amp; Spells</td>\n",
       "      <td>GBA</td>\n",
       "      <td>2003</td>\n",
       "      <td>Platform</td>\n",
       "      <td>0.01</td>\n",
       "      <td>0.00</td>\n",
       "      <td>0.00</td>\n",
       "      <td>0.00</td>\n",
       "      <td>NaN</td>\n",
       "      <td>NaN</td>\n",
       "      <td>NaN</td>\n",
       "    </tr>\n",
       "    <tr>\n",
       "      <th>16714</th>\n",
       "      <td>Winning Post 8 2016</td>\n",
       "      <td>PSV</td>\n",
       "      <td>2016</td>\n",
       "      <td>Simulation</td>\n",
       "      <td>0.00</td>\n",
       "      <td>0.00</td>\n",
       "      <td>0.01</td>\n",
       "      <td>0.00</td>\n",
       "      <td>NaN</td>\n",
       "      <td>NaN</td>\n",
       "      <td>NaN</td>\n",
       "    </tr>\n",
       "  </tbody>\n",
       "</table>\n",
       "<p>8461 rows × 11 columns</p>\n",
       "</div>"
      ],
      "text/plain": [
       "                                name platform  year_of_release         genre  \\\n",
       "1                  Super Mario Bros.      NES             1985      Platform   \n",
       "4           Pokemon Red/Pokemon Blue       GB             1996  Role-Playing   \n",
       "5                             Tetris       GB             1989        Puzzle   \n",
       "9                          Duck Hunt      NES             1984       Shooter   \n",
       "10                        Nintendogs       DS             2005    Simulation   \n",
       "...                              ...      ...              ...           ...   \n",
       "16710  Samurai Warriors: Sanada Maru      PS3             2016        Action   \n",
       "16711               LMA Manager 2007     X360             2006        Sports   \n",
       "16712        Haitaka no Psychedelica      PSV             2016     Adventure   \n",
       "16713               Spirits & Spells      GBA             2003      Platform   \n",
       "16714            Winning Post 8 2016      PSV             2016    Simulation   \n",
       "\n",
       "       na_sales  eu_sales  jp_sales  other_sales  critic_score user_score  \\\n",
       "1         29.08      3.58      6.81         0.77           NaN        NaN   \n",
       "4         11.27      8.89     10.22         1.00           NaN        NaN   \n",
       "5         23.20      2.26      4.22         0.58           NaN        NaN   \n",
       "9         26.93      0.63      0.28         0.47           NaN        NaN   \n",
       "10         9.05     10.95      1.93         2.74           NaN        NaN   \n",
       "...         ...       ...       ...          ...           ...        ...   \n",
       "16710      0.00      0.00      0.01         0.00           NaN        NaN   \n",
       "16711      0.00      0.01      0.00         0.00           NaN        NaN   \n",
       "16712      0.00      0.00      0.01         0.00           NaN        NaN   \n",
       "16713      0.01      0.00      0.00         0.00           NaN        NaN   \n",
       "16714      0.00      0.00      0.01         0.00           NaN        NaN   \n",
       "\n",
       "      rating  \n",
       "1        NaN  \n",
       "4        NaN  \n",
       "5        NaN  \n",
       "9        NaN  \n",
       "10       NaN  \n",
       "...      ...  \n",
       "16710    NaN  \n",
       "16711    NaN  \n",
       "16712    NaN  \n",
       "16713    NaN  \n",
       "16714    NaN  \n",
       "\n",
       "[8461 rows x 11 columns]"
      ]
     },
     "execution_count": 18,
     "metadata": {},
     "output_type": "execute_result"
    }
   ],
   "source": [
    "#посмотрим, что это за пропуски\n",
    "df.query('critic_score.isna()')"
   ]
  },
  {
   "cell_type": "markdown",
   "id": "6170df04",
   "metadata": {},
   "source": [
    "Пропуски стоят одновременно в столбцах с оценками пользователей, критиков и рейтинге, вероятно это все же технический сбой при выгрузке. Удалять данные строки мы не будем."
   ]
  },
  {
   "cell_type": "markdown",
   "id": "fa369353",
   "metadata": {},
   "source": [
    "### user_score"
   ]
  },
  {
   "cell_type": "code",
   "execution_count": 19,
   "id": "4362f84f",
   "metadata": {
    "scrolled": true
   },
   "outputs": [
    {
     "data": {
      "text/plain": [
       "array(['8', nan, '8.3', '8.5', '6.6', '8.4', '8.6', '7.7', '6.3', '7.4',\n",
       "       '8.2', '9', '7.9', '8.1', '8.7', '7.1', '3.4', '5.3', '4.8', '3.2',\n",
       "       '8.9', '6.4', '7.8', '7.5', '2.6', '7.2', '9.2', '7', '7.3', '4.3',\n",
       "       '7.6', '5.7', '5', '9.1', '6.5', 'tbd', '8.8', '6.9', '9.4', '6.8',\n",
       "       '6.1', '6.7', '5.4', '4', '4.9', '4.5', '9.3', '6.2', '4.2', '6',\n",
       "       '3.7', '4.1', '5.8', '5.6', '5.5', '4.4', '4.6', '5.9', '3.9',\n",
       "       '3.1', '2.9', '5.2', '3.3', '4.7', '5.1', '3.5', '2.5', '1.9', '3',\n",
       "       '2.7', '2.2', '2', '9.5', '2.1', '3.6', '2.8', '1.8', '3.8', '0',\n",
       "       '1.6', '9.6', '2.4', '1.7', '1.1', '0.3', '1.5', '0.7', '1.2',\n",
       "       '2.3', '0.5', '1.3', '0.2', '0.6', '1.4', '0.9', '1', '9.7'],\n",
       "      dtype=object)"
      ]
     },
     "execution_count": 19,
     "metadata": {},
     "output_type": "execute_result"
    }
   ],
   "source": [
    "df['user_score'].unique()"
   ]
  },
  {
   "cell_type": "markdown",
   "id": "27dc30a4",
   "metadata": {},
   "source": [
    "В данных есть значение tbd - to be determined - подлежит уточнению."
   ]
  },
  {
   "cell_type": "code",
   "execution_count": 20,
   "id": "916dbc6e",
   "metadata": {
    "scrolled": false
   },
   "outputs": [
    {
     "data": {
      "text/html": [
       "<div>\n",
       "<style scoped>\n",
       "    .dataframe tbody tr th:only-of-type {\n",
       "        vertical-align: middle;\n",
       "    }\n",
       "\n",
       "    .dataframe tbody tr th {\n",
       "        vertical-align: top;\n",
       "    }\n",
       "\n",
       "    .dataframe thead th {\n",
       "        text-align: right;\n",
       "    }\n",
       "</style>\n",
       "<table border=\"1\" class=\"dataframe\">\n",
       "  <thead>\n",
       "    <tr style=\"text-align: right;\">\n",
       "      <th></th>\n",
       "      <th>name</th>\n",
       "      <th>platform</th>\n",
       "      <th>year_of_release</th>\n",
       "      <th>genre</th>\n",
       "      <th>na_sales</th>\n",
       "      <th>eu_sales</th>\n",
       "      <th>jp_sales</th>\n",
       "      <th>other_sales</th>\n",
       "      <th>critic_score</th>\n",
       "      <th>user_score</th>\n",
       "      <th>rating</th>\n",
       "    </tr>\n",
       "  </thead>\n",
       "  <tbody>\n",
       "    <tr>\n",
       "      <th>119</th>\n",
       "      <td>Zumba Fitness</td>\n",
       "      <td>Wii</td>\n",
       "      <td>2010</td>\n",
       "      <td>Sports</td>\n",
       "      <td>3.45</td>\n",
       "      <td>2.59</td>\n",
       "      <td>0.0</td>\n",
       "      <td>0.66</td>\n",
       "      <td>NaN</td>\n",
       "      <td>tbd</td>\n",
       "      <td>E</td>\n",
       "    </tr>\n",
       "    <tr>\n",
       "      <th>301</th>\n",
       "      <td>Namco Museum: 50th Anniversary</td>\n",
       "      <td>PS2</td>\n",
       "      <td>2005</td>\n",
       "      <td>Misc</td>\n",
       "      <td>2.08</td>\n",
       "      <td>1.35</td>\n",
       "      <td>0.0</td>\n",
       "      <td>0.54</td>\n",
       "      <td>61.0</td>\n",
       "      <td>tbd</td>\n",
       "      <td>E10+</td>\n",
       "    </tr>\n",
       "    <tr>\n",
       "      <th>520</th>\n",
       "      <td>Zumba Fitness 2</td>\n",
       "      <td>Wii</td>\n",
       "      <td>2011</td>\n",
       "      <td>Sports</td>\n",
       "      <td>1.51</td>\n",
       "      <td>1.03</td>\n",
       "      <td>0.0</td>\n",
       "      <td>0.27</td>\n",
       "      <td>NaN</td>\n",
       "      <td>tbd</td>\n",
       "      <td>T</td>\n",
       "    </tr>\n",
       "    <tr>\n",
       "      <th>645</th>\n",
       "      <td>uDraw Studio</td>\n",
       "      <td>Wii</td>\n",
       "      <td>2010</td>\n",
       "      <td>Misc</td>\n",
       "      <td>1.65</td>\n",
       "      <td>0.57</td>\n",
       "      <td>0.0</td>\n",
       "      <td>0.20</td>\n",
       "      <td>71.0</td>\n",
       "      <td>tbd</td>\n",
       "      <td>E</td>\n",
       "    </tr>\n",
       "    <tr>\n",
       "      <th>718</th>\n",
       "      <td>Just Dance Kids</td>\n",
       "      <td>Wii</td>\n",
       "      <td>2010</td>\n",
       "      <td>Misc</td>\n",
       "      <td>1.52</td>\n",
       "      <td>0.54</td>\n",
       "      <td>0.0</td>\n",
       "      <td>0.18</td>\n",
       "      <td>NaN</td>\n",
       "      <td>tbd</td>\n",
       "      <td>E</td>\n",
       "    </tr>\n",
       "    <tr>\n",
       "      <th>...</th>\n",
       "      <td>...</td>\n",
       "      <td>...</td>\n",
       "      <td>...</td>\n",
       "      <td>...</td>\n",
       "      <td>...</td>\n",
       "      <td>...</td>\n",
       "      <td>...</td>\n",
       "      <td>...</td>\n",
       "      <td>...</td>\n",
       "      <td>...</td>\n",
       "      <td>...</td>\n",
       "    </tr>\n",
       "    <tr>\n",
       "      <th>16695</th>\n",
       "      <td>Planet Monsters</td>\n",
       "      <td>GBA</td>\n",
       "      <td>2001</td>\n",
       "      <td>Action</td>\n",
       "      <td>0.01</td>\n",
       "      <td>0.00</td>\n",
       "      <td>0.0</td>\n",
       "      <td>0.00</td>\n",
       "      <td>67.0</td>\n",
       "      <td>tbd</td>\n",
       "      <td>E</td>\n",
       "    </tr>\n",
       "    <tr>\n",
       "      <th>16697</th>\n",
       "      <td>Bust-A-Move 3000</td>\n",
       "      <td>GC</td>\n",
       "      <td>2003</td>\n",
       "      <td>Puzzle</td>\n",
       "      <td>0.01</td>\n",
       "      <td>0.00</td>\n",
       "      <td>0.0</td>\n",
       "      <td>0.00</td>\n",
       "      <td>53.0</td>\n",
       "      <td>tbd</td>\n",
       "      <td>E</td>\n",
       "    </tr>\n",
       "    <tr>\n",
       "      <th>16698</th>\n",
       "      <td>Mega Brain Boost</td>\n",
       "      <td>DS</td>\n",
       "      <td>2008</td>\n",
       "      <td>Puzzle</td>\n",
       "      <td>0.01</td>\n",
       "      <td>0.00</td>\n",
       "      <td>0.0</td>\n",
       "      <td>0.00</td>\n",
       "      <td>48.0</td>\n",
       "      <td>tbd</td>\n",
       "      <td>E</td>\n",
       "    </tr>\n",
       "    <tr>\n",
       "      <th>16704</th>\n",
       "      <td>Plushees</td>\n",
       "      <td>DS</td>\n",
       "      <td>2008</td>\n",
       "      <td>Simulation</td>\n",
       "      <td>0.01</td>\n",
       "      <td>0.00</td>\n",
       "      <td>0.0</td>\n",
       "      <td>0.00</td>\n",
       "      <td>NaN</td>\n",
       "      <td>tbd</td>\n",
       "      <td>E</td>\n",
       "    </tr>\n",
       "    <tr>\n",
       "      <th>16706</th>\n",
       "      <td>Men in Black II: Alien Escape</td>\n",
       "      <td>GC</td>\n",
       "      <td>2003</td>\n",
       "      <td>Shooter</td>\n",
       "      <td>0.01</td>\n",
       "      <td>0.00</td>\n",
       "      <td>0.0</td>\n",
       "      <td>0.00</td>\n",
       "      <td>NaN</td>\n",
       "      <td>tbd</td>\n",
       "      <td>T</td>\n",
       "    </tr>\n",
       "  </tbody>\n",
       "</table>\n",
       "<p>2376 rows × 11 columns</p>\n",
       "</div>"
      ],
      "text/plain": [
       "                                 name platform  year_of_release       genre  \\\n",
       "119                     Zumba Fitness      Wii             2010      Sports   \n",
       "301    Namco Museum: 50th Anniversary      PS2             2005        Misc   \n",
       "520                   Zumba Fitness 2      Wii             2011      Sports   \n",
       "645                      uDraw Studio      Wii             2010        Misc   \n",
       "718                   Just Dance Kids      Wii             2010        Misc   \n",
       "...                               ...      ...              ...         ...   \n",
       "16695                 Planet Monsters      GBA             2001      Action   \n",
       "16697                Bust-A-Move 3000       GC             2003      Puzzle   \n",
       "16698                Mega Brain Boost       DS             2008      Puzzle   \n",
       "16704                        Plushees       DS             2008  Simulation   \n",
       "16706   Men in Black II: Alien Escape       GC             2003     Shooter   \n",
       "\n",
       "       na_sales  eu_sales  jp_sales  other_sales  critic_score user_score  \\\n",
       "119        3.45      2.59       0.0         0.66           NaN        tbd   \n",
       "301        2.08      1.35       0.0         0.54          61.0        tbd   \n",
       "520        1.51      1.03       0.0         0.27           NaN        tbd   \n",
       "645        1.65      0.57       0.0         0.20          71.0        tbd   \n",
       "718        1.52      0.54       0.0         0.18           NaN        tbd   \n",
       "...         ...       ...       ...          ...           ...        ...   \n",
       "16695      0.01      0.00       0.0         0.00          67.0        tbd   \n",
       "16697      0.01      0.00       0.0         0.00          53.0        tbd   \n",
       "16698      0.01      0.00       0.0         0.00          48.0        tbd   \n",
       "16704      0.01      0.00       0.0         0.00           NaN        tbd   \n",
       "16706      0.01      0.00       0.0         0.00           NaN        tbd   \n",
       "\n",
       "      rating  \n",
       "119        E  \n",
       "301     E10+  \n",
       "520        T  \n",
       "645        E  \n",
       "718        E  \n",
       "...      ...  \n",
       "16695      E  \n",
       "16697      E  \n",
       "16698      E  \n",
       "16704      E  \n",
       "16706      T  \n",
       "\n",
       "[2376 rows x 11 columns]"
      ]
     },
     "execution_count": 20,
     "metadata": {},
     "output_type": "execute_result"
    }
   ],
   "source": [
    "#посмотрим что это за строки \n",
    "df.query('user_score==\"tbd\"')"
   ]
  },
  {
   "cell_type": "code",
   "execution_count": 21,
   "id": "2b1842e7",
   "metadata": {},
   "outputs": [
    {
     "data": {
      "text/plain": [
       "6605"
      ]
     },
     "execution_count": 21,
     "metadata": {},
     "output_type": "execute_result"
    }
   ],
   "source": [
    "df['user_score'].isna().sum()"
   ]
  },
  {
   "cell_type": "markdown",
   "id": "0c85d92e",
   "metadata": {},
   "source": [
    "Пропусков как и данных подлежаших уточнению много, удалять их нельзя. Заменим значения tbd на nan, что позволит нам изменить тип данных на float64, тк сейчас в столбце значения типа object, что помешает в дальнейшем при расчетах. Большое количество пропусков возможно связано с ошибкой при выгрузке."
   ]
  },
  {
   "cell_type": "code",
   "execution_count": 22,
   "id": "d45bb732",
   "metadata": {},
   "outputs": [],
   "source": [
    "#заменим тип данных user_score и заменим значение tbd на Nan\n",
    "df['user_score']=pd.to_numeric(df['user_score'],errors='coerce')"
   ]
  },
  {
   "cell_type": "markdown",
   "id": "8da90b90",
   "metadata": {},
   "source": [
    "### Rating"
   ]
  },
  {
   "cell_type": "code",
   "execution_count": 23,
   "id": "4039ef04",
   "metadata": {},
   "outputs": [
    {
     "data": {
      "text/plain": [
       "6676"
      ]
     },
     "execution_count": 23,
     "metadata": {},
     "output_type": "execute_result"
    }
   ],
   "source": [
    "#посмотрим количество пропусков\n",
    "df['rating'].isna().sum()"
   ]
  },
  {
   "cell_type": "code",
   "execution_count": 24,
   "id": "73df9ea5",
   "metadata": {
    "scrolled": false
   },
   "outputs": [
    {
     "data": {
      "text/html": [
       "<div>\n",
       "<style scoped>\n",
       "    .dataframe tbody tr th:only-of-type {\n",
       "        vertical-align: middle;\n",
       "    }\n",
       "\n",
       "    .dataframe tbody tr th {\n",
       "        vertical-align: top;\n",
       "    }\n",
       "\n",
       "    .dataframe thead th {\n",
       "        text-align: right;\n",
       "    }\n",
       "</style>\n",
       "<table border=\"1\" class=\"dataframe\">\n",
       "  <thead>\n",
       "    <tr style=\"text-align: right;\">\n",
       "      <th></th>\n",
       "      <th>name</th>\n",
       "      <th>platform</th>\n",
       "      <th>year_of_release</th>\n",
       "      <th>genre</th>\n",
       "      <th>na_sales</th>\n",
       "      <th>eu_sales</th>\n",
       "      <th>jp_sales</th>\n",
       "      <th>other_sales</th>\n",
       "      <th>critic_score</th>\n",
       "      <th>user_score</th>\n",
       "      <th>rating</th>\n",
       "    </tr>\n",
       "  </thead>\n",
       "  <tbody>\n",
       "    <tr>\n",
       "      <th>1</th>\n",
       "      <td>Super Mario Bros.</td>\n",
       "      <td>NES</td>\n",
       "      <td>1985</td>\n",
       "      <td>Platform</td>\n",
       "      <td>29.08</td>\n",
       "      <td>3.58</td>\n",
       "      <td>6.81</td>\n",
       "      <td>0.77</td>\n",
       "      <td>NaN</td>\n",
       "      <td>NaN</td>\n",
       "      <td>NaN</td>\n",
       "    </tr>\n",
       "    <tr>\n",
       "      <th>4</th>\n",
       "      <td>Pokemon Red/Pokemon Blue</td>\n",
       "      <td>GB</td>\n",
       "      <td>1996</td>\n",
       "      <td>Role-Playing</td>\n",
       "      <td>11.27</td>\n",
       "      <td>8.89</td>\n",
       "      <td>10.22</td>\n",
       "      <td>1.00</td>\n",
       "      <td>NaN</td>\n",
       "      <td>NaN</td>\n",
       "      <td>NaN</td>\n",
       "    </tr>\n",
       "    <tr>\n",
       "      <th>5</th>\n",
       "      <td>Tetris</td>\n",
       "      <td>GB</td>\n",
       "      <td>1989</td>\n",
       "      <td>Puzzle</td>\n",
       "      <td>23.20</td>\n",
       "      <td>2.26</td>\n",
       "      <td>4.22</td>\n",
       "      <td>0.58</td>\n",
       "      <td>NaN</td>\n",
       "      <td>NaN</td>\n",
       "      <td>NaN</td>\n",
       "    </tr>\n",
       "    <tr>\n",
       "      <th>9</th>\n",
       "      <td>Duck Hunt</td>\n",
       "      <td>NES</td>\n",
       "      <td>1984</td>\n",
       "      <td>Shooter</td>\n",
       "      <td>26.93</td>\n",
       "      <td>0.63</td>\n",
       "      <td>0.28</td>\n",
       "      <td>0.47</td>\n",
       "      <td>NaN</td>\n",
       "      <td>NaN</td>\n",
       "      <td>NaN</td>\n",
       "    </tr>\n",
       "    <tr>\n",
       "      <th>10</th>\n",
       "      <td>Nintendogs</td>\n",
       "      <td>DS</td>\n",
       "      <td>2005</td>\n",
       "      <td>Simulation</td>\n",
       "      <td>9.05</td>\n",
       "      <td>10.95</td>\n",
       "      <td>1.93</td>\n",
       "      <td>2.74</td>\n",
       "      <td>NaN</td>\n",
       "      <td>NaN</td>\n",
       "      <td>NaN</td>\n",
       "    </tr>\n",
       "    <tr>\n",
       "      <th>...</th>\n",
       "      <td>...</td>\n",
       "      <td>...</td>\n",
       "      <td>...</td>\n",
       "      <td>...</td>\n",
       "      <td>...</td>\n",
       "      <td>...</td>\n",
       "      <td>...</td>\n",
       "      <td>...</td>\n",
       "      <td>...</td>\n",
       "      <td>...</td>\n",
       "      <td>...</td>\n",
       "    </tr>\n",
       "    <tr>\n",
       "      <th>16710</th>\n",
       "      <td>Samurai Warriors: Sanada Maru</td>\n",
       "      <td>PS3</td>\n",
       "      <td>2016</td>\n",
       "      <td>Action</td>\n",
       "      <td>0.00</td>\n",
       "      <td>0.00</td>\n",
       "      <td>0.01</td>\n",
       "      <td>0.00</td>\n",
       "      <td>NaN</td>\n",
       "      <td>NaN</td>\n",
       "      <td>NaN</td>\n",
       "    </tr>\n",
       "    <tr>\n",
       "      <th>16711</th>\n",
       "      <td>LMA Manager 2007</td>\n",
       "      <td>X360</td>\n",
       "      <td>2006</td>\n",
       "      <td>Sports</td>\n",
       "      <td>0.00</td>\n",
       "      <td>0.01</td>\n",
       "      <td>0.00</td>\n",
       "      <td>0.00</td>\n",
       "      <td>NaN</td>\n",
       "      <td>NaN</td>\n",
       "      <td>NaN</td>\n",
       "    </tr>\n",
       "    <tr>\n",
       "      <th>16712</th>\n",
       "      <td>Haitaka no Psychedelica</td>\n",
       "      <td>PSV</td>\n",
       "      <td>2016</td>\n",
       "      <td>Adventure</td>\n",
       "      <td>0.00</td>\n",
       "      <td>0.00</td>\n",
       "      <td>0.01</td>\n",
       "      <td>0.00</td>\n",
       "      <td>NaN</td>\n",
       "      <td>NaN</td>\n",
       "      <td>NaN</td>\n",
       "    </tr>\n",
       "    <tr>\n",
       "      <th>16713</th>\n",
       "      <td>Spirits &amp; Spells</td>\n",
       "      <td>GBA</td>\n",
       "      <td>2003</td>\n",
       "      <td>Platform</td>\n",
       "      <td>0.01</td>\n",
       "      <td>0.00</td>\n",
       "      <td>0.00</td>\n",
       "      <td>0.00</td>\n",
       "      <td>NaN</td>\n",
       "      <td>NaN</td>\n",
       "      <td>NaN</td>\n",
       "    </tr>\n",
       "    <tr>\n",
       "      <th>16714</th>\n",
       "      <td>Winning Post 8 2016</td>\n",
       "      <td>PSV</td>\n",
       "      <td>2016</td>\n",
       "      <td>Simulation</td>\n",
       "      <td>0.00</td>\n",
       "      <td>0.00</td>\n",
       "      <td>0.01</td>\n",
       "      <td>0.00</td>\n",
       "      <td>NaN</td>\n",
       "      <td>NaN</td>\n",
       "      <td>NaN</td>\n",
       "    </tr>\n",
       "  </tbody>\n",
       "</table>\n",
       "<p>6676 rows × 11 columns</p>\n",
       "</div>"
      ],
      "text/plain": [
       "                                name platform  year_of_release         genre  \\\n",
       "1                  Super Mario Bros.      NES             1985      Platform   \n",
       "4           Pokemon Red/Pokemon Blue       GB             1996  Role-Playing   \n",
       "5                             Tetris       GB             1989        Puzzle   \n",
       "9                          Duck Hunt      NES             1984       Shooter   \n",
       "10                        Nintendogs       DS             2005    Simulation   \n",
       "...                              ...      ...              ...           ...   \n",
       "16710  Samurai Warriors: Sanada Maru      PS3             2016        Action   \n",
       "16711               LMA Manager 2007     X360             2006        Sports   \n",
       "16712        Haitaka no Psychedelica      PSV             2016     Adventure   \n",
       "16713               Spirits & Spells      GBA             2003      Platform   \n",
       "16714            Winning Post 8 2016      PSV             2016    Simulation   \n",
       "\n",
       "       na_sales  eu_sales  jp_sales  other_sales  critic_score  user_score  \\\n",
       "1         29.08      3.58      6.81         0.77           NaN         NaN   \n",
       "4         11.27      8.89     10.22         1.00           NaN         NaN   \n",
       "5         23.20      2.26      4.22         0.58           NaN         NaN   \n",
       "9         26.93      0.63      0.28         0.47           NaN         NaN   \n",
       "10         9.05     10.95      1.93         2.74           NaN         NaN   \n",
       "...         ...       ...       ...          ...           ...         ...   \n",
       "16710      0.00      0.00      0.01         0.00           NaN         NaN   \n",
       "16711      0.00      0.01      0.00         0.00           NaN         NaN   \n",
       "16712      0.00      0.00      0.01         0.00           NaN         NaN   \n",
       "16713      0.01      0.00      0.00         0.00           NaN         NaN   \n",
       "16714      0.00      0.00      0.01         0.00           NaN         NaN   \n",
       "\n",
       "      rating  \n",
       "1        NaN  \n",
       "4        NaN  \n",
       "5        NaN  \n",
       "9        NaN  \n",
       "10       NaN  \n",
       "...      ...  \n",
       "16710    NaN  \n",
       "16711    NaN  \n",
       "16712    NaN  \n",
       "16713    NaN  \n",
       "16714    NaN  \n",
       "\n",
       "[6676 rows x 11 columns]"
      ]
     },
     "execution_count": 24,
     "metadata": {},
     "output_type": "execute_result"
    }
   ],
   "source": [
    "df.query('rating.isna()')"
   ]
  },
  {
   "cell_type": "markdown",
   "id": "4673e199",
   "metadata": {},
   "source": [
    "Пропусков вновь много и нет возможности заполнить данные какими-либо релевантными значениями. Рейтинг  ESRB  появился только в  1994 году, что объясняет пропуски для игр, выпущенных до 1994. Так же, возможнен вариант,что компании специально не получают рейтинг, тк это дополнительные затраты."
   ]
  },
  {
   "cell_type": "code",
   "execution_count": 25,
   "id": "bec26692",
   "metadata": {},
   "outputs": [],
   "source": [
    "#заполним пропуски заглушкой\n",
    "df['rating']=df['rating'].fillna('NR')"
   ]
  },
  {
   "cell_type": "code",
   "execution_count": 26,
   "id": "fc12b7cc",
   "metadata": {},
   "outputs": [
    {
     "data": {
      "text/plain": [
       "0"
      ]
     },
     "execution_count": 26,
     "metadata": {},
     "output_type": "execute_result"
    }
   ],
   "source": [
    "#проверим, что пропуски заполнились\n",
    "df['rating'].isna().sum()"
   ]
  },
  {
   "cell_type": "code",
   "execution_count": 27,
   "id": "539ec30e",
   "metadata": {},
   "outputs": [
    {
     "data": {
      "text/plain": [
       "array(['E', 'NR', 'M', 'T', 'E10+', 'K-A', 'AO', 'EC', 'RP'], dtype=object)"
      ]
     },
     "execution_count": 27,
     "metadata": {},
     "output_type": "execute_result"
    }
   ],
   "source": [
    "#проверим, что пропуски заполнились\n",
    "df['rating'].unique()"
   ]
  },
  {
   "cell_type": "code",
   "execution_count": 28,
   "id": "89593e79",
   "metadata": {},
   "outputs": [],
   "source": [
    "#добавим столбец с суммарными продажами во всех регионах\n",
    "df['total_sales']=df['na_sales']+df['eu_sales']+df['jp_sales']+df['other_sales']"
   ]
  },
  {
   "cell_type": "code",
   "execution_count": 29,
   "id": "02fd55d3",
   "metadata": {},
   "outputs": [
    {
     "data": {
      "text/html": [
       "<div>\n",
       "<style scoped>\n",
       "    .dataframe tbody tr th:only-of-type {\n",
       "        vertical-align: middle;\n",
       "    }\n",
       "\n",
       "    .dataframe tbody tr th {\n",
       "        vertical-align: top;\n",
       "    }\n",
       "\n",
       "    .dataframe thead th {\n",
       "        text-align: right;\n",
       "    }\n",
       "</style>\n",
       "<table border=\"1\" class=\"dataframe\">\n",
       "  <thead>\n",
       "    <tr style=\"text-align: right;\">\n",
       "      <th></th>\n",
       "      <th>name</th>\n",
       "      <th>platform</th>\n",
       "      <th>year_of_release</th>\n",
       "      <th>genre</th>\n",
       "      <th>na_sales</th>\n",
       "      <th>eu_sales</th>\n",
       "      <th>jp_sales</th>\n",
       "      <th>other_sales</th>\n",
       "      <th>critic_score</th>\n",
       "      <th>user_score</th>\n",
       "      <th>rating</th>\n",
       "      <th>total_sales</th>\n",
       "    </tr>\n",
       "  </thead>\n",
       "  <tbody>\n",
       "    <tr>\n",
       "      <th>0</th>\n",
       "      <td>Wii Sports</td>\n",
       "      <td>Wii</td>\n",
       "      <td>2006</td>\n",
       "      <td>Sports</td>\n",
       "      <td>41.36</td>\n",
       "      <td>28.96</td>\n",
       "      <td>3.77</td>\n",
       "      <td>8.45</td>\n",
       "      <td>76.0</td>\n",
       "      <td>8.0</td>\n",
       "      <td>E</td>\n",
       "      <td>82.54</td>\n",
       "    </tr>\n",
       "    <tr>\n",
       "      <th>1</th>\n",
       "      <td>Super Mario Bros.</td>\n",
       "      <td>NES</td>\n",
       "      <td>1985</td>\n",
       "      <td>Platform</td>\n",
       "      <td>29.08</td>\n",
       "      <td>3.58</td>\n",
       "      <td>6.81</td>\n",
       "      <td>0.77</td>\n",
       "      <td>NaN</td>\n",
       "      <td>NaN</td>\n",
       "      <td>NR</td>\n",
       "      <td>40.24</td>\n",
       "    </tr>\n",
       "    <tr>\n",
       "      <th>2</th>\n",
       "      <td>Mario Kart Wii</td>\n",
       "      <td>Wii</td>\n",
       "      <td>2008</td>\n",
       "      <td>Racing</td>\n",
       "      <td>15.68</td>\n",
       "      <td>12.76</td>\n",
       "      <td>3.79</td>\n",
       "      <td>3.29</td>\n",
       "      <td>82.0</td>\n",
       "      <td>8.3</td>\n",
       "      <td>E</td>\n",
       "      <td>35.52</td>\n",
       "    </tr>\n",
       "    <tr>\n",
       "      <th>3</th>\n",
       "      <td>Wii Sports Resort</td>\n",
       "      <td>Wii</td>\n",
       "      <td>2009</td>\n",
       "      <td>Sports</td>\n",
       "      <td>15.61</td>\n",
       "      <td>10.93</td>\n",
       "      <td>3.28</td>\n",
       "      <td>2.95</td>\n",
       "      <td>80.0</td>\n",
       "      <td>8.0</td>\n",
       "      <td>E</td>\n",
       "      <td>32.77</td>\n",
       "    </tr>\n",
       "    <tr>\n",
       "      <th>4</th>\n",
       "      <td>Pokemon Red/Pokemon Blue</td>\n",
       "      <td>GB</td>\n",
       "      <td>1996</td>\n",
       "      <td>Role-Playing</td>\n",
       "      <td>11.27</td>\n",
       "      <td>8.89</td>\n",
       "      <td>10.22</td>\n",
       "      <td>1.00</td>\n",
       "      <td>NaN</td>\n",
       "      <td>NaN</td>\n",
       "      <td>NR</td>\n",
       "      <td>31.38</td>\n",
       "    </tr>\n",
       "  </tbody>\n",
       "</table>\n",
       "</div>"
      ],
      "text/plain": [
       "                       name platform  year_of_release         genre  na_sales  \\\n",
       "0                Wii Sports      Wii             2006        Sports     41.36   \n",
       "1         Super Mario Bros.      NES             1985      Platform     29.08   \n",
       "2            Mario Kart Wii      Wii             2008        Racing     15.68   \n",
       "3         Wii Sports Resort      Wii             2009        Sports     15.61   \n",
       "4  Pokemon Red/Pokemon Blue       GB             1996  Role-Playing     11.27   \n",
       "\n",
       "   eu_sales  jp_sales  other_sales  critic_score  user_score rating  \\\n",
       "0     28.96      3.77         8.45          76.0         8.0      E   \n",
       "1      3.58      6.81         0.77           NaN         NaN     NR   \n",
       "2     12.76      3.79         3.29          82.0         8.3      E   \n",
       "3     10.93      3.28         2.95          80.0         8.0      E   \n",
       "4      8.89     10.22         1.00           NaN         NaN     NR   \n",
       "\n",
       "   total_sales  \n",
       "0        82.54  \n",
       "1        40.24  \n",
       "2        35.52  \n",
       "3        32.77  \n",
       "4        31.38  "
      ]
     },
     "execution_count": 29,
     "metadata": {},
     "output_type": "execute_result"
    }
   ],
   "source": [
    "#проверим, что столбец добавился\n",
    "df.head()"
   ]
  },
  {
   "cell_type": "code",
   "execution_count": 30,
   "id": "851daf83",
   "metadata": {},
   "outputs": [
    {
     "name": "stdout",
     "output_type": "stream",
     "text": [
      "<class 'pandas.core.frame.DataFrame'>\n",
      "Int64Index: 16444 entries, 0 to 16714\n",
      "Data columns (total 12 columns):\n",
      " #   Column           Non-Null Count  Dtype  \n",
      "---  ------           --------------  -----  \n",
      " 0   name             16444 non-null  object \n",
      " 1   platform         16444 non-null  object \n",
      " 2   year_of_release  16444 non-null  int64  \n",
      " 3   genre            16444 non-null  object \n",
      " 4   na_sales         16444 non-null  float64\n",
      " 5   eu_sales         16444 non-null  float64\n",
      " 6   jp_sales         16444 non-null  float64\n",
      " 7   other_sales      16444 non-null  float64\n",
      " 8   critic_score     7983 non-null   float64\n",
      " 9   user_score       7463 non-null   float64\n",
      " 10  rating           16444 non-null  object \n",
      " 11  total_sales      16444 non-null  float64\n",
      "dtypes: float64(7), int64(1), object(4)\n",
      "memory usage: 1.6+ MB\n",
      "None\n",
      "-------------------------\n",
      "name [' Beyblade Burst' ' Fire Emblem Fates' \" Frozen: Olaf's Quest\" ...\n",
      " 'uDraw Studio' 'uDraw Studio: Instant Artist'\n",
      " '¡Shin Chan Flipa en colores!']\n",
      "name : кол-во NaN 0 , процент NaN 0.0 %\n",
      "-------------------------\n",
      "platform ['2600' '3DO' '3DS' 'DC' 'DS' 'GB' 'GBA' 'GC' 'GEN' 'GG' 'N64' 'NES' 'NG'\n",
      " 'PC' 'PCFX' 'PS' 'PS2' 'PS3' 'PS4' 'PSP' 'PSV' 'SAT' 'SCD' 'SNES' 'TG16'\n",
      " 'WS' 'Wii' 'WiiU' 'X360' 'XB' 'XOne']\n",
      "platform : кол-во NaN 0 , процент NaN 0.0 %\n",
      "-------------------------\n",
      "year_of_release [1980 1981 1982 1983 1984 1985 1986 1987 1988 1989 1990 1991 1992 1993\n",
      " 1994 1995 1996 1997 1998 1999 2000 2001 2002 2003 2004 2005 2006 2007\n",
      " 2008 2009 2010 2011 2012 2013 2014 2015 2016]\n",
      "year_of_release : кол-во NaN 0 , процент NaN 0.0 %\n",
      "-------------------------\n",
      "genre ['Action' 'Adventure' 'Fighting' 'Misc' 'Platform' 'Puzzle' 'Racing'\n",
      " 'Role-Playing' 'Shooter' 'Simulation' 'Sports' 'Strategy']\n",
      "genre : кол-во NaN 0 , процент NaN 0.0 %\n",
      "-------------------------\n",
      "critic_score [13. 17. 19. 20. 21. 23. 24. 25. 26. 27. 28. 29. 30. 31. 32. 33. 34. 35.\n",
      " 36. 37. 38. 39. 40. 41. 42. 43. 44. 45. 46. 47. 48. 49. 50. 51. 52. 53.\n",
      " 54. 55. 56. 57. 58. 59. 60. 61. 62. 63. 64. 65. 66. 67. 68. 69. 70. 71.\n",
      " 72. 73. 74. 75. 76. 77. 78. 79. 80. 81. 82. 83. 84. 85. 86. 87. 88. 89.\n",
      " 90. 91. 92. 93. 94. 95. 96. 97. 98. nan]\n",
      "critic_score : кол-во NaN 8461 , процент NaN 51.45 %\n",
      "-------------------------\n",
      "user_score [0.  0.2 0.3 0.5 0.6 0.7 0.9 1.  1.1 1.2 1.3 1.4 1.5 1.6 1.7 1.8 1.9 2.\n",
      " 2.1 2.2 2.3 2.4 2.5 2.6 2.7 2.8 2.9 3.  3.1 3.2 3.3 3.4 3.5 3.6 3.7 3.8\n",
      " 3.9 4.  4.1 4.2 4.3 4.4 4.5 4.6 4.7 4.8 4.9 5.  5.1 5.2 5.3 5.4 5.5 5.6\n",
      " 5.7 5.8 5.9 6.  6.1 6.2 6.3 6.4 6.5 6.6 6.7 6.8 6.9 7.  7.1 7.2 7.3 7.4\n",
      " 7.5 7.6 7.7 7.8 7.9 8.  8.1 8.2 8.3 8.4 8.5 8.6 8.7 8.8 8.9 9.  9.1 9.2\n",
      " 9.3 9.4 9.5 9.6 9.7 nan]\n",
      "user_score : кол-во NaN 8981 , процент NaN 54.62 %\n",
      "-------------------------\n",
      "rating ['AO' 'E' 'E10+' 'EC' 'K-A' 'M' 'NR' 'RP' 'T']\n",
      "rating : кол-во NaN 0 , процент NaN 0.0 %\n"
     ]
    }
   ],
   "source": [
    "# Комментарий ревьюера\n",
    "# Посмотрим, что у нас осталось\n",
    "temp = df.copy() \n",
    "list_c = ['name', 'platform', 'year_of_release', 'genre', 'critic_score', 'user_score', 'rating']\n",
    "print(temp.info())\n",
    "for col_l in list_c:\n",
    "    print('-'* 25)\n",
    "    print(col_l, temp[col_l].sort_values().unique())\n",
    "    print(col_l,': кол-во NaN',temp[col_l].isna().sum(),\n",
    "        ', процент NaN', round(temp[col_l].isna().sum()/len(temp)*100, 2),'%')"
   ]
  },
  {
   "cell_type": "markdown",
   "id": "f64b2f8e",
   "metadata": {},
   "source": [
    "## Исследовательский анализ данных"
   ]
  },
  {
   "cell_type": "markdown",
   "id": "6caa5ed2",
   "metadata": {},
   "source": [
    "Посмотрим сколько игр выпускалось в разные годы"
   ]
  },
  {
   "cell_type": "code",
   "execution_count": 31,
   "id": "7529a379",
   "metadata": {
    "scrolled": true
   },
   "outputs": [
    {
     "data": {
      "image/png": "[encoded data removed]",
      "text/plain": [
       "<Figure size 432x288 with 1 Axes>"
      ]
     },
     "metadata": {
      "needs_background": "light"
     },
     "output_type": "display_data"
    }
   ],
   "source": [
    "#построим гистограмму\n",
    "df['year_of_release'].hist(bins=37);"
   ]
  },
  {
   "cell_type": "code",
   "execution_count": 32,
   "id": "11e93314",
   "metadata": {},
   "outputs": [
    {
     "data": {
      "image/png": "[encoded data removed]",
      "text/plain": [
       "<Figure size 1080x576 with 1 Axes>"
      ]
     },
     "metadata": {
      "needs_background": "light"
     },
     "output_type": "display_data"
    }
   ],
   "source": [
    "#для наглядности сделаем график\n",
    "(df.pivot_table(index='year_of_release', values='name', aggfunc='count')\n",
    "   .plot(title='Количество игр по годам',kind='bar',grid=True,figsize=(15,8)));"
   ]
  },
  {
   "cell_type": "markdown",
   "id": "b2040606",
   "metadata": {},
   "source": [
    "Распределение скошено влево. Видно как сильно увеличилось количество выпускаемых игр после 2000 года. Данные за раниий период(до 2000) будут уже не актуальны при дальнейшем исследовании. Так же видно, что после 2009 года пошел спад, что скорее всего связано с развитием рынка мобильных игр и \"утечкой\" игроков в сегмент мобильных игр."
   ]
  },
  {
   "cell_type": "markdown",
   "id": "8afa1f34",
   "metadata": {},
   "source": [
    "Посмотрим, как менялись продажи по платформам. Выберем платформы с наибольшими суммарными продажами и построим распределение по годам. "
   ]
  },
  {
   "cell_type": "code",
   "execution_count": 33,
   "id": "03781692",
   "metadata": {
    "scrolled": true
   },
   "outputs": [
    {
     "data": {
      "text/html": [
       "<div>\n",
       "<style scoped>\n",
       "    .dataframe tbody tr th:only-of-type {\n",
       "        vertical-align: middle;\n",
       "    }\n",
       "\n",
       "    .dataframe tbody tr th {\n",
       "        vertical-align: top;\n",
       "    }\n",
       "\n",
       "    .dataframe thead th {\n",
       "        text-align: right;\n",
       "    }\n",
       "</style>\n",
       "<table border=\"1\" class=\"dataframe\">\n",
       "  <thead>\n",
       "    <tr style=\"text-align: right;\">\n",
       "      <th></th>\n",
       "      <th>total_sales</th>\n",
       "    </tr>\n",
       "    <tr>\n",
       "      <th>platform</th>\n",
       "      <th></th>\n",
       "    </tr>\n",
       "  </thead>\n",
       "  <tbody>\n",
       "    <tr>\n",
       "      <th>PS2</th>\n",
       "      <td>1233.56</td>\n",
       "    </tr>\n",
       "    <tr>\n",
       "      <th>X360</th>\n",
       "      <td>961.24</td>\n",
       "    </tr>\n",
       "    <tr>\n",
       "      <th>PS3</th>\n",
       "      <td>931.34</td>\n",
       "    </tr>\n",
       "    <tr>\n",
       "      <th>Wii</th>\n",
       "      <td>891.18</td>\n",
       "    </tr>\n",
       "    <tr>\n",
       "      <th>DS</th>\n",
       "      <td>802.78</td>\n",
       "    </tr>\n",
       "    <tr>\n",
       "      <th>PS</th>\n",
       "      <td>727.58</td>\n",
       "    </tr>\n",
       "    <tr>\n",
       "      <th>PS4</th>\n",
       "      <td>314.14</td>\n",
       "    </tr>\n",
       "    <tr>\n",
       "      <th>GBA</th>\n",
       "      <td>312.88</td>\n",
       "    </tr>\n",
       "    <tr>\n",
       "      <th>PSP</th>\n",
       "      <td>289.53</td>\n",
       "    </tr>\n",
       "    <tr>\n",
       "      <th>3DS</th>\n",
       "      <td>257.81</td>\n",
       "    </tr>\n",
       "  </tbody>\n",
       "</table>\n",
       "</div>"
      ],
      "text/plain": [
       "          total_sales\n",
       "platform             \n",
       "PS2           1233.56\n",
       "X360           961.24\n",
       "PS3            931.34\n",
       "Wii            891.18\n",
       "DS             802.78\n",
       "PS             727.58\n",
       "PS4            314.14\n",
       "GBA            312.88\n",
       "PSP            289.53\n",
       "3DS            257.81"
      ]
     },
     "execution_count": 33,
     "metadata": {},
     "output_type": "execute_result"
    }
   ],
   "source": [
    "#сводная таблица продаж по платформам\n",
    "total_sales_by_platform = df.pivot_table(index=['platform'], values=['total_sales'], aggfunc='sum')\n",
    "#топ-10 платформ с наибольшими суммарными продажами\n",
    "top10=total_sales_by_platform.sort_values(by=['total_sales'], ascending=False).head(10)\n",
    "top10"
   ]
  },
  {
   "cell_type": "code",
   "execution_count": 34,
   "id": "373708a4",
   "metadata": {},
   "outputs": [
    {
     "data": {
      "image/png": "[encoded data removed]",
      "text/plain": [
       "<Figure size 1080x576 with 1 Axes>"
      ]
     },
     "metadata": {
      "needs_background": "light"
     },
     "output_type": "display_data"
    }
   ],
   "source": [
    "#построим график распределения продаж на платформах по годам\n",
    "top10_by_years=(\n",
    "    df.query('platform in @top10.index')\n",
    "      .pivot_table(index='year_of_release',columns='platform', values='total_sales', aggfunc='sum')\n",
    "      .plot(title='Распределение продаж на платформах по годам',xlim=(1992,2017),grid=True,figsize=(15,8)));"
   ]
  },
  {
   "cell_type": "markdown",
   "id": "b35e3efe",
   "metadata": {},
   "source": [
    "По графику видно, что срок жизни платформы примерно 10 лет, платформы достигают пика примерно через 4 года, потом наблюдается спад."
   ]
  },
  {
   "cell_type": "markdown",
   "id": "9abcba62",
   "metadata": {},
   "source": [
    "Срок жизни платформы примерно 10 лет, однако наблюдаемое на графиаках падение продаж на всех платформах с 2010 года  явно отражает глобальный тренд, которй необхоидмо учитывать. Обозначим актуальный период для прогноза на будущий год - 4 года. Возьмем данные по играм с 2013 года."
   ]
  },
  {
   "cell_type": "code",
   "execution_count": 35,
   "id": "c05c6834",
   "metadata": {},
   "outputs": [],
   "source": [
    "#сделаем срез по актуальным годам\n",
    "df_actual_years=df.query('year_of_release > 2012')"
   ]
  },
  {
   "cell_type": "code",
   "execution_count": 36,
   "id": "9d727517",
   "metadata": {},
   "outputs": [
    {
     "data": {
      "text/plain": [
       "2015    606\n",
       "2014    581\n",
       "2013    544\n",
       "2016    502\n",
       "Name: year_of_release, dtype: int64"
      ]
     },
     "execution_count": 36,
     "metadata": {},
     "output_type": "execute_result"
    }
   ],
   "source": [
    "df_actual_years['year_of_release'].value_counts()"
   ]
  },
  {
   "cell_type": "markdown",
   "id": "b6555425",
   "metadata": {},
   "source": [
    "Посмотрим какие платформы лидируют по продажам, растут или падают."
   ]
  },
  {
   "cell_type": "code",
   "execution_count": 37,
   "id": "3cfcbb6e",
   "metadata": {},
   "outputs": [
    {
     "data": {
      "image/png": "[encoded data removed]",
      "text/plain": [
       "<Figure size 1080x576 with 1 Axes>"
      ]
     },
     "metadata": {
      "needs_background": "light"
     },
     "output_type": "display_data"
    }
   ],
   "source": [
    "#посмотрим график распределения продаж на платформах по годам с 2010года\n",
    "(df_actual_years\n",
    "    .pivot_table(index='year_of_release',columns='platform', values='total_sales', aggfunc='sum')\n",
    "    .plot(title='Распределение продаж на платформах 2010-2016гг',xlim=(2012,2017),grid=True,figsize=(15,8)));"
   ]
  },
  {
   "cell_type": "markdown",
   "id": "ef20c4b1",
   "metadata": {},
   "source": [
    "Вновь наблюдается общий тренд на падение продаж на всех платформах. В послдений год больше всего продаж было на платформах PS4,XOne и 3DS. В 2013 году появились две новые платформы - PS4 и 3DS. Не смотря на то, что эти платформы показывают падение продаж в 2016, они могут быть потенциально прибыльны, тк были созданы совсем недаавно, вероятно будут наращивать количество продаваемых игр и сохранять интерес пользователя как новинка."
   ]
  },
  {
   "cell_type": "markdown",
   "id": "f7fac7a5",
   "metadata": {},
   "source": [
    "Построим график «ящик с усами» по глобальным продажам игр в разбивке по платформам. "
   ]
  },
  {
   "cell_type": "code",
   "execution_count": 38,
   "id": "fff8b4c9",
   "metadata": {},
   "outputs": [
    {
     "data": {
      "image/png": "[encoded data removed]",
      "text/plain": [
       "<Figure size 720x360 with 1 Axes>"
      ]
     },
     "metadata": {
      "needs_background": "light"
     },
     "output_type": "display_data"
    }
   ],
   "source": [
    "plt.figure(figsize=(10, 5))\n",
    "sns.boxplot(data = df_actual_years, x='platform', y='total_sales', showfliers=False);"
   ]
  },
  {
   "cell_type": "code",
   "execution_count": 39,
   "id": "b2ebd21e",
   "metadata": {},
   "outputs": [
    {
     "data": {
      "text/plain": [
       "(0.0, 2.0)"
      ]
     },
     "execution_count": 39,
     "metadata": {},
     "output_type": "execute_result"
    },
    {
     "data": {
      "image/png": "[encoded data removed]",
      "text/plain": [
       "<Figure size 1080x576 with 1 Axes>"
      ]
     },
     "metadata": {
      "needs_background": "light"
     },
     "output_type": "display_data"
    }
   ],
   "source": [
    "plt.figure(figsize=(15, 8))\n",
    "ax=sns.boxplot(data = df_actual_years, x='platform', y='total_sales');\n",
    "plt.ylim(0,2)"
   ]
  },
  {
   "cell_type": "markdown",
   "id": "92569e15",
   "metadata": {},
   "source": [
    "Игры на 5 платформах(PS3,PS4,X360,XOne,WiiU) - в среднем получают выручки больше чем игры на других платформах."
   ]
  },
  {
   "cell_type": "markdown",
   "id": "f8451868",
   "metadata": {},
   "source": [
    "Посмотрим, как влияют на продажи внутри одной популярной платформы отзывы пользователей и критиков. Построим диаграмму рассеяния и посчитаем корреляцию между отзывами и продажами."
   ]
  },
  {
   "cell_type": "code",
   "execution_count": 40,
   "id": "4e0dc7a1",
   "metadata": {},
   "outputs": [
    {
     "data": {
      "image/png": "[encoded data removed]",
      "text/plain": [
       "<Figure size 648x432 with 1 Axes>"
      ]
     },
     "metadata": {
      "needs_background": "light"
     },
     "output_type": "display_data"
    }
   ],
   "source": [
    "#возьмем срез по платформе PS4\n",
    "ps4=df_actual_years.query('platform == \"PS4\"')\n",
    "#построим диаграмму рассеяния\n",
    "ps4.plot(title='Взаимосвязь продаж и рейтинга пользователей платформы PS4',x='user_score', y='total_sales',\n",
    "         kind='scatter', alpha=0.5, figsize=(9,6));"
   ]
  },
  {
   "cell_type": "code",
   "execution_count": 41,
   "id": "c3fa9184",
   "metadata": {},
   "outputs": [
    {
     "data": {
      "text/plain": [
       "-0.031957110204556376"
      ]
     },
     "execution_count": 41,
     "metadata": {},
     "output_type": "execute_result"
    }
   ],
   "source": [
    "#посчитаем коэффициент корреляции\n",
    "ps4['total_sales'].corr(ps4['user_score'])"
   ]
  },
  {
   "cell_type": "markdown",
   "id": "0a2b546e",
   "metadata": {},
   "source": [
    "Корреляция  между рейтингами пользователей и продажами отрицательная и вцелом близка к нулю, зависимости нет, либо она нелинейная. Скорее всего пользователи не следят пристально за оценками других пользователей на рекомендательных сервисах, а пользуются другими критериями при выборе игры - например, влияение может оказывать стоимость игры, отзывы друзей и знакомых и тд."
   ]
  },
  {
   "cell_type": "code",
   "execution_count": 42,
   "id": "0dcb95db",
   "metadata": {},
   "outputs": [
    {
     "data": {
      "image/png": "[encoded data removed]",
      "text/plain": [
       "<Figure size 648x432 with 1 Axes>"
      ]
     },
     "metadata": {
      "needs_background": "light"
     },
     "output_type": "display_data"
    }
   ],
   "source": [
    "#построим диаграмму рассеяния\n",
    "ps4.plot(title='Взаимосвязь продаж и рейтинга критиков платформы PS4',x='critic_score', y='total_sales',\n",
    "         kind='scatter', alpha=0.5, figsize=(9,6));"
   ]
  },
  {
   "cell_type": "code",
   "execution_count": 43,
   "id": "b5e45ca7",
   "metadata": {},
   "outputs": [
    {
     "data": {
      "text/plain": [
       "0.406567902061781"
      ]
     },
     "execution_count": 43,
     "metadata": {},
     "output_type": "execute_result"
    }
   ],
   "source": [
    "#посчитаем коэффициент корреляции\n",
    "ps4['total_sales'].corr(ps4['critic_score'])"
   ]
  },
  {
   "cell_type": "code",
   "execution_count": 44,
   "id": "2ec31dca",
   "metadata": {},
   "outputs": [
    {
     "data": {
      "text/html": [
       "<div>\n",
       "<style scoped>\n",
       "    .dataframe tbody tr th:only-of-type {\n",
       "        vertical-align: middle;\n",
       "    }\n",
       "\n",
       "    .dataframe tbody tr th {\n",
       "        vertical-align: top;\n",
       "    }\n",
       "\n",
       "    .dataframe thead th {\n",
       "        text-align: right;\n",
       "    }\n",
       "</style>\n",
       "<table border=\"1\" class=\"dataframe\">\n",
       "  <thead>\n",
       "    <tr style=\"text-align: right;\">\n",
       "      <th></th>\n",
       "      <th>year_of_release</th>\n",
       "      <th>na_sales</th>\n",
       "      <th>eu_sales</th>\n",
       "      <th>jp_sales</th>\n",
       "      <th>other_sales</th>\n",
       "      <th>critic_score</th>\n",
       "      <th>user_score</th>\n",
       "      <th>total_sales</th>\n",
       "    </tr>\n",
       "  </thead>\n",
       "  <tbody>\n",
       "    <tr>\n",
       "      <th>year_of_release</th>\n",
       "      <td>1.000000</td>\n",
       "      <td>-0.248961</td>\n",
       "      <td>-0.208306</td>\n",
       "      <td>-0.060993</td>\n",
       "      <td>-0.234796</td>\n",
       "      <td>-0.021142</td>\n",
       "      <td>0.152447</td>\n",
       "      <td>-0.235032</td>\n",
       "    </tr>\n",
       "    <tr>\n",
       "      <th>na_sales</th>\n",
       "      <td>-0.248961</td>\n",
       "      <td>1.000000</td>\n",
       "      <td>0.785362</td>\n",
       "      <td>0.472981</td>\n",
       "      <td>0.944259</td>\n",
       "      <td>0.415008</td>\n",
       "      <td>-0.020933</td>\n",
       "      <td>0.928160</td>\n",
       "    </tr>\n",
       "    <tr>\n",
       "      <th>eu_sales</th>\n",
       "      <td>-0.208306</td>\n",
       "      <td>0.785362</td>\n",
       "      <td>1.000000</td>\n",
       "      <td>0.464563</td>\n",
       "      <td>0.944698</td>\n",
       "      <td>0.346720</td>\n",
       "      <td>-0.048925</td>\n",
       "      <td>0.958157</td>\n",
       "    </tr>\n",
       "    <tr>\n",
       "      <th>jp_sales</th>\n",
       "      <td>-0.060993</td>\n",
       "      <td>0.472981</td>\n",
       "      <td>0.464563</td>\n",
       "      <td>1.000000</td>\n",
       "      <td>0.496467</td>\n",
       "      <td>0.322358</td>\n",
       "      <td>0.171332</td>\n",
       "      <td>0.527129</td>\n",
       "    </tr>\n",
       "    <tr>\n",
       "      <th>other_sales</th>\n",
       "      <td>-0.234796</td>\n",
       "      <td>0.944259</td>\n",
       "      <td>0.944698</td>\n",
       "      <td>0.496467</td>\n",
       "      <td>1.000000</td>\n",
       "      <td>0.409191</td>\n",
       "      <td>-0.035639</td>\n",
       "      <td>0.998051</td>\n",
       "    </tr>\n",
       "    <tr>\n",
       "      <th>critic_score</th>\n",
       "      <td>-0.021142</td>\n",
       "      <td>0.415008</td>\n",
       "      <td>0.346720</td>\n",
       "      <td>0.322358</td>\n",
       "      <td>0.409191</td>\n",
       "      <td>1.000000</td>\n",
       "      <td>0.557654</td>\n",
       "      <td>0.406568</td>\n",
       "    </tr>\n",
       "    <tr>\n",
       "      <th>user_score</th>\n",
       "      <td>0.152447</td>\n",
       "      <td>-0.020933</td>\n",
       "      <td>-0.048925</td>\n",
       "      <td>0.171332</td>\n",
       "      <td>-0.035639</td>\n",
       "      <td>0.557654</td>\n",
       "      <td>1.000000</td>\n",
       "      <td>-0.031957</td>\n",
       "    </tr>\n",
       "    <tr>\n",
       "      <th>total_sales</th>\n",
       "      <td>-0.235032</td>\n",
       "      <td>0.928160</td>\n",
       "      <td>0.958157</td>\n",
       "      <td>0.527129</td>\n",
       "      <td>0.998051</td>\n",
       "      <td>0.406568</td>\n",
       "      <td>-0.031957</td>\n",
       "      <td>1.000000</td>\n",
       "    </tr>\n",
       "  </tbody>\n",
       "</table>\n",
       "</div>"
      ],
      "text/plain": [
       "                 year_of_release  na_sales  eu_sales  jp_sales  other_sales  \\\n",
       "year_of_release         1.000000 -0.248961 -0.208306 -0.060993    -0.234796   \n",
       "na_sales               -0.248961  1.000000  0.785362  0.472981     0.944259   \n",
       "eu_sales               -0.208306  0.785362  1.000000  0.464563     0.944698   \n",
       "jp_sales               -0.060993  0.472981  0.464563  1.000000     0.496467   \n",
       "other_sales            -0.234796  0.944259  0.944698  0.496467     1.000000   \n",
       "critic_score           -0.021142  0.415008  0.346720  0.322358     0.409191   \n",
       "user_score              0.152447 -0.020933 -0.048925  0.171332    -0.035639   \n",
       "total_sales            -0.235032  0.928160  0.958157  0.527129     0.998051   \n",
       "\n",
       "                 critic_score  user_score  total_sales  \n",
       "year_of_release     -0.021142    0.152447    -0.235032  \n",
       "na_sales             0.415008   -0.020933     0.928160  \n",
       "eu_sales             0.346720   -0.048925     0.958157  \n",
       "jp_sales             0.322358    0.171332     0.527129  \n",
       "other_sales          0.409191   -0.035639     0.998051  \n",
       "critic_score         1.000000    0.557654     0.406568  \n",
       "user_score           0.557654    1.000000    -0.031957  \n",
       "total_sales          0.406568   -0.031957     1.000000  "
      ]
     },
     "execution_count": 44,
     "metadata": {},
     "output_type": "execute_result"
    }
   ],
   "source": [
    "#Посмотрим матрицу корреляции для всего датафрейма\n",
    "ps4.corr()"
   ]
  },
  {
   "cell_type": "markdown",
   "id": "cab2d7cd",
   "metadata": {},
   "source": [
    "Небольшая положительная корреляция есть. Мнение критиков влияет на продажи сильнее, чем мнение других игроков. Это может быть связано с авторитетом лидеров мнений(блогеры,обозреватели,журналы и тематические ресуры), а так же большим охватом их аудитории.\n",
    "Если смотреть в распределении по странам, то оценка ползователей сильнее всего влияет в Японии, хотя это влияние все еще очень невелико.А оценка критиков сильнее всего влияет в Северной Америке."
   ]
  },
  {
   "cell_type": "markdown",
   "id": "5301a101",
   "metadata": {},
   "source": [
    "Посмотрим продажи игр на других платформах."
   ]
  },
  {
   "cell_type": "code",
   "execution_count": 45,
   "id": "0093d791",
   "metadata": {
    "scrolled": true
   },
   "outputs": [
    {
     "data": {
      "text/html": [
       "<div>\n",
       "<style scoped>\n",
       "    .dataframe tbody tr th:only-of-type {\n",
       "        vertical-align: middle;\n",
       "    }\n",
       "\n",
       "    .dataframe tbody tr th {\n",
       "        vertical-align: top;\n",
       "    }\n",
       "\n",
       "    .dataframe thead th {\n",
       "        text-align: right;\n",
       "    }\n",
       "</style>\n",
       "<table border=\"1\" class=\"dataframe\">\n",
       "  <thead>\n",
       "    <tr style=\"text-align: right;\">\n",
       "      <th></th>\n",
       "      <th>platform</th>\n",
       "      <th>critic_score</th>\n",
       "    </tr>\n",
       "  </thead>\n",
       "  <tbody>\n",
       "    <tr>\n",
       "      <th>20</th>\n",
       "      <td>XOne</td>\n",
       "      <td>0.416998</td>\n",
       "    </tr>\n",
       "    <tr>\n",
       "      <th>8</th>\n",
       "      <td>PS4</td>\n",
       "      <td>0.406568</td>\n",
       "    </tr>\n",
       "    <tr>\n",
       "      <th>16</th>\n",
       "      <td>WiiU</td>\n",
       "      <td>0.376415</td>\n",
       "    </tr>\n",
       "    <tr>\n",
       "      <th>0</th>\n",
       "      <td>3DS</td>\n",
       "      <td>0.357057</td>\n",
       "    </tr>\n",
       "    <tr>\n",
       "      <th>18</th>\n",
       "      <td>X360</td>\n",
       "      <td>0.350345</td>\n",
       "    </tr>\n",
       "    <tr>\n",
       "      <th>6</th>\n",
       "      <td>PS3</td>\n",
       "      <td>0.334285</td>\n",
       "    </tr>\n",
       "    <tr>\n",
       "      <th>12</th>\n",
       "      <td>PSV</td>\n",
       "      <td>0.254742</td>\n",
       "    </tr>\n",
       "    <tr>\n",
       "      <th>4</th>\n",
       "      <td>PC</td>\n",
       "      <td>0.196030</td>\n",
       "    </tr>\n",
       "  </tbody>\n",
       "</table>\n",
       "</div>"
      ],
      "text/plain": [
       "   platform  critic_score\n",
       "20     XOne      0.416998\n",
       "8       PS4      0.406568\n",
       "16     WiiU      0.376415\n",
       "0       3DS      0.357057\n",
       "18     X360      0.350345\n",
       "6       PS3      0.334285\n",
       "12      PSV      0.254742\n",
       "4        PC      0.196030"
      ]
     },
     "execution_count": 45,
     "metadata": {},
     "output_type": "execute_result"
    }
   ],
   "source": [
    "#посчитаем корреляции  продаж для других платформ с отзывами критиков \n",
    "g0 = df_actual_years.groupby('platform')[['total_sales', 'critic_score']].corr().reset_index()\n",
    "g1=g0.query('level_1 == \"total_sales\" and ~critic_score.isna()')\n",
    "#отсортируем по самой высокой корреляции\n",
    "g2=g1.loc[:,['platform','critic_score']].sort_values(by='critic_score',ascending=False)\n",
    "g2"
   ]
  },
  {
   "cell_type": "markdown",
   "id": "72305f47",
   "metadata": {},
   "source": [
    "Самая высокая корреляция у платформы PS,но это все еще не очевидная сильная зависимость. Наименьшая зависимость от оценки критиков у игры на платформе PSV."
   ]
  },
  {
   "cell_type": "code",
   "execution_count": 46,
   "id": "d2e4a841",
   "metadata": {
    "scrolled": false
   },
   "outputs": [
    {
     "data": {
      "image/png": "[encoded data removed]",
      "text/plain": [
       "<Figure size 648x432 with 1 Axes>"
      ]
     },
     "metadata": {
      "needs_background": "light"
     },
     "output_type": "display_data"
    },
    {
     "data": {
      "image/png": "[encoded data removed]",
      "text/plain": [
       "<Figure size 648x432 with 1 Axes>"
      ]
     },
     "metadata": {
      "needs_background": "light"
     },
     "output_type": "display_data"
    },
    {
     "data": {
      "image/png": "[encoded data removed]",
      "text/plain": [
       "<Figure size 648x432 with 1 Axes>"
      ]
     },
     "metadata": {
      "needs_background": "light"
     },
     "output_type": "display_data"
    },
    {
     "data": {
      "image/png": "[encoded data removed]",
      "text/plain": [
       "<Figure size 648x432 with 1 Axes>"
      ]
     },
     "metadata": {
      "needs_background": "light"
     },
     "output_type": "display_data"
    },
    {
     "data": {
      "image/png": "[encoded data removed]",
      "text/plain": [
       "<Figure size 648x432 with 1 Axes>"
      ]
     },
     "metadata": {
      "needs_background": "light"
     },
     "output_type": "display_data"
    },
    {
     "data": {
      "image/png": "[encoded data removed]",
      "text/plain": [
       "<Figure size 648x432 with 1 Axes>"
      ]
     },
     "metadata": {
      "needs_background": "light"
     },
     "output_type": "display_data"
    },
    {
     "data": {
      "image/png": "[encoded data removed]",
      "text/plain": [
       "<Figure size 648x432 with 1 Axes>"
      ]
     },
     "metadata": {
      "needs_background": "light"
     },
     "output_type": "display_data"
    },
    {
     "data": {
      "image/png": "[encoded data removed]",
      "text/plain": [
       "<Figure size 648x432 with 1 Axes>"
      ]
     },
     "metadata": {
      "needs_background": "light"
     },
     "output_type": "display_data"
    }
   ],
   "source": [
    "#напишем цикл, который построит диаграмму разброса для всех платформ\n",
    "platform_critic_score=g2['platform']\n",
    "for p in platform_critic_score:\n",
    "    data=df_actual_years.query('platform == @p')\n",
    "    data.plot(title='Взаимосвязь продаж и рейтинга пользователей '+p,x='user_score', y='total_sales',\n",
    "         kind='scatter', alpha=0.5, figsize=(9,6));"
   ]
  },
  {
   "cell_type": "code",
   "execution_count": 47,
   "id": "4bc54704",
   "metadata": {
    "scrolled": true
   },
   "outputs": [
    {
     "data": {
      "text/html": [
       "<div>\n",
       "<style scoped>\n",
       "    .dataframe tbody tr th:only-of-type {\n",
       "        vertical-align: middle;\n",
       "    }\n",
       "\n",
       "    .dataframe tbody tr th {\n",
       "        vertical-align: top;\n",
       "    }\n",
       "\n",
       "    .dataframe thead th {\n",
       "        text-align: right;\n",
       "    }\n",
       "</style>\n",
       "<table border=\"1\" class=\"dataframe\">\n",
       "  <thead>\n",
       "    <tr style=\"text-align: right;\">\n",
       "      <th></th>\n",
       "      <th>platform</th>\n",
       "      <th>user_score</th>\n",
       "    </tr>\n",
       "  </thead>\n",
       "  <tbody>\n",
       "    <tr>\n",
       "      <th>14</th>\n",
       "      <td>Wii</td>\n",
       "      <td>0.682942</td>\n",
       "    </tr>\n",
       "    <tr>\n",
       "      <th>16</th>\n",
       "      <td>WiiU</td>\n",
       "      <td>0.419330</td>\n",
       "    </tr>\n",
       "    <tr>\n",
       "      <th>0</th>\n",
       "      <td>3DS</td>\n",
       "      <td>0.241504</td>\n",
       "    </tr>\n",
       "    <tr>\n",
       "      <th>6</th>\n",
       "      <td>PS3</td>\n",
       "      <td>0.002394</td>\n",
       "    </tr>\n",
       "    <tr>\n",
       "      <th>12</th>\n",
       "      <td>PSV</td>\n",
       "      <td>0.000942</td>\n",
       "    </tr>\n",
       "    <tr>\n",
       "      <th>18</th>\n",
       "      <td>X360</td>\n",
       "      <td>-0.011742</td>\n",
       "    </tr>\n",
       "    <tr>\n",
       "      <th>8</th>\n",
       "      <td>PS4</td>\n",
       "      <td>-0.031957</td>\n",
       "    </tr>\n",
       "    <tr>\n",
       "      <th>20</th>\n",
       "      <td>XOne</td>\n",
       "      <td>-0.068925</td>\n",
       "    </tr>\n",
       "    <tr>\n",
       "      <th>4</th>\n",
       "      <td>PC</td>\n",
       "      <td>-0.093842</td>\n",
       "    </tr>\n",
       "    <tr>\n",
       "      <th>10</th>\n",
       "      <td>PSP</td>\n",
       "      <td>-1.000000</td>\n",
       "    </tr>\n",
       "  </tbody>\n",
       "</table>\n",
       "</div>"
      ],
      "text/plain": [
       "   platform  user_score\n",
       "14      Wii    0.682942\n",
       "16     WiiU    0.419330\n",
       "0       3DS    0.241504\n",
       "6       PS3    0.002394\n",
       "12      PSV    0.000942\n",
       "18     X360   -0.011742\n",
       "8       PS4   -0.031957\n",
       "20     XOne   -0.068925\n",
       "4        PC   -0.093842\n",
       "10      PSP   -1.000000"
      ]
     },
     "execution_count": 47,
     "metadata": {},
     "output_type": "execute_result"
    }
   ],
   "source": [
    "#посчитаем корреляции  продаж для других платформ с отзывами пользователей \n",
    "g = df_actual_years.groupby('platform')[['total_sales', 'user_score']].corr().reset_index()\n",
    "g3=g.query('level_1 == \"total_sales\" and ~user_score.isna()')\n",
    "#отсортируем по самой высокой корреляции\n",
    "g4=g3.loc[:,['platform','user_score']].sort_values(by='user_score',ascending=False)\n",
    "g4"
   ]
  },
  {
   "cell_type": "code",
   "execution_count": 48,
   "id": "70c0b7eb",
   "metadata": {
    "scrolled": true
   },
   "outputs": [
    {
     "data": {
      "image/png": "[encoded data removed]",
      "text/plain": [
       "<Figure size 648x432 with 1 Axes>"
      ]
     },
     "metadata": {
      "needs_background": "light"
     },
     "output_type": "display_data"
    },
    {
     "data": {
      "image/png": "[encoded data removed]",
      "text/plain": [
       "<Figure size 648x432 with 1 Axes>"
      ]
     },
     "metadata": {
      "needs_background": "light"
     },
     "output_type": "display_data"
    },
    {
     "data": {
      "image/png": "[encoded data removed]",
      "text/plain": [
       "<Figure size 648x432 with 1 Axes>"
      ]
     },
     "metadata": {
      "needs_background": "light"
     },
     "output_type": "display_data"
    },
    {
     "data": {
      "image/png": "[encoded data removed]",
      "text/plain": [
       "<Figure size 648x432 with 1 Axes>"
      ]
     },
     "metadata": {
      "needs_background": "light"
     },
     "output_type": "display_data"
    },
    {
     "data": {
      "image/png": "[encoded data removed]",
      "text/plain": [
       "<Figure size 648x432 with 1 Axes>"
      ]
     },
     "metadata": {
      "needs_background": "light"
     },
     "output_type": "display_data"
    },
    {
     "data": {
      "image/png": "[encoded data removed]",
      "text/plain": [
       "<Figure size 648x432 with 1 Axes>"
      ]
     },
     "metadata": {
      "needs_background": "light"
     },
     "output_type": "display_data"
    },
    {
     "data": {
      "image/png": "[encoded data removed]",
      "text/plain": [
       "<Figure size 648x432 with 1 Axes>"
      ]
     },
     "metadata": {
      "needs_background": "light"
     },
     "output_type": "display_data"
    },
    {
     "data": {
      "image/png": "[encoded data removed]",
      "text/plain": [
       "<Figure size 648x432 with 1 Axes>"
      ]
     },
     "metadata": {
      "needs_background": "light"
     },
     "output_type": "display_data"
    },
    {
     "data": {
      "image/png": "[encoded data removed]",
      "text/plain": [
       "<Figure size 648x432 with 1 Axes>"
      ]
     },
     "metadata": {
      "needs_background": "light"
     },
     "output_type": "display_data"
    },
    {
     "data": {
      "image/png": "[encoded data removed]",
      "text/plain": [
       "<Figure size 648x432 with 1 Axes>"
      ]
     },
     "metadata": {
      "needs_background": "light"
     },
     "output_type": "display_data"
    }
   ],
   "source": [
    "#напишем цикл, который построит диаграмму разброса для всех платформ\n",
    "platform_user_score=g4['platform']\n",
    "for p in platform_user_score:\n",
    "    data=df_actual_years.query('platform == @p')\n",
    "    data.plot(title='Взаимосвязь продаж и рейтинга пользователей '+p,x='user_score', y='total_sales',\n",
    "         kind='scatter', alpha=0.8, figsize=(9,6));"
   ]
  },
  {
   "cell_type": "markdown",
   "id": "cbde3819",
   "metadata": {},
   "source": [
    "С оценками пользователей ситуация несколько иная чем с оценками критиков. Наибольшая корреляция у платформы  WiiU 0.4, в то время как у рассмотренной ранее PS4 взаимосвязь оценками пользователей была отрицательной -0.03."
   ]
  },
  {
   "attachments": {
    "image.png": {
     "image/png": "[encoded data removed]"
    }
   },
   "cell_type": "markdown",
   "id": "ef7ed797",
   "metadata": {},
   "source": [
    "<font color='DarkBlue'><b>Комментарий ревьюера 2</b></font><br>\n",
    "<font color='DarkGreen'>👌 Для оценки корреляции лучше пользоваться вот этой шкалой:</font>\n",
    "![image.png](attachment:image.png)"
   ]
  },
  {
   "cell_type": "markdown",
   "id": "237840bb",
   "metadata": {},
   "source": [
    "Посмотрим на общее распределение игр по жанрам. "
   ]
  },
  {
   "cell_type": "code",
   "execution_count": 49,
   "id": "00c64ddb",
   "metadata": {
    "scrolled": true
   },
   "outputs": [
    {
     "data": {
      "image/png": "[encoded data removed]",
      "text/plain": [
       "<Figure size 576x432 with 1 Axes>"
      ]
     },
     "metadata": {
      "needs_background": "light"
     },
     "output_type": "display_data"
    }
   ],
   "source": [
    "#построим график продаж по жанрам в период 2010-2016гг\n",
    "total_sales_by_genre=df_actual_years.pivot_table(index='genre', values='total_sales', aggfunc=('sum','count'))\n",
    "total_sales_by_genre.columns=('total_games_count','total_sales')\n",
    "total_sales_by_genre.sort_values(by='total_sales', ascending=False).plot(title='Продажи по жанрам игр в период 2010-2016',kind='bar',figsize=(8,6));"
   ]
  },
  {
   "cell_type": "markdown",
   "id": "98789e6f",
   "metadata": {},
   "source": [
    "Больше всего игр выходит так же в жанрах экшн и шутер,меньше всего - паззл."
   ]
  },
  {
   "cell_type": "code",
   "execution_count": 50,
   "id": "858af165",
   "metadata": {},
   "outputs": [
    {
     "data": {
      "text/plain": [
       "(0.0, 2.0)"
      ]
     },
     "execution_count": 50,
     "metadata": {},
     "output_type": "execute_result"
    },
    {
     "data": {
      "image/png": "[encoded data removed]",
      "text/plain": [
       "<Figure size 1080x576 with 1 Axes>"
      ]
     },
     "metadata": {
      "needs_background": "light"
     },
     "output_type": "display_data"
    }
   ],
   "source": [
    "#добавим сравнение медианных продаж по жанрам, для этого построим диаграммы размаха\n",
    "plt.figure(figsize=(15, 8))\n",
    "ax=sns.boxplot(data = df_actual_years,\n",
    "               x='genre',\n",
    "               y='total_sales');\n",
    "plt.ylim(0,2)"
   ]
  },
  {
   "cell_type": "markdown",
   "id": "442c5943",
   "metadata": {},
   "source": [
    "Медианная продажа выше всего у жанра шутер с достаточно большим отрывом, на втором месте спорт. Самые маленькие у жанров паззл и приключения."
   ]
  },
  {
   "cell_type": "markdown",
   "id": "dd6c0508",
   "metadata": {},
   "source": [
    "## Портрет пользователя"
   ]
  },
  {
   "cell_type": "code",
   "execution_count": 51,
   "id": "13b78ca3",
   "metadata": {},
   "outputs": [
    {
     "data": {
      "text/html": [
       "<div>\n",
       "<style scoped>\n",
       "    .dataframe tbody tr th:only-of-type {\n",
       "        vertical-align: middle;\n",
       "    }\n",
       "\n",
       "    .dataframe tbody tr th {\n",
       "        vertical-align: top;\n",
       "    }\n",
       "\n",
       "    .dataframe thead th {\n",
       "        text-align: right;\n",
       "    }\n",
       "</style>\n",
       "<table border=\"1\" class=\"dataframe\">\n",
       "  <thead>\n",
       "    <tr style=\"text-align: right;\">\n",
       "      <th></th>\n",
       "      <th>eu_sales</th>\n",
       "      <th>jp_sales</th>\n",
       "      <th>na_sales</th>\n",
       "    </tr>\n",
       "    <tr>\n",
       "      <th>platform</th>\n",
       "      <th></th>\n",
       "      <th></th>\n",
       "      <th></th>\n",
       "    </tr>\n",
       "  </thead>\n",
       "  <tbody>\n",
       "    <tr>\n",
       "      <th>3DS</th>\n",
       "      <td>30.96</td>\n",
       "      <td>67.81</td>\n",
       "      <td>38.20</td>\n",
       "    </tr>\n",
       "    <tr>\n",
       "      <th>DS</th>\n",
       "      <td>0.85</td>\n",
       "      <td>0.00</td>\n",
       "      <td>0.57</td>\n",
       "    </tr>\n",
       "    <tr>\n",
       "      <th>PC</th>\n",
       "      <td>25.36</td>\n",
       "      <td>0.00</td>\n",
       "      <td>11.11</td>\n",
       "    </tr>\n",
       "    <tr>\n",
       "      <th>PS3</th>\n",
       "      <td>67.81</td>\n",
       "      <td>23.35</td>\n",
       "      <td>63.50</td>\n",
       "    </tr>\n",
       "    <tr>\n",
       "      <th>PS4</th>\n",
       "      <td>141.09</td>\n",
       "      <td>15.96</td>\n",
       "      <td>108.74</td>\n",
       "    </tr>\n",
       "    <tr>\n",
       "      <th>PSP</th>\n",
       "      <td>0.17</td>\n",
       "      <td>3.29</td>\n",
       "      <td>0.00</td>\n",
       "    </tr>\n",
       "    <tr>\n",
       "      <th>PSV</th>\n",
       "      <td>6.10</td>\n",
       "      <td>18.59</td>\n",
       "      <td>5.04</td>\n",
       "    </tr>\n",
       "    <tr>\n",
       "      <th>Wii</th>\n",
       "      <td>5.93</td>\n",
       "      <td>0.05</td>\n",
       "      <td>6.56</td>\n",
       "    </tr>\n",
       "    <tr>\n",
       "      <th>WiiU</th>\n",
       "      <td>19.85</td>\n",
       "      <td>10.88</td>\n",
       "      <td>29.21</td>\n",
       "    </tr>\n",
       "    <tr>\n",
       "      <th>X360</th>\n",
       "      <td>42.52</td>\n",
       "      <td>0.51</td>\n",
       "      <td>81.66</td>\n",
       "    </tr>\n",
       "    <tr>\n",
       "      <th>XOne</th>\n",
       "      <td>51.59</td>\n",
       "      <td>0.34</td>\n",
       "      <td>93.12</td>\n",
       "    </tr>\n",
       "  </tbody>\n",
       "</table>\n",
       "</div>"
      ],
      "text/plain": [
       "          eu_sales  jp_sales  na_sales\n",
       "platform                              \n",
       "3DS          30.96     67.81     38.20\n",
       "DS            0.85      0.00      0.57\n",
       "PC           25.36      0.00     11.11\n",
       "PS3          67.81     23.35     63.50\n",
       "PS4         141.09     15.96    108.74\n",
       "PSP           0.17      3.29      0.00\n",
       "PSV           6.10     18.59      5.04\n",
       "Wii           5.93      0.05      6.56\n",
       "WiiU         19.85     10.88     29.21\n",
       "X360         42.52      0.51     81.66\n",
       "XOne         51.59      0.34     93.12"
      ]
     },
     "execution_count": 51,
     "metadata": {},
     "output_type": "execute_result"
    }
   ],
   "source": [
    "#посмотрим распределение продаж по платформах в разных регионах\n",
    "region_sales_by_platform = df_actual_years.pivot_table(index='platform',values=('na_sales','eu_sales','jp_sales'), aggfunc='sum')\n",
    "region_sales_by_platform"
   ]
  },
  {
   "cell_type": "code",
   "execution_count": 52,
   "id": "c5dd02ac",
   "metadata": {},
   "outputs": [
    {
     "data": {
      "image/png": "[encoded data removed]",
      "text/plain": [
       "<Figure size 936x576 with 3 Axes>"
      ]
     },
     "metadata": {
      "needs_background": "light"
     },
     "output_type": "display_data"
    }
   ],
   "source": [
    "#построим график топ-5 платформ в каждом регионе\n",
    "fig,(gr1,gr2,gr3)=plt.subplots(1,3)\n",
    "region_sales_by_platform['eu_sales'].sort_values(ascending=False).head().plot(ax=gr1,title='Топ-5 платформ в Европе',kind='bar', figsize=(13,8), color='green');\n",
    "region_sales_by_platform['jp_sales'].sort_values(ascending=False).head().plot(ax=gr2,title='Топ-5 платформ в Японии',kind='bar',color='orange');\n",
    "region_sales_by_platform['na_sales'].sort_values(ascending=False).head().plot(ax=gr3,title='Топ-5 платформ в Северной Америке',kind='bar');"
   ]
  },
  {
   "cell_type": "markdown",
   "id": "67fd7268",
   "metadata": {},
   "source": [
    "PS3 и PS4 входит в топ-5 во всех регионах, однако лидер продаж в каждом регионе свой - PS4  в Европе и Северной Америке и  3DS в Японии. Вцелом рынок Японии достаточно сильно отличается набором популярных платформ - в топ 5 водит WiiU, в Америке и Европе она не попала в топ."
   ]
  },
  {
   "cell_type": "code",
   "execution_count": 53,
   "id": "7c1daa0f",
   "metadata": {
    "scrolled": true
   },
   "outputs": [
    {
     "data": {
      "text/html": [
       "<div>\n",
       "<style scoped>\n",
       "    .dataframe tbody tr th:only-of-type {\n",
       "        vertical-align: middle;\n",
       "    }\n",
       "\n",
       "    .dataframe tbody tr th {\n",
       "        vertical-align: top;\n",
       "    }\n",
       "\n",
       "    .dataframe thead th {\n",
       "        text-align: right;\n",
       "    }\n",
       "</style>\n",
       "<table border=\"1\" class=\"dataframe\">\n",
       "  <thead>\n",
       "    <tr style=\"text-align: right;\">\n",
       "      <th></th>\n",
       "      <th>eu_sales</th>\n",
       "      <th>jp_sales</th>\n",
       "      <th>na_sales</th>\n",
       "    </tr>\n",
       "    <tr>\n",
       "      <th>genre</th>\n",
       "      <th></th>\n",
       "      <th></th>\n",
       "      <th></th>\n",
       "    </tr>\n",
       "  </thead>\n",
       "  <tbody>\n",
       "    <tr>\n",
       "      <th>Action</th>\n",
       "      <td>118.13</td>\n",
       "      <td>40.49</td>\n",
       "      <td>126.05</td>\n",
       "    </tr>\n",
       "    <tr>\n",
       "      <th>Adventure</th>\n",
       "      <td>8.25</td>\n",
       "      <td>5.82</td>\n",
       "      <td>7.14</td>\n",
       "    </tr>\n",
       "    <tr>\n",
       "      <th>Fighting</th>\n",
       "      <td>8.55</td>\n",
       "      <td>7.65</td>\n",
       "      <td>15.55</td>\n",
       "    </tr>\n",
       "    <tr>\n",
       "      <th>Misc</th>\n",
       "      <td>20.04</td>\n",
       "      <td>9.20</td>\n",
       "      <td>27.49</td>\n",
       "    </tr>\n",
       "    <tr>\n",
       "      <th>Platform</th>\n",
       "      <td>15.58</td>\n",
       "      <td>4.79</td>\n",
       "      <td>18.14</td>\n",
       "    </tr>\n",
       "    <tr>\n",
       "      <th>Puzzle</th>\n",
       "      <td>1.00</td>\n",
       "      <td>1.18</td>\n",
       "      <td>0.83</td>\n",
       "    </tr>\n",
       "    <tr>\n",
       "      <th>Racing</th>\n",
       "      <td>20.19</td>\n",
       "      <td>2.30</td>\n",
       "      <td>12.96</td>\n",
       "    </tr>\n",
       "    <tr>\n",
       "      <th>Role-Playing</th>\n",
       "      <td>36.97</td>\n",
       "      <td>51.04</td>\n",
       "      <td>46.40</td>\n",
       "    </tr>\n",
       "    <tr>\n",
       "      <th>Shooter</th>\n",
       "      <td>87.86</td>\n",
       "      <td>6.61</td>\n",
       "      <td>109.74</td>\n",
       "    </tr>\n",
       "    <tr>\n",
       "      <th>Simulation</th>\n",
       "      <td>10.92</td>\n",
       "      <td>4.52</td>\n",
       "      <td>4.86</td>\n",
       "    </tr>\n",
       "    <tr>\n",
       "      <th>Sports</th>\n",
       "      <td>60.52</td>\n",
       "      <td>5.41</td>\n",
       "      <td>65.27</td>\n",
       "    </tr>\n",
       "    <tr>\n",
       "      <th>Strategy</th>\n",
       "      <td>4.22</td>\n",
       "      <td>1.77</td>\n",
       "      <td>3.28</td>\n",
       "    </tr>\n",
       "  </tbody>\n",
       "</table>\n",
       "</div>"
      ],
      "text/plain": [
       "              eu_sales  jp_sales  na_sales\n",
       "genre                                     \n",
       "Action          118.13     40.49    126.05\n",
       "Adventure         8.25      5.82      7.14\n",
       "Fighting          8.55      7.65     15.55\n",
       "Misc             20.04      9.20     27.49\n",
       "Platform         15.58      4.79     18.14\n",
       "Puzzle            1.00      1.18      0.83\n",
       "Racing           20.19      2.30     12.96\n",
       "Role-Playing     36.97     51.04     46.40\n",
       "Shooter          87.86      6.61    109.74\n",
       "Simulation       10.92      4.52      4.86\n",
       "Sports           60.52      5.41     65.27\n",
       "Strategy          4.22      1.77      3.28"
      ]
     },
     "execution_count": 53,
     "metadata": {},
     "output_type": "execute_result"
    }
   ],
   "source": [
    "#посмотрим распределение продаж по жанрам в разных регионах\n",
    "region_sales_by_genre=df_actual_years.pivot_table(index='genre',values=('na_sales','eu_sales','jp_sales'),aggfunc='sum')\n",
    "region_sales_by_genre"
   ]
  },
  {
   "cell_type": "code",
   "execution_count": 54,
   "id": "f4b1f99b",
   "metadata": {},
   "outputs": [
    {
     "data": {
      "image/png": "[encoded data removed]",
      "text/plain": [
       "<Figure size 936x576 with 3 Axes>"
      ]
     },
     "metadata": {
      "needs_background": "light"
     },
     "output_type": "display_data"
    }
   ],
   "source": [
    "#построим график топ-5 жанров в каждом регионе\n",
    "fig,(gr1,gr2,gr3)=plt.subplots(1,3)\n",
    "region_sales_by_genre['eu_sales'].sort_values(ascending=False).head().plot(ax=gr1,title='Топ-5 жанров в Европе',kind='bar', figsize=(13,8),color='green');\n",
    "region_sales_by_genre['jp_sales'].sort_values(ascending=False).head().plot(ax=gr2,title='Топ-5 жанров в Японии',kind='bar',color='orange');\n",
    "region_sales_by_genre['na_sales'].sort_values(ascending=False).head().plot(ax=gr3,title='Топ-5 жанров в Северной Америке',kind='bar');"
   ]
  },
  {
   "cell_type": "markdown",
   "id": "c41f8799",
   "metadata": {},
   "source": [
    "В Северной Америке и Европе предпочтения схожи - первые два места занимают жанры экшн и шутер. А вот в Японии лидирует жанр ролевой игры, а потом уже экшн. "
   ]
  },
  {
   "cell_type": "markdown",
   "id": "47d54528",
   "metadata": {},
   "source": [
    "Влияние рейтинга ESRB на продажи в регионах."
   ]
  },
  {
   "cell_type": "code",
   "execution_count": 55,
   "id": "f38a1245",
   "metadata": {},
   "outputs": [
    {
     "data": {
      "text/html": [
       "<div>\n",
       "<style scoped>\n",
       "    .dataframe tbody tr th:only-of-type {\n",
       "        vertical-align: middle;\n",
       "    }\n",
       "\n",
       "    .dataframe tbody tr th {\n",
       "        vertical-align: top;\n",
       "    }\n",
       "\n",
       "    .dataframe thead th {\n",
       "        text-align: right;\n",
       "    }\n",
       "</style>\n",
       "<table border=\"1\" class=\"dataframe\">\n",
       "  <thead>\n",
       "    <tr style=\"text-align: right;\">\n",
       "      <th></th>\n",
       "      <th>eu_sales</th>\n",
       "      <th>jp_sales</th>\n",
       "      <th>na_sales</th>\n",
       "    </tr>\n",
       "    <tr>\n",
       "      <th>rating</th>\n",
       "      <th></th>\n",
       "      <th></th>\n",
       "      <th></th>\n",
       "    </tr>\n",
       "  </thead>\n",
       "  <tbody>\n",
       "    <tr>\n",
       "      <th>E</th>\n",
       "      <td>83.36</td>\n",
       "      <td>15.14</td>\n",
       "      <td>79.05</td>\n",
       "    </tr>\n",
       "    <tr>\n",
       "      <th>E10+</th>\n",
       "      <td>42.69</td>\n",
       "      <td>5.89</td>\n",
       "      <td>54.24</td>\n",
       "    </tr>\n",
       "    <tr>\n",
       "      <th>M</th>\n",
       "      <td>145.32</td>\n",
       "      <td>14.11</td>\n",
       "      <td>165.21</td>\n",
       "    </tr>\n",
       "    <tr>\n",
       "      <th>NR</th>\n",
       "      <td>78.91</td>\n",
       "      <td>85.05</td>\n",
       "      <td>89.42</td>\n",
       "    </tr>\n",
       "    <tr>\n",
       "      <th>T</th>\n",
       "      <td>41.95</td>\n",
       "      <td>20.59</td>\n",
       "      <td>49.79</td>\n",
       "    </tr>\n",
       "  </tbody>\n",
       "</table>\n",
       "</div>"
      ],
      "text/plain": [
       "        eu_sales  jp_sales  na_sales\n",
       "rating                              \n",
       "E          83.36     15.14     79.05\n",
       "E10+       42.69      5.89     54.24\n",
       "M         145.32     14.11    165.21\n",
       "NR         78.91     85.05     89.42\n",
       "T          41.95     20.59     49.79"
      ]
     },
     "execution_count": 55,
     "metadata": {},
     "output_type": "execute_result"
    }
   ],
   "source": [
    "esrb_by_region=df_actual_years.pivot_table(index='rating',values=('na_sales','eu_sales','jp_sales'),aggfunc='sum')\n",
    "esrb_by_region"
   ]
  },
  {
   "cell_type": "code",
   "execution_count": 56,
   "id": "c4f50001",
   "metadata": {
    "scrolled": false
   },
   "outputs": [
    {
     "data": {
      "image/png": "[encoded data removed]",
      "text/plain": [
       "<Figure size 1008x648 with 3 Axes>"
      ]
     },
     "metadata": {
      "needs_background": "light"
     },
     "output_type": "display_data"
    }
   ],
   "source": [
    "fig,(gr1,gr2,gr3)=plt.subplots(1,3)\n",
    "esrb_by_region['eu_sales'].sort_values(ascending=False).plot(ax=gr1,title='Продажи по рейтингу в Европе',kind='bar', figsize=(14,9),color='green');\n",
    "esrb_by_region['jp_sales'].sort_values(ascending=False).plot(ax=gr2,title='Продажи по рейтингу в Японии',kind='bar',color='orange');\n",
    "esrb_by_region['na_sales'].sort_values(ascending=False).plot(ax=gr3,title='Продажи по рейтингу в Северной Америке',kind='bar');"
   ]
  },
  {
   "cell_type": "markdown",
   "id": "bed97d95",
   "metadata": {},
   "source": [
    "В Северной Америке и Европе больше всего продаж игр с рейтингом M(игры для взрослых 17+), в Японии- лидируют игры, не имеющие маркировки ESRB, тк рейтинг составляется для Канады и Америки."
   ]
  },
  {
   "cell_type": "code",
   "execution_count": 57,
   "id": "12bb08db",
   "metadata": {},
   "outputs": [
    {
     "name": "stdout",
     "output_type": "stream",
     "text": [
      "0 0.0\n"
     ]
    },
    {
     "data": {
      "text/plain": [
       "NR      977\n",
       "M       369\n",
       "T       333\n",
       "E       302\n",
       "E10+    252\n",
       "Name: rating, dtype: int64"
      ]
     },
     "execution_count": 57,
     "metadata": {},
     "output_type": "execute_result"
    }
   ],
   "source": [
    "# Комментарий ревьюера\n",
    "temp = df_actual_years.copy()\n",
    "print(temp.rating.isna().sum(), temp.rating.isna().sum()/len(temp))\n",
    "temp.rating.value_counts()"
   ]
  },
  {
   "cell_type": "markdown",
   "id": "42cf40cd",
   "metadata": {},
   "source": [
    "## Проверка гипотез"
   ]
  },
  {
   "cell_type": "markdown",
   "id": "d435cb80",
   "metadata": {},
   "source": [
    "Задайте самостоятельно пороговое значение alpha.\n",
    "Поясните:\n",
    "Как вы сформулировали нулевую и альтернативную гипотезы;\n",
    "Какой критерий применили для проверки гипотез и почему.\n"
   ]
  },
  {
   "cell_type": "markdown",
   "id": "530303d6",
   "metadata": {},
   "source": [
    "### Гипотеза Средние пользовательские рейтинги платформ Xbox One и PC одинаковые;"
   ]
  },
  {
   "cell_type": "markdown",
   "id": "a42da34d",
   "metadata": {},
   "source": [
    "Сформулируем гипотезы:"
   ]
  },
  {
   "cell_type": "markdown",
   "id": "db3ec1c4",
   "metadata": {},
   "source": [
    " - H_0: Пользовательский рейтинг (user_score) платформы Xbox One равнен пользовательсому рейтингу (user_score) платформы PC\n",
    " - H_a: Пользовательский рейтинг (user_score) платформы Xbox One не равен пользовательскому рейтингу (user_score) платформы PC\n",
    " - alpha = 0.05"
   ]
  },
  {
   "cell_type": "markdown",
   "id": "07989d90",
   "metadata": {},
   "source": [
    "Нулевая гипотеза всегда формулируется так, чтобы использовать знак равенства. \n",
    "Формулировка альтернативной гипотезы происходит из формулировки нулевой гипотезы, тк альтернативная гипотеза это утверждение,которое принимается верным, если получается отвергнуть нулевую гипотезу.\n",
    "Следовательно нулевая гипотеза  отражает равенство пользовательских рейтингов двух платформ, а  альтернативная неравенство.\n",
    "\n",
    "Для проверки гипотез мы будем использовать метод st.ttest_ind -  он используется, если нужно сравнить средние двух  независимых генеральных совокупностей между собой по взятым из них выборкам.\n",
    "Параметр equal_var укажем равным False,тк мы не знаем точно равны ли дисперсии двух совокупностей.\n"
   ]
  },
  {
   "cell_type": "code",
   "execution_count": 58,
   "id": "9913d1d8",
   "metadata": {},
   "outputs": [
    {
     "name": "stdout",
     "output_type": "stream",
     "text": [
      "0.14759594013430463\n",
      "Не получилось отвергнуть нулевую гипотезу\n"
     ]
    }
   ],
   "source": [
    "pt1=df_actual_years.query('platform == \"XOne\" and ~user_score.isna()')['user_score']\n",
    "pt2=df_actual_years.query('platform == \"PC\"and ~user_score.isna()')['user_score']\n",
    "\n",
    "# results = вызов метода для проверки гипотезы\n",
    "results = st.ttest_ind(pt1,pt2,equal_var = False)\n",
    "# alpha =  значение уровня значимости\n",
    "alpha = 0.05\n",
    "# вывод значения p-value на экран \n",
    "print(results.pvalue)\n",
    "if results.pvalue < alpha:\n",
    "    print('Отвергаем нулевую гипотезу')\n",
    "else: \n",
    "        print('Не получилось отвергнуть нулевую гипотезу')"
   ]
  },
  {
   "cell_type": "code",
   "execution_count": 59,
   "id": "60659bf6",
   "metadata": {
    "scrolled": true
   },
   "outputs": [
    {
     "data": {
      "text/html": [
       "<div>\n",
       "<style scoped>\n",
       "    .dataframe tbody tr th:only-of-type {\n",
       "        vertical-align: middle;\n",
       "    }\n",
       "\n",
       "    .dataframe tbody tr th {\n",
       "        vertical-align: top;\n",
       "    }\n",
       "\n",
       "    .dataframe thead th {\n",
       "        text-align: right;\n",
       "    }\n",
       "</style>\n",
       "<table border=\"1\" class=\"dataframe\">\n",
       "  <thead>\n",
       "    <tr style=\"text-align: right;\">\n",
       "      <th></th>\n",
       "      <th>user_score</th>\n",
       "    </tr>\n",
       "    <tr>\n",
       "      <th>platform</th>\n",
       "      <th></th>\n",
       "    </tr>\n",
       "  </thead>\n",
       "  <tbody>\n",
       "    <tr>\n",
       "      <th>PC</th>\n",
       "      <td>6.269677</td>\n",
       "    </tr>\n",
       "    <tr>\n",
       "      <th>XOne</th>\n",
       "      <td>6.521429</td>\n",
       "    </tr>\n",
       "  </tbody>\n",
       "</table>\n",
       "</div>"
      ],
      "text/plain": [
       "          user_score\n",
       "platform            \n",
       "PC          6.269677\n",
       "XOne        6.521429"
      ]
     },
     "execution_count": 59,
     "metadata": {},
     "output_type": "execute_result"
    }
   ],
   "source": [
    "#посчитаем медианное значение для этих двух платформ\n",
    "(df_actual_years.query('platform == \"XOne\" or platform == \"PC\"')\n",
    "                .pivot_table(index='platform',values='user_score',aggfunc='mean'))"
   ]
  },
  {
   "cell_type": "markdown",
   "id": "9c9e123a",
   "metadata": {},
   "source": [
    "По результатам теста мы не смогли отвергнуть гипотезу о равенстве пользовательских рейтингов платформ Xbox One и PC. Подсчет медианных значений подтверждает что средние значения одинаковы."
   ]
  },
  {
   "cell_type": "markdown",
   "id": "48286260",
   "metadata": {},
   "source": [
    "### Гипотеза Средние пользовательские рейтинги жанров Action (англ. «действие», экшен-игры) и Sports (англ. «спортивные соревнования») разные."
   ]
  },
  {
   "cell_type": "markdown",
   "id": "3a14eb09",
   "metadata": {},
   "source": [
    " - H_0: Пользовательский рейтинг (user_score) жанра Action равнен пользовательсому рейтингу (user_score) жанра Sports\n",
    " - H_a: Пользовательский рейтинг (user_score) жанра Action  не равнен пользовательсому рейтингу (user_score) жанра Sports\n",
    " - alpha = 0.05"
   ]
  },
  {
   "cell_type": "markdown",
   "id": "43e03acf",
   "metadata": {},
   "source": [
    "Нулевая гипотеза всегда формулируется так, чтобы использовать знак равенства. \n",
    "Формулировка альтернативной гипотезы происходит из формулировки нулевой гипотезы, тк альтернативная гипотеза это утверждение,которое принимается верным, если получается отвергнуть нулевую гипотезу.\n",
    "Следовательно нулевая гипотеза  отражает равенство пользовательских рейтингов двух жанров игр, а  альтернативная неравенство.\n",
    "\n",
    "Для проверки гипотез мы будем использовать метод st.ttest_ind -  он используется, если нужно сравнить средние двух  независимых генеральных совокупностей между собой по взятым из них выборкам.\n",
    "Параметр equal_var укажем равным False,тк мы не знаем точно равны ли дисперсии двух совокупностей."
   ]
  },
  {
   "cell_type": "code",
   "execution_count": 60,
   "id": "d1e49f59",
   "metadata": {},
   "outputs": [
    {
     "name": "stdout",
     "output_type": "stream",
     "text": [
      "1.4460039700704315e-20\n",
      "Отвергаем нулевую гипотезу\n"
     ]
    }
   ],
   "source": [
    "pt3=df_actual_years.query('genre == \"Action\" and ~user_score.isna()')['user_score']\n",
    "pt4=df_actual_years.query('genre == \"Sports\"and ~user_score.isna()')['user_score']\n",
    "\n",
    "# results = вызов метода для проверки гипотезы\n",
    "results = st.ttest_ind(pt3,pt4,equal_var = False)\n",
    "# alpha =  значение уровня значимости\n",
    "alpha = 0.05\n",
    "# вывод значения p-value на экран \n",
    "print(results.pvalue)\n",
    "if results.pvalue < alpha:\n",
    "    print('Отвергаем нулевую гипотезу')\n",
    "else: \n",
    "        print('Не получилось отвергнуть нулевую гипотезу')"
   ]
  },
  {
   "cell_type": "code",
   "execution_count": 61,
   "id": "521acdd4",
   "metadata": {
    "scrolled": true
   },
   "outputs": [
    {
     "data": {
      "text/html": [
       "<div>\n",
       "<style scoped>\n",
       "    .dataframe tbody tr th:only-of-type {\n",
       "        vertical-align: middle;\n",
       "    }\n",
       "\n",
       "    .dataframe tbody tr th {\n",
       "        vertical-align: top;\n",
       "    }\n",
       "\n",
       "    .dataframe thead th {\n",
       "        text-align: right;\n",
       "    }\n",
       "</style>\n",
       "<table border=\"1\" class=\"dataframe\">\n",
       "  <thead>\n",
       "    <tr style=\"text-align: right;\">\n",
       "      <th></th>\n",
       "      <th>user_score</th>\n",
       "    </tr>\n",
       "    <tr>\n",
       "      <th>genre</th>\n",
       "      <th></th>\n",
       "    </tr>\n",
       "  </thead>\n",
       "  <tbody>\n",
       "    <tr>\n",
       "      <th>Action</th>\n",
       "      <td>6.837532</td>\n",
       "    </tr>\n",
       "    <tr>\n",
       "      <th>Sports</th>\n",
       "      <td>5.238125</td>\n",
       "    </tr>\n",
       "  </tbody>\n",
       "</table>\n",
       "</div>"
      ],
      "text/plain": [
       "        user_score\n",
       "genre             \n",
       "Action    6.837532\n",
       "Sports    5.238125"
      ]
     },
     "execution_count": 61,
     "metadata": {},
     "output_type": "execute_result"
    }
   ],
   "source": [
    "(df_actual_years.query('genre == \"Action\" or genre == \"Sports\"')\n",
    "                .pivot_table(index='genre',values='user_score',aggfunc='mean'))"
   ]
  },
  {
   "cell_type": "markdown",
   "id": "515251fa",
   "metadata": {},
   "source": [
    "По результатам теста мы отвергаем гипотезу о равенстве пользовательских рейтингов жанров Action и. Sports. Подсчет медианных значений подтверждает что средние значения различаются."
   ]
  },
  {
   "cell_type": "markdown",
   "id": "b281fb67",
   "metadata": {},
   "source": [
    "## Общий вывод"
   ]
  },
  {
   "cell_type": "markdown",
   "id": "fecc92c1",
   "metadata": {},
   "source": [
    "**Поставленная задача - определить закономерности успешности игры для планирования рекламных кампаний и закупок игр для магазина.** Для анализы взяты исторические данные из открытых источников о продажах игр, оценках пользователей и экспертов,платформах и жанрах игр.\n",
    "\n",
    "**Проведена предобработка данных**. Названия столбцов приведены к нижнему регистру,изменен тип данных в столбцах год выпуска и рейтинг пользователей, удалены строки с пропусками в годах выпуска игры. Вероятно была техническая ошибка в выгрузке, тк отсутствует более 40% данных по оценкам пользователей и критиков.\n",
    "\n",
    "**Проведен исследовательский анализ данных**\n",
    "Количество выпускаемых игр существенно выросло после 2000 года. После 2009 года пошел спад, что скорее всего связано с развитием рынка мобильных игр и \"утечкой\" игроков в сегмент мобильных игр.Срок жизни платформы примерно 10 лет, платформы достигают пика примерно через 4 года, потом наблюдается спад.\n",
    "\n",
    "Обозначим актуальный период для прогноза на будущий год - 4 года, для учета глобального тренда на спад за последние годы. Дальнейшие расчеты проведены для данных с 2013 года включительно.\n",
    "\n",
    "С 2010 по 2016 гг наблюдается падение продаж на всех платформах. В 2016г больше всего продаж было на платформах PS4,XOne и 3DS. В 2013 году появились две новые платформы - PS4 и XOne,они же самые прибыльные в 2016г. Не смотря на то, что эти платформы показывают падение продаж в 2016, они могут быть потенциально прибыльны, тк были созданы совсем недавно, вероятно будут наращивать количество продаваемых игр и сохранять интерес пользователя как новинка.\n",
    "\n",
    "Игры на 5 платформах(PS3,PS4,X360,XOne,WiiU) - в среднем получают выручки больше чем игры на других платформах.\n",
    "\n",
    "Зависимости между отзывами пользователей и продажами нет, либо она нелинейная.Вероятно игроки не следят пристально за оценками других пользователей на рекомендательных сервисах, а пользуются другими критериями при выборе игры - например, влияение может оказывать стоимость игры, отзывы друзей, жанр и др.\n",
    "\n",
    "Мнение критиков влияет на продажи сильнее, чем мнение других игроков. Это может быть связано с авторитетом лидеров мнений(блогеры,обозреватели,журналы и тематические ресуры), а так же большим охватом их аудитории. Если смотреть в распределении по странам, то оценка ползователей сильнее всего влияет в Японии, хотя это влияние все еще очень невелико.А оценка критиков сильнее всего влияет в Северной Америке.\n",
    "\n",
    "Самые прибыльные жанры - шутер и спорт, хуже всего продаются игры с жанре паззл.Больше всего игр выходит так  в жанрах экшн и шутер,при этом жанр экшн сильно лидирует.\n",
    "\n",
    "**Портрет пользователя**\n",
    "В каждом регионе есть свои предпочтения по платформам и жанрам. Особняком стоит Япония, что в целом ожидаемо.  Рынки Европы и Северной Америки схожи,хотя имеют свои особенности.\n",
    "\n",
    "PS3 и PS4 входит в топ-5 во всех регионах, однако лидер продаж в каждом регионе свой - PS4  в Европе и Северной Америке и  3DS в Японии. Вцелом рынок Японии достаточно сильно отличается набором популярных платформ - в топ 5 водит WiiU, в Америке и Европе она не попала в топ.\n",
    "\n",
    "По жанрам в Северной Америке и Европе предпочтения схожи - первые два места занимают жанры экшн и шутер. А вот в Японии лидирует жанр ролевой игры, а потом уже экшн. \n",
    "\n",
    "В Северной Америке и Европе больше всего продаж игр с рейтингом M(игры для взрослых 17+), в Японии- лидируют игры, не имеющие маркировки ESRB, тк рейтинг составляется для Канады и Америки.\n",
    "\n",
    "**Проверка гипотез**\n",
    "Проведены тесты для проверки гипотез, по итогам теста отвергнута гипотеза о равенстве пользовательских рейтингов жанров экшн и спорт.Мы наблюдалии ранее,что игры в жанре экшн занимают существенно большую долю рынка по сравнению с остальными жанрами во всех регионах. Гипотеза о равенстве пользовательских рейтингов для платформ Xone и PC не была отвергнута, рейтинги одинаковы.\n",
    "\n",
    "**Рекомендации относительно рекламных кампаний:**\n",
    "1.Наиболее популярные платформы для Европы и Северной Америки - PS4, для Японии - 3DS.\n",
    "2.Наиболее прибыльный жанр, с наибольшей медианной стоимостью - шутер и спорт. Два самых популярных жанра в Европе и Северной Америке - экшн и шутер. В Японии - ролевая игра и на втором месте экшн.\n",
    "3.Оценки пользователей и критиков не оказывают существенно влияния на продажи игр. Но мнение критиков чуть более весомо.\n",
    "4.Если фокусировать  усилия на рекламировании одной игры для каждого региона,то это будет:\n",
    "- Шутер, рейтинг ESRB M,  на платформе PS4 для Северной Америки и Европы.\n",
    "- Ролевая игра, без рейтинга ESRB, на платформе  3DS в Японии."
   ]
  }
 ],
 "metadata": {
  "ExecuteTimeLog": [
   {
    "duration": 1360,
    "start_time": "2022-12-13T11:15:41.088Z"
   },
   {
    "duration": 20,
    "start_time": "2022-12-13T11:15:42.451Z"
   },
   {
    "duration": 79,
    "start_time": "2022-12-13T11:15:42.475Z"
   },
   {
    "duration": 30,
    "start_time": "2022-12-13T11:15:42.556Z"
   },
   {
    "duration": 64,
    "start_time": "2022-12-13T11:15:42.589Z"
   },
   {
    "duration": 28,
    "start_time": "2022-12-13T11:15:42.655Z"
   },
   {
    "duration": 91,
    "start_time": "2022-12-13T11:15:42.685Z"
   },
   {
    "duration": 26,
    "start_time": "2022-12-13T11:15:42.778Z"
   },
   {
    "duration": 48,
    "start_time": "2022-12-13T11:15:42.806Z"
   },
   {
    "duration": 62,
    "start_time": "2022-12-13T11:15:42.856Z"
   },
   {
    "duration": 40,
    "start_time": "2022-12-13T11:15:42.920Z"
   },
   {
    "duration": 63,
    "start_time": "2022-12-13T11:15:42.962Z"
   },
   {
    "duration": 44,
    "start_time": "2022-12-13T11:15:43.029Z"
   },
   {
    "duration": 52,
    "start_time": "2022-12-13T11:15:43.075Z"
   },
   {
    "duration": 17,
    "start_time": "2022-12-13T11:15:43.131Z"
   },
   {
    "duration": 17,
    "start_time": "2022-12-13T11:15:43.150Z"
   },
   {
    "duration": 51,
    "start_time": "2022-12-13T11:15:43.168Z"
   },
   {
    "duration": 22,
    "start_time": "2022-12-13T11:15:43.221Z"
   },
   {
    "duration": 42,
    "start_time": "2022-12-13T11:15:43.245Z"
   },
   {
    "duration": 9,
    "start_time": "2022-12-13T11:15:43.290Z"
   },
   {
    "duration": 24,
    "start_time": "2022-12-13T11:15:43.301Z"
   },
   {
    "duration": 14,
    "start_time": "2022-12-13T11:15:43.327Z"
   },
   {
    "duration": 30,
    "start_time": "2022-12-13T11:15:43.343Z"
   },
   {
    "duration": 9,
    "start_time": "2022-12-13T11:15:43.375Z"
   },
   {
    "duration": 34,
    "start_time": "2022-12-13T11:15:43.387Z"
   },
   {
    "duration": 227,
    "start_time": "2022-12-13T11:15:43.423Z"
   },
   {
    "duration": 453,
    "start_time": "2022-12-13T11:15:43.652Z"
   },
   {
    "duration": 24,
    "start_time": "2022-12-13T11:15:44.107Z"
   },
   {
    "duration": 422,
    "start_time": "2022-12-13T11:15:44.134Z"
   },
   {
    "duration": 7,
    "start_time": "2022-12-13T11:15:44.558Z"
   },
   {
    "duration": 17,
    "start_time": "2022-12-13T11:15:44.567Z"
   },
   {
    "duration": 376,
    "start_time": "2022-12-13T11:15:44.586Z"
   },
   {
    "duration": 278,
    "start_time": "2022-12-13T11:15:44.966Z"
   },
   {
    "duration": 192,
    "start_time": "2022-12-13T11:15:45.246Z"
   },
   {
    "duration": 8,
    "start_time": "2022-12-13T11:15:45.440Z"
   },
   {
    "duration": 295,
    "start_time": "2022-12-13T11:15:45.451Z"
   },
   {
    "duration": 8,
    "start_time": "2022-12-13T11:15:45.749Z"
   },
   {
    "duration": 66,
    "start_time": "2022-12-13T11:15:45.759Z"
   },
   {
    "duration": 40,
    "start_time": "2022-12-13T11:15:45.827Z"
   },
   {
    "duration": 30,
    "start_time": "2022-12-13T11:15:45.871Z"
   },
   {
    "duration": 284,
    "start_time": "2022-12-13T11:15:45.903Z"
   },
   {
    "duration": 18,
    "start_time": "2022-12-13T11:15:46.189Z"
   },
   {
    "duration": 361,
    "start_time": "2022-12-13T11:15:46.208Z"
   },
   {
    "duration": 21,
    "start_time": "2022-12-13T11:15:46.571Z"
   },
   {
    "duration": 365,
    "start_time": "2022-12-13T11:15:46.593Z"
   },
   {
    "duration": 30,
    "start_time": "2022-12-13T11:15:46.965Z"
   },
   {
    "duration": 363,
    "start_time": "2022-12-13T11:15:46.997Z"
   },
   {
    "duration": 26,
    "start_time": "2022-12-13T11:15:47.362Z"
   },
   {
    "duration": 30,
    "start_time": "2022-12-13T11:15:47.391Z"
   },
   {
    "duration": 16,
    "start_time": "2022-12-13T11:15:47.424Z"
   },
   {
    "duration": 38,
    "start_time": "2022-12-13T11:15:47.442Z"
   },
   {
    "duration": 158,
    "start_time": "2022-12-13T12:37:40.956Z"
   },
   {
    "duration": 106,
    "start_time": "2022-12-13T12:37:44.655Z"
   },
   {
    "duration": 8,
    "start_time": "2022-12-13T12:44:55.892Z"
   },
   {
    "duration": 28,
    "start_time": "2022-12-13T12:45:01.478Z"
   },
   {
    "duration": 1064,
    "start_time": "2022-12-15T12:33:59.237Z"
   },
   {
    "duration": 97,
    "start_time": "2022-12-15T12:34:00.303Z"
   },
   {
    "duration": 16,
    "start_time": "2022-12-15T12:34:00.401Z"
   },
   {
    "duration": 28,
    "start_time": "2022-12-15T12:34:00.419Z"
   },
   {
    "duration": 32,
    "start_time": "2022-12-15T12:34:00.449Z"
   },
   {
    "duration": 34,
    "start_time": "2022-12-15T12:34:00.483Z"
   },
   {
    "duration": 38,
    "start_time": "2022-12-15T12:34:00.518Z"
   },
   {
    "duration": 41,
    "start_time": "2022-12-15T12:34:00.557Z"
   },
   {
    "duration": 48,
    "start_time": "2022-12-15T12:34:00.599Z"
   },
   {
    "duration": 47,
    "start_time": "2022-12-15T12:34:00.649Z"
   },
   {
    "duration": 37,
    "start_time": "2022-12-15T12:34:00.698Z"
   },
   {
    "duration": 33,
    "start_time": "2022-12-15T12:34:00.737Z"
   },
   {
    "duration": 40,
    "start_time": "2022-12-15T12:34:00.771Z"
   },
   {
    "duration": 39,
    "start_time": "2022-12-15T12:34:00.814Z"
   },
   {
    "duration": 22,
    "start_time": "2022-12-15T12:34:00.855Z"
   },
   {
    "duration": 54,
    "start_time": "2022-12-15T12:34:00.878Z"
   },
   {
    "duration": 37,
    "start_time": "2022-12-15T12:34:00.934Z"
   },
   {
    "duration": 60,
    "start_time": "2022-12-15T12:34:00.973Z"
   },
   {
    "duration": 11,
    "start_time": "2022-12-15T12:34:01.034Z"
   },
   {
    "duration": 45,
    "start_time": "2022-12-15T12:34:01.046Z"
   },
   {
    "duration": 16,
    "start_time": "2022-12-15T12:34:01.093Z"
   },
   {
    "duration": 34,
    "start_time": "2022-12-15T12:34:01.111Z"
   },
   {
    "duration": 36,
    "start_time": "2022-12-15T12:34:01.146Z"
   },
   {
    "duration": 42,
    "start_time": "2022-12-15T12:34:01.183Z"
   },
   {
    "duration": 22,
    "start_time": "2022-12-15T12:34:01.227Z"
   },
   {
    "duration": 18,
    "start_time": "2022-12-15T12:34:01.250Z"
   },
   {
    "duration": 25,
    "start_time": "2022-12-15T12:34:01.269Z"
   },
   {
    "duration": 33,
    "start_time": "2022-12-15T12:34:01.296Z"
   },
   {
    "duration": 48,
    "start_time": "2022-12-15T12:34:01.330Z"
   },
   {
    "duration": 98,
    "start_time": "2022-12-15T12:34:01.379Z"
   },
   {
    "duration": 167,
    "start_time": "2022-12-15T12:34:01.478Z"
   },
   {
    "duration": 338,
    "start_time": "2022-12-15T12:34:01.646Z"
   },
   {
    "duration": 13,
    "start_time": "2022-12-15T12:34:01.986Z"
   },
   {
    "duration": 284,
    "start_time": "2022-12-15T12:34:02.001Z"
   },
   {
    "duration": 6,
    "start_time": "2022-12-15T12:34:02.287Z"
   },
   {
    "duration": 24,
    "start_time": "2022-12-15T12:34:02.294Z"
   },
   {
    "duration": 256,
    "start_time": "2022-12-15T12:34:02.320Z"
   },
   {
    "duration": 225,
    "start_time": "2022-12-15T12:34:02.578Z"
   },
   {
    "duration": 348,
    "start_time": "2022-12-15T12:34:02.805Z"
   },
   {
    "duration": 150,
    "start_time": "2022-12-15T12:34:03.154Z"
   },
   {
    "duration": 4,
    "start_time": "2022-12-15T12:34:03.308Z"
   },
   {
    "duration": 147,
    "start_time": "2022-12-15T12:34:03.313Z"
   },
   {
    "duration": 4,
    "start_time": "2022-12-15T12:34:03.462Z"
   },
   {
    "duration": 34,
    "start_time": "2022-12-15T12:34:03.467Z"
   },
   {
    "duration": 27,
    "start_time": "2022-12-15T12:34:03.502Z"
   },
   {
    "duration": 1119,
    "start_time": "2022-12-15T12:34:03.530Z"
   },
   {
    "duration": 27,
    "start_time": "2022-12-15T12:34:04.651Z"
   },
   {
    "duration": 1500,
    "start_time": "2022-12-15T12:34:04.679Z"
   },
   {
    "duration": 215,
    "start_time": "2022-12-15T12:34:06.180Z"
   },
   {
    "duration": 278,
    "start_time": "2022-12-15T12:34:06.396Z"
   },
   {
    "duration": 14,
    "start_time": "2022-12-15T12:34:06.677Z"
   },
   {
    "duration": 299,
    "start_time": "2022-12-15T12:34:06.693Z"
   },
   {
    "duration": 15,
    "start_time": "2022-12-15T12:34:06.994Z"
   },
   {
    "duration": 309,
    "start_time": "2022-12-15T12:34:07.011Z"
   },
   {
    "duration": 15,
    "start_time": "2022-12-15T12:34:07.321Z"
   },
   {
    "duration": 309,
    "start_time": "2022-12-15T12:34:07.338Z"
   },
   {
    "duration": 8,
    "start_time": "2022-12-15T12:34:07.648Z"
   },
   {
    "duration": 24,
    "start_time": "2022-12-15T12:34:07.658Z"
   },
   {
    "duration": 13,
    "start_time": "2022-12-15T12:34:07.683Z"
   },
   {
    "duration": 17,
    "start_time": "2022-12-15T12:34:07.697Z"
   },
   {
    "duration": 26,
    "start_time": "2022-12-15T12:34:07.716Z"
   },
   {
    "duration": 1069,
    "start_time": "2022-12-15T12:46:09.731Z"
   },
   {
    "duration": 328,
    "start_time": "2022-12-15T12:46:10.802Z"
   },
   {
    "duration": 17,
    "start_time": "2022-12-15T12:46:11.132Z"
   },
   {
    "duration": 14,
    "start_time": "2022-12-15T12:46:11.151Z"
   },
   {
    "duration": 3,
    "start_time": "2022-12-15T12:46:11.166Z"
   },
   {
    "duration": 18,
    "start_time": "2022-12-15T12:46:11.170Z"
   },
   {
    "duration": 16,
    "start_time": "2022-12-15T12:46:11.190Z"
   },
   {
    "duration": 19,
    "start_time": "2022-12-15T12:46:11.207Z"
   },
   {
    "duration": 15,
    "start_time": "2022-12-15T12:46:11.227Z"
   },
   {
    "duration": 9,
    "start_time": "2022-12-15T12:46:11.245Z"
   },
   {
    "duration": 23,
    "start_time": "2022-12-15T12:46:11.255Z"
   },
   {
    "duration": 6,
    "start_time": "2022-12-15T12:46:11.280Z"
   },
   {
    "duration": 6,
    "start_time": "2022-12-15T12:46:11.287Z"
   },
   {
    "duration": 9,
    "start_time": "2022-12-15T12:46:11.295Z"
   },
   {
    "duration": 6,
    "start_time": "2022-12-15T12:46:11.306Z"
   },
   {
    "duration": 8,
    "start_time": "2022-12-15T12:46:11.313Z"
   },
   {
    "duration": 6,
    "start_time": "2022-12-15T12:46:11.322Z"
   },
   {
    "duration": 21,
    "start_time": "2022-12-15T12:46:11.330Z"
   },
   {
    "duration": 27,
    "start_time": "2022-12-15T12:46:11.352Z"
   },
   {
    "duration": 21,
    "start_time": "2022-12-15T12:46:11.381Z"
   },
   {
    "duration": 4,
    "start_time": "2022-12-15T12:46:11.404Z"
   },
   {
    "duration": 9,
    "start_time": "2022-12-15T12:46:11.409Z"
   },
   {
    "duration": 7,
    "start_time": "2022-12-15T12:46:11.419Z"
   },
   {
    "duration": 26,
    "start_time": "2022-12-15T12:46:11.428Z"
   },
   {
    "duration": 22,
    "start_time": "2022-12-15T12:46:11.456Z"
   },
   {
    "duration": 11,
    "start_time": "2022-12-15T12:46:11.480Z"
   },
   {
    "duration": 16,
    "start_time": "2022-12-15T12:46:11.492Z"
   },
   {
    "duration": 7,
    "start_time": "2022-12-15T12:46:11.512Z"
   },
   {
    "duration": 15,
    "start_time": "2022-12-15T12:46:11.520Z"
   },
   {
    "duration": 78,
    "start_time": "2022-12-15T12:46:11.536Z"
   },
   {
    "duration": 186,
    "start_time": "2022-12-15T12:46:11.616Z"
   },
   {
    "duration": 358,
    "start_time": "2022-12-15T12:46:11.804Z"
   },
   {
    "duration": 19,
    "start_time": "2022-12-15T12:46:12.164Z"
   },
   {
    "duration": 280,
    "start_time": "2022-12-15T12:46:12.185Z"
   },
   {
    "duration": 6,
    "start_time": "2022-12-15T12:46:12.467Z"
   },
   {
    "duration": 9,
    "start_time": "2022-12-15T12:46:12.474Z"
   },
   {
    "duration": 259,
    "start_time": "2022-12-15T12:46:12.485Z"
   },
   {
    "duration": 244,
    "start_time": "2022-12-15T12:46:12.746Z"
   },
   {
    "duration": 360,
    "start_time": "2022-12-15T12:46:12.992Z"
   },
   {
    "duration": 157,
    "start_time": "2022-12-15T12:46:13.353Z"
   },
   {
    "duration": 5,
    "start_time": "2022-12-15T12:46:13.512Z"
   },
   {
    "duration": 164,
    "start_time": "2022-12-15T12:46:13.518Z"
   },
   {
    "duration": 4,
    "start_time": "2022-12-15T12:46:13.684Z"
   },
   {
    "duration": 15,
    "start_time": "2022-12-15T12:46:13.690Z"
   },
   {
    "duration": 23,
    "start_time": "2022-12-15T12:46:13.707Z"
   },
   {
    "duration": 1220,
    "start_time": "2022-12-15T12:46:13.731Z"
   },
   {
    "duration": 28,
    "start_time": "2022-12-15T12:46:14.953Z"
   },
   {
    "duration": 1542,
    "start_time": "2022-12-15T12:46:14.982Z"
   },
   {
    "duration": 210,
    "start_time": "2022-12-15T12:46:16.526Z"
   },
   {
    "duration": 275,
    "start_time": "2022-12-15T12:46:16.738Z"
   },
   {
    "duration": 19,
    "start_time": "2022-12-15T12:46:17.014Z"
   },
   {
    "duration": 334,
    "start_time": "2022-12-15T12:46:17.035Z"
   },
   {
    "duration": 20,
    "start_time": "2022-12-15T12:46:17.371Z"
   },
   {
    "duration": 312,
    "start_time": "2022-12-15T12:46:17.393Z"
   },
   {
    "duration": 14,
    "start_time": "2022-12-15T12:46:17.707Z"
   },
   {
    "duration": 328,
    "start_time": "2022-12-15T12:46:17.722Z"
   },
   {
    "duration": 8,
    "start_time": "2022-12-15T12:46:18.052Z"
   },
   {
    "duration": 28,
    "start_time": "2022-12-15T12:46:18.063Z"
   },
   {
    "duration": 18,
    "start_time": "2022-12-15T12:46:18.093Z"
   },
   {
    "duration": 16,
    "start_time": "2022-12-15T12:46:18.113Z"
   },
   {
    "duration": 19,
    "start_time": "2022-12-15T12:46:18.131Z"
   }
  ],
  "kernelspec": {
   "display_name": "Python 3 (ipykernel)",
   "language": "python",
   "name": "python3"
  },
  "language_info": {
   "codemirror_mode": {
    "name": "ipython",
    "version": 3
   },
   "file_extension": ".py",
   "mimetype": "text/x-python",
   "name": "python",
   "nbconvert_exporter": "python",
   "pygments_lexer": "ipython3",
   "version": "3.9.5"
  },
  "toc": {
   "base_numbering": 1,
   "nav_menu": {},
   "number_sections": true,
   "sideBar": true,
   "skip_h1_title": true,
   "title_cell": "Table of Contents",
   "title_sidebar": "Contents",
   "toc_cell": true,
   "toc_position": {},
   "toc_section_display": true,
   "toc_window_display": true
  }
 },
 "nbformat": 4,
 "nbformat_minor": 5
}

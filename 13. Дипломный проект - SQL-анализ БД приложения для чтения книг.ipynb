{
 "cells": [
  {
   "cell_type": "markdown",
   "id": "8297f4b6",
   "metadata": {
    "toc": true
   },
   "source": [
    "<h1>Table of Contents<span class=\"tocSkip\"></span></h1>\n",
    "<div class=\"toc\"><ul class=\"toc-item\"><li><span><a href=\"#Вводные-данные:\" data-toc-modified-id=\"Вводные-данные:-1\"><span class=\"toc-item-num\">1&nbsp;&nbsp;</span>Вводные данные:</a></span></li><li><span><a href=\"#Цель-исследования:\" data-toc-modified-id=\"Цель-исследования:-2\"><span class=\"toc-item-num\">2&nbsp;&nbsp;</span>Цель исследования:</a></span></li><li><span><a href=\"#План-исследования:\" data-toc-modified-id=\"План-исследования:-3\"><span class=\"toc-item-num\">3&nbsp;&nbsp;</span>План исследования:</a></span></li><li><span><a href=\"#Посчитайте,-сколько-книг-вышло-после-1-января-2000-года;\" data-toc-modified-id=\"Посчитайте,-сколько-книг-вышло-после-1-января-2000-года;-4\"><span class=\"toc-item-num\">4&nbsp;&nbsp;</span>Посчитайте, сколько книг вышло после 1 января 2000 года;</a></span></li><li><span><a href=\"#Для-каждой-книги-посчитайте-количество-обзоров-и-среднюю-оценку;\" data-toc-modified-id=\"Для-каждой-книги-посчитайте-количество-обзоров-и-среднюю-оценку;-5\"><span class=\"toc-item-num\">5&nbsp;&nbsp;</span>Для каждой книги посчитайте количество обзоров и среднюю оценку;</a></span></li><li><span><a href=\"#Определите-издательство,-которое-выпустило-наибольшее-число-книг-толще-50-страниц-—-так-вы-исключите-из-анализа-брошюры;\" data-toc-modified-id=\"Определите-издательство,-которое-выпустило-наибольшее-число-книг-толще-50-страниц-—-так-вы-исключите-из-анализа-брошюры;-6\"><span class=\"toc-item-num\">6&nbsp;&nbsp;</span>Определите издательство, которое выпустило наибольшее число книг толще 50 страниц — так вы исключите из анализа брошюры;</a></span></li><li><span><a href=\"#Определите-автора-с-самой-высокой-средней-оценкой-книг-—-учитывайте-только-книги-с-50-и-более-оценками;\" data-toc-modified-id=\"Определите-автора-с-самой-высокой-средней-оценкой-книг-—-учитывайте-только-книги-с-50-и-более-оценками;-7\"><span class=\"toc-item-num\">7&nbsp;&nbsp;</span>Определите автора с самой высокой средней оценкой книг — учитывайте только книги с 50 и более оценками;</a></span></li><li><span><a href=\"#Посчитайте-среднее-количество-обзоров-от-пользователей,-которые-поставили-больше-50-оценок.\" data-toc-modified-id=\"Посчитайте-среднее-количество-обзоров-от-пользователей,-которые-поставили-больше-50-оценок.-8\"><span class=\"toc-item-num\">8&nbsp;&nbsp;</span>Посчитайте среднее количество обзоров от пользователей, которые поставили больше 50 оценок.</a></span></li><li><span><a href=\"#Общий-вывод\" data-toc-modified-id=\"Общий-вывод-9\"><span class=\"toc-item-num\">9&nbsp;&nbsp;</span>Общий вывод</a></span></li></ul></div>"
   ]
  },
  {
   "cell_type": "markdown",
   "id": "e8d4cdae",
   "metadata": {},
   "source": [
    "## Вводные данные:"
   ]
  },
  {
   "cell_type": "markdown",
   "id": "72cc20d0",
   "metadata": {},
   "source": [
    "Коронавирус застал мир врасплох, изменив привычный порядок вещей. В свободное время жители городов больше не выходят на улицу, не посещают кафе и торговые центры. Зато стало больше времени для книг. Это заметили стартаперы — и бросились создавать приложения для тех, кто любит читать. Ваша компания решила быть на волне и купила крупный сервис для чтения книг по подписке. База данных приложения содержит информация о книгах, издательствах, авторах, а также пользовательские обзоры книг. "
   ]
  },
  {
   "cell_type": "markdown",
   "id": "1ca0b427",
   "metadata": {},
   "source": [
    "## Цель исследования:"
   ]
  },
  {
   "cell_type": "markdown",
   "id": "17db550b",
   "metadata": {},
   "source": [
    "Задача - проанализировать базу данных приложения, для тех кто любит читать для дальнейшей формулировки ценностного предложения для нового продукта."
   ]
  },
  {
   "cell_type": "markdown",
   "id": "70dcc72c",
   "metadata": {},
   "source": [
    "## План исследования:"
   ]
  },
  {
   "cell_type": "code",
   "execution_count": 1,
   "id": "ae6fba7f",
   "metadata": {},
   "outputs": [],
   "source": [
    "# импортируем библиотеки\n",
    "import pandas as pd\n",
    "from sqlalchemy import text, create_engine\n",
    "\n",
    "# устанавливаем параметры\n",
    "db_config = {'user': 'praktikum_student', # имя пользователя\n",
    "'pwd': 'Sdf4$2;d-d30pp', # пароль\n",
    "'host': 'rc1b-wcoijxj3yxfsf3fs.mdb.yandexcloud.net',\n",
    "'port': 6432, # порт подключения\n",
    "'db': 'data-analyst-final-project-db'} # название базы данных\n",
    "connection_string = 'postgresql://{user}:{pwd}@{host}:{port}/{db}'.format(**db_config)\n",
    "\n",
    "# сохраняем коннектор\n",
    "engine = create_engine(connection_string, connect_args={'sslmode':'require'})\n"
   ]
  },
  {
   "cell_type": "code",
   "execution_count": 2,
   "id": "76938c85",
   "metadata": {},
   "outputs": [
    {
     "data": {
      "text/html": [
       "<div>\n",
       "<style scoped>\n",
       "    .dataframe tbody tr th:only-of-type {\n",
       "        vertical-align: middle;\n",
       "    }\n",
       "\n",
       "    .dataframe tbody tr th {\n",
       "        vertical-align: top;\n",
       "    }\n",
       "\n",
       "    .dataframe thead th {\n",
       "        text-align: right;\n",
       "    }\n",
       "</style>\n",
       "<table border=\"1\" class=\"dataframe\">\n",
       "  <thead>\n",
       "    <tr style=\"text-align: right;\">\n",
       "      <th></th>\n",
       "      <th>book_id</th>\n",
       "      <th>author_id</th>\n",
       "      <th>title</th>\n",
       "      <th>num_pages</th>\n",
       "      <th>publication_date</th>\n",
       "      <th>publisher_id</th>\n",
       "    </tr>\n",
       "  </thead>\n",
       "  <tbody>\n",
       "    <tr>\n",
       "      <th>0</th>\n",
       "      <td>1</td>\n",
       "      <td>546</td>\n",
       "      <td>'Salem's Lot</td>\n",
       "      <td>594</td>\n",
       "      <td>2005-11-01</td>\n",
       "      <td>93</td>\n",
       "    </tr>\n",
       "    <tr>\n",
       "      <th>1</th>\n",
       "      <td>2</td>\n",
       "      <td>465</td>\n",
       "      <td>1 000 Places to See Before You Die</td>\n",
       "      <td>992</td>\n",
       "      <td>2003-05-22</td>\n",
       "      <td>336</td>\n",
       "    </tr>\n",
       "    <tr>\n",
       "      <th>2</th>\n",
       "      <td>3</td>\n",
       "      <td>407</td>\n",
       "      <td>13 Little Blue Envelopes (Little Blue Envelope...</td>\n",
       "      <td>322</td>\n",
       "      <td>2010-12-21</td>\n",
       "      <td>135</td>\n",
       "    </tr>\n",
       "    <tr>\n",
       "      <th>3</th>\n",
       "      <td>4</td>\n",
       "      <td>82</td>\n",
       "      <td>1491: New Revelations of the Americas Before C...</td>\n",
       "      <td>541</td>\n",
       "      <td>2006-10-10</td>\n",
       "      <td>309</td>\n",
       "    </tr>\n",
       "    <tr>\n",
       "      <th>4</th>\n",
       "      <td>5</td>\n",
       "      <td>125</td>\n",
       "      <td>1776</td>\n",
       "      <td>386</td>\n",
       "      <td>2006-07-04</td>\n",
       "      <td>268</td>\n",
       "    </tr>\n",
       "  </tbody>\n",
       "</table>\n",
       "</div>"
      ],
      "text/plain": [
       "   book_id  author_id                                              title  \\\n",
       "0        1        546                                       'Salem's Lot   \n",
       "1        2        465                 1 000 Places to See Before You Die   \n",
       "2        3        407  13 Little Blue Envelopes (Little Blue Envelope...   \n",
       "3        4         82  1491: New Revelations of the Americas Before C...   \n",
       "4        5        125                                               1776   \n",
       "\n",
       "   num_pages publication_date  publisher_id  \n",
       "0        594       2005-11-01            93  \n",
       "1        992       2003-05-22           336  \n",
       "2        322       2010-12-21           135  \n",
       "3        541       2006-10-10           309  \n",
       "4        386       2006-07-04           268  "
      ]
     },
     "execution_count": 2,
     "metadata": {},
     "output_type": "execute_result"
    }
   ],
   "source": [
    "# выведем таблицу с книгами\n",
    "books = '''SELECT * FROM books LIMIT 5'''\n",
    "\n",
    "pd.io.sql.read_sql(sql=text(books), con = engine)"
   ]
  },
  {
   "cell_type": "code",
   "execution_count": 3,
   "id": "bc4e3b9b",
   "metadata": {},
   "outputs": [
    {
     "data": {
      "text/html": [
       "<div>\n",
       "<style scoped>\n",
       "    .dataframe tbody tr th:only-of-type {\n",
       "        vertical-align: middle;\n",
       "    }\n",
       "\n",
       "    .dataframe tbody tr th {\n",
       "        vertical-align: top;\n",
       "    }\n",
       "\n",
       "    .dataframe thead th {\n",
       "        text-align: right;\n",
       "    }\n",
       "</style>\n",
       "<table border=\"1\" class=\"dataframe\">\n",
       "  <thead>\n",
       "    <tr style=\"text-align: right;\">\n",
       "      <th></th>\n",
       "      <th>author_id</th>\n",
       "      <th>author</th>\n",
       "    </tr>\n",
       "  </thead>\n",
       "  <tbody>\n",
       "    <tr>\n",
       "      <th>0</th>\n",
       "      <td>1</td>\n",
       "      <td>A.S. Byatt</td>\n",
       "    </tr>\n",
       "    <tr>\n",
       "      <th>1</th>\n",
       "      <td>2</td>\n",
       "      <td>Aesop/Laura Harris/Laura Gibbs</td>\n",
       "    </tr>\n",
       "    <tr>\n",
       "      <th>2</th>\n",
       "      <td>3</td>\n",
       "      <td>Agatha Christie</td>\n",
       "    </tr>\n",
       "    <tr>\n",
       "      <th>3</th>\n",
       "      <td>4</td>\n",
       "      <td>Alan Brennert</td>\n",
       "    </tr>\n",
       "    <tr>\n",
       "      <th>4</th>\n",
       "      <td>5</td>\n",
       "      <td>Alan Moore/David   Lloyd</td>\n",
       "    </tr>\n",
       "  </tbody>\n",
       "</table>\n",
       "</div>"
      ],
      "text/plain": [
       "   author_id                          author\n",
       "0          1                      A.S. Byatt\n",
       "1          2  Aesop/Laura Harris/Laura Gibbs\n",
       "2          3                 Agatha Christie\n",
       "3          4                   Alan Brennert\n",
       "4          5        Alan Moore/David   Lloyd"
      ]
     },
     "execution_count": 3,
     "metadata": {},
     "output_type": "execute_result"
    }
   ],
   "source": [
    "# выведем таблицу с авторами книг\n",
    "authors = '''SELECT * FROM authors LIMIT 5'''\n",
    "\n",
    "pd.io.sql.read_sql(sql=text(authors), con = engine)"
   ]
  },
  {
   "cell_type": "code",
   "execution_count": 4,
   "id": "19a4d43f",
   "metadata": {},
   "outputs": [
    {
     "data": {
      "text/html": [
       "<div>\n",
       "<style scoped>\n",
       "    .dataframe tbody tr th:only-of-type {\n",
       "        vertical-align: middle;\n",
       "    }\n",
       "\n",
       "    .dataframe tbody tr th {\n",
       "        vertical-align: top;\n",
       "    }\n",
       "\n",
       "    .dataframe thead th {\n",
       "        text-align: right;\n",
       "    }\n",
       "</style>\n",
       "<table border=\"1\" class=\"dataframe\">\n",
       "  <thead>\n",
       "    <tr style=\"text-align: right;\">\n",
       "      <th></th>\n",
       "      <th>rating_id</th>\n",
       "      <th>book_id</th>\n",
       "      <th>username</th>\n",
       "      <th>rating</th>\n",
       "    </tr>\n",
       "  </thead>\n",
       "  <tbody>\n",
       "    <tr>\n",
       "      <th>0</th>\n",
       "      <td>1</td>\n",
       "      <td>1</td>\n",
       "      <td>ryanfranco</td>\n",
       "      <td>4</td>\n",
       "    </tr>\n",
       "    <tr>\n",
       "      <th>1</th>\n",
       "      <td>2</td>\n",
       "      <td>1</td>\n",
       "      <td>grantpatricia</td>\n",
       "      <td>2</td>\n",
       "    </tr>\n",
       "    <tr>\n",
       "      <th>2</th>\n",
       "      <td>3</td>\n",
       "      <td>1</td>\n",
       "      <td>brandtandrea</td>\n",
       "      <td>5</td>\n",
       "    </tr>\n",
       "    <tr>\n",
       "      <th>3</th>\n",
       "      <td>4</td>\n",
       "      <td>2</td>\n",
       "      <td>lorichen</td>\n",
       "      <td>3</td>\n",
       "    </tr>\n",
       "    <tr>\n",
       "      <th>4</th>\n",
       "      <td>5</td>\n",
       "      <td>2</td>\n",
       "      <td>mariokeller</td>\n",
       "      <td>2</td>\n",
       "    </tr>\n",
       "  </tbody>\n",
       "</table>\n",
       "</div>"
      ],
      "text/plain": [
       "   rating_id  book_id       username  rating\n",
       "0          1        1     ryanfranco       4\n",
       "1          2        1  grantpatricia       2\n",
       "2          3        1   brandtandrea       5\n",
       "3          4        2       lorichen       3\n",
       "4          5        2    mariokeller       2"
      ]
     },
     "execution_count": 4,
     "metadata": {},
     "output_type": "execute_result"
    }
   ],
   "source": [
    "# выведем таблицу с пользовательскими оценками книг:\n",
    "ratings = '''SELECT * FROM ratings LIMIT 5'''\n",
    "\n",
    "pd.io.sql.read_sql(sql=text(ratings), con = engine)"
   ]
  },
  {
   "cell_type": "code",
   "execution_count": 5,
   "id": "7faeb25d",
   "metadata": {},
   "outputs": [
    {
     "data": {
      "text/html": [
       "<div>\n",
       "<style scoped>\n",
       "    .dataframe tbody tr th:only-of-type {\n",
       "        vertical-align: middle;\n",
       "    }\n",
       "\n",
       "    .dataframe tbody tr th {\n",
       "        vertical-align: top;\n",
       "    }\n",
       "\n",
       "    .dataframe thead th {\n",
       "        text-align: right;\n",
       "    }\n",
       "</style>\n",
       "<table border=\"1\" class=\"dataframe\">\n",
       "  <thead>\n",
       "    <tr style=\"text-align: right;\">\n",
       "      <th></th>\n",
       "      <th>review_id</th>\n",
       "      <th>book_id</th>\n",
       "      <th>username</th>\n",
       "      <th>text</th>\n",
       "    </tr>\n",
       "  </thead>\n",
       "  <tbody>\n",
       "    <tr>\n",
       "      <th>0</th>\n",
       "      <td>1</td>\n",
       "      <td>1</td>\n",
       "      <td>brandtandrea</td>\n",
       "      <td>Mention society tell send professor analysis. ...</td>\n",
       "    </tr>\n",
       "    <tr>\n",
       "      <th>1</th>\n",
       "      <td>2</td>\n",
       "      <td>1</td>\n",
       "      <td>ryanfranco</td>\n",
       "      <td>Foot glass pretty audience hit themselves. Amo...</td>\n",
       "    </tr>\n",
       "    <tr>\n",
       "      <th>2</th>\n",
       "      <td>3</td>\n",
       "      <td>2</td>\n",
       "      <td>lorichen</td>\n",
       "      <td>Listen treat keep worry. Miss husband tax but ...</td>\n",
       "    </tr>\n",
       "    <tr>\n",
       "      <th>3</th>\n",
       "      <td>4</td>\n",
       "      <td>3</td>\n",
       "      <td>johnsonamanda</td>\n",
       "      <td>Finally month interesting blue could nature cu...</td>\n",
       "    </tr>\n",
       "    <tr>\n",
       "      <th>4</th>\n",
       "      <td>5</td>\n",
       "      <td>3</td>\n",
       "      <td>scotttamara</td>\n",
       "      <td>Nation purpose heavy give wait song will. List...</td>\n",
       "    </tr>\n",
       "  </tbody>\n",
       "</table>\n",
       "</div>"
      ],
      "text/plain": [
       "   review_id  book_id       username  \\\n",
       "0          1        1   brandtandrea   \n",
       "1          2        1     ryanfranco   \n",
       "2          3        2       lorichen   \n",
       "3          4        3  johnsonamanda   \n",
       "4          5        3    scotttamara   \n",
       "\n",
       "                                                text  \n",
       "0  Mention society tell send professor analysis. ...  \n",
       "1  Foot glass pretty audience hit themselves. Amo...  \n",
       "2  Listen treat keep worry. Miss husband tax but ...  \n",
       "3  Finally month interesting blue could nature cu...  \n",
       "4  Nation purpose heavy give wait song will. List...  "
      ]
     },
     "execution_count": 5,
     "metadata": {},
     "output_type": "execute_result"
    }
   ],
   "source": [
    "# выведем таблицу с пользовательскими обзорами на книги\n",
    "reviews = '''SELECT * FROM reviews LIMIT 5'''\n",
    "\n",
    "pd.io.sql.read_sql(sql=text(reviews), con = engine)"
   ]
  },
  {
   "cell_type": "code",
   "execution_count": 6,
   "id": "30b2039f",
   "metadata": {
    "scrolled": true
   },
   "outputs": [
    {
     "data": {
      "text/html": [
       "<div>\n",
       "<style scoped>\n",
       "    .dataframe tbody tr th:only-of-type {\n",
       "        vertical-align: middle;\n",
       "    }\n",
       "\n",
       "    .dataframe tbody tr th {\n",
       "        vertical-align: top;\n",
       "    }\n",
       "\n",
       "    .dataframe thead th {\n",
       "        text-align: right;\n",
       "    }\n",
       "</style>\n",
       "<table border=\"1\" class=\"dataframe\">\n",
       "  <thead>\n",
       "    <tr style=\"text-align: right;\">\n",
       "      <th></th>\n",
       "      <th>publisher_id</th>\n",
       "      <th>publisher</th>\n",
       "    </tr>\n",
       "  </thead>\n",
       "  <tbody>\n",
       "    <tr>\n",
       "      <th>0</th>\n",
       "      <td>1</td>\n",
       "      <td>Ace</td>\n",
       "    </tr>\n",
       "    <tr>\n",
       "      <th>1</th>\n",
       "      <td>2</td>\n",
       "      <td>Ace Book</td>\n",
       "    </tr>\n",
       "    <tr>\n",
       "      <th>2</th>\n",
       "      <td>3</td>\n",
       "      <td>Ace Books</td>\n",
       "    </tr>\n",
       "    <tr>\n",
       "      <th>3</th>\n",
       "      <td>4</td>\n",
       "      <td>Ace Hardcover</td>\n",
       "    </tr>\n",
       "    <tr>\n",
       "      <th>4</th>\n",
       "      <td>5</td>\n",
       "      <td>Addison Wesley Publishing Company</td>\n",
       "    </tr>\n",
       "  </tbody>\n",
       "</table>\n",
       "</div>"
      ],
      "text/plain": [
       "   publisher_id                          publisher\n",
       "0             1                                Ace\n",
       "1             2                           Ace Book\n",
       "2             3                          Ace Books\n",
       "3             4                      Ace Hardcover\n",
       "4             5  Addison Wesley Publishing Company"
      ]
     },
     "execution_count": 6,
     "metadata": {},
     "output_type": "execute_result"
    }
   ],
   "source": [
    "# выведем таблицу с издательствами\n",
    "publishers = '''SELECT * FROM publishers LIMIT 5'''\n",
    "\n",
    "pd.io.sql.read_sql(sql=text(publishers), con = engine)"
   ]
  },
  {
   "cell_type": "markdown",
   "id": "aaad3004",
   "metadata": {},
   "source": [
    "## Посчитайте, сколько книг вышло после 1 января 2000 года;\n"
   ]
  },
  {
   "cell_type": "code",
   "execution_count": 7,
   "id": "a66cf93b",
   "metadata": {
    "scrolled": true
   },
   "outputs": [
    {
     "data": {
      "text/html": [
       "<div>\n",
       "<style scoped>\n",
       "    .dataframe tbody tr th:only-of-type {\n",
       "        vertical-align: middle;\n",
       "    }\n",
       "\n",
       "    .dataframe tbody tr th {\n",
       "        vertical-align: top;\n",
       "    }\n",
       "\n",
       "    .dataframe thead th {\n",
       "        text-align: right;\n",
       "    }\n",
       "</style>\n",
       "<table border=\"1\" class=\"dataframe\">\n",
       "  <thead>\n",
       "    <tr style=\"text-align: right;\">\n",
       "      <th></th>\n",
       "      <th>count</th>\n",
       "    </tr>\n",
       "  </thead>\n",
       "  <tbody>\n",
       "    <tr>\n",
       "      <th>0</th>\n",
       "      <td>819</td>\n",
       "    </tr>\n",
       "  </tbody>\n",
       "</table>\n",
       "</div>"
      ],
      "text/plain": [
       "   count\n",
       "0    819"
      ]
     },
     "execution_count": 7,
     "metadata": {},
     "output_type": "execute_result"
    }
   ],
   "source": [
    "book_count = '''SELECT COUNT(book_id) \n",
    "                FROM books\n",
    "                WHERE publication_date > '2000-01-01'\n",
    "                '''\n",
    "\n",
    "pd.io.sql.read_sql(sql=text(book_count), con = engine)"
   ]
  },
  {
   "cell_type": "markdown",
   "id": "14148e14",
   "metadata": {},
   "source": [
    "После 1 января 2000 года вышло 819 книг."
   ]
  },
  {
   "cell_type": "markdown",
   "id": "a620d6b3",
   "metadata": {},
   "source": [
    "## Для каждой книги посчитайте количество обзоров и среднюю оценку;\n"
   ]
  },
  {
   "cell_type": "code",
   "execution_count": 8,
   "id": "62cfb6d1",
   "metadata": {},
   "outputs": [
    {
     "data": {
      "text/html": [
       "<div>\n",
       "<style scoped>\n",
       "    .dataframe tbody tr th:only-of-type {\n",
       "        vertical-align: middle;\n",
       "    }\n",
       "\n",
       "    .dataframe tbody tr th {\n",
       "        vertical-align: top;\n",
       "    }\n",
       "\n",
       "    .dataframe thead th {\n",
       "        text-align: right;\n",
       "    }\n",
       "</style>\n",
       "<table border=\"1\" class=\"dataframe\">\n",
       "  <thead>\n",
       "    <tr style=\"text-align: right;\">\n",
       "      <th></th>\n",
       "      <th>title</th>\n",
       "      <th>book_id</th>\n",
       "      <th>review_count</th>\n",
       "      <th>avg_rating</th>\n",
       "    </tr>\n",
       "  </thead>\n",
       "  <tbody>\n",
       "    <tr>\n",
       "      <th>0</th>\n",
       "      <td>Twilight (Twilight  #1)</td>\n",
       "      <td>948</td>\n",
       "      <td>7</td>\n",
       "      <td>3.662500</td>\n",
       "    </tr>\n",
       "    <tr>\n",
       "      <th>1</th>\n",
       "      <td>Eat  Pray  Love</td>\n",
       "      <td>207</td>\n",
       "      <td>6</td>\n",
       "      <td>3.395833</td>\n",
       "    </tr>\n",
       "    <tr>\n",
       "      <th>2</th>\n",
       "      <td>Harry Potter and the Chamber of Secrets (Harry...</td>\n",
       "      <td>299</td>\n",
       "      <td>6</td>\n",
       "      <td>4.287500</td>\n",
       "    </tr>\n",
       "    <tr>\n",
       "      <th>3</th>\n",
       "      <td>Harry Potter and the Prisoner of Azkaban (Harr...</td>\n",
       "      <td>302</td>\n",
       "      <td>6</td>\n",
       "      <td>4.414634</td>\n",
       "    </tr>\n",
       "    <tr>\n",
       "      <th>4</th>\n",
       "      <td>Outlander (Outlander  #1)</td>\n",
       "      <td>497</td>\n",
       "      <td>6</td>\n",
       "      <td>4.125000</td>\n",
       "    </tr>\n",
       "    <tr>\n",
       "      <th>...</th>\n",
       "      <td>...</td>\n",
       "      <td>...</td>\n",
       "      <td>...</td>\n",
       "      <td>...</td>\n",
       "    </tr>\n",
       "    <tr>\n",
       "      <th>995</th>\n",
       "      <td>Disney's Beauty and the Beast (A Little Golden...</td>\n",
       "      <td>191</td>\n",
       "      <td>0</td>\n",
       "      <td>4.000000</td>\n",
       "    </tr>\n",
       "    <tr>\n",
       "      <th>996</th>\n",
       "      <td>Essential Tales and Poems</td>\n",
       "      <td>221</td>\n",
       "      <td>0</td>\n",
       "      <td>4.000000</td>\n",
       "    </tr>\n",
       "    <tr>\n",
       "      <th>997</th>\n",
       "      <td>Leonardo's Notebooks</td>\n",
       "      <td>387</td>\n",
       "      <td>0</td>\n",
       "      <td>4.000000</td>\n",
       "    </tr>\n",
       "    <tr>\n",
       "      <th>998</th>\n",
       "      <td>The Cat in the Hat and Other Dr. Seuss Favorites</td>\n",
       "      <td>672</td>\n",
       "      <td>0</td>\n",
       "      <td>5.000000</td>\n",
       "    </tr>\n",
       "    <tr>\n",
       "      <th>999</th>\n",
       "      <td>The Natural Way to Draw</td>\n",
       "      <td>808</td>\n",
       "      <td>0</td>\n",
       "      <td>3.000000</td>\n",
       "    </tr>\n",
       "  </tbody>\n",
       "</table>\n",
       "<p>1000 rows × 4 columns</p>\n",
       "</div>"
      ],
      "text/plain": [
       "                                                 title  book_id  review_count  \\\n",
       "0                              Twilight (Twilight  #1)      948             7   \n",
       "1                                      Eat  Pray  Love      207             6   \n",
       "2    Harry Potter and the Chamber of Secrets (Harry...      299             6   \n",
       "3    Harry Potter and the Prisoner of Azkaban (Harr...      302             6   \n",
       "4                            Outlander (Outlander  #1)      497             6   \n",
       "..                                                 ...      ...           ...   \n",
       "995  Disney's Beauty and the Beast (A Little Golden...      191             0   \n",
       "996                          Essential Tales and Poems      221             0   \n",
       "997                               Leonardo's Notebooks      387             0   \n",
       "998   The Cat in the Hat and Other Dr. Seuss Favorites      672             0   \n",
       "999                            The Natural Way to Draw      808             0   \n",
       "\n",
       "     avg_rating  \n",
       "0      3.662500  \n",
       "1      3.395833  \n",
       "2      4.287500  \n",
       "3      4.414634  \n",
       "4      4.125000  \n",
       "..          ...  \n",
       "995    4.000000  \n",
       "996    4.000000  \n",
       "997    4.000000  \n",
       "998    5.000000  \n",
       "999    3.000000  \n",
       "\n",
       "[1000 rows x 4 columns]"
      ]
     },
     "execution_count": 8,
     "metadata": {},
     "output_type": "execute_result"
    }
   ],
   "source": [
    "book_count = '''SELECT  DISTINCT title,\n",
    "                b.book_id,\n",
    "                COUNT(DISTINCT r.review_id) as review_count,\n",
    "                AVG(ra.rating) as avg_rating\n",
    "                FROM books as b\n",
    "                LEFT JOIN ratings AS ra ON ra.book_id=b.book_id\n",
    "                LEFT JOIN reviews AS r ON b.book_id=r.book_id\n",
    "                GROUP BY b.book_id\n",
    "                ORDER BY 3 DESC\n",
    "                '''\n",
    "\n",
    "pd.io.sql.read_sql(sql=text(book_count), con = engine)"
   ]
  },
  {
   "cell_type": "code",
   "execution_count": 9,
   "id": "ff8e1072",
   "metadata": {},
   "outputs": [
    {
     "data": {
      "text/plain": [
       "2793"
      ]
     },
     "execution_count": 9,
     "metadata": {},
     "output_type": "execute_result"
    }
   ],
   "source": [
    "book_count = '''SELECT  DISTINCT title,\n",
    "                b.book_id,\n",
    "                COUNT(DISTINCT r.review_id) as review_count,\n",
    "                AVG(ra.rating) as avg_rating\n",
    "                FROM books as b\n",
    "                LEFT JOIN ratings AS ra ON ra.book_id=b.book_id\n",
    "                LEFT JOIN reviews AS r ON b.book_id=r.book_id\n",
    "                GROUP BY b.book_id\n",
    "                ORDER BY 4 ASC\n",
    "                '''\n",
    "\n",
    "pd.io.sql.read_sql(sql=text(book_count), con = engine)['review_count'].sum()"
   ]
  },
  {
   "cell_type": "markdown",
   "id": "8e2e7852",
   "metadata": {},
   "source": [
    "Всего 1000 книг, средняя оценка варьируется от 5.00 до 1.50. Максимальное количество обзоров - 7, минимальное - 0."
   ]
  },
  {
   "cell_type": "markdown",
   "id": "14dc0ec0",
   "metadata": {},
   "source": [
    "## Определите издательство, которое выпустило наибольшее число книг толще 50 страниц — так вы исключите из анализа брошюры;"
   ]
  },
  {
   "cell_type": "code",
   "execution_count": 10,
   "id": "690ea4e9",
   "metadata": {},
   "outputs": [
    {
     "data": {
      "text/html": [
       "<div>\n",
       "<style scoped>\n",
       "    .dataframe tbody tr th:only-of-type {\n",
       "        vertical-align: middle;\n",
       "    }\n",
       "\n",
       "    .dataframe tbody tr th {\n",
       "        vertical-align: top;\n",
       "    }\n",
       "\n",
       "    .dataframe thead th {\n",
       "        text-align: right;\n",
       "    }\n",
       "</style>\n",
       "<table border=\"1\" class=\"dataframe\">\n",
       "  <thead>\n",
       "    <tr style=\"text-align: right;\">\n",
       "      <th></th>\n",
       "      <th>publisher</th>\n",
       "      <th>count</th>\n",
       "    </tr>\n",
       "  </thead>\n",
       "  <tbody>\n",
       "    <tr>\n",
       "      <th>0</th>\n",
       "      <td>Penguin Books</td>\n",
       "      <td>42</td>\n",
       "    </tr>\n",
       "  </tbody>\n",
       "</table>\n",
       "</div>"
      ],
      "text/plain": [
       "       publisher  count\n",
       "0  Penguin Books     42"
      ]
     },
     "execution_count": 10,
     "metadata": {},
     "output_type": "execute_result"
    }
   ],
   "source": [
    "\n",
    "publisher_top = '''SELECT p.publisher,\n",
    "                COUNT(b.book_id)\n",
    "                FROM publishers AS p\n",
    "                JOIN books AS b ON b.publisher_id=p.publisher_id\n",
    "                WHERE b.num_pages>50\n",
    "                GROUP BY 1\n",
    "                ORDER BY COUNT(b.book_id) DESC\n",
    "                LIMIT 1\n",
    "                '''\n",
    "\n",
    "pd.io.sql.read_sql(sql=text(publisher_top), con = engine)\n"
   ]
  },
  {
   "cell_type": "markdown",
   "id": "146eb227",
   "metadata": {},
   "source": [
    "Наибольшее число книг толще 50 страниц выпустило издательство  Penguin Books -  42 книги."
   ]
  },
  {
   "cell_type": "markdown",
   "id": "848526a0",
   "metadata": {},
   "source": [
    "## Определите автора с самой высокой средней оценкой книг — учитывайте только книги с 50 и более оценками;"
   ]
  },
  {
   "cell_type": "code",
   "execution_count": 11,
   "id": "2ecd982f",
   "metadata": {},
   "outputs": [
    {
     "data": {
      "text/html": [
       "<div>\n",
       "<style scoped>\n",
       "    .dataframe tbody tr th:only-of-type {\n",
       "        vertical-align: middle;\n",
       "    }\n",
       "\n",
       "    .dataframe tbody tr th {\n",
       "        vertical-align: top;\n",
       "    }\n",
       "\n",
       "    .dataframe thead th {\n",
       "        text-align: right;\n",
       "    }\n",
       "</style>\n",
       "<table border=\"1\" class=\"dataframe\">\n",
       "  <thead>\n",
       "    <tr style=\"text-align: right;\">\n",
       "      <th></th>\n",
       "      <th>author_id</th>\n",
       "      <th>author</th>\n",
       "      <th>avg</th>\n",
       "    </tr>\n",
       "  </thead>\n",
       "  <tbody>\n",
       "    <tr>\n",
       "      <th>0</th>\n",
       "      <td>236</td>\n",
       "      <td>J.K. Rowling/Mary GrandPré</td>\n",
       "      <td>4.288462</td>\n",
       "    </tr>\n",
       "  </tbody>\n",
       "</table>\n",
       "</div>"
      ],
      "text/plain": [
       "   author_id                      author       avg\n",
       "0        236  J.K. Rowling/Mary GrandPré  4.288462"
      ]
     },
     "execution_count": 11,
     "metadata": {},
     "output_type": "execute_result"
    }
   ],
   "source": [
    "\n",
    "author_top = '''SELECT b.author_id,\n",
    "                   a.author,\n",
    "                   AVG(r.rating)\n",
    "                   FROM books AS b\n",
    "                   JOIN ratings AS r ON r.book_id=b.book_id\n",
    "                   JOIN authors AS A ON a.author_id=b.author_id\n",
    "                   GROUP BY b.author_id,a.author\n",
    "                   HAVING COUNT(r.rating) > 50\n",
    "                   ORDER BY AVG(r.rating) DESC\n",
    "                   LIMIT 1\n",
    "                   \n",
    "                '''\n",
    "\n",
    "pd.io.sql.read_sql(sql=text(author_top), con = engine)\n"
   ]
  },
  {
   "cell_type": "markdown",
   "id": "589cdbde",
   "metadata": {},
   "source": [
    "Автор с самой высокой средней оценкой книг среди книг, получивших 50 и более оценок - Джоан Роулинг и иллюстратор Мари Гранпэ. Гарри Поттер пользуется популярностью."
   ]
  },
  {
   "cell_type": "markdown",
   "id": "97763ff5",
   "metadata": {},
   "source": [
    "## Посчитайте среднее количество обзоров от пользователей, которые поставили больше 50 оценок."
   ]
  },
  {
   "cell_type": "code",
   "execution_count": 12,
   "id": "15221806",
   "metadata": {},
   "outputs": [
    {
     "data": {
      "text/html": [
       "<div>\n",
       "<style scoped>\n",
       "    .dataframe tbody tr th:only-of-type {\n",
       "        vertical-align: middle;\n",
       "    }\n",
       "\n",
       "    .dataframe tbody tr th {\n",
       "        vertical-align: top;\n",
       "    }\n",
       "\n",
       "    .dataframe thead th {\n",
       "        text-align: right;\n",
       "    }\n",
       "</style>\n",
       "<table border=\"1\" class=\"dataframe\">\n",
       "  <thead>\n",
       "    <tr style=\"text-align: right;\">\n",
       "      <th></th>\n",
       "      <th>avg</th>\n",
       "    </tr>\n",
       "  </thead>\n",
       "  <tbody>\n",
       "    <tr>\n",
       "      <th>0</th>\n",
       "      <td>24.333333</td>\n",
       "    </tr>\n",
       "  </tbody>\n",
       "</table>\n",
       "</div>"
      ],
      "text/plain": [
       "         avg\n",
       "0  24.333333"
      ]
     },
     "execution_count": 12,
     "metadata": {},
     "output_type": "execute_result"
    }
   ],
   "source": [
    "\n",
    "publisher_top = '''\n",
    "                   WITH first AS ( SELECT v.username,\n",
    "                                   COUNT(v.review_id) AS reviews_count_per_user\n",
    "                                   FROM reviews AS v\n",
    "                                   WHERE v.username IN (SELECT r.username\n",
    "                                                       FROM ratings AS r\n",
    "                                                       GROUP BY r.username\n",
    "                                                       HAVING COUNT(r.username)>50 )\n",
    "                                   GROUP BY   v.username)\n",
    "                   SELECT  AVG (reviews_count_per_user)\n",
    "                   FROM first\n",
    "                      \n",
    "                '''\n",
    "\n",
    "pd.io.sql.read_sql(sql=text(publisher_top), con = engine)"
   ]
  },
  {
   "cell_type": "markdown",
   "id": "d8680ade",
   "metadata": {},
   "source": [
    "Среднее количество обзоров от пользователей поставивших более 50 оценок - 24."
   ]
  },
  {
   "cell_type": "markdown",
   "id": "1fc096a9",
   "metadata": {},
   "source": [
    "## Общий вывод"
   ]
  },
  {
   "cell_type": "markdown",
   "id": "3681984a",
   "metadata": {},
   "source": [
    "- После 1 января 2000 года вышло 819 книг.\n",
    "- Всего 1000 книг, средняя оценка варьируется от 5.00 до 1.50. Максимальное количество обзоров - 1120, минимальное - 0.\n",
    "- Наибольшее число книг толще 50 страниц выпустило издательство  Penguin Books -  42 книги.\n",
    "- Автор с самой высокой средней оценкой книг среди книг, получивших 50 и более оценок - Джоан Роулинг и иллюстратор Мари Гранпэ. \n",
    "- Среднее количество обзоров от пользователей поставивших более 50 оценок - 24."
   ]
  }
 ],
 "metadata": {
  "ExecuteTimeLog": [
   {
    "duration": 8593,
    "start_time": "2023-04-26T17:34:08.466Z"
   },
   {
    "duration": 44,
    "start_time": "2023-04-26T17:34:17.061Z"
   },
   {
    "duration": 11,
    "start_time": "2023-04-26T17:34:17.107Z"
   },
   {
    "duration": 31,
    "start_time": "2023-04-26T17:34:17.120Z"
   },
   {
    "duration": 16,
    "start_time": "2023-04-26T17:34:17.152Z"
   },
   {
    "duration": 11,
    "start_time": "2023-04-26T17:34:17.169Z"
   },
   {
    "duration": 11,
    "start_time": "2023-04-26T17:34:23.875Z"
   },
   {
    "duration": 11,
    "start_time": "2023-04-26T17:34:26.574Z"
   },
   {
    "duration": 27,
    "start_time": "2023-04-26T17:35:19.368Z"
   },
   {
    "duration": 27,
    "start_time": "2023-04-26T17:36:04.526Z"
   },
   {
    "duration": 26,
    "start_time": "2023-04-26T17:36:28.812Z"
   },
   {
    "duration": 26,
    "start_time": "2023-04-26T17:36:42.032Z"
   },
   {
    "duration": 26,
    "start_time": "2023-04-26T17:36:48.653Z"
   },
   {
    "duration": 26,
    "start_time": "2023-04-26T17:38:55.164Z"
   },
   {
    "duration": 26,
    "start_time": "2023-04-26T17:39:38.924Z"
   },
   {
    "duration": 36,
    "start_time": "2023-04-26T17:40:25.855Z"
   },
   {
    "duration": 28,
    "start_time": "2023-04-26T17:40:34.390Z"
   },
   {
    "duration": 26,
    "start_time": "2023-04-26T17:41:16.334Z"
   },
   {
    "duration": 168,
    "start_time": "2023-04-26T17:45:08.758Z"
   },
   {
    "duration": 20,
    "start_time": "2023-04-26T17:45:30.003Z"
   },
   {
    "duration": 73,
    "start_time": "2023-04-26T17:53:34.142Z"
   },
   {
    "duration": 118,
    "start_time": "2023-04-26T17:53:41.924Z"
   },
   {
    "duration": 95,
    "start_time": "2023-04-26T17:53:57.041Z"
   },
   {
    "duration": 18,
    "start_time": "2023-04-26T17:54:41.603Z"
   },
   {
    "duration": 117,
    "start_time": "2023-04-26T17:55:23.497Z"
   },
   {
    "duration": 21,
    "start_time": "2023-04-26T17:55:33.506Z"
   },
   {
    "duration": 93,
    "start_time": "2023-04-26T17:55:42.289Z"
   },
   {
    "duration": 15,
    "start_time": "2023-04-26T17:55:45.938Z"
   },
   {
    "duration": 15,
    "start_time": "2023-04-26T17:56:09.068Z"
   },
   {
    "duration": 15,
    "start_time": "2023-04-26T17:56:21.700Z"
   },
   {
    "duration": 18,
    "start_time": "2023-04-26T17:56:34.772Z"
   },
   {
    "duration": 100,
    "start_time": "2023-04-26T17:58:16.400Z"
   },
   {
    "duration": 21,
    "start_time": "2023-04-26T17:58:47.229Z"
   },
   {
    "duration": 98,
    "start_time": "2023-04-26T17:59:30.804Z"
   },
   {
    "duration": 28,
    "start_time": "2023-04-26T17:59:40.845Z"
   },
   {
    "duration": 27,
    "start_time": "2023-04-26T18:00:19.986Z"
   },
   {
    "duration": 29,
    "start_time": "2023-04-26T18:00:25.558Z"
   },
   {
    "duration": 20,
    "start_time": "2023-04-26T18:00:50.198Z"
   },
   {
    "duration": 32,
    "start_time": "2023-04-26T18:01:32.642Z"
   },
   {
    "duration": 20,
    "start_time": "2023-04-26T18:02:43.836Z"
   },
   {
    "duration": 20,
    "start_time": "2023-04-26T18:02:56.130Z"
   },
   {
    "duration": 8365,
    "start_time": "2023-04-26T18:04:03.078Z"
   },
   {
    "duration": 54,
    "start_time": "2023-04-26T18:04:11.445Z"
   },
   {
    "duration": 9,
    "start_time": "2023-04-26T18:04:11.501Z"
   },
   {
    "duration": 10,
    "start_time": "2023-04-26T18:04:11.513Z"
   },
   {
    "duration": 10,
    "start_time": "2023-04-26T18:04:11.525Z"
   },
   {
    "duration": 10,
    "start_time": "2023-04-26T18:04:11.536Z"
   },
   {
    "duration": 13,
    "start_time": "2023-04-26T18:04:11.547Z"
   },
   {
    "duration": 9,
    "start_time": "2023-04-26T18:04:11.561Z"
   },
   {
    "duration": 27,
    "start_time": "2023-04-26T18:04:11.571Z"
   },
   {
    "duration": 10,
    "start_time": "2023-04-26T18:04:11.600Z"
   },
   {
    "duration": 14,
    "start_time": "2023-04-26T18:04:11.612Z"
   },
   {
    "duration": 12,
    "start_time": "2023-04-26T18:04:11.627Z"
   },
   {
    "duration": 12,
    "start_time": "2023-04-26T18:05:51.810Z"
   },
   {
    "duration": 11,
    "start_time": "2023-04-26T18:05:56.101Z"
   },
   {
    "duration": 10082,
    "start_time": "2023-04-26T18:06:02.601Z"
   },
   {
    "duration": 49,
    "start_time": "2023-04-26T18:06:12.685Z"
   },
   {
    "duration": 10,
    "start_time": "2023-04-26T18:06:12.735Z"
   },
   {
    "duration": 10,
    "start_time": "2023-04-26T18:06:12.747Z"
   },
   {
    "duration": 12,
    "start_time": "2023-04-26T18:06:12.759Z"
   },
   {
    "duration": 12,
    "start_time": "2023-04-26T18:06:12.773Z"
   },
   {
    "duration": 10,
    "start_time": "2023-04-26T18:06:12.786Z"
   },
   {
    "duration": 9,
    "start_time": "2023-04-26T18:06:12.797Z"
   },
   {
    "duration": 27,
    "start_time": "2023-04-26T18:06:12.807Z"
   },
   {
    "duration": 28,
    "start_time": "2023-04-26T18:06:12.836Z"
   },
   {
    "duration": 16,
    "start_time": "2023-04-26T18:06:12.866Z"
   },
   {
    "duration": 13,
    "start_time": "2023-04-26T18:06:12.883Z"
   },
   {
    "duration": 13792,
    "start_time": "2023-04-26T18:40:36.722Z"
   },
   {
    "duration": 312,
    "start_time": "2023-04-26T18:40:50.517Z"
   },
   {
    "duration": 91,
    "start_time": "2023-04-26T18:40:50.832Z"
   },
   {
    "duration": 95,
    "start_time": "2023-04-26T18:40:50.926Z"
   },
   {
    "duration": 90,
    "start_time": "2023-04-26T18:40:51.025Z"
   },
   {
    "duration": 103,
    "start_time": "2023-04-26T18:40:51.117Z"
   },
   {
    "duration": 91,
    "start_time": "2023-04-26T18:40:51.222Z"
   },
   {
    "duration": 89,
    "start_time": "2023-04-26T18:40:51.315Z"
   },
   {
    "duration": 127,
    "start_time": "2023-04-26T18:40:51.406Z"
   },
   {
    "duration": 89,
    "start_time": "2023-04-26T18:40:51.535Z"
   },
   {
    "duration": 101,
    "start_time": "2023-04-26T18:40:51.626Z"
   },
   {
    "duration": 97,
    "start_time": "2023-04-26T18:40:51.729Z"
   },
   {
    "duration": 117,
    "start_time": "2023-04-26T18:44:55.709Z"
   },
   {
    "duration": 137,
    "start_time": "2023-04-26T18:45:00.361Z"
   },
   {
    "duration": 27,
    "start_time": "2023-04-26T18:49:56.442Z"
   },
   {
    "duration": 23,
    "start_time": "2023-04-26T18:50:10.090Z"
   },
   {
    "duration": 30,
    "start_time": "2023-04-26T18:50:24.738Z"
   },
   {
    "duration": 21,
    "start_time": "2023-04-26T18:51:30.711Z"
   },
   {
    "duration": 29,
    "start_time": "2023-04-26T18:51:38.699Z"
   },
   {
    "duration": 28,
    "start_time": "2023-04-26T18:52:22.113Z"
   },
   {
    "duration": 27,
    "start_time": "2023-04-26T18:52:38.427Z"
   },
   {
    "duration": 8302,
    "start_time": "2023-04-26T18:52:59.152Z"
   },
   {
    "duration": 60,
    "start_time": "2023-04-26T18:53:07.457Z"
   },
   {
    "duration": 11,
    "start_time": "2023-04-26T18:53:07.519Z"
   },
   {
    "duration": 12,
    "start_time": "2023-04-26T18:53:07.533Z"
   },
   {
    "duration": 13,
    "start_time": "2023-04-26T18:53:07.546Z"
   },
   {
    "duration": 10,
    "start_time": "2023-04-26T18:53:07.561Z"
   },
   {
    "duration": 11,
    "start_time": "2023-04-26T18:53:07.573Z"
   },
   {
    "duration": 11,
    "start_time": "2023-04-26T18:53:07.585Z"
   },
   {
    "duration": 28,
    "start_time": "2023-04-26T18:53:07.598Z"
   },
   {
    "duration": 12,
    "start_time": "2023-04-26T18:53:07.629Z"
   },
   {
    "duration": 16,
    "start_time": "2023-04-26T18:53:07.658Z"
   },
   {
    "duration": 11,
    "start_time": "2023-04-26T18:53:07.676Z"
   },
   {
    "duration": 8,
    "start_time": "2023-04-26T18:55:25.051Z"
   },
   {
    "duration": 14,
    "start_time": "2023-04-26T18:55:31.177Z"
   },
   {
    "duration": 29,
    "start_time": "2023-04-26T18:55:43.286Z"
   },
   {
    "duration": 13,
    "start_time": "2023-04-26T18:55:59.042Z"
   },
   {
    "duration": 21,
    "start_time": "2023-04-26T18:56:22.538Z"
   },
   {
    "duration": 44,
    "start_time": "2023-04-26T18:56:31.941Z"
   },
   {
    "duration": 30,
    "start_time": "2023-04-26T18:56:43.141Z"
   },
   {
    "duration": 24,
    "start_time": "2023-04-26T18:57:57.581Z"
   },
   {
    "duration": 27,
    "start_time": "2023-04-26T18:58:32.526Z"
   },
   {
    "duration": 27,
    "start_time": "2023-04-26T18:59:15.159Z"
   },
   {
    "duration": 8430,
    "start_time": "2023-04-26T18:59:50.803Z"
   },
   {
    "duration": 51,
    "start_time": "2023-04-26T18:59:59.235Z"
   },
   {
    "duration": 12,
    "start_time": "2023-04-26T18:59:59.288Z"
   },
   {
    "duration": 12,
    "start_time": "2023-04-26T18:59:59.301Z"
   },
   {
    "duration": 10,
    "start_time": "2023-04-26T18:59:59.315Z"
   },
   {
    "duration": 11,
    "start_time": "2023-04-26T18:59:59.327Z"
   },
   {
    "duration": 20,
    "start_time": "2023-04-26T18:59:59.339Z"
   },
   {
    "duration": 28,
    "start_time": "2023-04-26T18:59:59.360Z"
   },
   {
    "duration": 20,
    "start_time": "2023-04-26T18:59:59.389Z"
   },
   {
    "duration": 12,
    "start_time": "2023-04-26T18:59:59.411Z"
   },
   {
    "duration": 14,
    "start_time": "2023-04-26T18:59:59.424Z"
   },
   {
    "duration": 12,
    "start_time": "2023-04-26T18:59:59.440Z"
   }
  ],
  "kernelspec": {
   "display_name": "Python 3 (ipykernel)",
   "language": "python",
   "name": "python3"
  },
  "language_info": {
   "codemirror_mode": {
    "name": "ipython",
    "version": 3
   },
   "file_extension": ".py",
   "mimetype": "text/x-python",
   "name": "python",
   "nbconvert_exporter": "python",
   "pygments_lexer": "ipython3",
   "version": "3.9.5"
  },
  "toc": {
   "base_numbering": 1,
   "nav_menu": {},
   "number_sections": true,
   "sideBar": true,
   "skip_h1_title": true,
   "title_cell": "Table of Contents",
   "title_sidebar": "Contents",
   "toc_cell": true,
   "toc_position": {},
   "toc_section_display": true,
   "toc_window_display": true
  }
 },
 "nbformat": 4,
 "nbformat_minor": 5
}

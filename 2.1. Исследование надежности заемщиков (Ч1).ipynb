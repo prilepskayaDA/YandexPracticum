{
 "cells": [
  {
   "cell_type": "markdown",
   "id": "c81daeeb",
   "metadata": {
    "deletable": false,
    "editable": false,
    "id": "c81daeeb"
   },
   "source": [
    "# Исследование надежности заемщиков"
   ]
  },
  {
   "cell_type": "markdown",
   "id": "-G3EJWzf62s6",
   "metadata": {
    "deletable": false,
    "editable": false,
    "id": "-G3EJWzf62s6"
   },
   "source": [
    "Это первая часть проекта, она будет проверена автоматически. Вторую часть проверит ревьюер. "
   ]
  },
  {
   "cell_type": "markdown",
   "id": "744d7639",
   "metadata": {
    "deletable": false,
    "editable": false,
    "id": "744d7639"
   },
   "source": [
    "## Откройте таблицу и изучите общую информацию о данных"
   ]
  },
  {
   "cell_type": "markdown",
   "id": "e7a14c31",
   "metadata": {
    "deletable": false,
    "editable": false,
    "id": "e7a14c31",
    "tags": [
     "start_task"
    ]
   },
   "source": [
    "**Задание 1. Импортируйте библиотеку pandas. Считайте данные из csv-файла в датафрейм и сохраните в переменную `data`. Путь к файлу:**\n",
    "\n",
    "`/datasets/data.csv`"
   ]
  },
  {
   "cell_type": "code",
   "execution_count": 71,
   "id": "7bcf75c9",
   "metadata": {
    "id": "7bcf75c9"
   },
   "outputs": [],
   "source": [
    "import pandas as pd # импортируйте библиотеку pandas"
   ]
  },
  {
   "cell_type": "code",
   "execution_count": 72,
   "id": "4d240ee2",
   "metadata": {
    "id": "4d240ee2"
   },
   "outputs": [],
   "source": [
    "data = pd.read_csv('/datasets/data.csv')# прочитайте csv-файл"
   ]
  },
  {
   "cell_type": "markdown",
   "id": "b8038fe3",
   "metadata": {
    "deletable": false,
    "editable": false,
    "id": "b8038fe3",
    "tags": [
     "start_task"
    ]
   },
   "source": [
    "**Задание 2. Выведите первые 20 строчек датафрейма `data` на экран.**"
   ]
  },
  {
   "cell_type": "code",
   "execution_count": 73,
   "id": "2a7cab99",
   "metadata": {
    "id": "2a7cab99"
   },
   "outputs": [
    {
     "data": {
      "text/html": [
       "<div>\n",
       "<style scoped>\n",
       "    .dataframe tbody tr th:only-of-type {\n",
       "        vertical-align: middle;\n",
       "    }\n",
       "\n",
       "    .dataframe tbody tr th {\n",
       "        vertical-align: top;\n",
       "    }\n",
       "\n",
       "    .dataframe thead th {\n",
       "        text-align: right;\n",
       "    }\n",
       "</style>\n",
       "<table border=\"1\" class=\"dataframe\">\n",
       "  <thead>\n",
       "    <tr style=\"text-align: right;\">\n",
       "      <th></th>\n",
       "      <th>children</th>\n",
       "      <th>days_employed</th>\n",
       "      <th>dob_years</th>\n",
       "      <th>education</th>\n",
       "      <th>education_id</th>\n",
       "      <th>family_status</th>\n",
       "      <th>family_status_id</th>\n",
       "      <th>gender</th>\n",
       "      <th>income_type</th>\n",
       "      <th>debt</th>\n",
       "      <th>total_income</th>\n",
       "      <th>purpose</th>\n",
       "    </tr>\n",
       "  </thead>\n",
       "  <tbody>\n",
       "    <tr>\n",
       "      <th>0</th>\n",
       "      <td>1</td>\n",
       "      <td>-8437.673028</td>\n",
       "      <td>42</td>\n",
       "      <td>высшее</td>\n",
       "      <td>0</td>\n",
       "      <td>женат / замужем</td>\n",
       "      <td>0</td>\n",
       "      <td>F</td>\n",
       "      <td>сотрудник</td>\n",
       "      <td>0</td>\n",
       "      <td>253875.639453</td>\n",
       "      <td>покупка жилья</td>\n",
       "    </tr>\n",
       "    <tr>\n",
       "      <th>1</th>\n",
       "      <td>1</td>\n",
       "      <td>-4024.803754</td>\n",
       "      <td>36</td>\n",
       "      <td>среднее</td>\n",
       "      <td>1</td>\n",
       "      <td>женат / замужем</td>\n",
       "      <td>0</td>\n",
       "      <td>F</td>\n",
       "      <td>сотрудник</td>\n",
       "      <td>0</td>\n",
       "      <td>112080.014102</td>\n",
       "      <td>приобретение автомобиля</td>\n",
       "    </tr>\n",
       "    <tr>\n",
       "      <th>2</th>\n",
       "      <td>0</td>\n",
       "      <td>-5623.422610</td>\n",
       "      <td>33</td>\n",
       "      <td>Среднее</td>\n",
       "      <td>1</td>\n",
       "      <td>женат / замужем</td>\n",
       "      <td>0</td>\n",
       "      <td>M</td>\n",
       "      <td>сотрудник</td>\n",
       "      <td>0</td>\n",
       "      <td>145885.952297</td>\n",
       "      <td>покупка жилья</td>\n",
       "    </tr>\n",
       "    <tr>\n",
       "      <th>3</th>\n",
       "      <td>3</td>\n",
       "      <td>-4124.747207</td>\n",
       "      <td>32</td>\n",
       "      <td>среднее</td>\n",
       "      <td>1</td>\n",
       "      <td>женат / замужем</td>\n",
       "      <td>0</td>\n",
       "      <td>M</td>\n",
       "      <td>сотрудник</td>\n",
       "      <td>0</td>\n",
       "      <td>267628.550329</td>\n",
       "      <td>дополнительное образование</td>\n",
       "    </tr>\n",
       "    <tr>\n",
       "      <th>4</th>\n",
       "      <td>0</td>\n",
       "      <td>340266.072047</td>\n",
       "      <td>53</td>\n",
       "      <td>среднее</td>\n",
       "      <td>1</td>\n",
       "      <td>гражданский брак</td>\n",
       "      <td>1</td>\n",
       "      <td>F</td>\n",
       "      <td>пенсионер</td>\n",
       "      <td>0</td>\n",
       "      <td>158616.077870</td>\n",
       "      <td>сыграть свадьбу</td>\n",
       "    </tr>\n",
       "    <tr>\n",
       "      <th>5</th>\n",
       "      <td>0</td>\n",
       "      <td>-926.185831</td>\n",
       "      <td>27</td>\n",
       "      <td>высшее</td>\n",
       "      <td>0</td>\n",
       "      <td>гражданский брак</td>\n",
       "      <td>1</td>\n",
       "      <td>M</td>\n",
       "      <td>компаньон</td>\n",
       "      <td>0</td>\n",
       "      <td>255763.565419</td>\n",
       "      <td>покупка жилья</td>\n",
       "    </tr>\n",
       "    <tr>\n",
       "      <th>6</th>\n",
       "      <td>0</td>\n",
       "      <td>-2879.202052</td>\n",
       "      <td>43</td>\n",
       "      <td>высшее</td>\n",
       "      <td>0</td>\n",
       "      <td>женат / замужем</td>\n",
       "      <td>0</td>\n",
       "      <td>F</td>\n",
       "      <td>компаньон</td>\n",
       "      <td>0</td>\n",
       "      <td>240525.971920</td>\n",
       "      <td>операции с жильем</td>\n",
       "    </tr>\n",
       "    <tr>\n",
       "      <th>7</th>\n",
       "      <td>0</td>\n",
       "      <td>-152.779569</td>\n",
       "      <td>50</td>\n",
       "      <td>СРЕДНЕЕ</td>\n",
       "      <td>1</td>\n",
       "      <td>женат / замужем</td>\n",
       "      <td>0</td>\n",
       "      <td>M</td>\n",
       "      <td>сотрудник</td>\n",
       "      <td>0</td>\n",
       "      <td>135823.934197</td>\n",
       "      <td>образование</td>\n",
       "    </tr>\n",
       "    <tr>\n",
       "      <th>8</th>\n",
       "      <td>2</td>\n",
       "      <td>-6929.865299</td>\n",
       "      <td>35</td>\n",
       "      <td>ВЫСШЕЕ</td>\n",
       "      <td>0</td>\n",
       "      <td>гражданский брак</td>\n",
       "      <td>1</td>\n",
       "      <td>F</td>\n",
       "      <td>сотрудник</td>\n",
       "      <td>0</td>\n",
       "      <td>95856.832424</td>\n",
       "      <td>на проведение свадьбы</td>\n",
       "    </tr>\n",
       "    <tr>\n",
       "      <th>9</th>\n",
       "      <td>0</td>\n",
       "      <td>-2188.756445</td>\n",
       "      <td>41</td>\n",
       "      <td>среднее</td>\n",
       "      <td>1</td>\n",
       "      <td>женат / замужем</td>\n",
       "      <td>0</td>\n",
       "      <td>M</td>\n",
       "      <td>сотрудник</td>\n",
       "      <td>0</td>\n",
       "      <td>144425.938277</td>\n",
       "      <td>покупка жилья для семьи</td>\n",
       "    </tr>\n",
       "    <tr>\n",
       "      <th>10</th>\n",
       "      <td>2</td>\n",
       "      <td>-4171.483647</td>\n",
       "      <td>36</td>\n",
       "      <td>высшее</td>\n",
       "      <td>0</td>\n",
       "      <td>женат / замужем</td>\n",
       "      <td>0</td>\n",
       "      <td>M</td>\n",
       "      <td>компаньон</td>\n",
       "      <td>0</td>\n",
       "      <td>113943.491460</td>\n",
       "      <td>покупка недвижимости</td>\n",
       "    </tr>\n",
       "    <tr>\n",
       "      <th>11</th>\n",
       "      <td>0</td>\n",
       "      <td>-792.701887</td>\n",
       "      <td>40</td>\n",
       "      <td>среднее</td>\n",
       "      <td>1</td>\n",
       "      <td>женат / замужем</td>\n",
       "      <td>0</td>\n",
       "      <td>F</td>\n",
       "      <td>сотрудник</td>\n",
       "      <td>0</td>\n",
       "      <td>77069.234271</td>\n",
       "      <td>покупка коммерческой недвижимости</td>\n",
       "    </tr>\n",
       "    <tr>\n",
       "      <th>12</th>\n",
       "      <td>0</td>\n",
       "      <td>NaN</td>\n",
       "      <td>65</td>\n",
       "      <td>среднее</td>\n",
       "      <td>1</td>\n",
       "      <td>гражданский брак</td>\n",
       "      <td>1</td>\n",
       "      <td>M</td>\n",
       "      <td>пенсионер</td>\n",
       "      <td>0</td>\n",
       "      <td>NaN</td>\n",
       "      <td>сыграть свадьбу</td>\n",
       "    </tr>\n",
       "    <tr>\n",
       "      <th>13</th>\n",
       "      <td>0</td>\n",
       "      <td>-1846.641941</td>\n",
       "      <td>54</td>\n",
       "      <td>неоконченное высшее</td>\n",
       "      <td>2</td>\n",
       "      <td>женат / замужем</td>\n",
       "      <td>0</td>\n",
       "      <td>F</td>\n",
       "      <td>сотрудник</td>\n",
       "      <td>0</td>\n",
       "      <td>130458.228857</td>\n",
       "      <td>приобретение автомобиля</td>\n",
       "    </tr>\n",
       "    <tr>\n",
       "      <th>14</th>\n",
       "      <td>0</td>\n",
       "      <td>-1844.956182</td>\n",
       "      <td>56</td>\n",
       "      <td>высшее</td>\n",
       "      <td>0</td>\n",
       "      <td>гражданский брак</td>\n",
       "      <td>1</td>\n",
       "      <td>F</td>\n",
       "      <td>компаньон</td>\n",
       "      <td>1</td>\n",
       "      <td>165127.911772</td>\n",
       "      <td>покупка жилой недвижимости</td>\n",
       "    </tr>\n",
       "    <tr>\n",
       "      <th>15</th>\n",
       "      <td>1</td>\n",
       "      <td>-972.364419</td>\n",
       "      <td>26</td>\n",
       "      <td>среднее</td>\n",
       "      <td>1</td>\n",
       "      <td>женат / замужем</td>\n",
       "      <td>0</td>\n",
       "      <td>F</td>\n",
       "      <td>сотрудник</td>\n",
       "      <td>0</td>\n",
       "      <td>116820.904450</td>\n",
       "      <td>строительство собственной недвижимости</td>\n",
       "    </tr>\n",
       "    <tr>\n",
       "      <th>16</th>\n",
       "      <td>0</td>\n",
       "      <td>-1719.934226</td>\n",
       "      <td>35</td>\n",
       "      <td>среднее</td>\n",
       "      <td>1</td>\n",
       "      <td>женат / замужем</td>\n",
       "      <td>0</td>\n",
       "      <td>F</td>\n",
       "      <td>сотрудник</td>\n",
       "      <td>0</td>\n",
       "      <td>289202.704229</td>\n",
       "      <td>недвижимость</td>\n",
       "    </tr>\n",
       "    <tr>\n",
       "      <th>17</th>\n",
       "      <td>0</td>\n",
       "      <td>-2369.999720</td>\n",
       "      <td>33</td>\n",
       "      <td>высшее</td>\n",
       "      <td>0</td>\n",
       "      <td>гражданский брак</td>\n",
       "      <td>1</td>\n",
       "      <td>M</td>\n",
       "      <td>сотрудник</td>\n",
       "      <td>0</td>\n",
       "      <td>90410.586745</td>\n",
       "      <td>строительство недвижимости</td>\n",
       "    </tr>\n",
       "    <tr>\n",
       "      <th>18</th>\n",
       "      <td>0</td>\n",
       "      <td>400281.136913</td>\n",
       "      <td>53</td>\n",
       "      <td>среднее</td>\n",
       "      <td>1</td>\n",
       "      <td>вдовец / вдова</td>\n",
       "      <td>2</td>\n",
       "      <td>F</td>\n",
       "      <td>пенсионер</td>\n",
       "      <td>0</td>\n",
       "      <td>56823.777243</td>\n",
       "      <td>на покупку подержанного автомобиля</td>\n",
       "    </tr>\n",
       "    <tr>\n",
       "      <th>19</th>\n",
       "      <td>0</td>\n",
       "      <td>-10038.818549</td>\n",
       "      <td>48</td>\n",
       "      <td>СРЕДНЕЕ</td>\n",
       "      <td>1</td>\n",
       "      <td>в разводе</td>\n",
       "      <td>3</td>\n",
       "      <td>F</td>\n",
       "      <td>сотрудник</td>\n",
       "      <td>0</td>\n",
       "      <td>242831.107982</td>\n",
       "      <td>на покупку своего автомобиля</td>\n",
       "    </tr>\n",
       "  </tbody>\n",
       "</table>\n",
       "</div>"
      ],
      "text/plain": [
       "    children  days_employed  dob_years            education  education_id  \\\n",
       "0          1   -8437.673028         42               высшее             0   \n",
       "1          1   -4024.803754         36              среднее             1   \n",
       "2          0   -5623.422610         33              Среднее             1   \n",
       "3          3   -4124.747207         32              среднее             1   \n",
       "4          0  340266.072047         53              среднее             1   \n",
       "5          0    -926.185831         27               высшее             0   \n",
       "6          0   -2879.202052         43               высшее             0   \n",
       "7          0    -152.779569         50              СРЕДНЕЕ             1   \n",
       "8          2   -6929.865299         35               ВЫСШЕЕ             0   \n",
       "9          0   -2188.756445         41              среднее             1   \n",
       "10         2   -4171.483647         36               высшее             0   \n",
       "11         0    -792.701887         40              среднее             1   \n",
       "12         0            NaN         65              среднее             1   \n",
       "13         0   -1846.641941         54  неоконченное высшее             2   \n",
       "14         0   -1844.956182         56               высшее             0   \n",
       "15         1    -972.364419         26              среднее             1   \n",
       "16         0   -1719.934226         35              среднее             1   \n",
       "17         0   -2369.999720         33               высшее             0   \n",
       "18         0  400281.136913         53              среднее             1   \n",
       "19         0  -10038.818549         48              СРЕДНЕЕ             1   \n",
       "\n",
       "       family_status  family_status_id gender income_type  debt  \\\n",
       "0    женат / замужем                 0      F   сотрудник     0   \n",
       "1    женат / замужем                 0      F   сотрудник     0   \n",
       "2    женат / замужем                 0      M   сотрудник     0   \n",
       "3    женат / замужем                 0      M   сотрудник     0   \n",
       "4   гражданский брак                 1      F   пенсионер     0   \n",
       "5   гражданский брак                 1      M   компаньон     0   \n",
       "6    женат / замужем                 0      F   компаньон     0   \n",
       "7    женат / замужем                 0      M   сотрудник     0   \n",
       "8   гражданский брак                 1      F   сотрудник     0   \n",
       "9    женат / замужем                 0      M   сотрудник     0   \n",
       "10   женат / замужем                 0      M   компаньон     0   \n",
       "11   женат / замужем                 0      F   сотрудник     0   \n",
       "12  гражданский брак                 1      M   пенсионер     0   \n",
       "13   женат / замужем                 0      F   сотрудник     0   \n",
       "14  гражданский брак                 1      F   компаньон     1   \n",
       "15   женат / замужем                 0      F   сотрудник     0   \n",
       "16   женат / замужем                 0      F   сотрудник     0   \n",
       "17  гражданский брак                 1      M   сотрудник     0   \n",
       "18    вдовец / вдова                 2      F   пенсионер     0   \n",
       "19         в разводе                 3      F   сотрудник     0   \n",
       "\n",
       "     total_income                                 purpose  \n",
       "0   253875.639453                           покупка жилья  \n",
       "1   112080.014102                 приобретение автомобиля  \n",
       "2   145885.952297                           покупка жилья  \n",
       "3   267628.550329              дополнительное образование  \n",
       "4   158616.077870                         сыграть свадьбу  \n",
       "5   255763.565419                           покупка жилья  \n",
       "6   240525.971920                       операции с жильем  \n",
       "7   135823.934197                             образование  \n",
       "8    95856.832424                   на проведение свадьбы  \n",
       "9   144425.938277                 покупка жилья для семьи  \n",
       "10  113943.491460                    покупка недвижимости  \n",
       "11   77069.234271       покупка коммерческой недвижимости  \n",
       "12            NaN                         сыграть свадьбу  \n",
       "13  130458.228857                 приобретение автомобиля  \n",
       "14  165127.911772              покупка жилой недвижимости  \n",
       "15  116820.904450  строительство собственной недвижимости  \n",
       "16  289202.704229                            недвижимость  \n",
       "17   90410.586745              строительство недвижимости  \n",
       "18   56823.777243      на покупку подержанного автомобиля  \n",
       "19  242831.107982            на покупку своего автомобиля  "
      ]
     },
     "execution_count": 73,
     "metadata": {},
     "output_type": "execute_result"
    }
   ],
   "source": [
    "data.head(20)# ваш код здесь"
   ]
  },
  {
   "cell_type": "markdown",
   "id": "1c12e233",
   "metadata": {
    "deletable": false,
    "editable": false,
    "id": "1c12e233",
    "tags": [
     "start_task"
    ]
   },
   "source": [
    "**Задание 3. Выведите основную информацию о датафрейме с помощью метода `info()`.**"
   ]
  },
  {
   "cell_type": "code",
   "execution_count": 74,
   "id": "2b757bca",
   "metadata": {
    "id": "2b757bca"
   },
   "outputs": [
    {
     "name": "stdout",
     "output_type": "stream",
     "text": [
      "<class 'pandas.core.frame.DataFrame'>\n",
      "RangeIndex: 21525 entries, 0 to 21524\n",
      "Data columns (total 12 columns):\n",
      " #   Column            Non-Null Count  Dtype  \n",
      "---  ------            --------------  -----  \n",
      " 0   children          21525 non-null  int64  \n",
      " 1   days_employed     19351 non-null  float64\n",
      " 2   dob_years         21525 non-null  int64  \n",
      " 3   education         21525 non-null  object \n",
      " 4   education_id      21525 non-null  int64  \n",
      " 5   family_status     21525 non-null  object \n",
      " 6   family_status_id  21525 non-null  int64  \n",
      " 7   gender            21525 non-null  object \n",
      " 8   income_type       21525 non-null  object \n",
      " 9   debt              21525 non-null  int64  \n",
      " 10  total_income      19351 non-null  float64\n",
      " 11  purpose           21525 non-null  object \n",
      "dtypes: float64(2), int64(5), object(5)\n",
      "memory usage: 2.0+ MB\n"
     ]
    }
   ],
   "source": [
    "data.info()# ваш код здесь"
   ]
  },
  {
   "cell_type": "markdown",
   "id": "333ec665",
   "metadata": {
    "deletable": false,
    "editable": false,
    "id": "333ec665"
   },
   "source": [
    "## Предобработка данных"
   ]
  },
  {
   "cell_type": "markdown",
   "id": "02d92d53",
   "metadata": {
    "deletable": false,
    "editable": false,
    "id": "02d92d53"
   },
   "source": [
    "### Удаление пропусков"
   ]
  },
  {
   "cell_type": "markdown",
   "id": "cd84967c",
   "metadata": {
    "deletable": false,
    "editable": false,
    "id": "cd84967c",
    "tags": [
     "start_task"
    ]
   },
   "source": [
    "**Задание 4. Выведите количество пропущенных значений для каждого столбца. Используйте комбинацию двух методов.**"
   ]
  },
  {
   "cell_type": "code",
   "execution_count": 75,
   "id": "7f9b2309",
   "metadata": {
    "id": "7f9b2309"
   },
   "outputs": [
    {
     "data": {
      "text/plain": [
       "children               0\n",
       "days_employed       2174\n",
       "dob_years              0\n",
       "education              0\n",
       "education_id           0\n",
       "family_status          0\n",
       "family_status_id       0\n",
       "gender                 0\n",
       "income_type            0\n",
       "debt                   0\n",
       "total_income        2174\n",
       "purpose                0\n",
       "dtype: int64"
      ]
     },
     "execution_count": 75,
     "metadata": {},
     "output_type": "execute_result"
    }
   ],
   "source": [
    "data.isna().sum()# ваш код здесь"
   ]
  },
  {
   "cell_type": "markdown",
   "id": "db86e27b",
   "metadata": {
    "deletable": false,
    "editable": false,
    "id": "db86e27b",
    "tags": [
     "start_task"
    ]
   },
   "source": [
    "**Задание 5. В двух столбцах есть пропущенные значения. Один из них — `days_employed`. Пропуски в этом столбце вы обработаете на следующем этапе. Другой столбец с пропущенными значениями — `total_income` — хранит данные о доходах. На сумму дохода сильнее всего влияет тип занятости, поэтому заполнить пропуски в этом столбце нужно медианным значением по каждому типу из столбца `income_type`. Например, у человека с типом занятости `сотрудник` пропуск в столбце `total_income` должен быть заполнен медианным доходом среди всех записей с тем же типом.**"
   ]
  },
  {
   "cell_type": "code",
   "execution_count": 76,
   "id": "42006a93",
   "metadata": {
    "id": "42006a93"
   },
   "outputs": [],
   "source": [
    "for source in data['income_type'].unique():\n",
    "    data.loc[(data['income_type'] == source)&(data['total_income'].isna()),'total_income'] = \\\n",
    "    data.loc[data['income_type'] == source, 'total_income'].median()\n",
    "\n",
    "#data.isna().sum()"
   ]
  },
  {
   "cell_type": "markdown",
   "id": "89da5ece",
   "metadata": {
    "deletable": false,
    "editable": false,
    "id": "89da5ece"
   },
   "source": [
    "### Обработка аномальных значений"
   ]
  },
  {
   "cell_type": "markdown",
   "id": "57964554",
   "metadata": {
    "deletable": false,
    "editable": false,
    "id": "57964554",
    "tags": [
     "start_task"
    ]
   },
   "source": [
    "**Задание 6. В данных могут встречаться артефакты (аномалии) — значения, которые не отражают действительность и появились по какой-то ошибке. Таким артефактом будет отрицательное количество дней трудового стажа в столбце `days_employed`. Для реальных данных это нормально. Обработайте значения в этом столбце: замените все отрицательные значения положительными с помощью метода `abs()`.**"
   ]
  },
  {
   "cell_type": "code",
   "execution_count": 77,
   "id": "f6f055bf",
   "metadata": {
    "id": "f6f055bf"
   },
   "outputs": [],
   "source": [
    "data['days_employed']= data['days_employed'].abs()# ваш код здесь"
   ]
  },
  {
   "cell_type": "markdown",
   "id": "6107dd2f",
   "metadata": {
    "deletable": false,
    "editable": false,
    "id": "6107dd2f",
    "tags": [
     "start_task"
    ]
   },
   "source": [
    "**Задание 7. Для каждого типа занятости выведите медианное значение трудового стажа `days_employed` в днях.**"
   ]
  },
  {
   "cell_type": "code",
   "execution_count": 78,
   "id": "85a5faf6",
   "metadata": {
    "id": "85a5faf6"
   },
   "outputs": [
    {
     "name": "stdout",
     "output_type": "stream",
     "text": [
      "income_type\n",
      "безработный        366413.652744\n",
      "в декрете            3296.759962\n",
      "госслужащий          2689.368353\n",
      "компаньон            1547.382223\n",
      "пенсионер          365213.306266\n",
      "предприниматель       520.848083\n",
      "сотрудник            1574.202821\n",
      "студент               578.751554\n",
      "Name: days_employed, dtype: float64\n"
     ]
    }
   ],
   "source": [
    "\n",
    "data_grouped = data.groupby('income_type')['days_employed'].median()\n",
    "print(data_grouped)\n"
   ]
  },
  {
   "cell_type": "markdown",
   "id": "38d1a030",
   "metadata": {
    "deletable": false,
    "editable": false,
    "id": "38d1a030"
   },
   "source": [
    "У двух типов (безработные и пенсионеры) получатся аномально большие значения. Исправить такие значения сложно, поэтому оставьте их как есть. Тем более этот столбец не понадобится вам для исследования."
   ]
  },
  {
   "cell_type": "markdown",
   "id": "d8a9f147",
   "metadata": {
    "deletable": false,
    "editable": false,
    "id": "d8a9f147",
    "tags": [
     "start_task"
    ]
   },
   "source": [
    "**Задание 8. Выведите перечень уникальных значений столбца `children`.**"
   ]
  },
  {
   "cell_type": "code",
   "execution_count": 79,
   "id": "ef5056eb",
   "metadata": {
    "id": "ef5056eb"
   },
   "outputs": [
    {
     "data": {
      "text/plain": [
       "array([ 1,  0,  3,  2, -1,  4, 20,  5])"
      ]
     },
     "execution_count": 79,
     "metadata": {},
     "output_type": "execute_result"
    }
   ],
   "source": [
    "data['children'].unique()# ваш код здесь"
   ]
  },
  {
   "cell_type": "markdown",
   "id": "40b9ebf2",
   "metadata": {
    "deletable": false,
    "editable": false,
    "id": "40b9ebf2",
    "tags": [
     "start_task"
    ]
   },
   "source": [
    "**Задание 9. В столбце `children` есть два аномальных значения. Удалите строки, в которых встречаются такие аномальные значения из датафрейма `data`.**"
   ]
  },
  {
   "cell_type": "code",
   "execution_count": 80,
   "id": "3ff9801d",
   "metadata": {
    "id": "3ff9801d"
   },
   "outputs": [],
   "source": [
    "data=data.loc[(data['children'] != 20)&(data['children'] != -1)]\n",
    "\n",
    "# ваш код здесь"
   ]
  },
  {
   "cell_type": "markdown",
   "id": "bbc4d0ce",
   "metadata": {
    "deletable": false,
    "editable": false,
    "id": "bbc4d0ce",
    "tags": [
     "start_task"
    ]
   },
   "source": [
    "**Задание 10. Ещё раз выведите перечень уникальных значений столбца `children`, чтобы убедиться, что артефакты удалены.**"
   ]
  },
  {
   "cell_type": "code",
   "execution_count": 81,
   "id": "ad4fa8b7",
   "metadata": {
    "id": "ad4fa8b7"
   },
   "outputs": [
    {
     "data": {
      "text/plain": [
       "array([1, 0, 3, 2, 4, 5])"
      ]
     },
     "execution_count": 81,
     "metadata": {},
     "output_type": "execute_result"
    }
   ],
   "source": [
    "data['children'].unique()# ваш код здесь"
   ]
  },
  {
   "cell_type": "markdown",
   "id": "75440b63",
   "metadata": {
    "deletable": false,
    "editable": false,
    "id": "75440b63"
   },
   "source": [
    "### Удаление пропусков (продолжение)"
   ]
  },
  {
   "cell_type": "markdown",
   "id": "f4ea573f",
   "metadata": {
    "deletable": false,
    "editable": false,
    "id": "f4ea573f",
    "tags": [
     "start_task"
    ]
   },
   "source": [
    "**Задание 11. Заполните пропуски в столбце `days_employed` медианными значениями по каждому типу занятости `income_type`.**"
   ]
  },
  {
   "cell_type": "code",
   "execution_count": 82,
   "id": "af6b1a7e",
   "metadata": {
    "id": "af6b1a7e"
   },
   "outputs": [],
   "source": [
    "for source in data['income_type'].unique():\n",
    "    data.loc[(data['income_type'] == source)&(data['days_employed'].isna()),'days_employed'] = \\\n",
    "    data.loc[data['income_type'] == source, 'days_employed'].median()\n",
    "\n",
    "# ваш код здесь"
   ]
  },
  {
   "cell_type": "markdown",
   "id": "2753f40d",
   "metadata": {
    "deletable": false,
    "editable": false,
    "id": "2753f40d",
    "tags": [
     "start_task"
    ]
   },
   "source": [
    "**Задание 12. Убедитесь, что все пропуски заполнены. Проверьте себя и ещё раз выведите количество пропущенных значений для каждого столбца с помощью двух методов.**"
   ]
  },
  {
   "cell_type": "code",
   "execution_count": 83,
   "id": "55f78bc2",
   "metadata": {
    "id": "55f78bc2"
   },
   "outputs": [
    {
     "data": {
      "text/plain": [
       "children            0\n",
       "days_employed       0\n",
       "dob_years           0\n",
       "education           0\n",
       "education_id        0\n",
       "family_status       0\n",
       "family_status_id    0\n",
       "gender              0\n",
       "income_type         0\n",
       "debt                0\n",
       "total_income        0\n",
       "purpose             0\n",
       "dtype: int64"
      ]
     },
     "execution_count": 83,
     "metadata": {},
     "output_type": "execute_result"
    }
   ],
   "source": [
    "data.isna().sum()# ваш код здесь"
   ]
  },
  {
   "cell_type": "markdown",
   "id": "ddc81e43",
   "metadata": {
    "deletable": false,
    "editable": false,
    "id": "ddc81e43"
   },
   "source": [
    "### Изменение типов данных"
   ]
  },
  {
   "cell_type": "markdown",
   "id": "42d19d24",
   "metadata": {
    "deletable": false,
    "editable": false,
    "id": "42d19d24",
    "tags": [
     "start_task"
    ]
   },
   "source": [
    "**Задание 13. Замените вещественный тип данных в столбце `total_income` на целочисленный с помощью метода `astype()`.**"
   ]
  },
  {
   "cell_type": "code",
   "execution_count": 84,
   "id": "920b65ad",
   "metadata": {
    "id": "920b65ad"
   },
   "outputs": [],
   "source": [
    "data['total_income'] = data['total_income'].astype(int)# ваш код здесь"
   ]
  },
  {
   "cell_type": "markdown",
   "id": "80c420ba",
   "metadata": {
    "deletable": false,
    "editable": false,
    "id": "80c420ba"
   },
   "source": [
    "### Обработка дубликатов"
   ]
  },
  {
   "cell_type": "markdown",
   "id": "dc587695",
   "metadata": {
    "deletable": false,
    "editable": false,
    "id": "dc587695",
    "tags": [
     "start_task"
    ]
   },
   "source": [
    "**Задание 14. Выведите на экран количество строк-дубликатов в данных. Если такие строки присутствуют, удалите их.**"
   ]
  },
  {
   "cell_type": "code",
   "execution_count": 85,
   "id": "3ee445e4",
   "metadata": {
    "id": "3ee445e4"
   },
   "outputs": [],
   "source": [
    "data['education'] = data['education'].str.lower()\n",
    "\n",
    "#Должно быть, но косяк в тренажере ячейки фактически поменяны местами\n",
    "#data.duplicated().sum()\n",
    "#data = data.drop_duplicates()# посчитайте дубликаты"
   ]
  },
  {
   "cell_type": "code",
   "execution_count": 86,
   "id": "8575fe05",
   "metadata": {
    "id": "8575fe05"
   },
   "outputs": [],
   "source": [
    "#data['education'] = data['education'].str.lower()# удалите дубликаты"
   ]
  },
  {
   "cell_type": "markdown",
   "id": "9771a76c",
   "metadata": {
    "deletable": false,
    "editable": false,
    "id": "9771a76c",
    "tags": [
     "start_task"
    ]
   },
   "source": [
    "**Задание 15. Обработайте неявные дубликаты в столбце `education`. В этом столбце есть одни и те же значения, но записанные по-разному: с использованием заглавных и строчных букв. Приведите их к нижнему регистру.**"
   ]
  },
  {
   "cell_type": "code",
   "execution_count": 87,
   "id": "a9f8e2bf",
   "metadata": {
    "id": "a9f8e2bf"
   },
   "outputs": [],
   "source": [
    "data.duplicated().sum()\n",
    "data = data.drop_duplicates()# посчитайте дубликаты"
   ]
  },
  {
   "cell_type": "markdown",
   "id": "9904cf55",
   "metadata": {
    "deletable": false,
    "editable": false,
    "id": "9904cf55"
   },
   "source": [
    "### Категоризация данных"
   ]
  },
  {
   "cell_type": "markdown",
   "id": "72fcc8a2",
   "metadata": {
    "deletable": false,
    "editable": false,
    "id": "72fcc8a2",
    "tags": [
     "start_task"
    ]
   },
   "source": [
    "**Задание 16. На основании диапазонов, указанных ниже, создайте в датафрейме `data` столбец `total_income_category` с категориями:**\n",
    "\n",
    "- 0–30000 — `'E'`;\n",
    "- 30001–50000 — `'D'`;\n",
    "- 50001–200000 — `'C'`;\n",
    "- 200001–1000000 — `'B'`;\n",
    "- 1000001 и выше — `'A'`.\n",
    "\n",
    "\n",
    "**Например, кредитополучателю с доходом 25000 нужно назначить категорию `'E'`, а клиенту, получающему 235000, — `'B'`. Используйте собственную функцию с именем `categorize_income()` и метод `apply()`.**"
   ]
  },
  {
   "cell_type": "code",
   "execution_count": 88,
   "id": "e1771346",
   "metadata": {
    "id": "e1771346"
   },
   "outputs": [],
   "source": [
    "def categorize_income(money):\n",
    "    \n",
    "    if 30000 > money >= 0:\n",
    "        return 'E'\n",
    "    if 50000 > money >= 30001:\n",
    "        return 'D'\n",
    "    if  200000 > money >= 50001:\n",
    "        return 'C'\n",
    "    if 1000000 > money >= 200001:\n",
    "        return 'B'\n",
    "    if  money >= 1000001:\n",
    "        return 'A'   \n",
    "     \n",
    "#print(categorize_income(1000005))        "
   ]
  },
  {
   "cell_type": "code",
   "execution_count": 89,
   "id": "d5f3586d",
   "metadata": {
    "id": "d5f3586d"
   },
   "outputs": [],
   "source": [
    "data['total_income_category'] = data['total_income'].apply(categorize_income)\n",
    "# примените функцию методом apply()\n",
    "#создается новый столбец, в который записывается результат выполнения функуи"
   ]
  },
  {
   "cell_type": "markdown",
   "id": "dde49b5c",
   "metadata": {
    "deletable": false,
    "editable": false,
    "id": "dde49b5c",
    "tags": [
     "start_task"
    ]
   },
   "source": [
    "**Задание 17. Выведите на экран перечень уникальных целей взятия кредита из столбца `purpose`.**"
   ]
  },
  {
   "cell_type": "code",
   "execution_count": 90,
   "id": "f67ce9b3",
   "metadata": {
    "id": "f67ce9b3"
   },
   "outputs": [
    {
     "data": {
      "text/plain": [
       "array(['покупка жилья', 'приобретение автомобиля',\n",
       "       'дополнительное образование', 'сыграть свадьбу',\n",
       "       'операции с жильем', 'образование', 'на проведение свадьбы',\n",
       "       'покупка жилья для семьи', 'покупка недвижимости',\n",
       "       'покупка коммерческой недвижимости', 'покупка жилой недвижимости',\n",
       "       'строительство собственной недвижимости', 'недвижимость',\n",
       "       'строительство недвижимости', 'на покупку подержанного автомобиля',\n",
       "       'на покупку своего автомобиля',\n",
       "       'операции с коммерческой недвижимостью',\n",
       "       'строительство жилой недвижимости', 'жилье',\n",
       "       'операции со своей недвижимостью', 'автомобили',\n",
       "       'заняться образованием', 'сделка с подержанным автомобилем',\n",
       "       'получение образования', 'автомобиль', 'свадьба',\n",
       "       'получение дополнительного образования', 'покупка своего жилья',\n",
       "       'операции с недвижимостью', 'получение высшего образования',\n",
       "       'свой автомобиль', 'сделка с автомобилем',\n",
       "       'профильное образование', 'высшее образование',\n",
       "       'покупка жилья для сдачи', 'на покупку автомобиля', 'ремонт жилью',\n",
       "       'заняться высшим образованием'], dtype=object)"
      ]
     },
     "execution_count": 90,
     "metadata": {},
     "output_type": "execute_result"
    }
   ],
   "source": [
    "data['purpose'].unique()# ваш код здесь"
   ]
  },
  {
   "cell_type": "markdown",
   "id": "85d0aef0",
   "metadata": {
    "deletable": false,
    "editable": false,
    "id": "85d0aef0",
    "tags": [
     "start_task"
    ]
   },
   "source": [
    "**Задание 18. Создайте функцию, которая на основании данных из столбца `purpose` сформирует новый столбец `purpose_category`, в который войдут следующие категории:**\n",
    "\n",
    "- `'операции с автомобилем'`,\n",
    "- `'операции с недвижимостью'`,\n",
    "- `'проведение свадьбы'`,\n",
    "- `'получение образования'`.\n",
    "\n",
    "**Например, если в столбце `purpose` находится подстрока `'на покупку автомобиля'`, то в столбце `purpose_category` должна появиться строка `'операции с автомобилем'`.**\n",
    "\n",
    "**Используйте собственную функцию с именем `categorize_purpose()` и метод `apply()`. Изучите данные в столбце `purpose` и определите, какие подстроки помогут вам правильно определить категорию.**"
   ]
  },
  {
   "cell_type": "code",
   "execution_count": 104,
   "id": "e149fab4",
   "metadata": {
    "id": "e149fab4"
   },
   "outputs": [],
   "source": [
    "def categorize_purpose(name):\n",
    "    if  ('жил'in name) or ('недвиж'in name):\n",
    "        return 'операции с недвижимостью'\n",
    "    if  ('автомоб'in name):\n",
    "        return 'операции с автомобилем'\n",
    "    if  ('свад'in name):\n",
    "        return 'проведение свадьбы'\n",
    "    if  ('образов'in name):\n",
    "        return 'получение образования'\n",
    "    else:\n",
    "        return 'НЕ НАЙДЕНО'\n",
    "\n",
    "#categorize_purpose('')\n",
    "#for name in data['purpose'].unique():\n",
    "    #print(name, \" -> \", categorize_purpose(name))\n",
    "\n",
    "# создайте функцию categorize_purpose()"
   ]
  },
  {
   "cell_type": "code",
   "execution_count": 105,
   "id": "bf36e69b",
   "metadata": {
    "id": "bf36e69b"
   },
   "outputs": [],
   "source": [
    "data['purpose_category']=data['purpose'].apply(categorize_purpose)# примените функцию методом apply()"
   ]
  },
  {
   "cell_type": "code",
   "execution_count": null,
   "id": "cc88562a",
   "metadata": {},
   "outputs": [],
   "source": []
  }
 ],
 "metadata": {
  "ExecuteTimeLog": [
   {
    "duration": 439,
    "start_time": "2022-11-02T13:19:14.318Z"
   },
   {
    "duration": 291,
    "start_time": "2022-11-02T13:19:15.776Z"
   },
   {
    "duration": 25,
    "start_time": "2022-11-02T13:20:09.246Z"
   },
   {
    "duration": 16,
    "start_time": "2022-11-02T13:22:27.682Z"
   },
   {
    "duration": 10,
    "start_time": "2022-11-02T13:25:18.418Z"
   },
   {
    "duration": 5,
    "start_time": "2022-11-02T13:33:19.843Z"
   },
   {
    "duration": 5,
    "start_time": "2022-11-02T13:34:26.346Z"
   },
   {
    "duration": 3,
    "start_time": "2022-11-02T13:38:05.552Z"
   },
   {
    "duration": 63,
    "start_time": "2022-11-02T13:38:16.368Z"
   },
   {
    "duration": 10,
    "start_time": "2022-11-02T13:40:07.215Z"
   },
   {
    "duration": 8,
    "start_time": "2022-11-02T13:40:47.661Z"
   },
   {
    "duration": 3,
    "start_time": "2022-11-02T13:40:56.758Z"
   },
   {
    "duration": 69,
    "start_time": "2022-11-02T13:40:56.763Z"
   },
   {
    "duration": 17,
    "start_time": "2022-11-02T13:40:56.834Z"
   },
   {
    "duration": 15,
    "start_time": "2022-11-02T13:40:56.853Z"
   },
   {
    "duration": 11,
    "start_time": "2022-11-02T13:40:56.870Z"
   },
   {
    "duration": 13,
    "start_time": "2022-11-02T13:40:56.883Z"
   },
   {
    "duration": 5,
    "start_time": "2022-11-02T13:41:23.391Z"
   },
   {
    "duration": 10,
    "start_time": "2022-11-02T13:41:32.753Z"
   },
   {
    "duration": 9,
    "start_time": "2022-11-02T13:42:06.499Z"
   },
   {
    "duration": 3,
    "start_time": "2022-11-02T13:42:17.222Z"
   },
   {
    "duration": 85,
    "start_time": "2022-11-02T13:42:17.227Z"
   },
   {
    "duration": 23,
    "start_time": "2022-11-02T13:42:17.314Z"
   },
   {
    "duration": 28,
    "start_time": "2022-11-02T13:42:17.338Z"
   },
   {
    "duration": 14,
    "start_time": "2022-11-02T13:42:17.369Z"
   },
   {
    "duration": 19,
    "start_time": "2022-11-02T13:42:17.385Z"
   },
   {
    "duration": 3,
    "start_time": "2022-11-02T13:42:17.407Z"
   },
   {
    "duration": 9,
    "start_time": "2022-11-02T13:42:17.439Z"
   },
   {
    "duration": 8,
    "start_time": "2022-11-02T13:42:17.450Z"
   },
   {
    "duration": 10,
    "start_time": "2022-11-02T13:42:17.460Z"
   },
   {
    "duration": 4,
    "start_time": "2022-11-02T13:42:17.472Z"
   },
   {
    "duration": 5,
    "start_time": "2022-11-02T13:42:17.477Z"
   },
   {
    "duration": 6,
    "start_time": "2022-11-02T13:42:17.484Z"
   },
   {
    "duration": 4,
    "start_time": "2022-11-02T13:42:17.493Z"
   },
   {
    "duration": 14,
    "start_time": "2022-11-02T13:42:17.499Z"
   },
   {
    "duration": 7,
    "start_time": "2022-11-02T13:42:17.515Z"
   },
   {
    "duration": 8,
    "start_time": "2022-11-02T13:42:17.524Z"
   },
   {
    "duration": 8,
    "start_time": "2022-11-02T13:42:17.534Z"
   },
   {
    "duration": 4,
    "start_time": "2022-11-02T13:42:17.544Z"
   },
   {
    "duration": 5,
    "start_time": "2022-11-02T13:42:17.550Z"
   },
   {
    "duration": 6,
    "start_time": "2022-11-02T13:42:17.556Z"
   },
   {
    "duration": 4,
    "start_time": "2022-11-02T13:42:17.564Z"
   },
   {
    "duration": 7,
    "start_time": "2022-11-02T13:42:39.152Z"
   },
   {
    "duration": 57,
    "start_time": "2022-11-02T13:43:20.406Z"
   },
   {
    "duration": 9,
    "start_time": "2022-11-02T13:43:29.381Z"
   },
   {
    "duration": 3,
    "start_time": "2022-11-02T13:43:33.535Z"
   },
   {
    "duration": 71,
    "start_time": "2022-11-02T13:43:33.540Z"
   },
   {
    "duration": 16,
    "start_time": "2022-11-02T13:43:33.612Z"
   },
   {
    "duration": 27,
    "start_time": "2022-11-02T13:43:33.630Z"
   },
   {
    "duration": 10,
    "start_time": "2022-11-02T13:43:33.659Z"
   },
   {
    "duration": 9,
    "start_time": "2022-11-02T13:43:33.671Z"
   },
   {
    "duration": 2,
    "start_time": "2022-11-02T13:43:33.682Z"
   },
   {
    "duration": 5,
    "start_time": "2022-11-02T13:43:33.686Z"
   },
   {
    "duration": 7,
    "start_time": "2022-11-02T13:43:33.693Z"
   },
   {
    "duration": 5,
    "start_time": "2022-11-02T13:43:33.701Z"
   },
   {
    "duration": 5,
    "start_time": "2022-11-02T13:43:33.708Z"
   },
   {
    "duration": 25,
    "start_time": "2022-11-02T13:43:33.714Z"
   },
   {
    "duration": 4,
    "start_time": "2022-11-02T13:43:33.740Z"
   },
   {
    "duration": 4,
    "start_time": "2022-11-02T13:43:33.747Z"
   },
   {
    "duration": 4,
    "start_time": "2022-11-02T13:43:33.752Z"
   },
   {
    "duration": 10,
    "start_time": "2022-11-02T13:43:33.758Z"
   },
   {
    "duration": 6,
    "start_time": "2022-11-02T13:43:33.770Z"
   },
   {
    "duration": 5,
    "start_time": "2022-11-02T13:43:33.777Z"
   },
   {
    "duration": 5,
    "start_time": "2022-11-02T13:43:33.784Z"
   },
   {
    "duration": 4,
    "start_time": "2022-11-02T13:43:33.791Z"
   },
   {
    "duration": 5,
    "start_time": "2022-11-02T13:43:33.796Z"
   },
   {
    "duration": 5,
    "start_time": "2022-11-02T13:43:33.802Z"
   },
   {
    "duration": 10,
    "start_time": "2022-11-02T13:43:44.389Z"
   },
   {
    "duration": 9,
    "start_time": "2022-11-02T13:43:52.308Z"
   },
   {
    "duration": 14,
    "start_time": "2022-11-02T13:44:18.210Z"
   },
   {
    "duration": 17,
    "start_time": "2022-11-02T13:44:37.336Z"
   },
   {
    "duration": 16,
    "start_time": "2022-11-02T13:45:01.558Z"
   },
   {
    "duration": 2,
    "start_time": "2022-11-02T13:45:18.089Z"
   },
   {
    "duration": 76,
    "start_time": "2022-11-02T13:45:18.093Z"
   },
   {
    "duration": 15,
    "start_time": "2022-11-02T13:45:18.170Z"
   },
   {
    "duration": 19,
    "start_time": "2022-11-02T13:45:18.187Z"
   },
   {
    "duration": 11,
    "start_time": "2022-11-02T13:45:18.208Z"
   },
   {
    "duration": 15,
    "start_time": "2022-11-02T13:45:21.087Z"
   },
   {
    "duration": 7,
    "start_time": "2022-11-02T13:52:35.517Z"
   },
   {
    "duration": 9,
    "start_time": "2022-11-02T13:53:13.611Z"
   },
   {
    "duration": 15,
    "start_time": "2022-11-02T13:53:28.563Z"
   },
   {
    "duration": 22,
    "start_time": "2022-11-02T13:53:43.460Z"
   },
   {
    "duration": 11,
    "start_time": "2022-11-02T13:54:05.378Z"
   },
   {
    "duration": 8,
    "start_time": "2022-11-02T14:09:03.762Z"
   },
   {
    "duration": 8,
    "start_time": "2022-11-02T14:09:20.168Z"
   },
   {
    "duration": 41,
    "start_time": "2022-11-02T14:09:32.711Z"
   },
   {
    "duration": 2,
    "start_time": "2022-11-02T14:09:42.478Z"
   },
   {
    "duration": 85,
    "start_time": "2022-11-02T14:09:42.482Z"
   },
   {
    "duration": 17,
    "start_time": "2022-11-02T14:09:42.578Z"
   },
   {
    "duration": 15,
    "start_time": "2022-11-02T14:09:42.597Z"
   },
   {
    "duration": 11,
    "start_time": "2022-11-02T14:09:42.614Z"
   },
   {
    "duration": 50,
    "start_time": "2022-11-02T14:09:42.626Z"
   },
   {
    "duration": 44,
    "start_time": "2022-11-02T14:09:45.178Z"
   },
   {
    "duration": 35,
    "start_time": "2022-11-02T14:10:23.700Z"
   },
   {
    "duration": 40,
    "start_time": "2022-11-02T14:12:31.584Z"
   },
   {
    "duration": 35,
    "start_time": "2022-11-02T14:13:15.935Z"
   },
   {
    "duration": 4,
    "start_time": "2022-11-02T14:15:16.436Z"
   },
   {
    "duration": 3,
    "start_time": "2022-11-02T14:19:54.148Z"
   },
   {
    "duration": 66,
    "start_time": "2022-11-02T14:19:54.157Z"
   },
   {
    "duration": 15,
    "start_time": "2022-11-02T14:19:54.225Z"
   },
   {
    "duration": 16,
    "start_time": "2022-11-02T14:19:54.242Z"
   },
   {
    "duration": 9,
    "start_time": "2022-11-02T14:19:54.260Z"
   },
   {
    "duration": 31,
    "start_time": "2022-11-02T14:19:54.271Z"
   },
   {
    "duration": 3,
    "start_time": "2022-11-02T14:19:54.304Z"
   },
   {
    "duration": 17,
    "start_time": "2022-11-02T14:20:09.658Z"
   },
   {
    "duration": 17,
    "start_time": "2022-11-02T14:20:59.275Z"
   },
   {
    "duration": 27,
    "start_time": "2022-11-02T14:22:17.266Z"
   },
   {
    "duration": 17,
    "start_time": "2022-11-02T14:22:24.171Z"
   },
   {
    "duration": 98,
    "start_time": "2022-11-02T14:22:44.020Z"
   },
   {
    "duration": 16,
    "start_time": "2022-11-02T14:22:50.185Z"
   },
   {
    "duration": 5,
    "start_time": "2022-11-02T14:23:37.530Z"
   },
   {
    "duration": 21,
    "start_time": "2022-11-02T14:24:30.525Z"
   },
   {
    "duration": 26,
    "start_time": "2022-11-02T14:26:10.844Z"
   },
   {
    "duration": 24,
    "start_time": "2022-11-02T14:26:47.040Z"
   },
   {
    "duration": 18,
    "start_time": "2022-11-02T14:38:40.633Z"
   },
   {
    "duration": 3,
    "start_time": "2022-11-02T14:39:31.535Z"
   },
   {
    "duration": 4,
    "start_time": "2022-11-02T14:39:41.366Z"
   },
   {
    "duration": 7,
    "start_time": "2022-11-02T15:24:31.322Z"
   },
   {
    "duration": 4,
    "start_time": "2022-11-02T15:26:45.727Z"
   },
   {
    "duration": 865,
    "start_time": "2022-11-02T15:39:53.179Z"
   },
   {
    "duration": 3,
    "start_time": "2022-11-02T15:44:19.506Z"
   },
   {
    "duration": 816,
    "start_time": "2022-11-02T15:44:25.807Z"
   },
   {
    "duration": 6,
    "start_time": "2022-11-02T15:45:16.463Z"
   },
   {
    "duration": 5,
    "start_time": "2022-11-02T15:45:19.837Z"
   },
   {
    "duration": 6,
    "start_time": "2022-11-02T15:45:43.952Z"
   },
   {
    "duration": 8,
    "start_time": "2022-11-02T15:46:05.444Z"
   },
   {
    "duration": 902,
    "start_time": "2022-11-02T15:46:14.236Z"
   },
   {
    "duration": 689,
    "start_time": "2022-11-02T15:46:24.404Z"
   },
   {
    "duration": 13,
    "start_time": "2022-11-02T15:46:54.266Z"
   },
   {
    "duration": 10,
    "start_time": "2022-11-02T15:46:57.426Z"
   },
   {
    "duration": 497,
    "start_time": "2022-11-02T15:48:00.001Z"
   },
   {
    "duration": 11,
    "start_time": "2022-11-02T15:48:27.586Z"
   },
   {
    "duration": 9,
    "start_time": "2022-11-02T15:48:57.421Z"
   },
   {
    "duration": 393,
    "start_time": "2022-11-02T15:49:45.188Z"
   },
   {
    "duration": 409,
    "start_time": "2022-11-02T15:49:57.801Z"
   },
   {
    "duration": 578,
    "start_time": "2022-11-02T15:50:13.671Z"
   },
   {
    "duration": 4,
    "start_time": "2022-11-02T15:51:06.381Z"
   },
   {
    "duration": 54,
    "start_time": "2022-11-02T15:52:02.799Z"
   },
   {
    "duration": 7,
    "start_time": "2022-11-02T15:52:36.070Z"
   },
   {
    "duration": 11,
    "start_time": "2022-11-02T15:52:42.638Z"
   },
   {
    "duration": 5,
    "start_time": "2022-11-02T15:53:12.779Z"
   },
   {
    "duration": 7,
    "start_time": "2022-11-02T15:53:17.127Z"
   },
   {
    "duration": 3,
    "start_time": "2022-11-02T15:53:21.045Z"
   },
   {
    "duration": 89,
    "start_time": "2022-11-02T15:53:21.050Z"
   },
   {
    "duration": 21,
    "start_time": "2022-11-02T15:53:21.140Z"
   },
   {
    "duration": 15,
    "start_time": "2022-11-02T15:53:21.163Z"
   },
   {
    "duration": 17,
    "start_time": "2022-11-02T15:53:21.180Z"
   },
   {
    "duration": 45,
    "start_time": "2022-11-02T15:53:21.198Z"
   },
   {
    "duration": 4,
    "start_time": "2022-11-02T15:53:21.245Z"
   },
   {
    "duration": 12,
    "start_time": "2022-11-02T15:53:21.251Z"
   },
   {
    "duration": 14,
    "start_time": "2022-11-02T15:53:21.265Z"
   },
   {
    "duration": 47,
    "start_time": "2022-11-02T15:53:21.281Z"
   },
   {
    "duration": 37,
    "start_time": "2022-11-02T15:53:21.330Z"
   },
   {
    "duration": 4,
    "start_time": "2022-11-02T15:53:24.280Z"
   },
   {
    "duration": 64,
    "start_time": "2022-11-02T17:19:02.893Z"
   },
   {
    "duration": 7,
    "start_time": "2022-11-02T17:19:17.705Z"
   },
   {
    "duration": 386,
    "start_time": "2022-11-02T17:19:22.061Z"
   },
   {
    "duration": 283,
    "start_time": "2022-11-02T17:19:22.449Z"
   },
   {
    "duration": 22,
    "start_time": "2022-11-02T17:19:22.734Z"
   },
   {
    "duration": 16,
    "start_time": "2022-11-02T17:19:22.758Z"
   },
   {
    "duration": 10,
    "start_time": "2022-11-02T17:19:22.775Z"
   },
   {
    "duration": 58,
    "start_time": "2022-11-02T17:19:22.787Z"
   },
   {
    "duration": 3,
    "start_time": "2022-11-02T17:19:22.846Z"
   },
   {
    "duration": 9,
    "start_time": "2022-11-02T17:19:22.850Z"
   },
   {
    "duration": 4,
    "start_time": "2022-11-02T17:19:22.861Z"
   },
   {
    "duration": 7,
    "start_time": "2022-11-02T17:19:22.867Z"
   },
   {
    "duration": 4,
    "start_time": "2022-11-02T17:19:22.876Z"
   },
   {
    "duration": 41,
    "start_time": "2022-11-02T17:19:38.103Z"
   },
   {
    "duration": 10,
    "start_time": "2022-11-02T17:19:52.766Z"
   },
   {
    "duration": 42,
    "start_time": "2022-11-02T17:21:33.464Z"
   },
   {
    "duration": 18,
    "start_time": "2022-11-02T17:22:52.460Z"
   },
   {
    "duration": 11,
    "start_time": "2022-11-02T17:23:02.358Z"
   },
   {
    "duration": 17,
    "start_time": "2022-11-02T17:23:18.727Z"
   },
   {
    "duration": 11,
    "start_time": "2022-11-02T17:23:26.973Z"
   },
   {
    "duration": 4,
    "start_time": "2022-11-02T18:03:26.408Z"
   },
   {
    "duration": 29,
    "start_time": "2022-11-02T18:05:25.043Z"
   },
   {
    "duration": 17,
    "start_time": "2022-11-02T18:05:36.013Z"
   },
   {
    "duration": 44,
    "start_time": "2022-11-02T18:05:51.348Z"
   },
   {
    "duration": 28,
    "start_time": "2022-11-02T18:06:16.765Z"
   },
   {
    "duration": 18,
    "start_time": "2022-11-02T18:06:27.014Z"
   },
   {
    "duration": 2,
    "start_time": "2022-11-02T18:06:34.889Z"
   },
   {
    "duration": 71,
    "start_time": "2022-11-02T18:06:34.895Z"
   },
   {
    "duration": 15,
    "start_time": "2022-11-02T18:06:34.967Z"
   },
   {
    "duration": 15,
    "start_time": "2022-11-02T18:06:34.984Z"
   },
   {
    "duration": 10,
    "start_time": "2022-11-02T18:06:35.001Z"
   },
   {
    "duration": 58,
    "start_time": "2022-11-02T18:06:35.012Z"
   },
   {
    "duration": 4,
    "start_time": "2022-11-02T18:06:35.071Z"
   },
   {
    "duration": 17,
    "start_time": "2022-11-02T18:06:35.076Z"
   },
   {
    "duration": 8,
    "start_time": "2022-11-02T18:06:35.095Z"
   },
   {
    "duration": 10,
    "start_time": "2022-11-02T18:06:35.105Z"
   },
   {
    "duration": 9,
    "start_time": "2022-11-02T18:06:35.118Z"
   },
   {
    "duration": 41,
    "start_time": "2022-11-02T18:06:35.129Z"
   },
   {
    "duration": 10,
    "start_time": "2022-11-02T18:06:35.171Z"
   },
   {
    "duration": 5,
    "start_time": "2022-11-02T18:06:35.183Z"
   },
   {
    "duration": 24,
    "start_time": "2022-11-02T18:06:47.972Z"
   },
   {
    "duration": 15,
    "start_time": "2022-11-02T18:06:50.180Z"
   },
   {
    "duration": 29,
    "start_time": "2022-11-02T18:09:19.530Z"
   },
   {
    "duration": 16,
    "start_time": "2022-11-02T18:14:44.918Z"
   },
   {
    "duration": 3,
    "start_time": "2022-11-02T18:15:15.594Z"
   },
   {
    "duration": 13,
    "start_time": "2022-11-02T18:15:18.203Z"
   },
   {
    "duration": 30,
    "start_time": "2022-11-02T18:16:40.753Z"
   },
   {
    "duration": 3,
    "start_time": "2022-11-02T18:40:12.669Z"
   },
   {
    "duration": 758,
    "start_time": "2022-11-02T18:40:13.764Z"
   },
   {
    "duration": 825,
    "start_time": "2022-11-02T18:40:30.752Z"
   },
   {
    "duration": 5,
    "start_time": "2022-11-02T18:48:10.797Z"
   },
   {
    "duration": 865,
    "start_time": "2022-11-02T18:48:13.944Z"
   },
   {
    "duration": 3,
    "start_time": "2022-11-02T18:49:40.354Z"
   },
   {
    "duration": 705,
    "start_time": "2022-11-02T18:49:41.794Z"
   },
   {
    "duration": 7,
    "start_time": "2022-11-02T18:49:54.324Z"
   },
   {
    "duration": 243,
    "start_time": "2022-11-02T18:49:55.217Z"
   },
   {
    "duration": 4,
    "start_time": "2022-11-02T18:51:11.103Z"
   },
   {
    "duration": 253,
    "start_time": "2022-11-02T18:51:11.970Z"
   },
   {
    "duration": 8,
    "start_time": "2022-11-02T18:51:22.958Z"
   },
   {
    "duration": 278,
    "start_time": "2022-11-02T18:51:23.671Z"
   },
   {
    "duration": 3,
    "start_time": "2022-11-02T18:52:42.101Z"
   },
   {
    "duration": 9,
    "start_time": "2022-11-02T18:52:43.283Z"
   },
   {
    "duration": 4,
    "start_time": "2022-11-02T18:54:44.630Z"
   },
   {
    "duration": 4,
    "start_time": "2022-11-02T18:55:04.624Z"
   },
   {
    "duration": 12,
    "start_time": "2022-11-02T18:55:10.984Z"
   },
   {
    "duration": 5,
    "start_time": "2022-11-02T18:55:16.639Z"
   },
   {
    "duration": 12,
    "start_time": "2022-11-02T18:55:37.092Z"
   },
   {
    "duration": 10,
    "start_time": "2022-11-02T18:55:46.082Z"
   },
   {
    "duration": 6,
    "start_time": "2022-11-02T18:55:54.324Z"
   },
   {
    "duration": 10,
    "start_time": "2022-11-02T18:56:06.853Z"
   },
   {
    "duration": 2,
    "start_time": "2022-11-02T18:56:35.792Z"
   },
   {
    "duration": 77,
    "start_time": "2022-11-02T18:56:35.796Z"
   },
   {
    "duration": 14,
    "start_time": "2022-11-02T18:56:35.875Z"
   },
   {
    "duration": 16,
    "start_time": "2022-11-02T18:56:35.891Z"
   },
   {
    "duration": 30,
    "start_time": "2022-11-02T18:56:35.910Z"
   },
   {
    "duration": 39,
    "start_time": "2022-11-02T18:56:35.941Z"
   },
   {
    "duration": 4,
    "start_time": "2022-11-02T18:56:35.981Z"
   },
   {
    "duration": 13,
    "start_time": "2022-11-02T18:56:35.986Z"
   },
   {
    "duration": 5,
    "start_time": "2022-11-02T18:56:36.001Z"
   },
   {
    "duration": 8,
    "start_time": "2022-11-02T18:56:36.007Z"
   },
   {
    "duration": 7,
    "start_time": "2022-11-02T18:56:36.016Z"
   },
   {
    "duration": 42,
    "start_time": "2022-11-02T18:56:36.039Z"
   },
   {
    "duration": 13,
    "start_time": "2022-11-02T18:56:36.083Z"
   },
   {
    "duration": 4,
    "start_time": "2022-11-02T18:56:36.099Z"
   },
   {
    "duration": 37,
    "start_time": "2022-11-02T18:56:36.105Z"
   },
   {
    "duration": 7,
    "start_time": "2022-11-02T18:56:36.144Z"
   },
   {
    "duration": 42,
    "start_time": "2022-11-02T18:56:36.153Z"
   },
   {
    "duration": 3,
    "start_time": "2022-11-02T18:56:42.312Z"
   },
   {
    "duration": 10,
    "start_time": "2022-11-02T18:56:43.826Z"
   },
   {
    "duration": 8,
    "start_time": "2022-11-02T18:57:22.768Z"
   },
   {
    "duration": 60,
    "start_time": "2022-11-02T19:09:18.878Z"
   },
   {
    "duration": 5,
    "start_time": "2022-11-02T19:09:36.196Z"
   },
   {
    "duration": 4,
    "start_time": "2022-11-02T19:13:07.316Z"
   },
   {
    "duration": 7,
    "start_time": "2022-11-02T19:13:08.074Z"
   },
   {
    "duration": 12,
    "start_time": "2022-11-02T19:13:16.362Z"
   },
   {
    "duration": 8,
    "start_time": "2022-11-02T19:16:49.682Z"
   },
   {
    "duration": 11,
    "start_time": "2022-11-02T19:17:00.088Z"
   },
   {
    "duration": 17,
    "start_time": "2022-11-02T19:17:22.894Z"
   },
   {
    "duration": 14,
    "start_time": "2022-11-02T19:18:43.152Z"
   },
   {
    "duration": 13,
    "start_time": "2022-11-02T19:19:37.841Z"
   },
   {
    "duration": 13,
    "start_time": "2022-11-02T19:19:53.653Z"
   },
   {
    "duration": 15,
    "start_time": "2022-11-02T19:19:59.374Z"
   },
   {
    "duration": 14,
    "start_time": "2022-11-02T19:20:34.285Z"
   },
   {
    "duration": 3,
    "start_time": "2022-11-02T19:21:02.735Z"
   },
   {
    "duration": 9,
    "start_time": "2022-11-02T19:21:04.206Z"
   }
  ],
  "colab": {
   "provenance": []
  },
  "kernelspec": {
   "display_name": "Python 3 (ipykernel)",
   "language": "python",
   "name": "python3"
  },
  "language_info": {
   "codemirror_mode": {
    "name": "ipython",
    "version": 3
   },
   "file_extension": ".py",
   "mimetype": "text/x-python",
   "name": "python",
   "nbconvert_exporter": "python",
   "pygments_lexer": "ipython3",
   "version": "3.9.5"
  },
  "toc": {
   "base_numbering": 1,
   "nav_menu": {},
   "number_sections": true,
   "sideBar": true,
   "skip_h1_title": true,
   "title_cell": "Table of Contents",
   "title_sidebar": "Contents",
   "toc_cell": false,
   "toc_position": {},
   "toc_section_display": true,
   "toc_window_display": false
  }
 },
 "nbformat": 4,
 "nbformat_minor": 5
}
